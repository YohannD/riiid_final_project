{
  "nbformat": 4,
  "nbformat_minor": 0,
  "metadata": {
    "accelerator": "GPU",
    "colab": {
      "name": "yohann_baseline.ipynb",
      "provenance": [],
      "collapsed_sections": []
    },
    "kernelspec": {
      "display_name": "Python 3",
      "name": "python3"
    }
  },
  "cells": [
    {
      "cell_type": "code",
      "metadata": {
        "id": "q-4GQ9opku0S"
      },
      "source": [
        "import pandas as pd\n",
        "from sklearn.model_selection import cross_val_score, cross_val_predict, cross_validate, train_test_split\n",
        "from sklearn.linear_model import LogisticRegression\n",
        "from sklearn. metrics import roc_auc_score, accuracy_score\n",
        "import seaborn as sns"
      ],
      "execution_count": null,
      "outputs": []
    },
    {
      "cell_type": "code",
      "metadata": {
        "id": "l3eo6nKQkvvz"
      },
      "source": [
        "df = pd.read_csv('/content/drive/MyDrive/Deep_learning_data/Riiid_data/train_1M_with_features_merged_v1.csv')"
      ],
      "execution_count": null,
      "outputs": []
    },
    {
      "cell_type": "code",
      "metadata": {
        "colab": {
          "base_uri": "https://localhost:8080/",
          "height": 241
        },
        "id": "6XoGOaRayDi_",
        "outputId": "f9b8e6bd-7ab7-4b7b-9b2a-9456b10128a5"
      },
      "source": [
        "df.head()"
      ],
      "execution_count": null,
      "outputs": [
        {
          "output_type": "execute_result",
          "data": {
            "text/html": [
              "<div>\n",
              "<style scoped>\n",
              "    .dataframe tbody tr th:only-of-type {\n",
              "        vertical-align: middle;\n",
              "    }\n",
              "\n",
              "    .dataframe tbody tr th {\n",
              "        vertical-align: top;\n",
              "    }\n",
              "\n",
              "    .dataframe thead th {\n",
              "        text-align: right;\n",
              "    }\n",
              "</style>\n",
              "<table border=\"1\" class=\"dataframe\">\n",
              "  <thead>\n",
              "    <tr style=\"text-align: right;\">\n",
              "      <th></th>\n",
              "      <th>Unnamed: 0</th>\n",
              "      <th>row_id</th>\n",
              "      <th>timestamp</th>\n",
              "      <th>user_id</th>\n",
              "      <th>content_id</th>\n",
              "      <th>content_type_id</th>\n",
              "      <th>task_container_id</th>\n",
              "      <th>answered_correctly</th>\n",
              "      <th>prior_question_elapsed_time</th>\n",
              "      <th>prior_question_had_explanation</th>\n",
              "      <th>answer0</th>\n",
              "      <th>answer1</th>\n",
              "      <th>answer2</th>\n",
              "      <th>answer3</th>\n",
              "      <th>user_activity_cumcount</th>\n",
              "      <th>already_seen</th>\n",
              "      <th>lectures_seen</th>\n",
              "      <th>at_least_one_lesson</th>\n",
              "      <th>user_avg_score_cum</th>\n",
              "      <th>qstats_answered_correctly</th>\n",
              "      <th>qstats_count</th>\n",
              "      <th>qstats_task_container_id</th>\n",
              "      <th>qstats_answers</th>\n",
              "      <th>qstats_timestamp</th>\n",
              "      <th>qstats_user_activity_cumcount</th>\n",
              "      <th>qstats_prior_question_had_explanation</th>\n",
              "      <th>qstats_prior_question_elapsed_time</th>\n",
              "      <th>qstats_answer0</th>\n",
              "      <th>qstats_answer1</th>\n",
              "      <th>qstats_answer2</th>\n",
              "      <th>qstats_answer3</th>\n",
              "      <th>qstats_answered_correctly_knowing_having_had_explanation</th>\n",
              "      <th>qstats_answered_correctly_knowing_having_not_had_explanation</th>\n",
              "      <th>qstats_task_container_id_knowing_answered_correctly</th>\n",
              "      <th>qstats_timestamp_knowing_answered_correctly</th>\n",
              "      <th>qstats_user_activity_cumcount_knowing_answered_correctly</th>\n",
              "      <th>qstats_prior_question_elapsed_time_knowing_answered_correctly</th>\n",
              "      <th>qstats_task_container_id_knowing_answered_uncorrectly</th>\n",
              "      <th>qstats_timestamp_knowing_answered_uncorrectly</th>\n",
              "      <th>qstats_user_activity_cumcount_knowing_answered_uncorrectly</th>\n",
              "      <th>qstats_prior_question_elapsed_time_knowing_answered_uncorrectly</th>\n",
              "      <th>user_personalized_qstat_knowing_had_explanation_or_not</th>\n",
              "      <th>tag_q_l</th>\n",
              "      <th>part_q_l</th>\n",
              "      <th>section</th>\n",
              "      <th>cumcount_already_seen_tag_q_l</th>\n",
              "      <th>already_seen_tag_lecture</th>\n",
              "      <th>already_seen_part</th>\n",
              "    </tr>\n",
              "  </thead>\n",
              "  <tbody>\n",
              "    <tr>\n",
              "      <th>0</th>\n",
              "      <td>0</td>\n",
              "      <td>90286654</td>\n",
              "      <td>0</td>\n",
              "      <td>1917429896</td>\n",
              "      <td>7900</td>\n",
              "      <td>0</td>\n",
              "      <td>0</td>\n",
              "      <td>1</td>\n",
              "      <td>NaN</td>\n",
              "      <td>0</td>\n",
              "      <td>1</td>\n",
              "      <td>0</td>\n",
              "      <td>0</td>\n",
              "      <td>0</td>\n",
              "      <td>0</td>\n",
              "      <td>0</td>\n",
              "      <td>0</td>\n",
              "      <td>0</td>\n",
              "      <td>0.0000</td>\n",
              "      <td>0.8370</td>\n",
              "      <td>1851.0</td>\n",
              "      <td>27.38</td>\n",
              "      <td>3.0</td>\n",
              "      <td>NaN</td>\n",
              "      <td>36.12</td>\n",
              "      <td>0.07404</td>\n",
              "      <td>21180.0</td>\n",
              "      <td>0.8370</td>\n",
              "      <td>0.04053</td>\n",
              "      <td>0.0978</td>\n",
              "      <td>0.02486</td>\n",
              "      <td>0.8394</td>\n",
              "      <td>0.8364</td>\n",
              "      <td>25.47</td>\n",
              "      <td>NaN</td>\n",
              "      <td>32.60</td>\n",
              "      <td>20780.0</td>\n",
              "      <td>37.10</td>\n",
              "      <td>NaN</td>\n",
              "      <td>54.10</td>\n",
              "      <td>23140.0</td>\n",
              "      <td>0.8364</td>\n",
              "      <td>93.0</td>\n",
              "      <td>1</td>\n",
              "      <td>0</td>\n",
              "      <td>0</td>\n",
              "      <td>0</td>\n",
              "      <td>0</td>\n",
              "    </tr>\n",
              "    <tr>\n",
              "      <th>1</th>\n",
              "      <td>1</td>\n",
              "      <td>90286655</td>\n",
              "      <td>26511</td>\n",
              "      <td>1917429896</td>\n",
              "      <td>7876</td>\n",
              "      <td>0</td>\n",
              "      <td>1</td>\n",
              "      <td>0</td>\n",
              "      <td>21000.0</td>\n",
              "      <td>0</td>\n",
              "      <td>0</td>\n",
              "      <td>0</td>\n",
              "      <td>1</td>\n",
              "      <td>0</td>\n",
              "      <td>1</td>\n",
              "      <td>0</td>\n",
              "      <td>0</td>\n",
              "      <td>0</td>\n",
              "      <td>1.0000</td>\n",
              "      <td>0.3972</td>\n",
              "      <td>1938.0</td>\n",
              "      <td>53.03</td>\n",
              "      <td>3.0</td>\n",
              "      <td>NaN</td>\n",
              "      <td>69.40</td>\n",
              "      <td>0.11970</td>\n",
              "      <td>22300.0</td>\n",
              "      <td>0.1274</td>\n",
              "      <td>0.06757</td>\n",
              "      <td>0.4077</td>\n",
              "      <td>0.39720</td>\n",
              "      <td>0.5474</td>\n",
              "      <td>0.3770</td>\n",
              "      <td>81.94</td>\n",
              "      <td>NaN</td>\n",
              "      <td>107.44</td>\n",
              "      <td>21870.0</td>\n",
              "      <td>34.00</td>\n",
              "      <td>NaN</td>\n",
              "      <td>44.25</td>\n",
              "      <td>22600.0</td>\n",
              "      <td>0.3770</td>\n",
              "      <td>94.0</td>\n",
              "      <td>1</td>\n",
              "      <td>0</td>\n",
              "      <td>0</td>\n",
              "      <td>0</td>\n",
              "      <td>1</td>\n",
              "    </tr>\n",
              "    <tr>\n",
              "      <th>2</th>\n",
              "      <td>2</td>\n",
              "      <td>90286656</td>\n",
              "      <td>55312</td>\n",
              "      <td>1917429896</td>\n",
              "      <td>175</td>\n",
              "      <td>0</td>\n",
              "      <td>2</td>\n",
              "      <td>0</td>\n",
              "      <td>21000.0</td>\n",
              "      <td>0</td>\n",
              "      <td>1</td>\n",
              "      <td>0</td>\n",
              "      <td>0</td>\n",
              "      <td>0</td>\n",
              "      <td>2</td>\n",
              "      <td>0</td>\n",
              "      <td>0</td>\n",
              "      <td>0</td>\n",
              "      <td>0.5000</td>\n",
              "      <td>0.3640</td>\n",
              "      <td>2019.0</td>\n",
              "      <td>64.90</td>\n",
              "      <td>3.0</td>\n",
              "      <td>NaN</td>\n",
              "      <td>84.56</td>\n",
              "      <td>0.14160</td>\n",
              "      <td>23330.0</td>\n",
              "      <td>0.2952</td>\n",
              "      <td>0.15650</td>\n",
              "      <td>0.3640</td>\n",
              "      <td>0.18420</td>\n",
              "      <td>0.4407</td>\n",
              "      <td>0.3513</td>\n",
              "      <td>82.10</td>\n",
              "      <td>NaN</td>\n",
              "      <td>107.06</td>\n",
              "      <td>23550.0</td>\n",
              "      <td>55.03</td>\n",
              "      <td>NaN</td>\n",
              "      <td>71.70</td>\n",
              "      <td>23180.0</td>\n",
              "      <td>0.3513</td>\n",
              "      <td>9.0</td>\n",
              "      <td>1</td>\n",
              "      <td>0</td>\n",
              "      <td>0</td>\n",
              "      <td>0</td>\n",
              "      <td>1</td>\n",
              "    </tr>\n",
              "    <tr>\n",
              "      <th>3</th>\n",
              "      <td>3</td>\n",
              "      <td>90286657</td>\n",
              "      <td>102436</td>\n",
              "      <td>1917429896</td>\n",
              "      <td>1278</td>\n",
              "      <td>0</td>\n",
              "      <td>3</td>\n",
              "      <td>0</td>\n",
              "      <td>23000.0</td>\n",
              "      <td>0</td>\n",
              "      <td>1</td>\n",
              "      <td>0</td>\n",
              "      <td>0</td>\n",
              "      <td>0</td>\n",
              "      <td>3</td>\n",
              "      <td>0</td>\n",
              "      <td>0</td>\n",
              "      <td>0</td>\n",
              "      <td>0.3333</td>\n",
              "      <td>0.6514</td>\n",
              "      <td>1738.0</td>\n",
              "      <td>40.50</td>\n",
              "      <td>3.0</td>\n",
              "      <td>NaN</td>\n",
              "      <td>47.88</td>\n",
              "      <td>0.05120</td>\n",
              "      <td>23280.0</td>\n",
              "      <td>0.1461</td>\n",
              "      <td>0.20250</td>\n",
              "      <td>0.0000</td>\n",
              "      <td>0.65140</td>\n",
              "      <td>0.7640</td>\n",
              "      <td>0.6450</td>\n",
              "      <td>56.22</td>\n",
              "      <td>NaN</td>\n",
              "      <td>66.70</td>\n",
              "      <td>23360.0</td>\n",
              "      <td>11.08</td>\n",
              "      <td>NaN</td>\n",
              "      <td>12.72</td>\n",
              "      <td>23140.0</td>\n",
              "      <td>0.6450</td>\n",
              "      <td>140.0</td>\n",
              "      <td>2</td>\n",
              "      <td>0</td>\n",
              "      <td>0</td>\n",
              "      <td>0</td>\n",
              "      <td>0</td>\n",
              "    </tr>\n",
              "    <tr>\n",
              "      <th>4</th>\n",
              "      <td>4</td>\n",
              "      <td>90286658</td>\n",
              "      <td>188454</td>\n",
              "      <td>1917429896</td>\n",
              "      <td>2063</td>\n",
              "      <td>0</td>\n",
              "      <td>4</td>\n",
              "      <td>0</td>\n",
              "      <td>45000.0</td>\n",
              "      <td>0</td>\n",
              "      <td>0</td>\n",
              "      <td>0</td>\n",
              "      <td>0</td>\n",
              "      <td>1</td>\n",
              "      <td>4</td>\n",
              "      <td>0</td>\n",
              "      <td>0</td>\n",
              "      <td>0</td>\n",
              "      <td>0.2500</td>\n",
              "      <td>0.1749</td>\n",
              "      <td>1772.0</td>\n",
              "      <td>63.90</td>\n",
              "      <td>3.0</td>\n",
              "      <td>NaN</td>\n",
              "      <td>90.10</td>\n",
              "      <td>0.09250</td>\n",
              "      <td>18880.0</td>\n",
              "      <td>0.1749</td>\n",
              "      <td>0.33470</td>\n",
              "      <td>0.1519</td>\n",
              "      <td>0.33860</td>\n",
              "      <td>0.2805</td>\n",
              "      <td>0.1642</td>\n",
              "      <td>105.00</td>\n",
              "      <td>NaN</td>\n",
              "      <td>150.50</td>\n",
              "      <td>18350.0</td>\n",
              "      <td>55.20</td>\n",
              "      <td>NaN</td>\n",
              "      <td>77.25</td>\n",
              "      <td>18990.0</td>\n",
              "      <td>0.1642</td>\n",
              "      <td>136.0</td>\n",
              "      <td>3</td>\n",
              "      <td>0</td>\n",
              "      <td>0</td>\n",
              "      <td>0</td>\n",
              "      <td>0</td>\n",
              "    </tr>\n",
              "  </tbody>\n",
              "</table>\n",
              "</div>"
            ],
            "text/plain": [
              "   Unnamed: 0    row_id  ...  already_seen_tag_lecture  already_seen_part\n",
              "0           0  90286654  ...                         0                  0\n",
              "1           1  90286655  ...                         0                  1\n",
              "2           2  90286656  ...                         0                  1\n",
              "3           3  90286657  ...                         0                  0\n",
              "4           4  90286658  ...                         0                  0\n",
              "\n",
              "[5 rows x 48 columns]"
            ]
          },
          "metadata": {
            "tags": []
          },
          "execution_count": 84
        }
      ]
    },
    {
      "cell_type": "code",
      "metadata": {
        "id": "ueH-jvMwyiW-"
      },
      "source": [
        "from sklearn.preprocessing import RobustScaler\n",
        "corr = df.query('content_type_id==0').corr().answered_correctly"
      ],
      "execution_count": null,
      "outputs": []
    },
    {
      "cell_type": "code",
      "metadata": {
        "id": "3--os6agzefy"
      },
      "source": [
        "#corr[corr > 0.04].sort_values(ascending=False).index.to_list()\n",
        "features = ['user_personalized_qstat_knowing_had_explanation_or_not',\n",
        " 'qstats_answered_correctly',\n",
        " 'user_avg_score_cum',\n",
        " 'qstats_prior_question_had_explanation',\n",
        " 'already_seen',\n",
        " 'already_seen_tag_lecture',\n",
        " 'user_activity_cumcount',\n",
        " 'qstats_user_activity_cumcount',\n",
        " 'at_least_one_lesson',\n",
        " 'qstats_user_activity_cumcount_knowing_answered_correctly',\n",
        " 'qstats_task_container_id_knowing_answered_correctly',\n",
        " 'lectures_seen',\n",
        " 'qstats_count',\n",
        " 'qstats_answers',\n",
        " 'content_type_id']"
      ],
      "execution_count": null,
      "outputs": []
    },
    {
      "cell_type": "code",
      "metadata": {
        "id": "OvsrzSKl2xai"
      },
      "source": [
        "import numpy as np\n",
        "features = df[features].replace(np.inf, np.nan)"
      ],
      "execution_count": null,
      "outputs": []
    },
    {
      "cell_type": "code",
      "metadata": {
        "id": "if2C7tcJCReY"
      },
      "source": [
        "features.replace(np.nan, 0, inplace=True)"
      ],
      "execution_count": null,
      "outputs": []
    },
    {
      "cell_type": "markdown",
      "metadata": {
        "id": "nnwDW3y-nRIU"
      },
      "source": [
        "Best so far - XGBoost\n"
      ]
    },
    {
      "cell_type": "code",
      "metadata": {
        "id": "ToMfm6BqFJh_"
      },
      "source": [
        "#scaler.fit_transform(X_train, y_train)\n",
        "features.query('content_type_id==0').drop(columns={'content_type_id'})"
      ],
      "execution_count": null,
      "outputs": []
    },
    {
      "cell_type": "code",
      "metadata": {
        "colab": {
          "base_uri": "https://localhost:8080/"
        },
        "id": "QLcO2mlmNuSj",
        "outputId": "cb8d7cf5-0b06-458b-c721-db07465d9c76"
      },
      "source": [
        "from sklearn.ensemble import GradientBoostingClassifier\n",
        "from sklearn.preprocessing import MinMaxScaler\n",
        "from sklearn.pipeline import make_pipeline\n",
        "\n",
        "X = features.query('content_type_id==0').drop(columns={'content_type_id'})\n",
        "y = df.query('content_type_id==0')['answered_correctly']\n",
        "\n",
        "X_train, X_test, y_train, y_test = train_test_split(X, y, test_size=0.3,random_state = 2)\n",
        "\n",
        "scaler = MinMaxScaler()\n",
        "X_train = scaler.fit_transform(X_train)\n",
        "\n",
        "xgboost = GradientBoostingClassifier()\n",
        "xgboost.fit(X_train, y_train)\n",
        "\n",
        "y_pred = cross_val_predict(xgboost, X_test, y_test, cv=10, method='predict_proba', verbose=1)\n",
        "print('roc-auc:', roc_auc_score(y_test, y_pred[:,1]))"
      ],
      "execution_count": null,
      "outputs": [
        {
          "output_type": "stream",
          "text": [
            "[Parallel(n_jobs=1)]: Using backend SequentialBackend with 1 concurrent workers.\n"
          ],
          "name": "stderr"
        },
        {
          "output_type": "stream",
          "text": [
            "roc-auc: 0.7681833689157577\n"
          ],
          "name": "stdout"
        },
        {
          "output_type": "stream",
          "text": [
            "[Parallel(n_jobs=1)]: Done  10 out of  10 | elapsed:  9.0min finished\n"
          ],
          "name": "stderr"
        }
      ]
    },
    {
      "cell_type": "code",
      "metadata": {
        "colab": {
          "base_uri": "https://localhost:8080/"
        },
        "id": "_5UER388PAMh",
        "outputId": "9166d9a2-0db2-4b7e-ee6b-d338039e18f4"
      },
      "source": [
        "xgboost.feature_importances_"
      ],
      "execution_count": null,
      "outputs": [
        {
          "output_type": "execute_result",
          "data": {
            "text/plain": [
              "array([7.53592596e-01, 6.86981811e-03, 1.46317284e-01, 4.22763793e-03,\n",
              "       5.97288637e-02, 4.05674787e-04, 1.70034080e-02, 6.10444112e-04,\n",
              "       1.21433645e-03, 4.21925696e-03, 7.44036813e-04, 4.47050451e-03,\n",
              "       5.96138663e-04, 0.00000000e+00])"
            ]
          },
          "metadata": {
            "tags": []
          },
          "execution_count": 158
        }
      ]
    },
    {
      "cell_type": "code",
      "metadata": {
        "colab": {
          "base_uri": "https://localhost:8080/"
        },
        "id": "aCAjwhIJQUmY",
        "outputId": "0e8d56f9-2e36-4481-99ce-75afcdc44966"
      },
      "source": [
        "features.columns"
      ],
      "execution_count": null,
      "outputs": [
        {
          "output_type": "execute_result",
          "data": {
            "text/plain": [
              "Index(['user_personalized_qstat_knowing_had_explanation_or_not',\n",
              "       'qstats_answered_correctly', 'user_avg_score_cum',\n",
              "       'qstats_prior_question_had_explanation', 'already_seen',\n",
              "       'already_seen_tag_lecture', 'user_activity_cumcount',\n",
              "       'qstats_user_activity_cumcount', 'at_least_one_lesson',\n",
              "       'qstats_user_activity_cumcount_knowing_answered_correctly',\n",
              "       'qstats_task_container_id_knowing_answered_correctly', 'lectures_seen',\n",
              "       'qstats_count', 'qstats_answers', 'content_type_id'],\n",
              "      dtype='object')"
            ]
          },
          "metadata": {
            "tags": []
          },
          "execution_count": 159
        }
      ]
    },
    {
      "cell_type": "markdown",
      "metadata": {
        "id": "WYJVyqj4x4w6"
      },
      "source": [
        "Logistic Regression"
      ]
    },
    {
      "cell_type": "code",
      "metadata": {
        "id": "n7pemXPbleLM"
      },
      "source": [
        "X = df.query('content_type_id==0')[['qstats_answered_correctly', 'user_avg_score_cum', 'already_seen', 'lectures_seen', 'at_least_one_lesson']]\n",
        "y = df.query('content_type_id==0')['answered_correctly']"
      ],
      "execution_count": null,
      "outputs": []
    },
    {
      "cell_type": "code",
      "metadata": {
        "id": "Dc0eWzSZnihb"
      },
      "source": [
        "X = features.query('content_type_id==0').drop(columns={'content_type_id'})\n",
        "y = df.query('content_type_id==0')['answered_correctly']\n",
        "\n",
        "X_train, X_test, y_train, y_test = train_test_split(X, y, test_size=0.3,random_state = 2)\n",
        "\n",
        "scaler = MinMaxScaler()\n",
        "X_train = scaler.fit_transform(X_train)\n",
        "\n",
        "log = LogisticRegression()\n",
        "log.fit(X_train, y_train)\n",
        "y_pred = cross_val_predict(log, X_test, y_test, cv=10, method='predict_proba', verbose=1)\n",
        "print('roc-auc:', roc_auc_score(y_test, y_pred[:,1]))"
      ],
      "execution_count": null,
      "outputs": []
    },
    {
      "cell_type": "markdown",
      "metadata": {
        "id": "mpjv37TQ-eha"
      },
      "source": [
        "Correlations"
      ]
    },
    {
      "cell_type": "code",
      "metadata": {
        "id": "YBWKz1i0oM9b"
      },
      "source": [
        "corr.sort_values(ascending=False)"
      ],
      "execution_count": null,
      "outputs": []
    },
    {
      "cell_type": "code",
      "metadata": {
        "id": "YCFWECyesaE-"
      },
      "source": [
        "corr = df.query('content_type_id==0').corr().answered_correctly"
      ],
      "execution_count": null,
      "outputs": []
    },
    {
      "cell_type": "markdown",
      "metadata": {
        "id": "FksuZ32L-UZX"
      },
      "source": [
        "RandomForestClassifier"
      ]
    },
    {
      "cell_type": "code",
      "metadata": {
        "id": "j053YXZk-Vx7"
      },
      "source": [
        "from sklearn.ensemble import RandomForestClassifier"
      ],
      "execution_count": null,
      "outputs": []
    },
    {
      "cell_type": "code",
      "metadata": {
        "id": "dCYgq-2FrVes"
      },
      "source": [
        "X = df.query('content_type_id==0')[['qstats_answered_correctly', 'user_avg_score_cum', 'already_seen', 'lectures_seen', 'at_least_one_lesson']]\n",
        "y = df.query('content_type_id==0')['answered_correctly']"
      ],
      "execution_count": null,
      "outputs": []
    },
    {
      "cell_type": "code",
      "metadata": {
        "colab": {
          "base_uri": "https://localhost:8080/"
        },
        "id": "ild7nfRUCpcC",
        "outputId": "35b497c5-ca24-4cdd-83f3-5f30b3320a1f"
      },
      "source": [
        "y_pred = cross_val_predict(forest, X_test, y_test, cv=10, method='predict_proba', verbose=1)\n",
        "print('roc-auc:', roc_auc_score(y_test, y_pred[:,1]))"
      ],
      "execution_count": null,
      "outputs": [
        {
          "output_type": "stream",
          "text": [
            "[Parallel(n_jobs=1)]: Using backend SequentialBackend with 1 concurrent workers.\n"
          ],
          "name": "stderr"
        },
        {
          "output_type": "stream",
          "text": [
            "roc-auc: 0.7125921037505767\n"
          ],
          "name": "stdout"
        },
        {
          "output_type": "stream",
          "text": [
            "[Parallel(n_jobs=1)]: Done  10 out of  10 | elapsed:  7.0min finished\n"
          ],
          "name": "stderr"
        }
      ]
    },
    {
      "cell_type": "markdown",
      "metadata": {
        "id": "QT6Ozhx-CFGG"
      },
      "source": [
        "Bagging Classifier"
      ]
    },
    {
      "cell_type": "markdown",
      "metadata": {
        "id": "VXonpbg7C9hV"
      },
      "source": [
        "Adaboost"
      ]
    },
    {
      "cell_type": "code",
      "metadata": {
        "colab": {
          "base_uri": "https://localhost:8080/"
        },
        "id": "pSNzmp9guj9Q",
        "outputId": "31d074da-11b6-416c-9a5b-7304de76fb8c"
      },
      "source": [
        "from sklearn.ensemble import AdaBoostClassifier\n",
        "from sklearn.tree import DecisionTreeClassifier\n",
        "\n",
        "X_train, X_test, y_train, y_test = train_test_split(X, y, test_size=0.3,random_state = 1)\n",
        "adaboost = AdaBoostClassifier(DecisionTreeClassifier(max_depth=3), n_estimators=50) \n",
        "adaboost.fit(X_train, y_train)\n",
        "\n",
        "y_pred = cross_val_predict(adaboost, X_test, y_test, cv=10, method='predict_proba', verbose=1)\n",
        "print('roc-auc:', roc_auc_score(y_test, y_pred[:,1]))"
      ],
      "execution_count": null,
      "outputs": [
        {
          "output_type": "stream",
          "text": [
            "[Parallel(n_jobs=1)]: Using backend SequentialBackend with 1 concurrent workers.\n"
          ],
          "name": "stderr"
        },
        {
          "output_type": "stream",
          "text": [
            "roc-auc: 0.7594259462782705\n"
          ],
          "name": "stdout"
        },
        {
          "output_type": "stream",
          "text": [
            "[Parallel(n_jobs=1)]: Done  10 out of  10 | elapsed:  2.3min finished\n"
          ],
          "name": "stderr"
        }
      ]
    },
    {
      "cell_type": "markdown",
      "metadata": {
        "id": "Nad_IzCRNddw"
      },
      "source": [
        "SVC"
      ]
    },
    {
      "cell_type": "code",
      "metadata": {
        "colab": {
          "background_save": true
        },
        "id": "C9fssTegOgSK"
      },
      "source": [
        "from sklearn.svm import SVC\n",
        "\n",
        "X = features.query('content_type_id==0').drop(columns={'content_type_id'})\n",
        "y = df.query('content_type_id==0')['answered_correctly']\n",
        "\n",
        "kernels = ['linear', 'poly', 'rbf', 'sigmoid', 'precomputed']\n",
        "\n",
        "for kernel in kernels:\n",
        "  X_train, X_test, y_train, y_test = train_test_split(X, y, test_size=0.3,random_state = 2)\n",
        "  X_train = scaler.fit_transform(X_train)\n",
        "  svc = SVC(kernel=kernel, C=10, max_iter=1500, probability=True, tol=0.01, gamma='scale')\n",
        "  svc.fit(X_train, y_train)\n",
        "  y_pred = cross_val_predict(svc, X_test, y_test, cv=5, method='predict_proba', verbose=1)\n",
        "  print('roc-auc:', roc_auc_score(y_test, y_pred[:,1]))"
      ],
      "execution_count": null,
      "outputs": []
    },
    {
      "cell_type": "code",
      "metadata": {
        "colab": {
          "base_uri": "https://localhost:8080/"
        },
        "id": "tN36yZvrNTsa",
        "outputId": "51ccdf2a-6b75-4780-d855-d6abe6664367"
      },
      "source": [
        "# equivalent but with SGD solver\n",
        "from sklearn.linear_model import SGDClassifier\n",
        "\n",
        "svc_bis = SGDClassifier(loss='modified_huber', penalty='l2', alpha=0.1)\n",
        "\n",
        "X_train, X_test, y_train, y_test = train_test_split(X, y, test_size=0.3,random_state = 1)\n",
        "\n",
        "#svc_bis = GradientBoostingClassifier() \n",
        "svc_bis.fit(X_train, y_train)\n",
        "\n",
        "y_pred = cross_val_predict(svc_bis, X_test, y_test, cv=10, method='predict_proba', verbose=1)\n",
        "print('roc-auc:', roc_auc_score(y_test, y_pred[:,1]))"
      ],
      "execution_count": null,
      "outputs": [
        {
          "output_type": "stream",
          "text": [
            "[Parallel(n_jobs=1)]: Using backend SequentialBackend with 1 concurrent workers.\n"
          ],
          "name": "stderr"
        },
        {
          "output_type": "stream",
          "text": [
            "roc-auc: 0.7289342611288083\n"
          ],
          "name": "stdout"
        },
        {
          "output_type": "stream",
          "text": [
            "[Parallel(n_jobs=1)]: Done  10 out of  10 | elapsed:    4.3s finished\n"
          ],
          "name": "stderr"
        }
      ]
    },
    {
      "cell_type": "markdown",
      "metadata": {
        "id": "Vefuclqo4a8G"
      },
      "source": [
        "Multi-layer Stacking - XGBoost, SVC and Log reg"
      ]
    },
    {
      "cell_type": "code",
      "metadata": {
        "colab": {
          "base_uri": "https://localhost:8080/"
        },
        "id": "CKI4503r4aLz",
        "outputId": "a9205273-f708-47be-e612-e9322e1755c6"
      },
      "source": [
        "from sklearn.ensemble import StackingClassifier\n",
        "from sklearn.linear_model import SGDClassifier, LogisticRegression\n",
        "from sklearn.ensemble import GradientBoostingClassifier\n",
        "from sklearn.preprocessing import MinMaxScaler\n",
        "\n",
        "\n",
        "scaler = MinMaxScaler()\n",
        "\n",
        "X = features.query('content_type_id==0').drop(columns={'content_type_id'})\n",
        "y = df.query('content_type_id==0')['answered_correctly']\n",
        "\n",
        "X_train, X_test, y_train, y_test = train_test_split(X, y, test_size=0.3, random_state = 2)\n",
        "\n",
        "X_train = scaler.fit_transform(X_train)\n",
        "\n",
        "\n",
        "ensemble = StackingClassifier(\n",
        "    estimators = [(\"log\", GradientBoostingClassifier()),\n",
        "                  (\"svc\", SGDClassifier(loss='modified_huber', penalty='l2', alpha=0.1, max_iter=3000))],\n",
        "                  final_estimator = LogisticRegression(max_iter=3000) )\n",
        "\n",
        "ensemble.fit(X_train, y_train)\n",
        "y_pred = cross_val_predict(ensemble, X_test, y_test, cv=5, method='predict_proba', verbose=1)\n",
        "print('roc-auc:', roc_auc_score(y_test, y_pred[:,1]))"
      ],
      "execution_count": null,
      "outputs": [
        {
          "output_type": "stream",
          "text": [
            "[Parallel(n_jobs=1)]: Using backend SequentialBackend with 1 concurrent workers.\n"
          ],
          "name": "stderr"
        },
        {
          "output_type": "stream",
          "text": [
            "roc-auc: 0.7682322465652832\n"
          ],
          "name": "stdout"
        },
        {
          "output_type": "stream",
          "text": [
            "[Parallel(n_jobs=1)]: Done   5 out of   5 | elapsed: 25.1min finished\n"
          ],
          "name": "stderr"
        }
      ]
    },
    {
      "cell_type": "code",
      "metadata": {
        "id": "8zVmkMwNNXvS"
      },
      "source": [
        ""
      ],
      "execution_count": null,
      "outputs": []
    }
  ]
}