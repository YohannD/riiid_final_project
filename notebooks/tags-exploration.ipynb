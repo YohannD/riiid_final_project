{
 "cells": [
  {
   "cell_type": "markdown",
   "metadata": {},
   "source": [
    "# Tags exploration"
   ]
  },
  {
   "cell_type": "markdown",
   "metadata": {},
   "source": [
    "## 1. Questions"
   ]
  },
  {
   "cell_type": "code",
   "execution_count": 1,
   "metadata": {},
   "outputs": [],
   "source": [
    "import pandas as pd\n",
    "import matplotlib.pyplot as plt\n",
    "import numpy as np\n",
    "import seaborn as sns"
   ]
  },
  {
   "cell_type": "code",
   "execution_count": 2,
   "metadata": {},
   "outputs": [],
   "source": [
    "df_questions = pd.read_csv('../data/questions.csv')"
   ]
  },
  {
   "cell_type": "code",
   "execution_count": 3,
   "metadata": {},
   "outputs": [
    {
     "data": {
      "text/html": [
       "<div>\n",
       "<style scoped>\n",
       "    .dataframe tbody tr th:only-of-type {\n",
       "        vertical-align: middle;\n",
       "    }\n",
       "\n",
       "    .dataframe tbody tr th {\n",
       "        vertical-align: top;\n",
       "    }\n",
       "\n",
       "    .dataframe thead th {\n",
       "        text-align: right;\n",
       "    }\n",
       "</style>\n",
       "<table border=\"1\" class=\"dataframe\">\n",
       "  <thead>\n",
       "    <tr style=\"text-align: right;\">\n",
       "      <th></th>\n",
       "      <th>question_id</th>\n",
       "      <th>bundle_id</th>\n",
       "      <th>correct_answer</th>\n",
       "      <th>part</th>\n",
       "      <th>tags</th>\n",
       "    </tr>\n",
       "  </thead>\n",
       "  <tbody>\n",
       "    <tr>\n",
       "      <th>0</th>\n",
       "      <td>0</td>\n",
       "      <td>0</td>\n",
       "      <td>0</td>\n",
       "      <td>1</td>\n",
       "      <td>51 131 162 38</td>\n",
       "    </tr>\n",
       "    <tr>\n",
       "      <th>1</th>\n",
       "      <td>1</td>\n",
       "      <td>1</td>\n",
       "      <td>1</td>\n",
       "      <td>1</td>\n",
       "      <td>131 36 81</td>\n",
       "    </tr>\n",
       "    <tr>\n",
       "      <th>2</th>\n",
       "      <td>2</td>\n",
       "      <td>2</td>\n",
       "      <td>0</td>\n",
       "      <td>1</td>\n",
       "      <td>131 101 162 92</td>\n",
       "    </tr>\n",
       "    <tr>\n",
       "      <th>3</th>\n",
       "      <td>3</td>\n",
       "      <td>3</td>\n",
       "      <td>0</td>\n",
       "      <td>1</td>\n",
       "      <td>131 149 162 29</td>\n",
       "    </tr>\n",
       "    <tr>\n",
       "      <th>4</th>\n",
       "      <td>4</td>\n",
       "      <td>4</td>\n",
       "      <td>3</td>\n",
       "      <td>1</td>\n",
       "      <td>131 5 162 38</td>\n",
       "    </tr>\n",
       "  </tbody>\n",
       "</table>\n",
       "</div>"
      ],
      "text/plain": [
       "   question_id  bundle_id  correct_answer  part            tags\n",
       "0            0          0               0     1   51 131 162 38\n",
       "1            1          1               1     1       131 36 81\n",
       "2            2          2               0     1  131 101 162 92\n",
       "3            3          3               0     1  131 149 162 29\n",
       "4            4          4               3     1    131 5 162 38"
      ]
     },
     "execution_count": 3,
     "metadata": {},
     "output_type": "execute_result"
    }
   ],
   "source": [
    "df_questions.head()"
   ]
  },
  {
   "cell_type": "code",
   "execution_count": 4,
   "metadata": {},
   "outputs": [],
   "source": [
    "def set_section(part):\n",
    "    if part <= 4:\n",
    "        section = 'Listening'\n",
    "    else:\n",
    "        section = 'Reading'\n",
    "    return section"
   ]
  },
  {
   "cell_type": "code",
   "execution_count": 5,
   "metadata": {},
   "outputs": [],
   "source": [
    "df_questions['section'] = df_questions['part'].apply(set_section)"
   ]
  },
  {
   "cell_type": "code",
   "execution_count": 6,
   "metadata": {},
   "outputs": [],
   "source": [
    "topics_mapping = {1: 'Photographs', 2: 'Question/Response', 3: 'Conversations', 4: 'Talks', 5: 'Incomplete Sentences', 6: 'Text Completion', 7: 'Passages'}"
   ]
  },
  {
   "cell_type": "code",
   "execution_count": 7,
   "metadata": {},
   "outputs": [],
   "source": [
    "df_questions['topics'] = df_questions['part'].map(topics_mapping)"
   ]
  },
  {
   "cell_type": "code",
   "execution_count": 8,
   "metadata": {
    "scrolled": true
   },
   "outputs": [
    {
     "data": {
      "text/html": [
       "<div>\n",
       "<style scoped>\n",
       "    .dataframe tbody tr th:only-of-type {\n",
       "        vertical-align: middle;\n",
       "    }\n",
       "\n",
       "    .dataframe tbody tr th {\n",
       "        vertical-align: top;\n",
       "    }\n",
       "\n",
       "    .dataframe thead th {\n",
       "        text-align: right;\n",
       "    }\n",
       "</style>\n",
       "<table border=\"1\" class=\"dataframe\">\n",
       "  <thead>\n",
       "    <tr style=\"text-align: right;\">\n",
       "      <th></th>\n",
       "      <th>question_id</th>\n",
       "      <th>bundle_id</th>\n",
       "      <th>correct_answer</th>\n",
       "      <th>part</th>\n",
       "      <th>tags</th>\n",
       "      <th>section</th>\n",
       "      <th>topics</th>\n",
       "    </tr>\n",
       "  </thead>\n",
       "  <tbody>\n",
       "    <tr>\n",
       "      <th>0</th>\n",
       "      <td>0</td>\n",
       "      <td>0</td>\n",
       "      <td>0</td>\n",
       "      <td>1</td>\n",
       "      <td>51 131 162 38</td>\n",
       "      <td>Listening</td>\n",
       "      <td>Photographs</td>\n",
       "    </tr>\n",
       "    <tr>\n",
       "      <th>1</th>\n",
       "      <td>1</td>\n",
       "      <td>1</td>\n",
       "      <td>1</td>\n",
       "      <td>1</td>\n",
       "      <td>131 36 81</td>\n",
       "      <td>Listening</td>\n",
       "      <td>Photographs</td>\n",
       "    </tr>\n",
       "    <tr>\n",
       "      <th>2</th>\n",
       "      <td>2</td>\n",
       "      <td>2</td>\n",
       "      <td>0</td>\n",
       "      <td>1</td>\n",
       "      <td>131 101 162 92</td>\n",
       "      <td>Listening</td>\n",
       "      <td>Photographs</td>\n",
       "    </tr>\n",
       "    <tr>\n",
       "      <th>3</th>\n",
       "      <td>3</td>\n",
       "      <td>3</td>\n",
       "      <td>0</td>\n",
       "      <td>1</td>\n",
       "      <td>131 149 162 29</td>\n",
       "      <td>Listening</td>\n",
       "      <td>Photographs</td>\n",
       "    </tr>\n",
       "    <tr>\n",
       "      <th>4</th>\n",
       "      <td>4</td>\n",
       "      <td>4</td>\n",
       "      <td>3</td>\n",
       "      <td>1</td>\n",
       "      <td>131 5 162 38</td>\n",
       "      <td>Listening</td>\n",
       "      <td>Photographs</td>\n",
       "    </tr>\n",
       "  </tbody>\n",
       "</table>\n",
       "</div>"
      ],
      "text/plain": [
       "   question_id  bundle_id  correct_answer  part            tags    section  \\\n",
       "0            0          0               0     1   51 131 162 38  Listening   \n",
       "1            1          1               1     1       131 36 81  Listening   \n",
       "2            2          2               0     1  131 101 162 92  Listening   \n",
       "3            3          3               0     1  131 149 162 29  Listening   \n",
       "4            4          4               3     1    131 5 162 38  Listening   \n",
       "\n",
       "        topics  \n",
       "0  Photographs  \n",
       "1  Photographs  \n",
       "2  Photographs  \n",
       "3  Photographs  \n",
       "4  Photographs  "
      ]
     },
     "execution_count": 8,
     "metadata": {},
     "output_type": "execute_result"
    }
   ],
   "source": [
    "df_questions.head()"
   ]
  },
  {
   "cell_type": "code",
   "execution_count": 9,
   "metadata": {},
   "outputs": [],
   "source": [
    "df_questions['tags_split'] = df_questions['tags'].apply(lambda x: str(x).rsplit())"
   ]
  },
  {
   "cell_type": "code",
   "execution_count": 10,
   "metadata": {
    "scrolled": true
   },
   "outputs": [
    {
     "data": {
      "text/html": [
       "<div>\n",
       "<style scoped>\n",
       "    .dataframe tbody tr th:only-of-type {\n",
       "        vertical-align: middle;\n",
       "    }\n",
       "\n",
       "    .dataframe tbody tr th {\n",
       "        vertical-align: top;\n",
       "    }\n",
       "\n",
       "    .dataframe thead th {\n",
       "        text-align: right;\n",
       "    }\n",
       "</style>\n",
       "<table border=\"1\" class=\"dataframe\">\n",
       "  <thead>\n",
       "    <tr style=\"text-align: right;\">\n",
       "      <th></th>\n",
       "      <th>question_id</th>\n",
       "      <th>bundle_id</th>\n",
       "      <th>correct_answer</th>\n",
       "      <th>part</th>\n",
       "      <th>tags</th>\n",
       "      <th>section</th>\n",
       "      <th>topics</th>\n",
       "      <th>tags_split</th>\n",
       "    </tr>\n",
       "  </thead>\n",
       "  <tbody>\n",
       "    <tr>\n",
       "      <th>0</th>\n",
       "      <td>0</td>\n",
       "      <td>0</td>\n",
       "      <td>0</td>\n",
       "      <td>1</td>\n",
       "      <td>51 131 162 38</td>\n",
       "      <td>Listening</td>\n",
       "      <td>Photographs</td>\n",
       "      <td>[51, 131, 162, 38]</td>\n",
       "    </tr>\n",
       "    <tr>\n",
       "      <th>1</th>\n",
       "      <td>1</td>\n",
       "      <td>1</td>\n",
       "      <td>1</td>\n",
       "      <td>1</td>\n",
       "      <td>131 36 81</td>\n",
       "      <td>Listening</td>\n",
       "      <td>Photographs</td>\n",
       "      <td>[131, 36, 81]</td>\n",
       "    </tr>\n",
       "    <tr>\n",
       "      <th>2</th>\n",
       "      <td>2</td>\n",
       "      <td>2</td>\n",
       "      <td>0</td>\n",
       "      <td>1</td>\n",
       "      <td>131 101 162 92</td>\n",
       "      <td>Listening</td>\n",
       "      <td>Photographs</td>\n",
       "      <td>[131, 101, 162, 92]</td>\n",
       "    </tr>\n",
       "    <tr>\n",
       "      <th>3</th>\n",
       "      <td>3</td>\n",
       "      <td>3</td>\n",
       "      <td>0</td>\n",
       "      <td>1</td>\n",
       "      <td>131 149 162 29</td>\n",
       "      <td>Listening</td>\n",
       "      <td>Photographs</td>\n",
       "      <td>[131, 149, 162, 29]</td>\n",
       "    </tr>\n",
       "    <tr>\n",
       "      <th>4</th>\n",
       "      <td>4</td>\n",
       "      <td>4</td>\n",
       "      <td>3</td>\n",
       "      <td>1</td>\n",
       "      <td>131 5 162 38</td>\n",
       "      <td>Listening</td>\n",
       "      <td>Photographs</td>\n",
       "      <td>[131, 5, 162, 38]</td>\n",
       "    </tr>\n",
       "  </tbody>\n",
       "</table>\n",
       "</div>"
      ],
      "text/plain": [
       "   question_id  bundle_id  correct_answer  part            tags    section  \\\n",
       "0            0          0               0     1   51 131 162 38  Listening   \n",
       "1            1          1               1     1       131 36 81  Listening   \n",
       "2            2          2               0     1  131 101 162 92  Listening   \n",
       "3            3          3               0     1  131 149 162 29  Listening   \n",
       "4            4          4               3     1    131 5 162 38  Listening   \n",
       "\n",
       "        topics           tags_split  \n",
       "0  Photographs   [51, 131, 162, 38]  \n",
       "1  Photographs        [131, 36, 81]  \n",
       "2  Photographs  [131, 101, 162, 92]  \n",
       "3  Photographs  [131, 149, 162, 29]  \n",
       "4  Photographs    [131, 5, 162, 38]  "
      ]
     },
     "execution_count": 10,
     "metadata": {},
     "output_type": "execute_result"
    }
   ],
   "source": [
    "df_questions.head()"
   ]
  },
  {
   "cell_type": "markdown",
   "metadata": {},
   "source": [
    "### TOEIC Part 1 : Photographs"
   ]
  },
  {
   "cell_type": "code",
   "execution_count": 11,
   "metadata": {},
   "outputs": [],
   "source": [
    "def tag_photographs(tags):\n",
    "    photographs = ['5','9','13','36','40','51','61','68','70','93','94','99','101','104','111','130','149','164','178','187']\n",
    "    return ''.join([tag for tag in tags if tag in photographs])"
   ]
  },
  {
   "cell_type": "code",
   "execution_count": 12,
   "metadata": {},
   "outputs": [],
   "source": [
    "df_questions['tags_photographs'] = df_questions.loc[(df_questions.topics=='Photographs')]['tags_split'].apply(tag_photographs)"
   ]
  },
  {
   "cell_type": "code",
   "execution_count": 13,
   "metadata": {},
   "outputs": [],
   "source": [
    "df_questions['tags_photographs'] = df_questions['tags_photographs'].fillna('')"
   ]
  },
  {
   "cell_type": "code",
   "execution_count": 14,
   "metadata": {},
   "outputs": [
    {
     "data": {
      "text/plain": [
       "array(['51', '36', '101', '149', '5', '94', '61', '13', '164', '99', '93',\n",
       "       '70', '9', '104', '40', '130', '187', '111', '178', '', '68'],\n",
       "      dtype=object)"
      ]
     },
     "execution_count": 14,
     "metadata": {},
     "output_type": "execute_result"
    }
   ],
   "source": [
    "df_questions['tags_photographs'].unique()"
   ]
  },
  {
   "cell_type": "code",
   "execution_count": 15,
   "metadata": {
    "scrolled": true
   },
   "outputs": [
    {
     "data": {
      "image/png": "[encoded data removed]",
      "text/plain": [
       "<Figure size 432x288 with 1 Axes>"
      ]
     },
     "metadata": {
      "needs_background": "light"
     },
     "output_type": "display_data"
    }
   ],
   "source": [
    "tags_photographs_unique, tags_photographs_counts = np.unique(df_questions[df_questions.topics=='Photographs']['tags_photographs'], return_counts=True)\n",
    "\n",
    "dict_1 = dict(zip(tags_photographs_unique, tags_photographs_counts))\n",
    "\n",
    "plt.bar(range(len(dict_1)), list(dict_1.values()), align='center')\n",
    "plt.xticks(range(len(dict_1)), list(dict_1.keys()))\n",
    "plt.show()"
   ]
  },
  {
   "cell_type": "markdown",
   "metadata": {},
   "source": [
    "### TOEIC Part 2 : Question-Response"
   ]
  },
  {
   "cell_type": "code",
   "execution_count": 16,
   "metadata": {},
   "outputs": [],
   "source": [
    "def tag_question_response(tags):\n",
    "    question_response = ['2','17','20','30','71','90','105','114','137','138','140','141','148','155','176']\n",
    "    return ''.join([tag for tag in tags if tag in question_response])"
   ]
  },
  {
   "cell_type": "code",
   "execution_count": 17,
   "metadata": {},
   "outputs": [],
   "source": [
    "df_questions['tags_question_response'] = df_questions.loc[(df_questions.topics=='Question/Response')]['tags_split'].apply(tag_question_response)"
   ]
  },
  {
   "cell_type": "code",
   "execution_count": 18,
   "metadata": {},
   "outputs": [],
   "source": [
    "df_questions['tags_question_response'] = df_questions['tags_question_response'].fillna('')"
   ]
  },
  {
   "cell_type": "code",
   "execution_count": 19,
   "metadata": {},
   "outputs": [
    {
     "data": {
      "text/plain": [
       "array(['', '30', '90', '176', '140', '2', '114', '138', '141', '137',\n",
       "       '148', '155', '105', '71', '20', '17', '220'], dtype=object)"
      ]
     },
     "execution_count": 19,
     "metadata": {},
     "output_type": "execute_result"
    }
   ],
   "source": [
    "df_questions['tags_question_response'].unique()"
   ]
  },
  {
   "cell_type": "code",
   "execution_count": 20,
   "metadata": {
    "scrolled": false
   },
   "outputs": [
    {
     "data": {
      "image/png": "[encoded data removed]",
      "text/plain": [
       "<Figure size 432x288 with 1 Axes>"
      ]
     },
     "metadata": {
      "needs_background": "light"
     },
     "output_type": "display_data"
    }
   ],
   "source": [
    "tags_quest_resp_unique, tags_quest_resp_counts = np.unique(df_questions[df_questions.topics=='Question/Response']['tags_question_response'], return_counts=True)\n",
    "\n",
    "dict_2 = dict(zip(tags_quest_resp_unique, tags_quest_resp_counts))\n",
    "\n",
    "plt.bar(range(len(dict_2)), list(dict_2.values()), align='center')\n",
    "plt.xticks(range(len(dict_2)), list(dict_2.keys()))\n",
    "plt.show()"
   ]
  },
  {
   "cell_type": "code",
   "execution_count": 21,
   "metadata": {},
   "outputs": [
    {
     "name": "stdout",
     "output_type": "stream",
     "text": [
      "'' to be checked : 3 values\n"
     ]
    }
   ],
   "source": [
    "print(\"'' to be checked :\", dict_2[''], 'values')"
   ]
  },
  {
   "cell_type": "markdown",
   "metadata": {},
   "source": [
    "### TOEIC Part 3 : Conversations"
   ]
  },
  {
   "cell_type": "code",
   "execution_count": 22,
   "metadata": {},
   "outputs": [],
   "source": [
    "def tag_conversations(tags):\n",
    "    conversations = ['74','82','106','113','136','157','161']\n",
    "    return ''.join([tag for tag in tags if tag in conversations])"
   ]
  },
  {
   "cell_type": "code",
   "execution_count": 23,
   "metadata": {},
   "outputs": [],
   "source": [
    "df_questions['tags_conversations'] = df_questions.loc[(df_questions.topics=='Conversations')]['tags_split'].apply(tag_conversations)"
   ]
  },
  {
   "cell_type": "code",
   "execution_count": 24,
   "metadata": {},
   "outputs": [],
   "source": [
    "df_questions['tags_conversations'] = df_questions['tags_conversations'].fillna('')"
   ]
  },
  {
   "cell_type": "code",
   "execution_count": 25,
   "metadata": {},
   "outputs": [
    {
     "data": {
      "text/plain": [
       "array(['', '74', '136', '82', '106', '157', '113', '161'], dtype=object)"
      ]
     },
     "execution_count": 25,
     "metadata": {},
     "output_type": "execute_result"
    }
   ],
   "source": [
    "df_questions['tags_conversations'].unique()"
   ]
  },
  {
   "cell_type": "code",
   "execution_count": 26,
   "metadata": {
    "scrolled": true
   },
   "outputs": [
    {
     "data": {
      "image/png": "[encoded data removed]",
      "text/plain": [
       "<Figure size 432x288 with 1 Axes>"
      ]
     },
     "metadata": {
      "needs_background": "light"
     },
     "output_type": "display_data"
    }
   ],
   "source": [
    "tags_conversations_unique, tags_conversations_counts = np.unique(df_questions[df_questions.topics=='Conversations']['tags_conversations'], return_counts=True)\n",
    "\n",
    "dict_3 = dict(zip(tags_conversations_unique, tags_conversations_counts))\n",
    "\n",
    "plt.bar(range(len(dict_3)), list(dict_3.values()), align='center')\n",
    "plt.xticks(range(len(dict_3)), list(dict_3.keys()))\n",
    "plt.show()"
   ]
  },
  {
   "cell_type": "markdown",
   "metadata": {},
   "source": [
    "### TOEIC Part 4 : Talks"
   ]
  },
  {
   "cell_type": "code",
   "execution_count": 27,
   "metadata": {},
   "outputs": [],
   "source": [
    "def tag_talks(tags):\n",
    "    talks = ['3','12','59','67','83','103','120','126','144','150','158','169','171','183']\n",
    "    return ''.join([tag for tag in tags if tag in talks])"
   ]
  },
  {
   "cell_type": "code",
   "execution_count": 28,
   "metadata": {},
   "outputs": [],
   "source": [
    "df_questions['tags_talks'] = df_questions.loc[(df_questions.topics=='Talks')]['tags_split'].apply(tag_talks)"
   ]
  },
  {
   "cell_type": "code",
   "execution_count": 29,
   "metadata": {},
   "outputs": [],
   "source": [
    "df_questions['tags_talks'] = df_questions['tags_talks'].fillna('')"
   ]
  },
  {
   "cell_type": "code",
   "execution_count": 30,
   "metadata": {},
   "outputs": [
    {
     "data": {
      "text/plain": [
       "array(['', '12', '103', '67', '171', '144', '169', '126', '158', '83',\n",
       "       '150', '183', '120', '3', '59'], dtype=object)"
      ]
     },
     "execution_count": 30,
     "metadata": {},
     "output_type": "execute_result"
    }
   ],
   "source": [
    "df_questions['tags_talks'].unique()"
   ]
  },
  {
   "cell_type": "code",
   "execution_count": 31,
   "metadata": {
    "scrolled": true
   },
   "outputs": [
    {
     "data": {
      "image/png": "[encoded data removed]",
      "text/plain": [
       "<Figure size 432x288 with 1 Axes>"
      ]
     },
     "metadata": {
      "needs_background": "light"
     },
     "output_type": "display_data"
    }
   ],
   "source": [
    "tags_talks_unique, tags_talks_counts = np.unique(df_questions[df_questions.topics=='Talks']['tags_talks'], return_counts=True)\n",
    "\n",
    "dict_4 = dict(zip(tags_talks_unique, tags_talks_counts))\n",
    "\n",
    "plt.bar(range(len(dict_4)), list(dict_4.values()), align='center')\n",
    "plt.xticks(range(len(dict_4)), list(dict_4.keys()))\n",
    "plt.show()"
   ]
  },
  {
   "cell_type": "markdown",
   "metadata": {},
   "source": [
    "### TOEIC Parts 5 & 6 : Incomplete Sentences & Text Completion"
   ]
  },
  {
   "cell_type": "code",
   "execution_count": 32,
   "metadata": {},
   "outputs": [],
   "source": [
    "def tag_completion(tags):\n",
    "    if ' 162' in str(tags):\n",
    "        tags = str(tags).replace(' 162','')\n",
    "    else:\n",
    "        tags = str(tags)\n",
    "    return tags"
   ]
  },
  {
   "cell_type": "code",
   "execution_count": 33,
   "metadata": {},
   "outputs": [],
   "source": [
    "df_questions['tags_completion'] = df_questions.loc[(df_questions.topics=='Incomplete Sentences')|(df_questions.topics=='Text Completion')]['tags'].apply(tag_completion)"
   ]
  },
  {
   "cell_type": "code",
   "execution_count": 34,
   "metadata": {},
   "outputs": [],
   "source": [
    "df_questions['tags_completion'] = df_questions['tags_completion'].fillna('')"
   ]
  },
  {
   "cell_type": "code",
   "execution_count": 35,
   "metadata": {},
   "outputs": [
    {
     "data": {
      "text/plain": [
       "array(['', '8', '4', '166', '85', '156', '53', '73', '66', '108', '173',\n",
       "       '72', '95', '7', '15', '132', '180', '75', '49', '55', '109', '60',\n",
       "       '125', '133', '152', '181', '57', '91', '96', '116', '79', '89',\n",
       "       '47', '65', '80', '43', '52', '1', '28', '177', '112', '134',\n",
       "       '123', '168', '24', '147', '174', '14', '64', '48', '128', '44',\n",
       "       '170', '179', '175', '45', '78', '23', '159', '31', '25', '151',\n",
       "       '34', '33', '127', '172', '124', '115', '26', '54', '182', '167',\n",
       "       '58', '27', 'nan', '86'], dtype=object)"
      ]
     },
     "execution_count": 35,
     "metadata": {},
     "output_type": "execute_result"
    }
   ],
   "source": [
    "df_questions['tags_completion'].unique()"
   ]
  },
  {
   "cell_type": "code",
   "execution_count": 36,
   "metadata": {},
   "outputs": [
    {
     "data": {
      "image/png": "[encoded data removed]",
      "text/plain": [
       "<Figure size 432x288 with 1 Axes>"
      ]
     },
     "metadata": {
      "needs_background": "light"
     },
     "output_type": "display_data"
    }
   ],
   "source": [
    "tags_completion_unique, tags_completion_counts = np.unique(df_questions[df_questions.topics=='Incomplete Sentences']['tags_completion'], return_counts=True)\n",
    "\n",
    "dict_5 = dict(zip(tags_completion_unique, tags_completion_counts))\n",
    "\n",
    "plt.bar(range(len(dict_5)), list(dict_5.values()), align='center')\n",
    "plt.xticks(range(len(dict_5)), list(dict_5.keys()))\n",
    "plt.show()"
   ]
  },
  {
   "cell_type": "code",
   "execution_count": 37,
   "metadata": {
    "scrolled": false
   },
   "outputs": [
    {
     "data": {
      "image/png": "[encoded data removed]",
      "text/plain": [
       "<Figure size 432x288 with 1 Axes>"
      ]
     },
     "metadata": {
      "needs_background": "light"
     },
     "output_type": "display_data"
    }
   ],
   "source": [
    "tags_completion2_unique, tags_completion2_counts = np.unique(df_questions[df_questions.topics=='Text Completion']['tags_completion'], return_counts=True)\n",
    "\n",
    "dict_6 = dict(zip(tags_completion2_unique, tags_completion2_counts))\n",
    "\n",
    "plt.bar(range(len(dict_6)), list(dict_6.values()), align='center')\n",
    "plt.xticks(range(len(dict_6)), list(dict_6.keys()))\n",
    "plt.show()"
   ]
  },
  {
   "cell_type": "code",
   "execution_count": 38,
   "metadata": {},
   "outputs": [
    {
     "name": "stdout",
     "output_type": "stream",
     "text": [
      "'nan' to be checked : 1 value\n"
     ]
    }
   ],
   "source": [
    "print(\"'nan' to be checked :\", dict_6['nan'], 'value')"
   ]
  },
  {
   "cell_type": "markdown",
   "metadata": {},
   "source": [
    "### TOEIC Part 7 : Passages"
   ]
  },
  {
   "cell_type": "code",
   "execution_count": 39,
   "metadata": {},
   "outputs": [],
   "source": [
    "def tag_passages(tags):\n",
    "    passages = ['18','19','39','76','97','118','145','153','165']\n",
    "    return ''.join([tag for tag in tags if tag in passages])"
   ]
  },
  {
   "cell_type": "code",
   "execution_count": 40,
   "metadata": {},
   "outputs": [],
   "source": [
    "df_questions['tags_passages'] = df_questions.loc[(df_questions.topics=='Passages')]['tags_split'].apply(tag_passages)"
   ]
  },
  {
   "cell_type": "code",
   "execution_count": 41,
   "metadata": {},
   "outputs": [],
   "source": [
    "df_questions['tags_passages'] = df_questions['tags_passages'].fillna('')"
   ]
  },
  {
   "cell_type": "code",
   "execution_count": 42,
   "metadata": {},
   "outputs": [
    {
     "data": {
      "text/plain": [
       "array(['', '118', '18', '19', '97', '39', '145', '76', '153', '165'],\n",
       "      dtype=object)"
      ]
     },
     "execution_count": 42,
     "metadata": {},
     "output_type": "execute_result"
    }
   ],
   "source": [
    "df_questions['tags_passages'].unique()"
   ]
  },
  {
   "cell_type": "code",
   "execution_count": 43,
   "metadata": {
    "scrolled": false
   },
   "outputs": [
    {
     "data": {
      "image/png": "[encoded data removed]",
      "text/plain": [
       "<Figure size 432x288 with 1 Axes>"
      ]
     },
     "metadata": {
      "needs_background": "light"
     },
     "output_type": "display_data"
    }
   ],
   "source": [
    "tags_passages_unique, tags_passages_counts = np.unique(df_questions[df_questions.topics=='Passages']['tags_passages'], return_counts=True)\n",
    "\n",
    "dict_7 = dict(zip(tags_passages_unique, tags_passages_counts))\n",
    "\n",
    "plt.bar(range(len(dict_7)), list(dict_7.values()), align='center')\n",
    "plt.xticks(range(len(dict_7)), list(dict_7.keys()))\n",
    "plt.show()"
   ]
  },
  {
   "cell_type": "code",
   "execution_count": 44,
   "metadata": {},
   "outputs": [
    {
     "name": "stdout",
     "output_type": "stream",
     "text": [
      "'' to be checked : 5 values\n"
     ]
    }
   ],
   "source": [
    "print(\"'' to be checked :\", dict_7[''], 'values')"
   ]
  },
  {
   "cell_type": "markdown",
   "metadata": {},
   "source": [
    "### Tags summary for questions"
   ]
  },
  {
   "cell_type": "code",
   "execution_count": 45,
   "metadata": {
    "scrolled": false
   },
   "outputs": [
    {
     "name": "stdout",
     "output_type": "stream",
     "text": [
      "unique tags for part 1 : 21\n",
      "unique tags for part 2 : 17\n",
      "unique tags for part 3 : 8\n",
      "unique tags for part 4 : 15\n",
      "unique tags for parts 5 & 6 : 76\n",
      "unique tags for part 7 : 10\n"
     ]
    }
   ],
   "source": [
    "print('unique tags for part 1 :', df_questions['tags_photographs'].nunique())\n",
    "print('unique tags for part 2 :', df_questions['tags_question_response'].nunique())\n",
    "print('unique tags for part 3 :', df_questions['tags_conversations'].nunique())\n",
    "print('unique tags for part 4 :', df_questions['tags_talks'].nunique())\n",
    "print('unique tags for parts 5 & 6 :', df_questions['tags_completion'].nunique())\n",
    "print('unique tags for part 7 :', df_questions['tags_passages'].nunique())"
   ]
  },
  {
   "cell_type": "code",
   "execution_count": 46,
   "metadata": {
    "scrolled": true
   },
   "outputs": [
    {
     "name": "stdout",
     "output_type": "stream",
     "text": [
      "unique combinations for part 1 : 145\n",
      "unique combinations for part 2 : 422\n",
      "unique combinations for part 3 : 133\n",
      "unique combinations for part 4 : 418\n",
      "unique combinations for parts 5 & 6 : 109\n",
      "unique combinations for part 7 : 292\n"
     ]
    }
   ],
   "source": [
    "print('unique combinations for part 1 :', df_questions[df_questions['part']==1]['tags'].nunique())\n",
    "print('unique combinations for part 2 :', df_questions[df_questions['part']==2]['tags'].nunique())\n",
    "print('unique combinations for part 3 :', df_questions[df_questions['part']==3]['tags'].nunique())\n",
    "print('unique combinations for part 4 :', df_questions[df_questions['part']==4]['tags'].nunique())\n",
    "print('unique combinations for parts 5 & 6 :', df_questions[(df_questions['part']==5) | (df_questions['part']==6)]['tags'].nunique())\n",
    "print('unique combinations for part 7 :', df_questions[df_questions['part']==7]['tags'].nunique())"
   ]
  },
  {
   "cell_type": "code",
   "execution_count": 47,
   "metadata": {},
   "outputs": [],
   "source": [
    "df_questions['unique_tag'] = df_questions.tags_photographs + df_questions.tags_question_response + df_questions.tags_conversations + df_questions.tags_talks + df_questions.tags_completion + df_questions.tags_passages "
   ]
  },
  {
   "cell_type": "code",
   "execution_count": 48,
   "metadata": {},
   "outputs": [],
   "source": [
    "df_questions['unique_tag'] = df_questions['unique_tag'].fillna('')"
   ]
  },
  {
   "cell_type": "code",
   "execution_count": 49,
   "metadata": {
    "scrolled": true
   },
   "outputs": [
    {
     "data": {
      "text/plain": [
       "array(['51', '36', '101', '149', '5', '94', '61', '13', '164', '99', '93',\n",
       "       '70', '9', '104', '40', '130', '187', '111', '178', '30', '90',\n",
       "       '176', '140', '2', '114', '138', '141', '137', '148', '155', '105',\n",
       "       '71', '20', '17', '', '220', '74', '136', '82', '106', '157',\n",
       "       '113', '161', '12', '103', '67', '171', '144', '169', '126', '158',\n",
       "       '83', '150', '183', '120', '8', '4', '166', '85', '156', '53',\n",
       "       '73', '66', '108', '173', '72', '95', '7', '15', '132', '180',\n",
       "       '75', '49', '55', '109', '60', '125', '133', '152', '181', '57',\n",
       "       '91', '96', '116', '79', '89', '47', '65', '80', '43', '52', '1',\n",
       "       '28', '177', '112', '134', '123', '168', '24', '147', '174', '14',\n",
       "       '64', '48', '128', '44', '170', '179', '175', '45', '78', '23',\n",
       "       '159', '31', '25', '151', '34', '33', '127', '172', '124', '115',\n",
       "       '26', '54', '182', '167', '58', '27', '118', '18', '19', '97',\n",
       "       '39', '145', '76', '153', '68', 'nan', '3', '165', '59', '86'],\n",
       "      dtype=object)"
      ]
     },
     "execution_count": 49,
     "metadata": {},
     "output_type": "execute_result"
    }
   ],
   "source": [
    "df_questions['unique_tag'].unique()"
   ]
  },
  {
   "cell_type": "code",
   "execution_count": 50,
   "metadata": {},
   "outputs": [
    {
     "name": "stderr",
     "output_type": "stream",
     "text": [
      "c:\\users\\imen_\\.venvs\\lewagon\\lib\\site-packages\\seaborn\\_decorators.py:43: FutureWarning: Pass the following variable as a keyword arg: x. From version 0.12, the only valid positional argument will be `data`, and passing other arguments without an explicit keyword will result in an error or misinterpretation.\n",
      "  FutureWarning\n"
     ]
    },
    {
     "data": {
      "text/plain": [
       "<AxesSubplot:xlabel='unique_tag', ylabel='count'>"
      ]
     },
     "execution_count": 50,
     "metadata": {},
     "output_type": "execute_result"
    },
    {
     "data": {
      "image/png": "[encoded data removed]",
      "text/plain": [
       "<Figure size 432x288 with 1 Axes>"
      ]
     },
     "metadata": {
      "needs_background": "light"
     },
     "output_type": "display_data"
    }
   ],
   "source": [
    "sns.countplot(df_questions['unique_tag'])"
   ]
  },
  {
   "cell_type": "code",
   "execution_count": 51,
   "metadata": {
    "scrolled": true
   },
   "outputs": [
    {
     "name": "stderr",
     "output_type": "stream",
     "text": [
      "c:\\users\\imen_\\.venvs\\lewagon\\lib\\site-packages\\seaborn\\_decorators.py:43: FutureWarning: Pass the following variable as a keyword arg: x. From version 0.12, the only valid positional argument will be `data`, and passing other arguments without an explicit keyword will result in an error or misinterpretation.\n",
      "  FutureWarning\n"
     ]
    },
    {
     "data": {
      "text/plain": [
       "<AxesSubplot:xlabel='part', ylabel='count'>"
      ]
     },
     "execution_count": 51,
     "metadata": {},
     "output_type": "execute_result"
    },
    {
     "data": {
      "image/png": "[encoded data removed]",
      "text/plain": [
       "<Figure size 432x288 with 1 Axes>"
      ]
     },
     "metadata": {
      "needs_background": "light"
     },
     "output_type": "display_data"
    }
   ],
   "source": [
    "sns.countplot(df_questions['part'])"
   ]
  },
  {
   "cell_type": "code",
   "execution_count": 52,
   "metadata": {},
   "outputs": [],
   "source": [
    "def unique_key(x, y):\n",
    "    return str(x) + str(y)"
   ]
  },
  {
   "cell_type": "code",
   "execution_count": 53,
   "metadata": {},
   "outputs": [],
   "source": [
    "df_questions['unique_key_questions'] = [unique_key(x, y) for x, y in zip(df_questions['part'], df_questions['unique_tag'])]"
   ]
  },
  {
   "cell_type": "code",
   "execution_count": 54,
   "metadata": {},
   "outputs": [
    {
     "name": "stdout",
     "output_type": "stream",
     "text": [
      "205\n"
     ]
    }
   ],
   "source": [
    "print(df_questions.unique_key_questions.nunique())"
   ]
  },
  {
   "cell_type": "markdown",
   "metadata": {},
   "source": [
    "## 2. Lectures"
   ]
  },
  {
   "cell_type": "code",
   "execution_count": 55,
   "metadata": {},
   "outputs": [],
   "source": [
    "df_lectures = pd.read_csv('../data/lectures.csv')"
   ]
  },
  {
   "cell_type": "code",
   "execution_count": 56,
   "metadata": {},
   "outputs": [
    {
     "data": {
      "text/html": [
       "<div>\n",
       "<style scoped>\n",
       "    .dataframe tbody tr th:only-of-type {\n",
       "        vertical-align: middle;\n",
       "    }\n",
       "\n",
       "    .dataframe tbody tr th {\n",
       "        vertical-align: top;\n",
       "    }\n",
       "\n",
       "    .dataframe thead th {\n",
       "        text-align: right;\n",
       "    }\n",
       "</style>\n",
       "<table border=\"1\" class=\"dataframe\">\n",
       "  <thead>\n",
       "    <tr style=\"text-align: right;\">\n",
       "      <th></th>\n",
       "      <th>lecture_id</th>\n",
       "      <th>tag</th>\n",
       "      <th>part</th>\n",
       "      <th>type_of</th>\n",
       "    </tr>\n",
       "  </thead>\n",
       "  <tbody>\n",
       "    <tr>\n",
       "      <th>0</th>\n",
       "      <td>89</td>\n",
       "      <td>159</td>\n",
       "      <td>5</td>\n",
       "      <td>concept</td>\n",
       "    </tr>\n",
       "    <tr>\n",
       "      <th>1</th>\n",
       "      <td>100</td>\n",
       "      <td>70</td>\n",
       "      <td>1</td>\n",
       "      <td>concept</td>\n",
       "    </tr>\n",
       "    <tr>\n",
       "      <th>2</th>\n",
       "      <td>185</td>\n",
       "      <td>45</td>\n",
       "      <td>6</td>\n",
       "      <td>concept</td>\n",
       "    </tr>\n",
       "    <tr>\n",
       "      <th>3</th>\n",
       "      <td>192</td>\n",
       "      <td>79</td>\n",
       "      <td>5</td>\n",
       "      <td>solving question</td>\n",
       "    </tr>\n",
       "    <tr>\n",
       "      <th>4</th>\n",
       "      <td>317</td>\n",
       "      <td>156</td>\n",
       "      <td>5</td>\n",
       "      <td>solving question</td>\n",
       "    </tr>\n",
       "  </tbody>\n",
       "</table>\n",
       "</div>"
      ],
      "text/plain": [
       "   lecture_id  tag  part           type_of\n",
       "0          89  159     5           concept\n",
       "1         100   70     1           concept\n",
       "2         185   45     6           concept\n",
       "3         192   79     5  solving question\n",
       "4         317  156     5  solving question"
      ]
     },
     "execution_count": 56,
     "metadata": {},
     "output_type": "execute_result"
    }
   ],
   "source": [
    "df_lectures.head()"
   ]
  },
  {
   "cell_type": "code",
   "execution_count": 57,
   "metadata": {
    "scrolled": false
   },
   "outputs": [
    {
     "name": "stdout",
     "output_type": "stream",
     "text": [
      "unique tags for part 1 : 20\n",
      "unique tags for part 2 : 23\n",
      "unique tags for part 3 : 7\n",
      "unique tags for part 4 : 19\n",
      "unique tags for parts 5 & 6 : 73\n",
      "unique tags for part 7 : 16\n"
     ]
    }
   ],
   "source": [
    "print('unique tags for part 1 :', df_lectures[df_lectures['part']==1]['tag'].nunique())\n",
    "print('unique tags for part 2 :', df_lectures[df_lectures['part']==2]['tag'].nunique())\n",
    "print('unique tags for part 3 :', df_lectures[df_lectures['part']==3]['tag'].nunique())\n",
    "print('unique tags for part 4 :', df_lectures[df_lectures['part']==4]['tag'].nunique())\n",
    "print('unique tags for parts 5 & 6 :', df_lectures[(df_lectures['part']==5) | (df_lectures['part']==6)]['tag'].nunique())\n",
    "print('unique tags for part 7 :', df_lectures[df_lectures['part']==7]['tag'].nunique())"
   ]
  },
  {
   "cell_type": "code",
   "execution_count": 58,
   "metadata": {},
   "outputs": [
    {
     "name": "stderr",
     "output_type": "stream",
     "text": [
      "c:\\users\\imen_\\.venvs\\lewagon\\lib\\site-packages\\seaborn\\_decorators.py:43: FutureWarning: Pass the following variable as a keyword arg: x. From version 0.12, the only valid positional argument will be `data`, and passing other arguments without an explicit keyword will result in an error or misinterpretation.\n",
      "  FutureWarning\n"
     ]
    },
    {
     "data": {
      "text/plain": [
       "<AxesSubplot:xlabel='tag', ylabel='count'>"
      ]
     },
     "execution_count": 58,
     "metadata": {},
     "output_type": "execute_result"
    },
    {
     "data": {
      "image/png": "[encoded data removed]",
      "text/plain": [
       "<Figure size 432x288 with 1 Axes>"
      ]
     },
     "metadata": {
      "needs_background": "light"
     },
     "output_type": "display_data"
    }
   ],
   "source": [
    "sns.countplot(df_lectures['tag'])"
   ]
  },
  {
   "cell_type": "code",
   "execution_count": 59,
   "metadata": {},
   "outputs": [
    {
     "name": "stderr",
     "output_type": "stream",
     "text": [
      "c:\\users\\imen_\\.venvs\\lewagon\\lib\\site-packages\\seaborn\\_decorators.py:43: FutureWarning: Pass the following variable as a keyword arg: x. From version 0.12, the only valid positional argument will be `data`, and passing other arguments without an explicit keyword will result in an error or misinterpretation.\n",
      "  FutureWarning\n"
     ]
    },
    {
     "data": {
      "text/plain": [
       "<AxesSubplot:xlabel='type_of', ylabel='count'>"
      ]
     },
     "execution_count": 59,
     "metadata": {},
     "output_type": "execute_result"
    },
    {
     "data": {
      "image/png": "[encoded data removed]",
      "text/plain": [
       "<Figure size 432x288 with 1 Axes>"
      ]
     },
     "metadata": {
      "needs_background": "light"
     },
     "output_type": "display_data"
    }
   ],
   "source": [
    "sns.countplot(df_lectures['type_of'])"
   ]
  },
  {
   "cell_type": "markdown",
   "metadata": {},
   "source": [
    "## 3. Cross Checking Questions & Lectures"
   ]
  },
  {
   "cell_type": "code",
   "execution_count": 60,
   "metadata": {},
   "outputs": [],
   "source": [
    "df_lectures['unique_key_lectures'] = [unique_key(x, y) for x, y in zip(df_lectures['part'], df_lectures['tag'])]"
   ]
  },
  {
   "cell_type": "code",
   "execution_count": 61,
   "metadata": {
    "scrolled": true
   },
   "outputs": [
    {
     "data": {
      "text/html": [
       "<div>\n",
       "<style scoped>\n",
       "    .dataframe tbody tr th:only-of-type {\n",
       "        vertical-align: middle;\n",
       "    }\n",
       "\n",
       "    .dataframe tbody tr th {\n",
       "        vertical-align: top;\n",
       "    }\n",
       "\n",
       "    .dataframe thead th {\n",
       "        text-align: right;\n",
       "    }\n",
       "</style>\n",
       "<table border=\"1\" class=\"dataframe\">\n",
       "  <thead>\n",
       "    <tr style=\"text-align: right;\">\n",
       "      <th></th>\n",
       "      <th>lecture_id</th>\n",
       "      <th>tag</th>\n",
       "      <th>part</th>\n",
       "      <th>type_of</th>\n",
       "      <th>unique_key_lectures</th>\n",
       "    </tr>\n",
       "  </thead>\n",
       "  <tbody>\n",
       "    <tr>\n",
       "      <th>0</th>\n",
       "      <td>89</td>\n",
       "      <td>159</td>\n",
       "      <td>5</td>\n",
       "      <td>concept</td>\n",
       "      <td>5159</td>\n",
       "    </tr>\n",
       "    <tr>\n",
       "      <th>1</th>\n",
       "      <td>100</td>\n",
       "      <td>70</td>\n",
       "      <td>1</td>\n",
       "      <td>concept</td>\n",
       "      <td>170</td>\n",
       "    </tr>\n",
       "    <tr>\n",
       "      <th>2</th>\n",
       "      <td>185</td>\n",
       "      <td>45</td>\n",
       "      <td>6</td>\n",
       "      <td>concept</td>\n",
       "      <td>645</td>\n",
       "    </tr>\n",
       "    <tr>\n",
       "      <th>3</th>\n",
       "      <td>192</td>\n",
       "      <td>79</td>\n",
       "      <td>5</td>\n",
       "      <td>solving question</td>\n",
       "      <td>579</td>\n",
       "    </tr>\n",
       "    <tr>\n",
       "      <th>4</th>\n",
       "      <td>317</td>\n",
       "      <td>156</td>\n",
       "      <td>5</td>\n",
       "      <td>solving question</td>\n",
       "      <td>5156</td>\n",
       "    </tr>\n",
       "  </tbody>\n",
       "</table>\n",
       "</div>"
      ],
      "text/plain": [
       "   lecture_id  tag  part           type_of unique_key_lectures\n",
       "0          89  159     5           concept                5159\n",
       "1         100   70     1           concept                 170\n",
       "2         185   45     6           concept                 645\n",
       "3         192   79     5  solving question                 579\n",
       "4         317  156     5  solving question                5156"
      ]
     },
     "execution_count": 61,
     "metadata": {},
     "output_type": "execute_result"
    }
   ],
   "source": [
    "df_lectures.head()"
   ]
  },
  {
   "cell_type": "code",
   "execution_count": 62,
   "metadata": {},
   "outputs": [
    {
     "name": "stdout",
     "output_type": "stream",
     "text": [
      "418\n",
      "220\n"
     ]
    }
   ],
   "source": [
    "print(df_lectures.lecture_id.nunique())\n",
    "print(df_lectures.unique_key_lectures.nunique())"
   ]
  },
  {
   "cell_type": "code",
   "execution_count": 63,
   "metadata": {},
   "outputs": [
    {
     "data": {
      "text/plain": [
       "220"
      ]
     },
     "execution_count": 63,
     "metadata": {},
     "output_type": "execute_result"
    }
   ],
   "source": [
    "df_lectures_2 = df_lectures.drop(columns=['lecture_id', 'type_of']).set_index('tag').drop_duplicates()\n",
    "len(df_lectures_2)"
   ]
  },
  {
   "cell_type": "code",
   "execution_count": 64,
   "metadata": {},
   "outputs": [
    {
     "data": {
      "text/html": [
       "<div>\n",
       "<style scoped>\n",
       "    .dataframe tbody tr th:only-of-type {\n",
       "        vertical-align: middle;\n",
       "    }\n",
       "\n",
       "    .dataframe tbody tr th {\n",
       "        vertical-align: top;\n",
       "    }\n",
       "\n",
       "    .dataframe thead th {\n",
       "        text-align: right;\n",
       "    }\n",
       "</style>\n",
       "<table border=\"1\" class=\"dataframe\">\n",
       "  <thead>\n",
       "    <tr style=\"text-align: right;\">\n",
       "      <th></th>\n",
       "      <th>part</th>\n",
       "      <th>unique_key_lectures</th>\n",
       "    </tr>\n",
       "    <tr>\n",
       "      <th>tag</th>\n",
       "      <th></th>\n",
       "      <th></th>\n",
       "    </tr>\n",
       "  </thead>\n",
       "  <tbody>\n",
       "    <tr>\n",
       "      <th>159</th>\n",
       "      <td>5</td>\n",
       "      <td>5159</td>\n",
       "    </tr>\n",
       "    <tr>\n",
       "      <th>70</th>\n",
       "      <td>1</td>\n",
       "      <td>170</td>\n",
       "    </tr>\n",
       "    <tr>\n",
       "      <th>45</th>\n",
       "      <td>6</td>\n",
       "      <td>645</td>\n",
       "    </tr>\n",
       "    <tr>\n",
       "      <th>79</th>\n",
       "      <td>5</td>\n",
       "      <td>579</td>\n",
       "    </tr>\n",
       "    <tr>\n",
       "      <th>156</th>\n",
       "      <td>5</td>\n",
       "      <td>5156</td>\n",
       "    </tr>\n",
       "  </tbody>\n",
       "</table>\n",
       "</div>"
      ],
      "text/plain": [
       "     part unique_key_lectures\n",
       "tag                          \n",
       "159     5                5159\n",
       "70      1                 170\n",
       "45      6                 645\n",
       "79      5                 579\n",
       "156     5                5156"
      ]
     },
     "execution_count": 64,
     "metadata": {},
     "output_type": "execute_result"
    }
   ],
   "source": [
    "df_lectures_2.head()"
   ]
  },
  {
   "cell_type": "code",
   "execution_count": 65,
   "metadata": {},
   "outputs": [],
   "source": [
    "df_merge = df_questions.merge(df_lectures_2, left_on=df_questions['unique_key_questions'], right_on=df_lectures_2['unique_key_lectures'], how='outer')\n",
    "df_merge = df_merge.drop(columns='part_y')"
   ]
  },
  {
   "cell_type": "code",
   "execution_count": 66,
   "metadata": {},
   "outputs": [],
   "source": [
    "missing_lectures_id = df_merge[df_merge['unique_key_lectures'].isna()].groupby(['unique_tag','part_x'])[['unique_tag']].count()"
   ]
  },
  {
   "cell_type": "code",
   "execution_count": 67,
   "metadata": {},
   "outputs": [
    {
     "data": {
      "text/html": [
       "<div>\n",
       "<style scoped>\n",
       "    .dataframe tbody tr th:only-of-type {\n",
       "        vertical-align: middle;\n",
       "    }\n",
       "\n",
       "    .dataframe tbody tr th {\n",
       "        vertical-align: top;\n",
       "    }\n",
       "\n",
       "    .dataframe thead th {\n",
       "        text-align: right;\n",
       "    }\n",
       "</style>\n",
       "<table border=\"1\" class=\"dataframe\">\n",
       "  <thead>\n",
       "    <tr style=\"text-align: right;\">\n",
       "      <th></th>\n",
       "      <th></th>\n",
       "      <th>count</th>\n",
       "    </tr>\n",
       "    <tr>\n",
       "      <th>unique_tag</th>\n",
       "      <th>part_x</th>\n",
       "      <th></th>\n",
       "    </tr>\n",
       "  </thead>\n",
       "  <tbody>\n",
       "    <tr>\n",
       "      <th rowspan=\"2\" valign=\"top\"></th>\n",
       "      <th>2.0</th>\n",
       "      <td>3</td>\n",
       "    </tr>\n",
       "    <tr>\n",
       "      <th>7.0</th>\n",
       "      <td>5</td>\n",
       "    </tr>\n",
       "    <tr>\n",
       "      <th>165</th>\n",
       "      <th>7.0</th>\n",
       "      <td>15</td>\n",
       "    </tr>\n",
       "    <tr>\n",
       "      <th>220</th>\n",
       "      <th>2.0</th>\n",
       "      <td>1</td>\n",
       "    </tr>\n",
       "    <tr>\n",
       "      <th>3</th>\n",
       "      <th>4.0</th>\n",
       "      <td>45</td>\n",
       "    </tr>\n",
       "    <tr>\n",
       "      <th>59</th>\n",
       "      <th>4.0</th>\n",
       "      <td>57</td>\n",
       "    </tr>\n",
       "    <tr>\n",
       "      <th>86</th>\n",
       "      <th>6.0</th>\n",
       "      <td>1</td>\n",
       "    </tr>\n",
       "    <tr>\n",
       "      <th>nan</th>\n",
       "      <th>6.0</th>\n",
       "      <td>1</td>\n",
       "    </tr>\n",
       "  </tbody>\n",
       "</table>\n",
       "</div>"
      ],
      "text/plain": [
       "                   count\n",
       "unique_tag part_x       \n",
       "           2.0         3\n",
       "           7.0         5\n",
       "165        7.0        15\n",
       "220        2.0         1\n",
       "3          4.0        45\n",
       "59         4.0        57\n",
       "86         6.0         1\n",
       "nan        6.0         1"
      ]
     },
     "execution_count": 67,
     "metadata": {},
     "output_type": "execute_result"
    }
   ],
   "source": [
    "missing_lectures_id.columns = ['count']\n",
    "missing_lectures_id"
   ]
  },
  {
   "cell_type": "code",
   "execution_count": 68,
   "metadata": {},
   "outputs": [
    {
     "data": {
      "text/plain": [
       "count    128\n",
       "dtype: int64"
      ]
     },
     "execution_count": 68,
     "metadata": {},
     "output_type": "execute_result"
    }
   ],
   "source": [
    "missing_lectures_id.sum()"
   ]
  },
  {
   "cell_type": "code",
   "execution_count": 69,
   "metadata": {},
   "outputs": [
    {
     "data": {
      "text/html": [
       "<div>\n",
       "<style scoped>\n",
       "    .dataframe tbody tr th:only-of-type {\n",
       "        vertical-align: middle;\n",
       "    }\n",
       "\n",
       "    .dataframe tbody tr th {\n",
       "        vertical-align: top;\n",
       "    }\n",
       "\n",
       "    .dataframe thead th {\n",
       "        text-align: right;\n",
       "    }\n",
       "</style>\n",
       "<table border=\"1\" class=\"dataframe\">\n",
       "  <thead>\n",
       "    <tr style=\"text-align: right;\">\n",
       "      <th></th>\n",
       "      <th>question_id</th>\n",
       "      <th>bundle_id</th>\n",
       "      <th>correct_answer</th>\n",
       "      <th>part</th>\n",
       "      <th>unique_key_questions</th>\n",
       "    </tr>\n",
       "  </thead>\n",
       "  <tbody>\n",
       "    <tr>\n",
       "      <th>0</th>\n",
       "      <td>0</td>\n",
       "      <td>0</td>\n",
       "      <td>0</td>\n",
       "      <td>1</td>\n",
       "      <td>151</td>\n",
       "    </tr>\n",
       "    <tr>\n",
       "      <th>1</th>\n",
       "      <td>1</td>\n",
       "      <td>1</td>\n",
       "      <td>1</td>\n",
       "      <td>1</td>\n",
       "      <td>136</td>\n",
       "    </tr>\n",
       "    <tr>\n",
       "      <th>2</th>\n",
       "      <td>2</td>\n",
       "      <td>2</td>\n",
       "      <td>0</td>\n",
       "      <td>1</td>\n",
       "      <td>1101</td>\n",
       "    </tr>\n",
       "    <tr>\n",
       "      <th>3</th>\n",
       "      <td>3</td>\n",
       "      <td>3</td>\n",
       "      <td>0</td>\n",
       "      <td>1</td>\n",
       "      <td>1149</td>\n",
       "    </tr>\n",
       "    <tr>\n",
       "      <th>4</th>\n",
       "      <td>4</td>\n",
       "      <td>4</td>\n",
       "      <td>3</td>\n",
       "      <td>1</td>\n",
       "      <td>15</td>\n",
       "    </tr>\n",
       "  </tbody>\n",
       "</table>\n",
       "</div>"
      ],
      "text/plain": [
       "   question_id  bundle_id  correct_answer  part unique_key_questions\n",
       "0            0          0               0     1                  151\n",
       "1            1          1               1     1                  136\n",
       "2            2          2               0     1                 1101\n",
       "3            3          3               0     1                 1149\n",
       "4            4          4               3     1                   15"
      ]
     },
     "execution_count": 69,
     "metadata": {},
     "output_type": "execute_result"
    }
   ],
   "source": [
    "df_questions_2 = df_questions.copy()\n",
    "df_questions_2 = df_questions[['question_id', 'bundle_id', 'correct_answer', 'part', 'unique_key_questions']]\n",
    "df_questions_2.head()"
   ]
  },
  {
   "cell_type": "code",
   "execution_count": 70,
   "metadata": {},
   "outputs": [],
   "source": [
    "df_merge_2 = df_lectures.merge(df_questions_2, left_on=df_lectures['unique_key_lectures'], right_on=df_questions_2['unique_key_questions'], how='outer')\n",
    "df_merge_2 = df_merge_2.drop(columns='part_y')"
   ]
  },
  {
   "cell_type": "code",
   "execution_count": 71,
   "metadata": {},
   "outputs": [],
   "source": [
    "missing_lectures_id_2 = df_merge_2[df_merge_2['unique_key_questions'].isna()].groupby(['tag','part_x'])[['tag']].count()"
   ]
  },
  {
   "cell_type": "code",
   "execution_count": 72,
   "metadata": {
    "scrolled": true
   },
   "outputs": [
    {
     "data": {
      "text/html": [
       "<div>\n",
       "<style scoped>\n",
       "    .dataframe tbody tr th:only-of-type {\n",
       "        vertical-align: middle;\n",
       "    }\n",
       "\n",
       "    .dataframe tbody tr th {\n",
       "        vertical-align: top;\n",
       "    }\n",
       "\n",
       "    .dataframe thead th {\n",
       "        text-align: right;\n",
       "    }\n",
       "</style>\n",
       "<table border=\"1\" class=\"dataframe\">\n",
       "  <thead>\n",
       "    <tr style=\"text-align: right;\">\n",
       "      <th></th>\n",
       "      <th></th>\n",
       "      <th>count</th>\n",
       "    </tr>\n",
       "    <tr>\n",
       "      <th>tag</th>\n",
       "      <th>part_x</th>\n",
       "      <th></th>\n",
       "    </tr>\n",
       "  </thead>\n",
       "  <tbody>\n",
       "    <tr>\n",
       "      <th>0.0</th>\n",
       "      <th>7.0</th>\n",
       "      <td>2</td>\n",
       "    </tr>\n",
       "    <tr>\n",
       "      <th>6.0</th>\n",
       "      <th>2.0</th>\n",
       "      <td>2</td>\n",
       "    </tr>\n",
       "    <tr>\n",
       "      <th>16.0</th>\n",
       "      <th>7.0</th>\n",
       "      <td>2</td>\n",
       "    </tr>\n",
       "    <tr>\n",
       "      <th>37.0</th>\n",
       "      <th>7.0</th>\n",
       "      <td>2</td>\n",
       "    </tr>\n",
       "    <tr>\n",
       "      <th>42.0</th>\n",
       "      <th>7.0</th>\n",
       "      <td>3</td>\n",
       "    </tr>\n",
       "    <tr>\n",
       "      <th>50.0</th>\n",
       "      <th>7.0</th>\n",
       "      <td>2</td>\n",
       "    </tr>\n",
       "    <tr>\n",
       "      <th>62.0</th>\n",
       "      <th>2.0</th>\n",
       "      <td>6</td>\n",
       "    </tr>\n",
       "    <tr>\n",
       "      <th>69.0</th>\n",
       "      <th>2.0</th>\n",
       "      <td>3</td>\n",
       "    </tr>\n",
       "    <tr>\n",
       "      <th>74.0</th>\n",
       "      <th>4.0</th>\n",
       "      <td>4</td>\n",
       "    </tr>\n",
       "    <tr>\n",
       "      <th>82.0</th>\n",
       "      <th>4.0</th>\n",
       "      <td>2</td>\n",
       "    </tr>\n",
       "    <tr>\n",
       "      <th>98.0</th>\n",
       "      <th>7.0</th>\n",
       "      <td>3</td>\n",
       "    </tr>\n",
       "    <tr>\n",
       "      <th>106.0</th>\n",
       "      <th>4.0</th>\n",
       "      <td>2</td>\n",
       "    </tr>\n",
       "    <tr>\n",
       "      <th>113.0</th>\n",
       "      <th>4.0</th>\n",
       "      <td>3</td>\n",
       "    </tr>\n",
       "    <tr>\n",
       "      <th>119.0</th>\n",
       "      <th>2.0</th>\n",
       "      <td>5</td>\n",
       "    </tr>\n",
       "    <tr>\n",
       "      <th>129.0</th>\n",
       "      <th>2.0</th>\n",
       "      <td>3</td>\n",
       "    </tr>\n",
       "    <tr>\n",
       "      <th>136.0</th>\n",
       "      <th>4.0</th>\n",
       "      <td>4</td>\n",
       "    </tr>\n",
       "    <tr>\n",
       "      <th>139.0</th>\n",
       "      <th>7.0</th>\n",
       "      <td>1</td>\n",
       "    </tr>\n",
       "    <tr>\n",
       "      <th>142.0</th>\n",
       "      <th>2.0</th>\n",
       "      <td>2</td>\n",
       "    </tr>\n",
       "    <tr>\n",
       "      <th>143.0</th>\n",
       "      <th>2.0</th>\n",
       "      <td>1</td>\n",
       "    </tr>\n",
       "    <tr>\n",
       "      <th>157.0</th>\n",
       "      <th>4.0</th>\n",
       "      <td>1</td>\n",
       "    </tr>\n",
       "    <tr>\n",
       "      <th>161.0</th>\n",
       "      <th>4.0</th>\n",
       "      <td>3</td>\n",
       "    </tr>\n",
       "    <tr>\n",
       "      <th>163.0</th>\n",
       "      <th>2.0</th>\n",
       "      <td>3</td>\n",
       "    </tr>\n",
       "    <tr>\n",
       "      <th>184.0</th>\n",
       "      <th>7.0</th>\n",
       "      <td>2</td>\n",
       "    </tr>\n",
       "  </tbody>\n",
       "</table>\n",
       "</div>"
      ],
      "text/plain": [
       "              count\n",
       "tag   part_x       \n",
       "0.0   7.0         2\n",
       "6.0   2.0         2\n",
       "16.0  7.0         2\n",
       "37.0  7.0         2\n",
       "42.0  7.0         3\n",
       "50.0  7.0         2\n",
       "62.0  2.0         6\n",
       "69.0  2.0         3\n",
       "74.0  4.0         4\n",
       "82.0  4.0         2\n",
       "98.0  7.0         3\n",
       "106.0 4.0         2\n",
       "113.0 4.0         3\n",
       "119.0 2.0         5\n",
       "129.0 2.0         3\n",
       "136.0 4.0         4\n",
       "139.0 7.0         1\n",
       "142.0 2.0         2\n",
       "143.0 2.0         1\n",
       "157.0 4.0         1\n",
       "161.0 4.0         3\n",
       "163.0 2.0         3\n",
       "184.0 7.0         2"
      ]
     },
     "execution_count": 72,
     "metadata": {},
     "output_type": "execute_result"
    }
   ],
   "source": [
    "missing_lectures_id_2.columns = ['count']\n",
    "missing_lectures_id_2"
   ]
  },
  {
   "cell_type": "code",
   "execution_count": 73,
   "metadata": {},
   "outputs": [
    {
     "data": {
      "text/plain": [
       "count    61\n",
       "dtype: int64"
      ]
     },
     "execution_count": 73,
     "metadata": {},
     "output_type": "execute_result"
    }
   ],
   "source": [
    "missing_lectures_id_2.sum()"
   ]
  },
  {
   "cell_type": "markdown",
   "metadata": {},
   "source": [
    "Some tags are in the questions dataset but not in the lectures -> to be investigated : \n",
    "\n",
    "| TOEIC parts            | Tags                                                                             |\n",
    "|------------------------|:--------------------------------------------------------------------------------:|\n",
    "|1                       | [10, 110, 131]                                                                   |\n",
    "|2                       | [32, 41, 88, 100, 107, 119, 186]                                                 |\n",
    "|7                       | [11, 21, 22, 35, 46, 56, 63, 77, 84, 87, 117, 121, 122, 135, 146, 154, 160, 185] |\n",
    "|1, 2, 3, 4              | [29, 38, 81, 92, 102]                                                            |\n",
    "|1, 2, 3, 4, 6, 7        | [162]                                                                            |"
   ]
  },
  {
   "cell_type": "markdown",
   "metadata": {},
   "source": [
    "## 4. Cross Checking with Train"
   ]
  },
  {
   "cell_type": "code",
   "execution_count": 74,
   "metadata": {},
   "outputs": [],
   "source": [
    "df_train_v0 = pd.read_csv('../data/train_1M.csv')"
   ]
  },
  {
   "cell_type": "code",
   "execution_count": 75,
   "metadata": {},
   "outputs": [],
   "source": [
    "df_train_v0 = df_train_v0.drop(columns='Unnamed: 0')"
   ]
  },
  {
   "cell_type": "code",
   "execution_count": 76,
   "metadata": {
    "scrolled": true
   },
   "outputs": [
    {
     "name": "stdout",
     "output_type": "stream",
     "text": [
      "<class 'pandas.core.frame.DataFrame'>\n",
      "RangeIndex: 987269 entries, 0 to 987268\n",
      "Data columns (total 10 columns):\n",
      "row_id                            987269 non-null int64\n",
      "timestamp                         987269 non-null int64\n",
      "user_id                           987269 non-null int64\n",
      "content_id                        987269 non-null int64\n",
      "content_type_id                   987269 non-null int64\n",
      "task_container_id                 987269 non-null int64\n",
      "user_answer                       987269 non-null int64\n",
      "answered_correctly                987269 non-null int64\n",
      "prior_question_elapsed_time       963913 non-null float64\n",
      "prior_question_had_explanation    983348 non-null object\n",
      "dtypes: float64(1), int64(8), object(1)\n",
      "memory usage: 75.3+ MB\n"
     ]
    }
   ],
   "source": [
    "df_train_v0.info()"
   ]
  },
  {
   "cell_type": "code",
   "execution_count": 77,
   "metadata": {},
   "outputs": [],
   "source": [
    "df_train = df_train_v0.merge(df_questions, left_on=df_train_v0['content_id'], right_on=df_questions['question_id'], how='left').drop(columns=['tags_photographs','tags_question_response','tags_conversations','tags_talks','tags_completion','tags_passages','key_0'])"
   ]
  },
  {
   "cell_type": "code",
   "execution_count": 78,
   "metadata": {},
   "outputs": [],
   "source": [
    "df_train_merged = df_train.merge(df_lectures, left_on=df_train['content_id'], right_on=df_lectures['lecture_id'], how='left').drop(columns='key_0')"
   ]
  },
  {
   "cell_type": "code",
   "execution_count": 79,
   "metadata": {},
   "outputs": [],
   "source": [
    "def set_tag(tag_q, tag_l, content_type_id):\n",
    "    if content_type_id == 0:\n",
    "        return tag_q\n",
    "    elif content_type_id == 1:\n",
    "        return tag_l"
   ]
  },
  {
   "cell_type": "code",
   "execution_count": 80,
   "metadata": {},
   "outputs": [],
   "source": [
    "df_train_merged['tag_q_l'] = [set_tag(tag_q, tag_l, content_type_id) for tag_q, tag_l, content_type_id in zip(df_train_merged['unique_tag'], df_train_merged['tag'], df_train_merged['content_type_id'])]"
   ]
  },
  {
   "cell_type": "code",
   "execution_count": 81,
   "metadata": {},
   "outputs": [],
   "source": [
    "df_train_merged = df_train_merged.drop(columns=['question_id','bundle_id','correct_answer','tags','section','topics','tags_split','unique_tag','unique_key_questions','lecture_id','tag','type_of','unique_key_lectures'])"
   ]
  },
  {
   "cell_type": "code",
   "execution_count": 82,
   "metadata": {},
   "outputs": [],
   "source": [
    "def set_part(part_q, part_l, content_type_id):\n",
    "    if content_type_id == 0:\n",
    "        return part_q\n",
    "    elif content_type_id == 1:\n",
    "        return part_l"
   ]
  },
  {
   "cell_type": "code",
   "execution_count": 83,
   "metadata": {},
   "outputs": [],
   "source": [
    "df_train_merged['part_q_l'] = [set_part(part_q, part_l, content_type_id) for part_q, part_l, content_type_id in zip(df_train_merged['part_x'], df_train_merged['part_y'], df_train_merged['content_type_id'])]"
   ]
  },
  {
   "cell_type": "code",
   "execution_count": 84,
   "metadata": {},
   "outputs": [],
   "source": [
    "df_train_final = df_train_merged.copy().drop(columns=['part_x', 'part_y'])"
   ]
  },
  {
   "cell_type": "code",
   "execution_count": 85,
   "metadata": {},
   "outputs": [],
   "source": [
    "def set_section(part):\n",
    "    if part <= 4:\n",
    "        return 0\n",
    "    elif part <=7:\n",
    "        return 1"
   ]
  },
  {
   "cell_type": "code",
   "execution_count": 86,
   "metadata": {},
   "outputs": [],
   "source": [
    "df_train_final['section'] = df_train_merged['part_q_l'].apply(set_section)"
   ]
  },
  {
   "cell_type": "code",
   "execution_count": 87,
   "metadata": {
    "scrolled": false
   },
   "outputs": [
    {
     "name": "stdout",
     "output_type": "stream",
     "text": [
      "<class 'pandas.core.frame.DataFrame'>\n",
      "Int64Index: 987269 entries, 0 to 987268\n",
      "Data columns (total 13 columns):\n",
      "row_id                            987269 non-null int64\n",
      "timestamp                         987269 non-null int64\n",
      "user_id                           987269 non-null int64\n",
      "content_id                        987269 non-null int64\n",
      "content_type_id                   987269 non-null int64\n",
      "task_container_id                 987269 non-null int64\n",
      "user_answer                       987269 non-null int64\n",
      "answered_correctly                987269 non-null int64\n",
      "prior_question_elapsed_time       963913 non-null float64\n",
      "prior_question_had_explanation    983348 non-null object\n",
      "tag_q_l                           987269 non-null object\n",
      "part_q_l                          987269 non-null float64\n",
      "section                           987269 non-null int64\n",
      "dtypes: float64(2), int64(9), object(2)\n",
      "memory usage: 105.5+ MB\n"
     ]
    }
   ],
   "source": [
    "df_train_final.info()"
   ]
  },
  {
   "cell_type": "code",
   "execution_count": 88,
   "metadata": {},
   "outputs": [
    {
     "name": "stdout",
     "output_type": "stream",
     "text": [
      "'' to be checked : 220 values\n"
     ]
    }
   ],
   "source": [
    "tag_q_l_unique, tag_q_l_counts = np.unique(df_train_final['tag_q_l'].astype(str), return_counts=True)\n",
    "\n",
    "dict_tags = dict(zip(tag_q_l_unique, tag_q_l_counts))\n",
    "\n",
    "print(\"'' to be checked :\", dict_tags[''], 'values')"
   ]
  },
  {
   "cell_type": "code",
   "execution_count": 89,
   "metadata": {},
   "outputs": [
    {
     "data": {
      "text/plain": [
       "content_id\n",
       "741      110\n",
       "1159       4\n",
       "1355      86\n",
       "7655       8\n",
       "11571      3\n",
       "11572      3\n",
       "11573      3\n",
       "11574      3\n",
       "Name: content_id, dtype: int64"
      ]
     },
     "execution_count": 89,
     "metadata": {},
     "output_type": "execute_result"
    }
   ],
   "source": [
    "df_train_final[df_train_final['tag_q_l']==''].groupby('content_id')['content_id'].count()"
   ]
  },
  {
   "cell_type": "code",
   "execution_count": 90,
   "metadata": {},
   "outputs": [
    {
     "data": {
      "image/png": "[encoded data removed]",
      "text/plain": [
       "<Figure size 432x288 with 1 Axes>"
      ]
     },
     "metadata": {
      "needs_background": "light"
     },
     "output_type": "display_data"
    }
   ],
   "source": [
    "part_q_l_unique, part_q_l_counts = np.unique(df_train_final['part_q_l'].astype(str), return_counts=True)\n",
    "\n",
    "dict_parts = dict(zip(part_q_l_unique, part_q_l_counts))\n",
    "\n",
    "plt.bar(range(len(dict_parts)), list(dict_parts.values()), align='center')\n",
    "plt.xticks(range(len(dict_parts)), list(dict_parts.keys()))\n",
    "plt.show()"
   ]
  },
  {
   "cell_type": "code",
   "execution_count": 91,
   "metadata": {
    "scrolled": false
   },
   "outputs": [
    {
     "data": {
      "image/png": "[encoded data removed]",
      "text/plain": [
       "<Figure size 432x288 with 1 Axes>"
      ]
     },
     "metadata": {
      "needs_background": "light"
     },
     "output_type": "display_data"
    }
   ],
   "source": [
    "section_unique, section_counts = np.unique(df_train_final['section'].astype(str), return_counts=True)\n",
    "\n",
    "dict_sections = dict(zip(section_unique, section_counts))\n",
    "\n",
    "plt.bar(range(len(dict_sections)), list(dict_sections.values()), align='center')\n",
    "plt.xticks(range(len(dict_sections)), list(dict_sections.keys()))\n",
    "plt.show()"
   ]
  },
  {
   "cell_type": "code",
   "execution_count": 92,
   "metadata": {},
   "outputs": [],
   "source": [
    "def map_missing(tag):\n",
    "    if tag == '':\n",
    "        return tag.map({741: '143', 1159: '', 1355: '143', 7655: '98', 11571: '37', 11573: '37', 11574: '37'})\n",
    "    else:\n",
    "        return tag"
   ]
  },
  {
   "cell_type": "code",
   "execution_count": 93,
   "metadata": {},
   "outputs": [],
   "source": [
    "df_train_final['tag_q_l'] = df_train_final['content_id'].apply(map_missing)"
   ]
  },
  {
   "cell_type": "code",
   "execution_count": 94,
   "metadata": {
    "scrolled": true
   },
   "outputs": [
    {
     "name": "stderr",
     "output_type": "stream",
     "text": [
      "c:\\users\\imen_\\.venvs\\lewagon\\lib\\site-packages\\pandas\\core\\ops.py:1649: FutureWarning: elementwise comparison failed; returning scalar instead, but in the future will perform elementwise comparison\n",
      "  result = method(y)\n"
     ]
    },
    {
     "data": {
      "text/plain": [
       "Series([], Name: content_id, dtype: int64)"
      ]
     },
     "execution_count": 94,
     "metadata": {},
     "output_type": "execute_result"
    }
   ],
   "source": [
    "df_train_final[df_train_final['tag_q_l']==\"\"].groupby('content_id')['content_id'].count()"
   ]
  },
  {
   "cell_type": "code",
   "execution_count": 95,
   "metadata": {},
   "outputs": [],
   "source": [
    "df_train_final['cumcount_already_seen_tag']=df_train_final.groupby(['user_id','tag_q_l']).cumcount()\n",
    "df_train_final['cumcount_already_seen_tag_q_l']=df_train_final.groupby(['user_id','tag_q_l','content_type_id']).cumcount()\n",
    "df_train_final['already_seen_tag']=df_train_final['cumcount_already_seen_tag'].apply(lambda x:1 if x>=1 else 0)"
   ]
  },
  {
   "cell_type": "code",
   "execution_count": 96,
   "metadata": {},
   "outputs": [],
   "source": [
    "def already_seen_lectures(content_type_id, cumcount_already_seen_tag_lectures):\n",
    "    if content_type_id == 0:\n",
    "        if cumcount_already_seen_tag_lectures >=1:\n",
    "            return 1\n",
    "        else:\n",
    "            return 0\n",
    "    else:\n",
    "        return 0"
   ]
  },
  {
   "cell_type": "code",
   "execution_count": 97,
   "metadata": {},
   "outputs": [],
   "source": [
    "df_train_final['already_seen_tag_lecture']=[already_seen_lectures(content_type_id, cumcount_already_seen_tag_lectures) for content_type_id, cumcount_already_seen_tag_lectures in zip(df_train_final['content_type_id'], df_train_final['cumcount_already_seen_tag_q_l'])]"
   ]
  },
  {
   "cell_type": "code",
   "execution_count": 125,
   "metadata": {},
   "outputs": [],
   "source": [
    "df_train_final['cumcount_already_seen_part']=df_train_final.groupby(['user_id','part_q_l','content_type_id']).cumcount()\n",
    "df_train_final['already_seen_part']=df_train_final['cumcount_already_seen_part'].apply(lambda x:1 if x>=1 else 0)"
   ]
  },
  {
   "cell_type": "code",
   "execution_count": 127,
   "metadata": {},
   "outputs": [
    {
     "data": {
      "text/plain": [
       "<AxesSubplot:xlabel='part_q_l'>"
      ]
     },
     "execution_count": 127,
     "metadata": {},
     "output_type": "execute_result"
    },
    {
     "data": {
      "image/png": "[encoded data removed]",
      "text/plain": [
       "<Figure size 432x288 with 1 Axes>"
      ]
     },
     "metadata": {
      "needs_background": "light"
     },
     "output_type": "display_data"
    }
   ],
   "source": [
    "df_train_final.query('content_type_id==0').groupby('part_q_l').agg({'answered_correctly':'mean'}).plot()"
   ]
  },
  {
   "cell_type": "code",
   "execution_count": 98,
   "metadata": {},
   "outputs": [
    {
     "data": {
      "text/plain": [
       "<AxesSubplot:xlabel='already_seen_tag'>"
      ]
     },
     "execution_count": 98,
     "metadata": {},
     "output_type": "execute_result"
    },
    {
     "data": {
      "image/png": "[encoded data removed]",
      "text/plain": [
       "<Figure size 432x288 with 1 Axes>"
      ]
     },
     "metadata": {
      "needs_background": "light"
     },
     "output_type": "display_data"
    }
   ],
   "source": [
    "df_train_final.query('content_type_id==0').groupby('already_seen_tag').agg({'answered_correctly':'mean'}).plot()"
   ]
  },
  {
   "cell_type": "code",
   "execution_count": 99,
   "metadata": {},
   "outputs": [
    {
     "data": {
      "text/plain": [
       "<AxesSubplot:xlabel='already_seen_tag_lecture'>"
      ]
     },
     "execution_count": 99,
     "metadata": {},
     "output_type": "execute_result"
    },
    {
     "data": {
      "image/png": "[encoded data removed]",
      "text/plain": [
       "<Figure size 432x288 with 1 Axes>"
      ]
     },
     "metadata": {
      "needs_background": "light"
     },
     "output_type": "display_data"
    }
   ],
   "source": [
    "df_train_final.query('content_type_id==0').groupby('already_seen_tag_lecture').agg({'answered_correctly':'mean'}).plot()"
   ]
  },
  {
   "cell_type": "code",
   "execution_count": 100,
   "metadata": {},
   "outputs": [
    {
     "data": {
      "text/plain": [
       "<AxesSubplot:xlabel='section'>"
      ]
     },
     "execution_count": 100,
     "metadata": {},
     "output_type": "execute_result"
    },
    {
     "data": {
      "image/png": "[encoded data removed]",
      "text/plain": [
       "<Figure size 432x288 with 1 Axes>"
      ]
     },
     "metadata": {
      "needs_background": "light"
     },
     "output_type": "display_data"
    }
   ],
   "source": [
    "df_train_final.query('content_type_id==0').groupby('section').agg({'answered_correctly':'mean'}).plot()"
   ]
  },
  {
   "cell_type": "code",
   "execution_count": 114,
   "metadata": {},
   "outputs": [
    {
     "name": "stderr",
     "output_type": "stream",
     "text": [
      "c:\\users\\imen_\\.venvs\\lewagon\\lib\\site-packages\\pandas\\plotting\\_core.py:396: UserWarning: FixedFormatter should only be used together with FixedLocator\n",
      "  ax.set_xticklabels(xticklabels)\n"
     ]
    },
    {
     "data": {
      "text/plain": [
       "<AxesSubplot:xlabel='part_q_l,already_seen_tag'>"
      ]
     },
     "execution_count": 114,
     "metadata": {},
     "output_type": "execute_result"
    },
    {
     "data": {
      "image/png": "[encoded data removed]",
      "text/plain": [
       "<Figure size 432x288 with 1 Axes>"
      ]
     },
     "metadata": {
      "needs_background": "light"
     },
     "output_type": "display_data"
    }
   ],
   "source": [
    "df_train_final.query('content_type_id==0').groupby(['part_q_l','already_seen_tag']).agg({'answered_correctly':'mean'}).plot()"
   ]
  },
  {
   "cell_type": "code",
   "execution_count": 115,
   "metadata": {},
   "outputs": [
    {
     "data": {
      "text/plain": [
       "Index(['row_id', 'timestamp', 'user_id', 'content_id', 'content_type_id',\n",
       "       'task_container_id', 'user_answer', 'answered_correctly',\n",
       "       'prior_question_elapsed_time', 'prior_question_had_explanation',\n",
       "       'tag_q_l', 'part_q_l', 'section', 'cumcount_already_seen_tag',\n",
       "       'cumcount_already_seen_tag_q_l', 'already_seen_tag',\n",
       "       'already_seen_tag_lecture'],\n",
       "      dtype='object')"
      ]
     },
     "execution_count": 115,
     "metadata": {},
     "output_type": "execute_result"
    }
   ],
   "source": [
    "df_train_final.columns"
   ]
  },
  {
   "cell_type": "code",
   "execution_count": 129,
   "metadata": {},
   "outputs": [
    {
     "data": {
      "text/plain": [
       "row_id                            5.106176e+07\n",
       "timestamp                         7.555878e+09\n",
       "user_id                           1.086222e+09\n",
       "content_id                        5.222614e+03\n",
       "content_type_id                   1.968562e-02\n",
       "task_container_id                 7.609033e+02\n",
       "user_answer                       1.376106e+00\n",
       "answered_correctly                6.240812e-01\n",
       "prior_question_elapsed_time       2.532071e+04\n",
       "prior_question_had_explanation    8.850122e-01\n",
       "tag_q_l                           5.222614e+03\n",
       "part_q_l                          4.094436e+00\n",
       "section                           5.739986e-01\n",
       "cumcount_already_seen_tag         1.537129e-01\n",
       "cumcount_already_seen_tag_q_l     1.525137e-01\n",
       "already_seen_tag                  1.165741e-01\n",
       "already_seen_tag_lecture          1.155754e-01\n",
       "already_seen_part                 9.777193e-01\n",
       "cumcount_already_seen_part        2.950921e+02\n",
       "dtype: float64"
      ]
     },
     "execution_count": 129,
     "metadata": {},
     "output_type": "execute_result"
    }
   ],
   "source": [
    "df_train_final.mean()"
   ]
  },
  {
   "cell_type": "code",
   "execution_count": 130,
   "metadata": {},
   "outputs": [
    {
     "name": "stdout",
     "output_type": "stream",
     "text": [
      "<class 'pandas.core.frame.DataFrame'>\n",
      "Int64Index: 987269 entries, 0 to 987268\n",
      "Data columns (total 19 columns):\n",
      "row_id                            987269 non-null int64\n",
      "timestamp                         987269 non-null int64\n",
      "user_id                           987269 non-null int64\n",
      "content_id                        987269 non-null int64\n",
      "content_type_id                   987269 non-null int64\n",
      "task_container_id                 987269 non-null int64\n",
      "user_answer                       987269 non-null int64\n",
      "answered_correctly                987269 non-null int64\n",
      "prior_question_elapsed_time       963913 non-null float64\n",
      "prior_question_had_explanation    983348 non-null object\n",
      "tag_q_l                           987269 non-null int64\n",
      "part_q_l                          987269 non-null float64\n",
      "section                           987269 non-null int64\n",
      "cumcount_already_seen_tag         987269 non-null int64\n",
      "cumcount_already_seen_tag_q_l     987269 non-null int64\n",
      "already_seen_tag                  987269 non-null int64\n",
      "already_seen_tag_lecture          987269 non-null int64\n",
      "already_seen_part                 987269 non-null int64\n",
      "cumcount_already_seen_part        987269 non-null int64\n",
      "dtypes: float64(2), int64(16), object(1)\n",
      "memory usage: 150.6+ MB\n"
     ]
    }
   ],
   "source": [
    "df_train_final.info()"
   ]
  },
  {
   "cell_type": "code",
   "execution_count": 141,
   "metadata": {},
   "outputs": [],
   "source": [
    "df_train_with_tags = df_train_final[['row_id','user_id','tag_q_l','part_q_l','section','cumcount_already_seen_tag_q_l','already_seen_tag_lecture','already_seen_part']]"
   ]
  },
  {
   "cell_type": "code",
   "execution_count": 145,
   "metadata": {},
   "outputs": [
    {
     "name": "stdout",
     "output_type": "stream",
     "text": [
      "<class 'pandas.core.frame.DataFrame'>\n",
      "Int64Index: 987269 entries, 0 to 987268\n",
      "Data columns (total 8 columns):\n",
      "row_id                           987269 non-null int64\n",
      "user_id                          987269 non-null int64\n",
      "tag_q_l                          987269 non-null int64\n",
      "part_q_l                         987269 non-null float64\n",
      "section                          987269 non-null int64\n",
      "cumcount_already_seen_tag_q_l    987269 non-null int64\n",
      "already_seen_tag_lecture         987269 non-null int64\n",
      "already_seen_part                987269 non-null int64\n",
      "dtypes: float64(1), int64(7)\n",
      "memory usage: 67.8 MB\n"
     ]
    }
   ],
   "source": [
    "df_train_with_tags.info()"
   ]
  },
  {
   "cell_type": "code",
   "execution_count": 146,
   "metadata": {},
   "outputs": [],
   "source": [
    "df_train_with_tags.to_csv('../data/df_train_with_tags.csv', index=False)"
   ]
  }
 ],
 "metadata": {
  "kernelspec": {
   "display_name": "Python 3",
   "language": "python",
   "name": "python3"
  },
  "language_info": {
   "codemirror_mode": {
    "name": "ipython",
    "version": 3
   },
   "file_extension": ".py",
   "mimetype": "text/x-python",
   "name": "python",
   "nbconvert_exporter": "python",
   "pygments_lexer": "ipython3",
   "version": "3.7.7"
  }
 },
 "nbformat": 4,
 "nbformat_minor": 4
}
