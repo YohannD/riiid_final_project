{
 "cells": [
  {
   "cell_type": "markdown",
   "metadata": {},
   "source": [
    "# Tags exploration"
   ]
  },
  {
   "cell_type": "markdown",
   "metadata": {},
   "source": [
    "## 1. Questions"
   ]
  },
  {
   "cell_type": "code",
   "execution_count": 566,
   "metadata": {},
   "outputs": [],
   "source": [
    "import pandas as pd\n",
    "import matplotlib.pyplot as plt\n",
    "import numpy as np\n",
    "import seaborn as sns"
   ]
  },
  {
   "cell_type": "code",
   "execution_count": 567,
   "metadata": {},
   "outputs": [],
   "source": [
    "df_questions = pd.read_csv('questions.csv')"
   ]
  },
  {
   "cell_type": "code",
   "execution_count": 568,
   "metadata": {},
   "outputs": [
    {
     "data": {
      "text/html": [
       "<div>\n",
       "<style scoped>\n",
       "    .dataframe tbody tr th:only-of-type {\n",
       "        vertical-align: middle;\n",
       "    }\n",
       "\n",
       "    .dataframe tbody tr th {\n",
       "        vertical-align: top;\n",
       "    }\n",
       "\n",
       "    .dataframe thead th {\n",
       "        text-align: right;\n",
       "    }\n",
       "</style>\n",
       "<table border=\"1\" class=\"dataframe\">\n",
       "  <thead>\n",
       "    <tr style=\"text-align: right;\">\n",
       "      <th></th>\n",
       "      <th>question_id</th>\n",
       "      <th>bundle_id</th>\n",
       "      <th>correct_answer</th>\n",
       "      <th>part</th>\n",
       "      <th>tags</th>\n",
       "    </tr>\n",
       "  </thead>\n",
       "  <tbody>\n",
       "    <tr>\n",
       "      <th>0</th>\n",
       "      <td>0</td>\n",
       "      <td>0</td>\n",
       "      <td>0</td>\n",
       "      <td>1</td>\n",
       "      <td>51 131 162 38</td>\n",
       "    </tr>\n",
       "    <tr>\n",
       "      <th>1</th>\n",
       "      <td>1</td>\n",
       "      <td>1</td>\n",
       "      <td>1</td>\n",
       "      <td>1</td>\n",
       "      <td>131 36 81</td>\n",
       "    </tr>\n",
       "    <tr>\n",
       "      <th>2</th>\n",
       "      <td>2</td>\n",
       "      <td>2</td>\n",
       "      <td>0</td>\n",
       "      <td>1</td>\n",
       "      <td>131 101 162 92</td>\n",
       "    </tr>\n",
       "    <tr>\n",
       "      <th>3</th>\n",
       "      <td>3</td>\n",
       "      <td>3</td>\n",
       "      <td>0</td>\n",
       "      <td>1</td>\n",
       "      <td>131 149 162 29</td>\n",
       "    </tr>\n",
       "    <tr>\n",
       "      <th>4</th>\n",
       "      <td>4</td>\n",
       "      <td>4</td>\n",
       "      <td>3</td>\n",
       "      <td>1</td>\n",
       "      <td>131 5 162 38</td>\n",
       "    </tr>\n",
       "  </tbody>\n",
       "</table>\n",
       "</div>"
      ],
      "text/plain": [
       "   question_id  bundle_id  correct_answer  part            tags\n",
       "0            0          0               0     1   51 131 162 38\n",
       "1            1          1               1     1       131 36 81\n",
       "2            2          2               0     1  131 101 162 92\n",
       "3            3          3               0     1  131 149 162 29\n",
       "4            4          4               3     1    131 5 162 38"
      ]
     },
     "execution_count": 568,
     "metadata": {},
     "output_type": "execute_result"
    }
   ],
   "source": [
    "df_questions.head()"
   ]
  },
  {
   "cell_type": "code",
   "execution_count": 569,
   "metadata": {},
   "outputs": [],
   "source": [
    "def set_section(part):\n",
    "    if part <= 4:\n",
    "        section = 'Listening'\n",
    "    else:\n",
    "        section = 'Reading'\n",
    "    return section"
   ]
  },
  {
   "cell_type": "code",
   "execution_count": 570,
   "metadata": {},
   "outputs": [],
   "source": [
    "df_questions['section'] = df_questions['part'].apply(set_section)"
   ]
  },
  {
   "cell_type": "code",
   "execution_count": 571,
   "metadata": {},
   "outputs": [],
   "source": [
    "topics_mapping = {1: 'Photographs', 2: 'Question/Response', 3: 'Conversations', 4: 'Talks', 5: 'Incomplete Sentences', 6: 'Text Completion', 7: 'Passages'}"
   ]
  },
  {
   "cell_type": "code",
   "execution_count": 572,
   "metadata": {},
   "outputs": [],
   "source": [
    "df_questions['topics'] = df_questions['part'].map(topics_mapping)"
   ]
  },
  {
   "cell_type": "code",
   "execution_count": 573,
   "metadata": {
    "scrolled": true
   },
   "outputs": [
    {
     "data": {
      "text/html": [
       "<div>\n",
       "<style scoped>\n",
       "    .dataframe tbody tr th:only-of-type {\n",
       "        vertical-align: middle;\n",
       "    }\n",
       "\n",
       "    .dataframe tbody tr th {\n",
       "        vertical-align: top;\n",
       "    }\n",
       "\n",
       "    .dataframe thead th {\n",
       "        text-align: right;\n",
       "    }\n",
       "</style>\n",
       "<table border=\"1\" class=\"dataframe\">\n",
       "  <thead>\n",
       "    <tr style=\"text-align: right;\">\n",
       "      <th></th>\n",
       "      <th>question_id</th>\n",
       "      <th>bundle_id</th>\n",
       "      <th>correct_answer</th>\n",
       "      <th>part</th>\n",
       "      <th>tags</th>\n",
       "      <th>section</th>\n",
       "      <th>topics</th>\n",
       "    </tr>\n",
       "  </thead>\n",
       "  <tbody>\n",
       "    <tr>\n",
       "      <th>0</th>\n",
       "      <td>0</td>\n",
       "      <td>0</td>\n",
       "      <td>0</td>\n",
       "      <td>1</td>\n",
       "      <td>51 131 162 38</td>\n",
       "      <td>Listening</td>\n",
       "      <td>Photographs</td>\n",
       "    </tr>\n",
       "    <tr>\n",
       "      <th>1</th>\n",
       "      <td>1</td>\n",
       "      <td>1</td>\n",
       "      <td>1</td>\n",
       "      <td>1</td>\n",
       "      <td>131 36 81</td>\n",
       "      <td>Listening</td>\n",
       "      <td>Photographs</td>\n",
       "    </tr>\n",
       "    <tr>\n",
       "      <th>2</th>\n",
       "      <td>2</td>\n",
       "      <td>2</td>\n",
       "      <td>0</td>\n",
       "      <td>1</td>\n",
       "      <td>131 101 162 92</td>\n",
       "      <td>Listening</td>\n",
       "      <td>Photographs</td>\n",
       "    </tr>\n",
       "    <tr>\n",
       "      <th>3</th>\n",
       "      <td>3</td>\n",
       "      <td>3</td>\n",
       "      <td>0</td>\n",
       "      <td>1</td>\n",
       "      <td>131 149 162 29</td>\n",
       "      <td>Listening</td>\n",
       "      <td>Photographs</td>\n",
       "    </tr>\n",
       "    <tr>\n",
       "      <th>4</th>\n",
       "      <td>4</td>\n",
       "      <td>4</td>\n",
       "      <td>3</td>\n",
       "      <td>1</td>\n",
       "      <td>131 5 162 38</td>\n",
       "      <td>Listening</td>\n",
       "      <td>Photographs</td>\n",
       "    </tr>\n",
       "  </tbody>\n",
       "</table>\n",
       "</div>"
      ],
      "text/plain": [
       "   question_id  bundle_id  correct_answer  part            tags    section  \\\n",
       "0            0          0               0     1   51 131 162 38  Listening   \n",
       "1            1          1               1     1       131 36 81  Listening   \n",
       "2            2          2               0     1  131 101 162 92  Listening   \n",
       "3            3          3               0     1  131 149 162 29  Listening   \n",
       "4            4          4               3     1    131 5 162 38  Listening   \n",
       "\n",
       "        topics  \n",
       "0  Photographs  \n",
       "1  Photographs  \n",
       "2  Photographs  \n",
       "3  Photographs  \n",
       "4  Photographs  "
      ]
     },
     "execution_count": 573,
     "metadata": {},
     "output_type": "execute_result"
    }
   ],
   "source": [
    "df_questions.head()"
   ]
  },
  {
   "cell_type": "code",
   "execution_count": 574,
   "metadata": {},
   "outputs": [],
   "source": [
    "df_questions['tags_split'] = df_questions['tags'].apply(lambda x: str(x).rsplit())"
   ]
  },
  {
   "cell_type": "code",
   "execution_count": 575,
   "metadata": {
    "scrolled": true
   },
   "outputs": [
    {
     "data": {
      "text/html": [
       "<div>\n",
       "<style scoped>\n",
       "    .dataframe tbody tr th:only-of-type {\n",
       "        vertical-align: middle;\n",
       "    }\n",
       "\n",
       "    .dataframe tbody tr th {\n",
       "        vertical-align: top;\n",
       "    }\n",
       "\n",
       "    .dataframe thead th {\n",
       "        text-align: right;\n",
       "    }\n",
       "</style>\n",
       "<table border=\"1\" class=\"dataframe\">\n",
       "  <thead>\n",
       "    <tr style=\"text-align: right;\">\n",
       "      <th></th>\n",
       "      <th>question_id</th>\n",
       "      <th>bundle_id</th>\n",
       "      <th>correct_answer</th>\n",
       "      <th>part</th>\n",
       "      <th>tags</th>\n",
       "      <th>section</th>\n",
       "      <th>topics</th>\n",
       "      <th>tags_split</th>\n",
       "    </tr>\n",
       "  </thead>\n",
       "  <tbody>\n",
       "    <tr>\n",
       "      <th>0</th>\n",
       "      <td>0</td>\n",
       "      <td>0</td>\n",
       "      <td>0</td>\n",
       "      <td>1</td>\n",
       "      <td>51 131 162 38</td>\n",
       "      <td>Listening</td>\n",
       "      <td>Photographs</td>\n",
       "      <td>[51, 131, 162, 38]</td>\n",
       "    </tr>\n",
       "    <tr>\n",
       "      <th>1</th>\n",
       "      <td>1</td>\n",
       "      <td>1</td>\n",
       "      <td>1</td>\n",
       "      <td>1</td>\n",
       "      <td>131 36 81</td>\n",
       "      <td>Listening</td>\n",
       "      <td>Photographs</td>\n",
       "      <td>[131, 36, 81]</td>\n",
       "    </tr>\n",
       "    <tr>\n",
       "      <th>2</th>\n",
       "      <td>2</td>\n",
       "      <td>2</td>\n",
       "      <td>0</td>\n",
       "      <td>1</td>\n",
       "      <td>131 101 162 92</td>\n",
       "      <td>Listening</td>\n",
       "      <td>Photographs</td>\n",
       "      <td>[131, 101, 162, 92]</td>\n",
       "    </tr>\n",
       "    <tr>\n",
       "      <th>3</th>\n",
       "      <td>3</td>\n",
       "      <td>3</td>\n",
       "      <td>0</td>\n",
       "      <td>1</td>\n",
       "      <td>131 149 162 29</td>\n",
       "      <td>Listening</td>\n",
       "      <td>Photographs</td>\n",
       "      <td>[131, 149, 162, 29]</td>\n",
       "    </tr>\n",
       "    <tr>\n",
       "      <th>4</th>\n",
       "      <td>4</td>\n",
       "      <td>4</td>\n",
       "      <td>3</td>\n",
       "      <td>1</td>\n",
       "      <td>131 5 162 38</td>\n",
       "      <td>Listening</td>\n",
       "      <td>Photographs</td>\n",
       "      <td>[131, 5, 162, 38]</td>\n",
       "    </tr>\n",
       "  </tbody>\n",
       "</table>\n",
       "</div>"
      ],
      "text/plain": [
       "   question_id  bundle_id  correct_answer  part            tags    section  \\\n",
       "0            0          0               0     1   51 131 162 38  Listening   \n",
       "1            1          1               1     1       131 36 81  Listening   \n",
       "2            2          2               0     1  131 101 162 92  Listening   \n",
       "3            3          3               0     1  131 149 162 29  Listening   \n",
       "4            4          4               3     1    131 5 162 38  Listening   \n",
       "\n",
       "        topics           tags_split  \n",
       "0  Photographs   [51, 131, 162, 38]  \n",
       "1  Photographs        [131, 36, 81]  \n",
       "2  Photographs  [131, 101, 162, 92]  \n",
       "3  Photographs  [131, 149, 162, 29]  \n",
       "4  Photographs    [131, 5, 162, 38]  "
      ]
     },
     "execution_count": 575,
     "metadata": {},
     "output_type": "execute_result"
    }
   ],
   "source": [
    "df_questions.head()"
   ]
  },
  {
   "cell_type": "markdown",
   "metadata": {},
   "source": [
    "### TOEIC Part 1 : Photographs"
   ]
  },
  {
   "cell_type": "code",
   "execution_count": 576,
   "metadata": {},
   "outputs": [],
   "source": [
    "def tag_photographs(tags):\n",
    "    photographs = ['5','9','13','36','40','51','61','68','70','93','94','99','101','104','111','130','149','164','178','187']\n",
    "    return ''.join([tag for tag in tags if tag in photographs])"
   ]
  },
  {
   "cell_type": "code",
   "execution_count": 577,
   "metadata": {},
   "outputs": [],
   "source": [
    "df_questions['tags_photographs'] = df_questions.loc[(df_questions.topics=='Photographs')]['tags_split'].apply(tag_photographs)"
   ]
  },
  {
   "cell_type": "code",
   "execution_count": 578,
   "metadata": {},
   "outputs": [],
   "source": [
    "df_questions['tags_photographs'] = df_questions['tags_photographs'].fillna('')"
   ]
  },
  {
   "cell_type": "code",
   "execution_count": 579,
   "metadata": {},
   "outputs": [
    {
     "data": {
      "text/plain": [
       "array(['51', '36', '101', '149', '5', '94', '61', '13', '164', '99', '93',\n",
       "       '70', '9', '104', '40', '130', '187', '111', '178', '', '68'],\n",
       "      dtype=object)"
      ]
     },
     "execution_count": 579,
     "metadata": {},
     "output_type": "execute_result"
    }
   ],
   "source": [
    "df_questions['tags_photographs'].unique()"
   ]
  },
  {
   "cell_type": "code",
   "execution_count": 580,
   "metadata": {
    "scrolled": true
   },
   "outputs": [
    {
     "data": {
      "image/png": "[encoded data removed]",
      "text/plain": [
       "<Figure size 432x288 with 1 Axes>"
      ]
     },
     "metadata": {
      "needs_background": "light"
     },
     "output_type": "display_data"
    }
   ],
   "source": [
    "tags_photographs_unique, tags_photographs_counts = np.unique(df_questions[df_questions.topics=='Photographs']['tags_photographs'], return_counts=True)\n",
    "\n",
    "dict_1 = dict(zip(tags_photographs_unique, tags_photographs_counts))\n",
    "\n",
    "plt.bar(range(len(dict_1)), list(dict_1.values()), align='center')\n",
    "plt.xticks(range(len(dict_1)), list(dict_1.keys()))\n",
    "plt.show()"
   ]
  },
  {
   "cell_type": "markdown",
   "metadata": {},
   "source": [
    "### TOEIC Part 2 : Question-Response"
   ]
  },
  {
   "cell_type": "code",
   "execution_count": 581,
   "metadata": {},
   "outputs": [],
   "source": [
    "def tag_question_response(tags):\n",
    "    question_response = ['2','17','20','30','71','90','105','114','137','138','140','141','148','155','176']\n",
    "    return ''.join([tag for tag in tags if tag in question_response])"
   ]
  },
  {
   "cell_type": "code",
   "execution_count": 582,
   "metadata": {},
   "outputs": [],
   "source": [
    "df_questions['tags_question_response'] = df_questions.loc[(df_questions.topics=='Question/Response')]['tags_split'].apply(tag_question_response)"
   ]
  },
  {
   "cell_type": "code",
   "execution_count": 583,
   "metadata": {},
   "outputs": [],
   "source": [
    "df_questions['tags_question_response'] = df_questions['tags_question_response'].fillna('')"
   ]
  },
  {
   "cell_type": "code",
   "execution_count": 584,
   "metadata": {},
   "outputs": [
    {
     "data": {
      "text/plain": [
       "array(['', '30', '90', '176', '140', '2', '114', '138', '141', '137',\n",
       "       '148', '155', '105', '71', '20', '17', '220'], dtype=object)"
      ]
     },
     "execution_count": 584,
     "metadata": {},
     "output_type": "execute_result"
    }
   ],
   "source": [
    "df_questions['tags_question_response'].unique()"
   ]
  },
  {
   "cell_type": "code",
   "execution_count": 585,
   "metadata": {
    "scrolled": false
   },
   "outputs": [
    {
     "data": {
      "image/png": "[encoded data removed]",
      "text/plain": [
       "<Figure size 432x288 with 1 Axes>"
      ]
     },
     "metadata": {
      "needs_background": "light"
     },
     "output_type": "display_data"
    }
   ],
   "source": [
    "tags_quest_resp_unique, tags_quest_resp_counts = np.unique(df_questions[df_questions.topics=='Question/Response']['tags_question_response'], return_counts=True)\n",
    "\n",
    "dict_2 = dict(zip(tags_quest_resp_unique, tags_quest_resp_counts))\n",
    "\n",
    "plt.bar(range(len(dict_2)), list(dict_2.values()), align='center')\n",
    "plt.xticks(range(len(dict_2)), list(dict_2.keys()))\n",
    "plt.show()"
   ]
  },
  {
   "cell_type": "code",
   "execution_count": 586,
   "metadata": {},
   "outputs": [
    {
     "name": "stdout",
     "output_type": "stream",
     "text": [
      "'' to be checked : 3 values\n"
     ]
    }
   ],
   "source": [
    "print(\"'' to be checked :\", dict_2[''], 'values')"
   ]
  },
  {
   "cell_type": "markdown",
   "metadata": {},
   "source": [
    "### TOEIC Part 3 : Conversations"
   ]
  },
  {
   "cell_type": "code",
   "execution_count": 587,
   "metadata": {},
   "outputs": [],
   "source": [
    "def tag_conversations(tags):\n",
    "    conversations = ['74','82','106','113','136','157','161']\n",
    "    return ''.join([tag for tag in tags if tag in conversations])"
   ]
  },
  {
   "cell_type": "code",
   "execution_count": 588,
   "metadata": {},
   "outputs": [],
   "source": [
    "df_questions['tags_conversations'] = df_questions.loc[(df_questions.topics=='Conversations')]['tags_split'].apply(tag_conversations)"
   ]
  },
  {
   "cell_type": "code",
   "execution_count": 589,
   "metadata": {},
   "outputs": [],
   "source": [
    "df_questions['tags_conversations'] = df_questions['tags_conversations'].fillna('')"
   ]
  },
  {
   "cell_type": "code",
   "execution_count": 590,
   "metadata": {},
   "outputs": [
    {
     "data": {
      "text/plain": [
       "array(['', '74', '136', '82', '106', '157', '113', '161'], dtype=object)"
      ]
     },
     "execution_count": 590,
     "metadata": {},
     "output_type": "execute_result"
    }
   ],
   "source": [
    "df_questions['tags_conversations'].unique()"
   ]
  },
  {
   "cell_type": "code",
   "execution_count": 591,
   "metadata": {
    "scrolled": true
   },
   "outputs": [
    {
     "data": {
      "image/png": "[encoded data removed]",
      "text/plain": [
       "<Figure size 432x288 with 1 Axes>"
      ]
     },
     "metadata": {
      "needs_background": "light"
     },
     "output_type": "display_data"
    }
   ],
   "source": [
    "tags_conversations_unique, tags_conversations_counts = np.unique(df_questions[df_questions.topics=='Conversations']['tags_conversations'], return_counts=True)\n",
    "\n",
    "dict_3 = dict(zip(tags_conversations_unique, tags_conversations_counts))\n",
    "\n",
    "plt.bar(range(len(dict_3)), list(dict_3.values()), align='center')\n",
    "plt.xticks(range(len(dict_3)), list(dict_3.keys()))\n",
    "plt.show()"
   ]
  },
  {
   "cell_type": "markdown",
   "metadata": {},
   "source": [
    "### TOEIC Part 4 : Talks"
   ]
  },
  {
   "cell_type": "code",
   "execution_count": 592,
   "metadata": {},
   "outputs": [],
   "source": [
    "def tag_talks(tags):\n",
    "    talks = ['3','12','59','67','83','103','120','126','144','150','158','169','171','183']\n",
    "    return ''.join([tag for tag in tags if tag in talks])"
   ]
  },
  {
   "cell_type": "code",
   "execution_count": 593,
   "metadata": {},
   "outputs": [],
   "source": [
    "df_questions['tags_talks'] = df_questions.loc[(df_questions.topics=='Talks')]['tags_split'].apply(tag_talks)"
   ]
  },
  {
   "cell_type": "code",
   "execution_count": 594,
   "metadata": {},
   "outputs": [],
   "source": [
    "df_questions['tags_talks'] = df_questions['tags_talks'].fillna('')"
   ]
  },
  {
   "cell_type": "code",
   "execution_count": 595,
   "metadata": {},
   "outputs": [
    {
     "data": {
      "text/plain": [
       "array(['', '12', '103', '67', '171', '144', '169', '126', '158', '83',\n",
       "       '150', '183', '120', '3', '59'], dtype=object)"
      ]
     },
     "execution_count": 595,
     "metadata": {},
     "output_type": "execute_result"
    }
   ],
   "source": [
    "df_questions['tags_talks'].unique()"
   ]
  },
  {
   "cell_type": "code",
   "execution_count": 596,
   "metadata": {
    "scrolled": true
   },
   "outputs": [
    {
     "data": {
      "image/png": "[encoded data removed]",
      "text/plain": [
       "<Figure size 432x288 with 1 Axes>"
      ]
     },
     "metadata": {
      "needs_background": "light"
     },
     "output_type": "display_data"
    }
   ],
   "source": [
    "tags_talks_unique, tags_talks_counts = np.unique(df_questions[df_questions.topics=='Talks']['tags_talks'], return_counts=True)\n",
    "\n",
    "dict_4 = dict(zip(tags_talks_unique, tags_talks_counts))\n",
    "\n",
    "plt.bar(range(len(dict_4)), list(dict_4.values()), align='center')\n",
    "plt.xticks(range(len(dict_4)), list(dict_4.keys()))\n",
    "plt.show()"
   ]
  },
  {
   "cell_type": "markdown",
   "metadata": {},
   "source": [
    "### TOEIC Parts 5 & 6 : Incomplete Sentences & Text Completion"
   ]
  },
  {
   "cell_type": "code",
   "execution_count": 597,
   "metadata": {},
   "outputs": [],
   "source": [
    "def tag_completion(tags):\n",
    "    if ' 162' in str(tags):\n",
    "        tags = str(tags).replace(' 162','')\n",
    "    else:\n",
    "        tags = str(tags)\n",
    "    return tags"
   ]
  },
  {
   "cell_type": "code",
   "execution_count": 598,
   "metadata": {},
   "outputs": [],
   "source": [
    "df_questions['tags_completion'] = df_questions.loc[(df_questions.topics=='Incomplete Sentences')|(df_questions.topics=='Text Completion')]['tags'].apply(tag_completion)"
   ]
  },
  {
   "cell_type": "code",
   "execution_count": 599,
   "metadata": {},
   "outputs": [],
   "source": [
    "df_questions['tags_completion'] = df_questions['tags_completion'].fillna('')"
   ]
  },
  {
   "cell_type": "code",
   "execution_count": 600,
   "metadata": {},
   "outputs": [
    {
     "data": {
      "text/plain": [
       "array(['', '8', '4', '166', '85', '156', '53', '73', '66', '108', '173',\n",
       "       '72', '95', '7', '15', '132', '180', '75', '49', '55', '109', '60',\n",
       "       '125', '133', '152', '181', '57', '91', '96', '116', '79', '89',\n",
       "       '47', '65', '80', '43', '52', '1', '28', '177', '112', '134',\n",
       "       '123', '168', '24', '147', '174', '14', '64', '48', '128', '44',\n",
       "       '170', '179', '175', '45', '78', '23', '159', '31', '25', '151',\n",
       "       '34', '33', '127', '172', '124', '115', '26', '54', '182', '167',\n",
       "       '58', '27', 'nan', '86'], dtype=object)"
      ]
     },
     "execution_count": 600,
     "metadata": {},
     "output_type": "execute_result"
    }
   ],
   "source": [
    "df_questions['tags_completion'].unique()"
   ]
  },
  {
   "cell_type": "code",
   "execution_count": 601,
   "metadata": {},
   "outputs": [
    {
     "data": {
      "image/png": "[encoded data removed]",
      "text/plain": [
       "<Figure size 432x288 with 1 Axes>"
      ]
     },
     "metadata": {
      "needs_background": "light"
     },
     "output_type": "display_data"
    }
   ],
   "source": [
    "tags_completion_unique, tags_completion_counts = np.unique(df_questions[df_questions.topics=='Incomplete Sentences']['tags_completion'], return_counts=True)\n",
    "\n",
    "dict_5 = dict(zip(tags_completion_unique, tags_completion_counts))\n",
    "\n",
    "plt.bar(range(len(dict_5)), list(dict_5.values()), align='center')\n",
    "plt.xticks(range(len(dict_5)), list(dict_5.keys()))\n",
    "plt.show()"
   ]
  },
  {
   "cell_type": "code",
   "execution_count": 602,
   "metadata": {
    "scrolled": false
   },
   "outputs": [
    {
     "data": {
      "image/png": "[encoded data removed]",
      "text/plain": [
       "<Figure size 432x288 with 1 Axes>"
      ]
     },
     "metadata": {
      "needs_background": "light"
     },
     "output_type": "display_data"
    }
   ],
   "source": [
    "tags_completion2_unique, tags_completion2_counts = np.unique(df_questions[df_questions.topics=='Text Completion']['tags_completion'], return_counts=True)\n",
    "\n",
    "dict_6 = dict(zip(tags_completion2_unique, tags_completion2_counts))\n",
    "\n",
    "plt.bar(range(len(dict_6)), list(dict_6.values()), align='center')\n",
    "plt.xticks(range(len(dict_6)), list(dict_6.keys()))\n",
    "plt.show()"
   ]
  },
  {
   "cell_type": "code",
   "execution_count": 603,
   "metadata": {},
   "outputs": [
    {
     "name": "stdout",
     "output_type": "stream",
     "text": [
      "'nan' to be checked : 1 value\n"
     ]
    }
   ],
   "source": [
    "print(\"'nan' to be checked :\", dict_6['nan'], 'value')"
   ]
  },
  {
   "cell_type": "markdown",
   "metadata": {},
   "source": [
    "### TOEIC Part 7 : Passages"
   ]
  },
  {
   "cell_type": "code",
   "execution_count": 604,
   "metadata": {},
   "outputs": [],
   "source": [
    "def tag_passages(tags):\n",
    "    passages = ['18','19','39','76','97','118','145','153','165']\n",
    "    return ''.join([tag for tag in tags if tag in passages])"
   ]
  },
  {
   "cell_type": "code",
   "execution_count": 605,
   "metadata": {},
   "outputs": [],
   "source": [
    "df_questions['tags_passages'] = df_questions.loc[(df_questions.topics=='Passages')]['tags_split'].apply(tag_passages)"
   ]
  },
  {
   "cell_type": "code",
   "execution_count": 606,
   "metadata": {},
   "outputs": [],
   "source": [
    "df_questions['tags_passages'] = df_questions['tags_passages'].fillna('')"
   ]
  },
  {
   "cell_type": "code",
   "execution_count": 607,
   "metadata": {},
   "outputs": [
    {
     "data": {
      "text/plain": [
       "array(['', '118', '18', '19', '97', '39', '145', '76', '153', '165'],\n",
       "      dtype=object)"
      ]
     },
     "execution_count": 607,
     "metadata": {},
     "output_type": "execute_result"
    }
   ],
   "source": [
    "df_questions['tags_passages'].unique()"
   ]
  },
  {
   "cell_type": "code",
   "execution_count": 608,
   "metadata": {
    "scrolled": false
   },
   "outputs": [
    {
     "data": {
      "image/png": "[encoded data removed]",
      "text/plain": [
       "<Figure size 432x288 with 1 Axes>"
      ]
     },
     "metadata": {
      "needs_background": "light"
     },
     "output_type": "display_data"
    }
   ],
   "source": [
    "tags_passages_unique, tags_passages_counts = np.unique(df_questions[df_questions.topics=='Passages']['tags_passages'], return_counts=True)\n",
    "\n",
    "dict_7 = dict(zip(tags_passages_unique, tags_passages_counts))\n",
    "\n",
    "plt.bar(range(len(dict_7)), list(dict_7.values()), align='center')\n",
    "plt.xticks(range(len(dict_7)), list(dict_7.keys()))\n",
    "plt.show()"
   ]
  },
  {
   "cell_type": "code",
   "execution_count": 609,
   "metadata": {},
   "outputs": [
    {
     "name": "stdout",
     "output_type": "stream",
     "text": [
      "'' to be checked : 5 values\n"
     ]
    }
   ],
   "source": [
    "print(\"'' to be checked :\", dict_7[''], 'values')"
   ]
  },
  {
   "cell_type": "markdown",
   "metadata": {},
   "source": [
    "### Tags summary for questions"
   ]
  },
  {
   "cell_type": "code",
   "execution_count": 610,
   "metadata": {
    "scrolled": false
   },
   "outputs": [
    {
     "name": "stdout",
     "output_type": "stream",
     "text": [
      "unique tags for part 1 : 21\n",
      "unique tags for part 2 : 17\n",
      "unique tags for part 3 : 8\n",
      "unique tags for part 4 : 15\n",
      "unique tags for parts 5 & 6 : 76\n",
      "unique tags for part 7 : 10\n"
     ]
    }
   ],
   "source": [
    "print('unique tags for part 1 :', df_questions['tags_photographs'].nunique())\n",
    "print('unique tags for part 2 :', df_questions['tags_question_response'].nunique())\n",
    "print('unique tags for part 3 :', df_questions['tags_conversations'].nunique())\n",
    "print('unique tags for part 4 :', df_questions['tags_talks'].nunique())\n",
    "print('unique tags for parts 5 & 6 :', df_questions['tags_completion'].nunique())\n",
    "print('unique tags for part 7 :', df_questions['tags_passages'].nunique())"
   ]
  },
  {
   "cell_type": "code",
   "execution_count": 611,
   "metadata": {
    "scrolled": true
   },
   "outputs": [
    {
     "name": "stdout",
     "output_type": "stream",
     "text": [
      "unique combinations for part 1 : 145\n",
      "unique combinations for part 2 : 422\n",
      "unique combinations for part 3 : 133\n",
      "unique combinations for part 4 : 418\n",
      "unique combinations for parts 5 & 6 : 109\n",
      "unique combinations for part 7 : 292\n"
     ]
    }
   ],
   "source": [
    "print('unique combinations for part 1 :', df_questions[df_questions['part']==1]['tags'].nunique())\n",
    "print('unique combinations for part 2 :', df_questions[df_questions['part']==2]['tags'].nunique())\n",
    "print('unique combinations for part 3 :', df_questions[df_questions['part']==3]['tags'].nunique())\n",
    "print('unique combinations for part 4 :', df_questions[df_questions['part']==4]['tags'].nunique())\n",
    "print('unique combinations for parts 5 & 6 :', df_questions[(df_questions['part']==5) | (df_questions['part']==6)]['tags'].nunique())\n",
    "print('unique combinations for part 7 :', df_questions[df_questions['part']==7]['tags'].nunique())"
   ]
  },
  {
   "cell_type": "code",
   "execution_count": 612,
   "metadata": {},
   "outputs": [],
   "source": [
    "df_questions['unique_tag'] = df_questions.tags_photographs + df_questions.tags_question_response + df_questions.tags_conversations + df_questions.tags_talks + df_questions.tags_completion + df_questions.tags_passages "
   ]
  },
  {
   "cell_type": "code",
   "execution_count": 613,
   "metadata": {},
   "outputs": [],
   "source": [
    "df_questions['unique_tag'] = df_questions['unique_tag'].fillna('')"
   ]
  },
  {
   "cell_type": "code",
   "execution_count": 614,
   "metadata": {
    "scrolled": true
   },
   "outputs": [
    {
     "data": {
      "text/plain": [
       "array(['51', '36', '101', '149', '5', '94', '61', '13', '164', '99', '93',\n",
       "       '70', '9', '104', '40', '130', '187', '111', '178', '30', '90',\n",
       "       '176', '140', '2', '114', '138', '141', '137', '148', '155', '105',\n",
       "       '71', '20', '17', '', '220', '74', '136', '82', '106', '157',\n",
       "       '113', '161', '12', '103', '67', '171', '144', '169', '126', '158',\n",
       "       '83', '150', '183', '120', '8', '4', '166', '85', '156', '53',\n",
       "       '73', '66', '108', '173', '72', '95', '7', '15', '132', '180',\n",
       "       '75', '49', '55', '109', '60', '125', '133', '152', '181', '57',\n",
       "       '91', '96', '116', '79', '89', '47', '65', '80', '43', '52', '1',\n",
       "       '28', '177', '112', '134', '123', '168', '24', '147', '174', '14',\n",
       "       '64', '48', '128', '44', '170', '179', '175', '45', '78', '23',\n",
       "       '159', '31', '25', '151', '34', '33', '127', '172', '124', '115',\n",
       "       '26', '54', '182', '167', '58', '27', '118', '18', '19', '97',\n",
       "       '39', '145', '76', '153', '68', 'nan', '3', '165', '59', '86'],\n",
       "      dtype=object)"
      ]
     },
     "execution_count": 614,
     "metadata": {},
     "output_type": "execute_result"
    }
   ],
   "source": [
    "df_questions['unique_tag'].unique()"
   ]
  },
  {
   "cell_type": "code",
   "execution_count": 615,
   "metadata": {},
   "outputs": [
    {
     "name": "stderr",
     "output_type": "stream",
     "text": [
      "c:\\users\\imen_\\.venvs\\lewagon\\lib\\site-packages\\seaborn\\_decorators.py:43: FutureWarning: Pass the following variable as a keyword arg: x. From version 0.12, the only valid positional argument will be `data`, and passing other arguments without an explicit keyword will result in an error or misinterpretation.\n",
      "  FutureWarning\n"
     ]
    },
    {
     "data": {
      "text/plain": [
       "<AxesSubplot:xlabel='unique_tag', ylabel='count'>"
      ]
     },
     "execution_count": 615,
     "metadata": {},
     "output_type": "execute_result"
    },
    {
     "data": {
      "image/png": "[encoded data removed]",
      "text/plain": [
       "<Figure size 432x288 with 1 Axes>"
      ]
     },
     "metadata": {
      "needs_background": "light"
     },
     "output_type": "display_data"
    }
   ],
   "source": [
    "sns.countplot(df_questions['unique_tag'])"
   ]
  },
  {
   "cell_type": "code",
   "execution_count": 616,
   "metadata": {
    "scrolled": true
   },
   "outputs": [
    {
     "name": "stderr",
     "output_type": "stream",
     "text": [
      "c:\\users\\imen_\\.venvs\\lewagon\\lib\\site-packages\\seaborn\\_decorators.py:43: FutureWarning: Pass the following variable as a keyword arg: x. From version 0.12, the only valid positional argument will be `data`, and passing other arguments without an explicit keyword will result in an error or misinterpretation.\n",
      "  FutureWarning\n"
     ]
    },
    {
     "data": {
      "text/plain": [
       "<AxesSubplot:xlabel='part', ylabel='count'>"
      ]
     },
     "execution_count": 616,
     "metadata": {},
     "output_type": "execute_result"
    },
    {
     "data": {
      "image/png": "[encoded data removed]",
      "text/plain": [
       "<Figure size 432x288 with 1 Axes>"
      ]
     },
     "metadata": {
      "needs_background": "light"
     },
     "output_type": "display_data"
    }
   ],
   "source": [
    "sns.countplot(df_questions['part'])"
   ]
  },
  {
   "cell_type": "code",
   "execution_count": 617,
   "metadata": {},
   "outputs": [],
   "source": [
    "def unique_key(x, y):\n",
    "    return str(x) + str(y)"
   ]
  },
  {
   "cell_type": "code",
   "execution_count": 618,
   "metadata": {},
   "outputs": [],
   "source": [
    "df_questions['unique_key_questions'] = [unique_key(x, y) for x, y in zip(df_questions['part'], df_questions['unique_tag'])]"
   ]
  },
  {
   "cell_type": "code",
   "execution_count": 619,
   "metadata": {},
   "outputs": [
    {
     "name": "stdout",
     "output_type": "stream",
     "text": [
      "205\n"
     ]
    }
   ],
   "source": [
    "print(df_questions.unique_key_questions.nunique())"
   ]
  },
  {
   "cell_type": "markdown",
   "metadata": {},
   "source": [
    "## 2. Lectures"
   ]
  },
  {
   "cell_type": "code",
   "execution_count": 620,
   "metadata": {},
   "outputs": [],
   "source": [
    "df_lectures = pd.read_csv('lectures.csv')"
   ]
  },
  {
   "cell_type": "code",
   "execution_count": 621,
   "metadata": {},
   "outputs": [
    {
     "data": {
      "text/html": [
       "<div>\n",
       "<style scoped>\n",
       "    .dataframe tbody tr th:only-of-type {\n",
       "        vertical-align: middle;\n",
       "    }\n",
       "\n",
       "    .dataframe tbody tr th {\n",
       "        vertical-align: top;\n",
       "    }\n",
       "\n",
       "    .dataframe thead th {\n",
       "        text-align: right;\n",
       "    }\n",
       "</style>\n",
       "<table border=\"1\" class=\"dataframe\">\n",
       "  <thead>\n",
       "    <tr style=\"text-align: right;\">\n",
       "      <th></th>\n",
       "      <th>lecture_id</th>\n",
       "      <th>tag</th>\n",
       "      <th>part</th>\n",
       "      <th>type_of</th>\n",
       "    </tr>\n",
       "  </thead>\n",
       "  <tbody>\n",
       "    <tr>\n",
       "      <th>0</th>\n",
       "      <td>89</td>\n",
       "      <td>159</td>\n",
       "      <td>5</td>\n",
       "      <td>concept</td>\n",
       "    </tr>\n",
       "    <tr>\n",
       "      <th>1</th>\n",
       "      <td>100</td>\n",
       "      <td>70</td>\n",
       "      <td>1</td>\n",
       "      <td>concept</td>\n",
       "    </tr>\n",
       "    <tr>\n",
       "      <th>2</th>\n",
       "      <td>185</td>\n",
       "      <td>45</td>\n",
       "      <td>6</td>\n",
       "      <td>concept</td>\n",
       "    </tr>\n",
       "    <tr>\n",
       "      <th>3</th>\n",
       "      <td>192</td>\n",
       "      <td>79</td>\n",
       "      <td>5</td>\n",
       "      <td>solving question</td>\n",
       "    </tr>\n",
       "    <tr>\n",
       "      <th>4</th>\n",
       "      <td>317</td>\n",
       "      <td>156</td>\n",
       "      <td>5</td>\n",
       "      <td>solving question</td>\n",
       "    </tr>\n",
       "  </tbody>\n",
       "</table>\n",
       "</div>"
      ],
      "text/plain": [
       "   lecture_id  tag  part           type_of\n",
       "0          89  159     5           concept\n",
       "1         100   70     1           concept\n",
       "2         185   45     6           concept\n",
       "3         192   79     5  solving question\n",
       "4         317  156     5  solving question"
      ]
     },
     "execution_count": 621,
     "metadata": {},
     "output_type": "execute_result"
    }
   ],
   "source": [
    "df_lectures.head()"
   ]
  },
  {
   "cell_type": "code",
   "execution_count": 622,
   "metadata": {
    "scrolled": false
   },
   "outputs": [
    {
     "name": "stdout",
     "output_type": "stream",
     "text": [
      "unique tags for part 1 : 20\n",
      "unique tags for part 2 : 23\n",
      "unique tags for part 3 : 7\n",
      "unique tags for part 4 : 19\n",
      "unique tags for parts 5 & 6 : 73\n",
      "unique tags for part 7 : 16\n"
     ]
    }
   ],
   "source": [
    "print('unique tags for part 1 :', df_lectures[df_lectures['part']==1]['tag'].nunique())\n",
    "print('unique tags for part 2 :', df_lectures[df_lectures['part']==2]['tag'].nunique())\n",
    "print('unique tags for part 3 :', df_lectures[df_lectures['part']==3]['tag'].nunique())\n",
    "print('unique tags for part 4 :', df_lectures[df_lectures['part']==4]['tag'].nunique())\n",
    "print('unique tags for parts 5 & 6 :', df_lectures[(df_lectures['part']==5) | (df_lectures['part']==6)]['tag'].nunique())\n",
    "print('unique tags for part 7 :', df_lectures[df_lectures['part']==7]['tag'].nunique())"
   ]
  },
  {
   "cell_type": "code",
   "execution_count": 623,
   "metadata": {},
   "outputs": [
    {
     "name": "stderr",
     "output_type": "stream",
     "text": [
      "c:\\users\\imen_\\.venvs\\lewagon\\lib\\site-packages\\seaborn\\_decorators.py:43: FutureWarning: Pass the following variable as a keyword arg: x. From version 0.12, the only valid positional argument will be `data`, and passing other arguments without an explicit keyword will result in an error or misinterpretation.\n",
      "  FutureWarning\n"
     ]
    },
    {
     "data": {
      "text/plain": [
       "<AxesSubplot:xlabel='tag', ylabel='count'>"
      ]
     },
     "execution_count": 623,
     "metadata": {},
     "output_type": "execute_result"
    },
    {
     "data": {
      "image/png": "[encoded data removed]",
      "text/plain": [
       "<Figure size 432x288 with 1 Axes>"
      ]
     },
     "metadata": {
      "needs_background": "light"
     },
     "output_type": "display_data"
    }
   ],
   "source": [
    "sns.countplot(df_lectures['tag'])"
   ]
  },
  {
   "cell_type": "code",
   "execution_count": 624,
   "metadata": {},
   "outputs": [
    {
     "name": "stderr",
     "output_type": "stream",
     "text": [
      "c:\\users\\imen_\\.venvs\\lewagon\\lib\\site-packages\\seaborn\\_decorators.py:43: FutureWarning: Pass the following variable as a keyword arg: x. From version 0.12, the only valid positional argument will be `data`, and passing other arguments without an explicit keyword will result in an error or misinterpretation.\n",
      "  FutureWarning\n"
     ]
    },
    {
     "data": {
      "text/plain": [
       "<AxesSubplot:xlabel='type_of', ylabel='count'>"
      ]
     },
     "execution_count": 624,
     "metadata": {},
     "output_type": "execute_result"
    },
    {
     "data": {
      "image/png": "[encoded data removed]",
      "text/plain": [
       "<Figure size 432x288 with 1 Axes>"
      ]
     },
     "metadata": {
      "needs_background": "light"
     },
     "output_type": "display_data"
    }
   ],
   "source": [
    "sns.countplot(df_lectures['type_of'])"
   ]
  },
  {
   "cell_type": "markdown",
   "metadata": {},
   "source": [
    "## 3. Cross Checking Questions & Lectures"
   ]
  },
  {
   "cell_type": "code",
   "execution_count": 625,
   "metadata": {},
   "outputs": [],
   "source": [
    "df_lectures['unique_key_lectures'] = [unique_key(x, y) for x, y in zip(df_lectures['part'], df_lectures['tag'])]"
   ]
  },
  {
   "cell_type": "code",
   "execution_count": 626,
   "metadata": {
    "scrolled": true
   },
   "outputs": [
    {
     "data": {
      "text/html": [
       "<div>\n",
       "<style scoped>\n",
       "    .dataframe tbody tr th:only-of-type {\n",
       "        vertical-align: middle;\n",
       "    }\n",
       "\n",
       "    .dataframe tbody tr th {\n",
       "        vertical-align: top;\n",
       "    }\n",
       "\n",
       "    .dataframe thead th {\n",
       "        text-align: right;\n",
       "    }\n",
       "</style>\n",
       "<table border=\"1\" class=\"dataframe\">\n",
       "  <thead>\n",
       "    <tr style=\"text-align: right;\">\n",
       "      <th></th>\n",
       "      <th>lecture_id</th>\n",
       "      <th>tag</th>\n",
       "      <th>part</th>\n",
       "      <th>type_of</th>\n",
       "      <th>unique_key_lectures</th>\n",
       "    </tr>\n",
       "  </thead>\n",
       "  <tbody>\n",
       "    <tr>\n",
       "      <th>0</th>\n",
       "      <td>89</td>\n",
       "      <td>159</td>\n",
       "      <td>5</td>\n",
       "      <td>concept</td>\n",
       "      <td>5159</td>\n",
       "    </tr>\n",
       "    <tr>\n",
       "      <th>1</th>\n",
       "      <td>100</td>\n",
       "      <td>70</td>\n",
       "      <td>1</td>\n",
       "      <td>concept</td>\n",
       "      <td>170</td>\n",
       "    </tr>\n",
       "    <tr>\n",
       "      <th>2</th>\n",
       "      <td>185</td>\n",
       "      <td>45</td>\n",
       "      <td>6</td>\n",
       "      <td>concept</td>\n",
       "      <td>645</td>\n",
       "    </tr>\n",
       "    <tr>\n",
       "      <th>3</th>\n",
       "      <td>192</td>\n",
       "      <td>79</td>\n",
       "      <td>5</td>\n",
       "      <td>solving question</td>\n",
       "      <td>579</td>\n",
       "    </tr>\n",
       "    <tr>\n",
       "      <th>4</th>\n",
       "      <td>317</td>\n",
       "      <td>156</td>\n",
       "      <td>5</td>\n",
       "      <td>solving question</td>\n",
       "      <td>5156</td>\n",
       "    </tr>\n",
       "  </tbody>\n",
       "</table>\n",
       "</div>"
      ],
      "text/plain": [
       "   lecture_id  tag  part           type_of unique_key_lectures\n",
       "0          89  159     5           concept                5159\n",
       "1         100   70     1           concept                 170\n",
       "2         185   45     6           concept                 645\n",
       "3         192   79     5  solving question                 579\n",
       "4         317  156     5  solving question                5156"
      ]
     },
     "execution_count": 626,
     "metadata": {},
     "output_type": "execute_result"
    }
   ],
   "source": [
    "df_lectures.head()"
   ]
  },
  {
   "cell_type": "code",
   "execution_count": 627,
   "metadata": {},
   "outputs": [
    {
     "name": "stdout",
     "output_type": "stream",
     "text": [
      "418\n",
      "220\n"
     ]
    }
   ],
   "source": [
    "print(df_lectures.lecture_id.nunique())\n",
    "print(df_lectures.unique_key_lectures.nunique())"
   ]
  },
  {
   "cell_type": "code",
   "execution_count": 628,
   "metadata": {},
   "outputs": [
    {
     "data": {
      "text/plain": [
       "220"
      ]
     },
     "execution_count": 628,
     "metadata": {},
     "output_type": "execute_result"
    }
   ],
   "source": [
    "df_lectures_2 = df_lectures.drop(columns=['lecture_id', 'type_of']).set_index('tag').drop_duplicates()\n",
    "len(df_lectures_2)"
   ]
  },
  {
   "cell_type": "code",
   "execution_count": 629,
   "metadata": {},
   "outputs": [
    {
     "data": {
      "text/html": [
       "<div>\n",
       "<style scoped>\n",
       "    .dataframe tbody tr th:only-of-type {\n",
       "        vertical-align: middle;\n",
       "    }\n",
       "\n",
       "    .dataframe tbody tr th {\n",
       "        vertical-align: top;\n",
       "    }\n",
       "\n",
       "    .dataframe thead th {\n",
       "        text-align: right;\n",
       "    }\n",
       "</style>\n",
       "<table border=\"1\" class=\"dataframe\">\n",
       "  <thead>\n",
       "    <tr style=\"text-align: right;\">\n",
       "      <th></th>\n",
       "      <th>part</th>\n",
       "      <th>unique_key_lectures</th>\n",
       "    </tr>\n",
       "    <tr>\n",
       "      <th>tag</th>\n",
       "      <th></th>\n",
       "      <th></th>\n",
       "    </tr>\n",
       "  </thead>\n",
       "  <tbody>\n",
       "    <tr>\n",
       "      <th>159</th>\n",
       "      <td>5</td>\n",
       "      <td>5159</td>\n",
       "    </tr>\n",
       "    <tr>\n",
       "      <th>70</th>\n",
       "      <td>1</td>\n",
       "      <td>170</td>\n",
       "    </tr>\n",
       "    <tr>\n",
       "      <th>45</th>\n",
       "      <td>6</td>\n",
       "      <td>645</td>\n",
       "    </tr>\n",
       "    <tr>\n",
       "      <th>79</th>\n",
       "      <td>5</td>\n",
       "      <td>579</td>\n",
       "    </tr>\n",
       "    <tr>\n",
       "      <th>156</th>\n",
       "      <td>5</td>\n",
       "      <td>5156</td>\n",
       "    </tr>\n",
       "  </tbody>\n",
       "</table>\n",
       "</div>"
      ],
      "text/plain": [
       "     part unique_key_lectures\n",
       "tag                          \n",
       "159     5                5159\n",
       "70      1                 170\n",
       "45      6                 645\n",
       "79      5                 579\n",
       "156     5                5156"
      ]
     },
     "execution_count": 629,
     "metadata": {},
     "output_type": "execute_result"
    }
   ],
   "source": [
    "df_lectures_2.head()"
   ]
  },
  {
   "cell_type": "code",
   "execution_count": 630,
   "metadata": {},
   "outputs": [],
   "source": [
    "df_merge = df_questions.merge(df_lectures_2, left_on=df_questions['unique_key_questions'], right_on=df_lectures_2['unique_key_lectures'], how='outer')\n",
    "df_merge = df_merge.drop(columns='part_y')"
   ]
  },
  {
   "cell_type": "code",
   "execution_count": 631,
   "metadata": {},
   "outputs": [],
   "source": [
    "missing_lectures_id = df_merge[df_merge['unique_key_lectures'].isna()].groupby(['unique_tag','part_x'])[['unique_tag']].count()"
   ]
  },
  {
   "cell_type": "code",
   "execution_count": 632,
   "metadata": {},
   "outputs": [
    {
     "data": {
      "text/html": [
       "<div>\n",
       "<style scoped>\n",
       "    .dataframe tbody tr th:only-of-type {\n",
       "        vertical-align: middle;\n",
       "    }\n",
       "\n",
       "    .dataframe tbody tr th {\n",
       "        vertical-align: top;\n",
       "    }\n",
       "\n",
       "    .dataframe thead th {\n",
       "        text-align: right;\n",
       "    }\n",
       "</style>\n",
       "<table border=\"1\" class=\"dataframe\">\n",
       "  <thead>\n",
       "    <tr style=\"text-align: right;\">\n",
       "      <th></th>\n",
       "      <th></th>\n",
       "      <th>count</th>\n",
       "    </tr>\n",
       "    <tr>\n",
       "      <th>unique_tag</th>\n",
       "      <th>part_x</th>\n",
       "      <th></th>\n",
       "    </tr>\n",
       "  </thead>\n",
       "  <tbody>\n",
       "    <tr>\n",
       "      <th rowspan=\"2\" valign=\"top\"></th>\n",
       "      <th>2.0</th>\n",
       "      <td>3</td>\n",
       "    </tr>\n",
       "    <tr>\n",
       "      <th>7.0</th>\n",
       "      <td>5</td>\n",
       "    </tr>\n",
       "    <tr>\n",
       "      <th>165</th>\n",
       "      <th>7.0</th>\n",
       "      <td>15</td>\n",
       "    </tr>\n",
       "    <tr>\n",
       "      <th>220</th>\n",
       "      <th>2.0</th>\n",
       "      <td>1</td>\n",
       "    </tr>\n",
       "    <tr>\n",
       "      <th>3</th>\n",
       "      <th>4.0</th>\n",
       "      <td>45</td>\n",
       "    </tr>\n",
       "    <tr>\n",
       "      <th>59</th>\n",
       "      <th>4.0</th>\n",
       "      <td>57</td>\n",
       "    </tr>\n",
       "    <tr>\n",
       "      <th>86</th>\n",
       "      <th>6.0</th>\n",
       "      <td>1</td>\n",
       "    </tr>\n",
       "    <tr>\n",
       "      <th>nan</th>\n",
       "      <th>6.0</th>\n",
       "      <td>1</td>\n",
       "    </tr>\n",
       "  </tbody>\n",
       "</table>\n",
       "</div>"
      ],
      "text/plain": [
       "                   count\n",
       "unique_tag part_x       \n",
       "           2.0         3\n",
       "           7.0         5\n",
       "165        7.0        15\n",
       "220        2.0         1\n",
       "3          4.0        45\n",
       "59         4.0        57\n",
       "86         6.0         1\n",
       "nan        6.0         1"
      ]
     },
     "execution_count": 632,
     "metadata": {},
     "output_type": "execute_result"
    }
   ],
   "source": [
    "missing_lectures_id.columns = ['count']\n",
    "missing_lectures_id"
   ]
  },
  {
   "cell_type": "code",
   "execution_count": 633,
   "metadata": {},
   "outputs": [
    {
     "data": {
      "text/plain": [
       "count    128\n",
       "dtype: int64"
      ]
     },
     "execution_count": 633,
     "metadata": {},
     "output_type": "execute_result"
    }
   ],
   "source": [
    "missing_lectures_id.sum()"
   ]
  },
  {
   "cell_type": "code",
   "execution_count": 634,
   "metadata": {},
   "outputs": [
    {
     "data": {
      "text/html": [
       "<div>\n",
       "<style scoped>\n",
       "    .dataframe tbody tr th:only-of-type {\n",
       "        vertical-align: middle;\n",
       "    }\n",
       "\n",
       "    .dataframe tbody tr th {\n",
       "        vertical-align: top;\n",
       "    }\n",
       "\n",
       "    .dataframe thead th {\n",
       "        text-align: right;\n",
       "    }\n",
       "</style>\n",
       "<table border=\"1\" class=\"dataframe\">\n",
       "  <thead>\n",
       "    <tr style=\"text-align: right;\">\n",
       "      <th></th>\n",
       "      <th>question_id</th>\n",
       "      <th>bundle_id</th>\n",
       "      <th>correct_answer</th>\n",
       "      <th>part</th>\n",
       "      <th>unique_key_questions</th>\n",
       "    </tr>\n",
       "  </thead>\n",
       "  <tbody>\n",
       "    <tr>\n",
       "      <th>0</th>\n",
       "      <td>0</td>\n",
       "      <td>0</td>\n",
       "      <td>0</td>\n",
       "      <td>1</td>\n",
       "      <td>151</td>\n",
       "    </tr>\n",
       "    <tr>\n",
       "      <th>1</th>\n",
       "      <td>1</td>\n",
       "      <td>1</td>\n",
       "      <td>1</td>\n",
       "      <td>1</td>\n",
       "      <td>136</td>\n",
       "    </tr>\n",
       "    <tr>\n",
       "      <th>2</th>\n",
       "      <td>2</td>\n",
       "      <td>2</td>\n",
       "      <td>0</td>\n",
       "      <td>1</td>\n",
       "      <td>1101</td>\n",
       "    </tr>\n",
       "    <tr>\n",
       "      <th>3</th>\n",
       "      <td>3</td>\n",
       "      <td>3</td>\n",
       "      <td>0</td>\n",
       "      <td>1</td>\n",
       "      <td>1149</td>\n",
       "    </tr>\n",
       "    <tr>\n",
       "      <th>4</th>\n",
       "      <td>4</td>\n",
       "      <td>4</td>\n",
       "      <td>3</td>\n",
       "      <td>1</td>\n",
       "      <td>15</td>\n",
       "    </tr>\n",
       "  </tbody>\n",
       "</table>\n",
       "</div>"
      ],
      "text/plain": [
       "   question_id  bundle_id  correct_answer  part unique_key_questions\n",
       "0            0          0               0     1                  151\n",
       "1            1          1               1     1                  136\n",
       "2            2          2               0     1                 1101\n",
       "3            3          3               0     1                 1149\n",
       "4            4          4               3     1                   15"
      ]
     },
     "execution_count": 634,
     "metadata": {},
     "output_type": "execute_result"
    }
   ],
   "source": [
    "df_questions_2 = df_questions.copy()\n",
    "df_questions_2 = df_questions[['question_id', 'bundle_id', 'correct_answer', 'part', 'unique_key_questions']]\n",
    "df_questions_2.head()"
   ]
  },
  {
   "cell_type": "code",
   "execution_count": 635,
   "metadata": {},
   "outputs": [],
   "source": [
    "df_merge_2 = df_lectures.merge(df_questions_2, left_on=df_lectures['unique_key_lectures'], right_on=df_questions_2['unique_key_questions'], how='outer')\n",
    "df_merge_2 = df_merge_2.drop(columns='part_y')"
   ]
  },
  {
   "cell_type": "code",
   "execution_count": 636,
   "metadata": {},
   "outputs": [],
   "source": [
    "missing_lectures_id_2 = df_merge_2[df_merge_2['unique_key_questions'].isna()].groupby(['tag','part_x'])[['tag']].count()"
   ]
  },
  {
   "cell_type": "code",
   "execution_count": 637,
   "metadata": {
    "scrolled": true
   },
   "outputs": [
    {
     "data": {
      "text/html": [
       "<div>\n",
       "<style scoped>\n",
       "    .dataframe tbody tr th:only-of-type {\n",
       "        vertical-align: middle;\n",
       "    }\n",
       "\n",
       "    .dataframe tbody tr th {\n",
       "        vertical-align: top;\n",
       "    }\n",
       "\n",
       "    .dataframe thead th {\n",
       "        text-align: right;\n",
       "    }\n",
       "</style>\n",
       "<table border=\"1\" class=\"dataframe\">\n",
       "  <thead>\n",
       "    <tr style=\"text-align: right;\">\n",
       "      <th></th>\n",
       "      <th></th>\n",
       "      <th>count</th>\n",
       "    </tr>\n",
       "    <tr>\n",
       "      <th>tag</th>\n",
       "      <th>part_x</th>\n",
       "      <th></th>\n",
       "    </tr>\n",
       "  </thead>\n",
       "  <tbody>\n",
       "    <tr>\n",
       "      <th>0.0</th>\n",
       "      <th>7.0</th>\n",
       "      <td>2</td>\n",
       "    </tr>\n",
       "    <tr>\n",
       "      <th>6.0</th>\n",
       "      <th>2.0</th>\n",
       "      <td>2</td>\n",
       "    </tr>\n",
       "    <tr>\n",
       "      <th>16.0</th>\n",
       "      <th>7.0</th>\n",
       "      <td>2</td>\n",
       "    </tr>\n",
       "    <tr>\n",
       "      <th>37.0</th>\n",
       "      <th>7.0</th>\n",
       "      <td>2</td>\n",
       "    </tr>\n",
       "    <tr>\n",
       "      <th>42.0</th>\n",
       "      <th>7.0</th>\n",
       "      <td>3</td>\n",
       "    </tr>\n",
       "    <tr>\n",
       "      <th>50.0</th>\n",
       "      <th>7.0</th>\n",
       "      <td>2</td>\n",
       "    </tr>\n",
       "    <tr>\n",
       "      <th>62.0</th>\n",
       "      <th>2.0</th>\n",
       "      <td>6</td>\n",
       "    </tr>\n",
       "    <tr>\n",
       "      <th>69.0</th>\n",
       "      <th>2.0</th>\n",
       "      <td>3</td>\n",
       "    </tr>\n",
       "    <tr>\n",
       "      <th>74.0</th>\n",
       "      <th>4.0</th>\n",
       "      <td>4</td>\n",
       "    </tr>\n",
       "    <tr>\n",
       "      <th>82.0</th>\n",
       "      <th>4.0</th>\n",
       "      <td>2</td>\n",
       "    </tr>\n",
       "    <tr>\n",
       "      <th>98.0</th>\n",
       "      <th>7.0</th>\n",
       "      <td>3</td>\n",
       "    </tr>\n",
       "    <tr>\n",
       "      <th>106.0</th>\n",
       "      <th>4.0</th>\n",
       "      <td>2</td>\n",
       "    </tr>\n",
       "    <tr>\n",
       "      <th>113.0</th>\n",
       "      <th>4.0</th>\n",
       "      <td>3</td>\n",
       "    </tr>\n",
       "    <tr>\n",
       "      <th>119.0</th>\n",
       "      <th>2.0</th>\n",
       "      <td>5</td>\n",
       "    </tr>\n",
       "    <tr>\n",
       "      <th>129.0</th>\n",
       "      <th>2.0</th>\n",
       "      <td>3</td>\n",
       "    </tr>\n",
       "    <tr>\n",
       "      <th>136.0</th>\n",
       "      <th>4.0</th>\n",
       "      <td>4</td>\n",
       "    </tr>\n",
       "    <tr>\n",
       "      <th>139.0</th>\n",
       "      <th>7.0</th>\n",
       "      <td>1</td>\n",
       "    </tr>\n",
       "    <tr>\n",
       "      <th>142.0</th>\n",
       "      <th>2.0</th>\n",
       "      <td>2</td>\n",
       "    </tr>\n",
       "    <tr>\n",
       "      <th>143.0</th>\n",
       "      <th>2.0</th>\n",
       "      <td>1</td>\n",
       "    </tr>\n",
       "    <tr>\n",
       "      <th>157.0</th>\n",
       "      <th>4.0</th>\n",
       "      <td>1</td>\n",
       "    </tr>\n",
       "    <tr>\n",
       "      <th>161.0</th>\n",
       "      <th>4.0</th>\n",
       "      <td>3</td>\n",
       "    </tr>\n",
       "    <tr>\n",
       "      <th>163.0</th>\n",
       "      <th>2.0</th>\n",
       "      <td>3</td>\n",
       "    </tr>\n",
       "    <tr>\n",
       "      <th>184.0</th>\n",
       "      <th>7.0</th>\n",
       "      <td>2</td>\n",
       "    </tr>\n",
       "  </tbody>\n",
       "</table>\n",
       "</div>"
      ],
      "text/plain": [
       "              count\n",
       "tag   part_x       \n",
       "0.0   7.0         2\n",
       "6.0   2.0         2\n",
       "16.0  7.0         2\n",
       "37.0  7.0         2\n",
       "42.0  7.0         3\n",
       "50.0  7.0         2\n",
       "62.0  2.0         6\n",
       "69.0  2.0         3\n",
       "74.0  4.0         4\n",
       "82.0  4.0         2\n",
       "98.0  7.0         3\n",
       "106.0 4.0         2\n",
       "113.0 4.0         3\n",
       "119.0 2.0         5\n",
       "129.0 2.0         3\n",
       "136.0 4.0         4\n",
       "139.0 7.0         1\n",
       "142.0 2.0         2\n",
       "143.0 2.0         1\n",
       "157.0 4.0         1\n",
       "161.0 4.0         3\n",
       "163.0 2.0         3\n",
       "184.0 7.0         2"
      ]
     },
     "execution_count": 637,
     "metadata": {},
     "output_type": "execute_result"
    }
   ],
   "source": [
    "missing_lectures_id_2.columns = ['count']\n",
    "missing_lectures_id_2"
   ]
  },
  {
   "cell_type": "code",
   "execution_count": 638,
   "metadata": {},
   "outputs": [
    {
     "data": {
      "text/plain": [
       "count    61\n",
       "dtype: int64"
      ]
     },
     "execution_count": 638,
     "metadata": {},
     "output_type": "execute_result"
    }
   ],
   "source": [
    "missing_lectures_id_2.sum()"
   ]
  },
  {
   "cell_type": "markdown",
   "metadata": {},
   "source": [
    "Tags in the questions dataset but not in the lectures -> to be investigated : \n",
    "\n",
    "\n",
    "0, 6, 10, 11, 16, 20, 21, 22, 29, 32, 35, 37, 38, 41, 42, 46, 50, 56, 62, 63, 69, 77, 81, 84, 87, 88, 92, 98, 100, 102, 107, 110, 117, 119, 121, 122, 129, 131, 135, 139, 142, 143, 146, 154, 160, 162, 163, 184, 185, 186"
   ]
  },
  {
   "cell_type": "markdown",
   "metadata": {},
   "source": [
    "## 4. Cross Checking with Train"
   ]
  },
  {
   "cell_type": "code",
   "execution_count": 639,
   "metadata": {},
   "outputs": [],
   "source": [
    "df_train = pd.read_csv('train_1M.csv')"
   ]
  },
  {
   "cell_type": "code",
   "execution_count": 640,
   "metadata": {},
   "outputs": [],
   "source": [
    "df_train = df_train.drop(columns='Unnamed: 0')"
   ]
  },
  {
   "cell_type": "code",
   "execution_count": 641,
   "metadata": {},
   "outputs": [
    {
     "data": {
      "text/html": [
       "<div>\n",
       "<style scoped>\n",
       "    .dataframe tbody tr th:only-of-type {\n",
       "        vertical-align: middle;\n",
       "    }\n",
       "\n",
       "    .dataframe tbody tr th {\n",
       "        vertical-align: top;\n",
       "    }\n",
       "\n",
       "    .dataframe thead th {\n",
       "        text-align: right;\n",
       "    }\n",
       "</style>\n",
       "<table border=\"1\" class=\"dataframe\">\n",
       "  <thead>\n",
       "    <tr style=\"text-align: right;\">\n",
       "      <th></th>\n",
       "      <th>row_id</th>\n",
       "      <th>timestamp</th>\n",
       "      <th>user_id</th>\n",
       "      <th>content_id</th>\n",
       "      <th>content_type_id</th>\n",
       "      <th>task_container_id</th>\n",
       "      <th>user_answer</th>\n",
       "      <th>answered_correctly</th>\n",
       "      <th>prior_question_elapsed_time</th>\n",
       "      <th>prior_question_had_explanation</th>\n",
       "    </tr>\n",
       "  </thead>\n",
       "  <tbody>\n",
       "    <tr>\n",
       "      <th>0</th>\n",
       "      <td>90286654</td>\n",
       "      <td>0</td>\n",
       "      <td>1917429896</td>\n",
       "      <td>7900</td>\n",
       "      <td>0</td>\n",
       "      <td>0</td>\n",
       "      <td>0</td>\n",
       "      <td>1</td>\n",
       "      <td>NaN</td>\n",
       "      <td>NaN</td>\n",
       "    </tr>\n",
       "    <tr>\n",
       "      <th>1</th>\n",
       "      <td>90286655</td>\n",
       "      <td>26511</td>\n",
       "      <td>1917429896</td>\n",
       "      <td>7876</td>\n",
       "      <td>0</td>\n",
       "      <td>1</td>\n",
       "      <td>2</td>\n",
       "      <td>0</td>\n",
       "      <td>21000.0</td>\n",
       "      <td>False</td>\n",
       "    </tr>\n",
       "    <tr>\n",
       "      <th>2</th>\n",
       "      <td>90286656</td>\n",
       "      <td>55312</td>\n",
       "      <td>1917429896</td>\n",
       "      <td>175</td>\n",
       "      <td>0</td>\n",
       "      <td>2</td>\n",
       "      <td>0</td>\n",
       "      <td>0</td>\n",
       "      <td>21000.0</td>\n",
       "      <td>False</td>\n",
       "    </tr>\n",
       "    <tr>\n",
       "      <th>3</th>\n",
       "      <td>90286657</td>\n",
       "      <td>102436</td>\n",
       "      <td>1917429896</td>\n",
       "      <td>1278</td>\n",
       "      <td>0</td>\n",
       "      <td>3</td>\n",
       "      <td>0</td>\n",
       "      <td>0</td>\n",
       "      <td>23000.0</td>\n",
       "      <td>False</td>\n",
       "    </tr>\n",
       "    <tr>\n",
       "      <th>4</th>\n",
       "      <td>90286658</td>\n",
       "      <td>188454</td>\n",
       "      <td>1917429896</td>\n",
       "      <td>2063</td>\n",
       "      <td>0</td>\n",
       "      <td>4</td>\n",
       "      <td>3</td>\n",
       "      <td>0</td>\n",
       "      <td>45000.0</td>\n",
       "      <td>False</td>\n",
       "    </tr>\n",
       "  </tbody>\n",
       "</table>\n",
       "</div>"
      ],
      "text/plain": [
       "     row_id  timestamp     user_id  content_id  content_type_id  \\\n",
       "0  90286654          0  1917429896        7900                0   \n",
       "1  90286655      26511  1917429896        7876                0   \n",
       "2  90286656      55312  1917429896         175                0   \n",
       "3  90286657     102436  1917429896        1278                0   \n",
       "4  90286658     188454  1917429896        2063                0   \n",
       "\n",
       "   task_container_id  user_answer  answered_correctly  \\\n",
       "0                  0            0                   1   \n",
       "1                  1            2                   0   \n",
       "2                  2            0                   0   \n",
       "3                  3            0                   0   \n",
       "4                  4            3                   0   \n",
       "\n",
       "   prior_question_elapsed_time prior_question_had_explanation  \n",
       "0                          NaN                            NaN  \n",
       "1                      21000.0                          False  \n",
       "2                      21000.0                          False  \n",
       "3                      23000.0                          False  \n",
       "4                      45000.0                          False  "
      ]
     },
     "execution_count": 641,
     "metadata": {},
     "output_type": "execute_result"
    }
   ],
   "source": [
    "df_train.head()"
   ]
  },
  {
   "cell_type": "code",
   "execution_count": 642,
   "metadata": {},
   "outputs": [],
   "source": [
    "df_train = df_train.merge(df_questions, left_on=df_train['content_id'], right_on=df_questions['question_id']).drop(columns=['tags_photographs','tags_question_response','tags_conversations','tags_talks','tags_completion','tags_passages'])"
   ]
  },
  {
   "cell_type": "code",
   "execution_count": 643,
   "metadata": {},
   "outputs": [],
   "source": [
    "df_train_merged = df_train.copy().drop(columns='key_0')"
   ]
  },
  {
   "cell_type": "code",
   "execution_count": 644,
   "metadata": {},
   "outputs": [],
   "source": [
    "df_train_merged = df_train_merged.merge(df_lectures, left_on=df_train['content_id'], right_on=df_lectures['lecture_id'])"
   ]
  },
  {
   "cell_type": "code",
   "execution_count": 645,
   "metadata": {},
   "outputs": [],
   "source": [
    "df_train_merged = df_train_merged.drop(columns='key_0')"
   ]
  },
  {
   "cell_type": "code",
   "execution_count": 646,
   "metadata": {},
   "outputs": [],
   "source": [
    "def type_event(tag, content_type_id):\n",
    "    if content_type_id == 0:\n",
    "        return tag"
   ]
  },
  {
   "cell_type": "code",
   "execution_count": 647,
   "metadata": {},
   "outputs": [],
   "source": [
    "def type_event_2(tag, content_type_id):\n",
    "    if content_type_id == 1:\n",
    "        return tag"
   ]
  },
  {
   "cell_type": "code",
   "execution_count": 648,
   "metadata": {},
   "outputs": [],
   "source": [
    "df_train_merged['tags_q'] = [type_event(tag, content_type_id) for tag, content_type_id in zip(df_train_merged['unique_key_questions'], df_train_merged['content_type_id'])]"
   ]
  },
  {
   "cell_type": "code",
   "execution_count": 649,
   "metadata": {},
   "outputs": [],
   "source": [
    "df_train_merged['tags_l'] = [type_event_2(tag, content_type_id) for tag, content_type_id in zip(df_train_merged['unique_key_lectures'], df_train_merged['content_type_id'])]"
   ]
  },
  {
   "cell_type": "code",
   "execution_count": 650,
   "metadata": {},
   "outputs": [],
   "source": [
    "df_train_final = df_train_merged.copy().drop(columns=['question_id','bundle_id','correct_answer','part_x','section','topics','tags_split','unique_tag','unique_key_questions','lecture_id','tag','part_y','type_of','unique_key_lectures'])"
   ]
  },
  {
   "cell_type": "code",
   "execution_count": 651,
   "metadata": {
    "scrolled": true
   },
   "outputs": [
    {
     "data": {
      "text/html": [
       "<div>\n",
       "<style scoped>\n",
       "    .dataframe tbody tr th:only-of-type {\n",
       "        vertical-align: middle;\n",
       "    }\n",
       "\n",
       "    .dataframe tbody tr th {\n",
       "        vertical-align: top;\n",
       "    }\n",
       "\n",
       "    .dataframe thead th {\n",
       "        text-align: right;\n",
       "    }\n",
       "</style>\n",
       "<table border=\"1\" class=\"dataframe\">\n",
       "  <thead>\n",
       "    <tr style=\"text-align: right;\">\n",
       "      <th></th>\n",
       "      <th>row_id</th>\n",
       "      <th>timestamp</th>\n",
       "      <th>user_id</th>\n",
       "      <th>content_id</th>\n",
       "      <th>content_type_id</th>\n",
       "      <th>task_container_id</th>\n",
       "      <th>user_answer</th>\n",
       "      <th>answered_correctly</th>\n",
       "      <th>prior_question_elapsed_time</th>\n",
       "      <th>prior_question_had_explanation</th>\n",
       "      <th>tags</th>\n",
       "      <th>tags_q</th>\n",
       "      <th>tags_l</th>\n",
       "    </tr>\n",
       "  </thead>\n",
       "  <tbody>\n",
       "    <tr>\n",
       "      <th>0</th>\n",
       "      <td>98061850</td>\n",
       "      <td>1401905</td>\n",
       "      <td>2080495627</td>\n",
       "      <td>10688</td>\n",
       "      <td>0</td>\n",
       "      <td>23</td>\n",
       "      <td>0</td>\n",
       "      <td>1</td>\n",
       "      <td>15000.0</td>\n",
       "      <td>True</td>\n",
       "      <td>62 137 142 81 92</td>\n",
       "      <td>2137</td>\n",
       "      <td>None</td>\n",
       "    </tr>\n",
       "    <tr>\n",
       "      <th>1</th>\n",
       "      <td>3101767</td>\n",
       "      <td>207265933</td>\n",
       "      <td>66766436</td>\n",
       "      <td>10688</td>\n",
       "      <td>0</td>\n",
       "      <td>19</td>\n",
       "      <td>3</td>\n",
       "      <td>0</td>\n",
       "      <td>17000.0</td>\n",
       "      <td>True</td>\n",
       "      <td>62 137 142 81 92</td>\n",
       "      <td>2137</td>\n",
       "      <td>None</td>\n",
       "    </tr>\n",
       "    <tr>\n",
       "      <th>2</th>\n",
       "      <td>53322772</td>\n",
       "      <td>334920976</td>\n",
       "      <td>1130932128</td>\n",
       "      <td>10688</td>\n",
       "      <td>0</td>\n",
       "      <td>68</td>\n",
       "      <td>1</td>\n",
       "      <td>0</td>\n",
       "      <td>17000.0</td>\n",
       "      <td>True</td>\n",
       "      <td>62 137 142 81 92</td>\n",
       "      <td>2137</td>\n",
       "      <td>None</td>\n",
       "    </tr>\n",
       "    <tr>\n",
       "      <th>3</th>\n",
       "      <td>44891819</td>\n",
       "      <td>7250145</td>\n",
       "      <td>949877178</td>\n",
       "      <td>10688</td>\n",
       "      <td>0</td>\n",
       "      <td>19</td>\n",
       "      <td>0</td>\n",
       "      <td>1</td>\n",
       "      <td>11000.0</td>\n",
       "      <td>True</td>\n",
       "      <td>62 137 142 81 92</td>\n",
       "      <td>2137</td>\n",
       "      <td>None</td>\n",
       "    </tr>\n",
       "    <tr>\n",
       "      <th>4</th>\n",
       "      <td>23190258</td>\n",
       "      <td>863712</td>\n",
       "      <td>497821907</td>\n",
       "      <td>10688</td>\n",
       "      <td>0</td>\n",
       "      <td>26</td>\n",
       "      <td>0</td>\n",
       "      <td>1</td>\n",
       "      <td>15000.0</td>\n",
       "      <td>True</td>\n",
       "      <td>62 137 142 81 92</td>\n",
       "      <td>2137</td>\n",
       "      <td>None</td>\n",
       "    </tr>\n",
       "  </tbody>\n",
       "</table>\n",
       "</div>"
      ],
      "text/plain": [
       "     row_id  timestamp     user_id  content_id  content_type_id  \\\n",
       "0  98061850    1401905  2080495627       10688                0   \n",
       "1   3101767  207265933    66766436       10688                0   \n",
       "2  53322772  334920976  1130932128       10688                0   \n",
       "3  44891819    7250145   949877178       10688                0   \n",
       "4  23190258     863712   497821907       10688                0   \n",
       "\n",
       "   task_container_id  user_answer  answered_correctly  \\\n",
       "0                 23            0                   1   \n",
       "1                 19            3                   0   \n",
       "2                 68            1                   0   \n",
       "3                 19            0                   1   \n",
       "4                 26            0                   1   \n",
       "\n",
       "   prior_question_elapsed_time prior_question_had_explanation  \\\n",
       "0                      15000.0                           True   \n",
       "1                      17000.0                           True   \n",
       "2                      17000.0                           True   \n",
       "3                      11000.0                           True   \n",
       "4                      15000.0                           True   \n",
       "\n",
       "               tags tags_q tags_l  \n",
       "0  62 137 142 81 92   2137   None  \n",
       "1  62 137 142 81 92   2137   None  \n",
       "2  62 137 142 81 92   2137   None  \n",
       "3  62 137 142 81 92   2137   None  \n",
       "4  62 137 142 81 92   2137   None  "
      ]
     },
     "execution_count": 651,
     "metadata": {},
     "output_type": "execute_result"
    }
   ],
   "source": [
    "df_train_final.head()"
   ]
  },
  {
   "cell_type": "code",
   "execution_count": 652,
   "metadata": {},
   "outputs": [],
   "source": [
    "def set_tag(content_type_id, q, l):\n",
    "    if content_type_id == 0:\n",
    "        return q\n",
    "    else:\n",
    "        return l"
   ]
  },
  {
   "cell_type": "code",
   "execution_count": 653,
   "metadata": {},
   "outputs": [],
   "source": [
    "df_train_final['tag'] = [set_tag(content_type_id, q, l) for content_type_id, q, l in zip(df_train_final['content_type_id'], df_train_final['tags_q'], df_train_final['tags_l'])]"
   ]
  },
  {
   "cell_type": "code",
   "execution_count": 654,
   "metadata": {},
   "outputs": [],
   "source": [
    "df_train_final = df_train_final.drop(columns=['tags_q','tags_l'])"
   ]
  },
  {
   "cell_type": "code",
   "execution_count": 655,
   "metadata": {},
   "outputs": [
    {
     "data": {
      "text/html": [
       "<div>\n",
       "<style scoped>\n",
       "    .dataframe tbody tr th:only-of-type {\n",
       "        vertical-align: middle;\n",
       "    }\n",
       "\n",
       "    .dataframe tbody tr th {\n",
       "        vertical-align: top;\n",
       "    }\n",
       "\n",
       "    .dataframe thead th {\n",
       "        text-align: right;\n",
       "    }\n",
       "</style>\n",
       "<table border=\"1\" class=\"dataframe\">\n",
       "  <thead>\n",
       "    <tr style=\"text-align: right;\">\n",
       "      <th></th>\n",
       "      <th>row_id</th>\n",
       "      <th>timestamp</th>\n",
       "      <th>user_id</th>\n",
       "      <th>content_id</th>\n",
       "      <th>content_type_id</th>\n",
       "      <th>task_container_id</th>\n",
       "      <th>user_answer</th>\n",
       "      <th>answered_correctly</th>\n",
       "      <th>prior_question_elapsed_time</th>\n",
       "      <th>prior_question_had_explanation</th>\n",
       "      <th>tags</th>\n",
       "      <th>tag</th>\n",
       "    </tr>\n",
       "  </thead>\n",
       "  <tbody>\n",
       "    <tr>\n",
       "      <th>0</th>\n",
       "      <td>98061850</td>\n",
       "      <td>1401905</td>\n",
       "      <td>2080495627</td>\n",
       "      <td>10688</td>\n",
       "      <td>0</td>\n",
       "      <td>23</td>\n",
       "      <td>0</td>\n",
       "      <td>1</td>\n",
       "      <td>15000.0</td>\n",
       "      <td>True</td>\n",
       "      <td>62 137 142 81 92</td>\n",
       "      <td>2137</td>\n",
       "    </tr>\n",
       "    <tr>\n",
       "      <th>1</th>\n",
       "      <td>3101767</td>\n",
       "      <td>207265933</td>\n",
       "      <td>66766436</td>\n",
       "      <td>10688</td>\n",
       "      <td>0</td>\n",
       "      <td>19</td>\n",
       "      <td>3</td>\n",
       "      <td>0</td>\n",
       "      <td>17000.0</td>\n",
       "      <td>True</td>\n",
       "      <td>62 137 142 81 92</td>\n",
       "      <td>2137</td>\n",
       "    </tr>\n",
       "    <tr>\n",
       "      <th>2</th>\n",
       "      <td>53322772</td>\n",
       "      <td>334920976</td>\n",
       "      <td>1130932128</td>\n",
       "      <td>10688</td>\n",
       "      <td>0</td>\n",
       "      <td>68</td>\n",
       "      <td>1</td>\n",
       "      <td>0</td>\n",
       "      <td>17000.0</td>\n",
       "      <td>True</td>\n",
       "      <td>62 137 142 81 92</td>\n",
       "      <td>2137</td>\n",
       "    </tr>\n",
       "    <tr>\n",
       "      <th>3</th>\n",
       "      <td>44891819</td>\n",
       "      <td>7250145</td>\n",
       "      <td>949877178</td>\n",
       "      <td>10688</td>\n",
       "      <td>0</td>\n",
       "      <td>19</td>\n",
       "      <td>0</td>\n",
       "      <td>1</td>\n",
       "      <td>11000.0</td>\n",
       "      <td>True</td>\n",
       "      <td>62 137 142 81 92</td>\n",
       "      <td>2137</td>\n",
       "    </tr>\n",
       "    <tr>\n",
       "      <th>4</th>\n",
       "      <td>23190258</td>\n",
       "      <td>863712</td>\n",
       "      <td>497821907</td>\n",
       "      <td>10688</td>\n",
       "      <td>0</td>\n",
       "      <td>26</td>\n",
       "      <td>0</td>\n",
       "      <td>1</td>\n",
       "      <td>15000.0</td>\n",
       "      <td>True</td>\n",
       "      <td>62 137 142 81 92</td>\n",
       "      <td>2137</td>\n",
       "    </tr>\n",
       "    <tr>\n",
       "      <th>5</th>\n",
       "      <td>72545015</td>\n",
       "      <td>2775346903</td>\n",
       "      <td>1544012629</td>\n",
       "      <td>10688</td>\n",
       "      <td>0</td>\n",
       "      <td>101</td>\n",
       "      <td>0</td>\n",
       "      <td>1</td>\n",
       "      <td>17000.0</td>\n",
       "      <td>True</td>\n",
       "      <td>62 137 142 81 92</td>\n",
       "      <td>2137</td>\n",
       "    </tr>\n",
       "    <tr>\n",
       "      <th>6</th>\n",
       "      <td>5690512</td>\n",
       "      <td>705875</td>\n",
       "      <td>122150413</td>\n",
       "      <td>10688</td>\n",
       "      <td>0</td>\n",
       "      <td>13</td>\n",
       "      <td>3</td>\n",
       "      <td>0</td>\n",
       "      <td>16000.0</td>\n",
       "      <td>True</td>\n",
       "      <td>62 137 142 81 92</td>\n",
       "      <td>2137</td>\n",
       "    </tr>\n",
       "    <tr>\n",
       "      <th>7</th>\n",
       "      <td>50064765</td>\n",
       "      <td>1165990723</td>\n",
       "      <td>1060743949</td>\n",
       "      <td>10688</td>\n",
       "      <td>0</td>\n",
       "      <td>150</td>\n",
       "      <td>0</td>\n",
       "      <td>1</td>\n",
       "      <td>18000.0</td>\n",
       "      <td>True</td>\n",
       "      <td>62 137 142 81 92</td>\n",
       "      <td>2137</td>\n",
       "    </tr>\n",
       "    <tr>\n",
       "      <th>8</th>\n",
       "      <td>28310902</td>\n",
       "      <td>596129497</td>\n",
       "      <td>604934359</td>\n",
       "      <td>10688</td>\n",
       "      <td>0</td>\n",
       "      <td>73</td>\n",
       "      <td>0</td>\n",
       "      <td>1</td>\n",
       "      <td>16000.0</td>\n",
       "      <td>True</td>\n",
       "      <td>62 137 142 81 92</td>\n",
       "      <td>2137</td>\n",
       "    </tr>\n",
       "    <tr>\n",
       "      <th>9</th>\n",
       "      <td>91068585</td>\n",
       "      <td>824495</td>\n",
       "      <td>1932855888</td>\n",
       "      <td>10688</td>\n",
       "      <td>0</td>\n",
       "      <td>24</td>\n",
       "      <td>0</td>\n",
       "      <td>1</td>\n",
       "      <td>19000.0</td>\n",
       "      <td>True</td>\n",
       "      <td>62 137 142 81 92</td>\n",
       "      <td>2137</td>\n",
       "    </tr>\n",
       "    <tr>\n",
       "      <th>10</th>\n",
       "      <td>54800468</td>\n",
       "      <td>160478721</td>\n",
       "      <td>1162126495</td>\n",
       "      <td>10688</td>\n",
       "      <td>0</td>\n",
       "      <td>53</td>\n",
       "      <td>0</td>\n",
       "      <td>1</td>\n",
       "      <td>20000.0</td>\n",
       "      <td>True</td>\n",
       "      <td>62 137 142 81 92</td>\n",
       "      <td>2137</td>\n",
       "    </tr>\n",
       "    <tr>\n",
       "      <th>11</th>\n",
       "      <td>61040955</td>\n",
       "      <td>1054538249</td>\n",
       "      <td>1295086313</td>\n",
       "      <td>10688</td>\n",
       "      <td>0</td>\n",
       "      <td>59</td>\n",
       "      <td>0</td>\n",
       "      <td>1</td>\n",
       "      <td>18000.0</td>\n",
       "      <td>True</td>\n",
       "      <td>62 137 142 81 92</td>\n",
       "      <td>2137</td>\n",
       "    </tr>\n",
       "    <tr>\n",
       "      <th>12</th>\n",
       "      <td>42456041</td>\n",
       "      <td>618156</td>\n",
       "      <td>900086523</td>\n",
       "      <td>10688</td>\n",
       "      <td>0</td>\n",
       "      <td>11</td>\n",
       "      <td>3</td>\n",
       "      <td>0</td>\n",
       "      <td>20000.0</td>\n",
       "      <td>True</td>\n",
       "      <td>62 137 142 81 92</td>\n",
       "      <td>2137</td>\n",
       "    </tr>\n",
       "    <tr>\n",
       "      <th>13</th>\n",
       "      <td>17417349</td>\n",
       "      <td>333451082</td>\n",
       "      <td>374235785</td>\n",
       "      <td>10688</td>\n",
       "      <td>0</td>\n",
       "      <td>53</td>\n",
       "      <td>1</td>\n",
       "      <td>0</td>\n",
       "      <td>15000.0</td>\n",
       "      <td>True</td>\n",
       "      <td>62 137 142 81 92</td>\n",
       "      <td>2137</td>\n",
       "    </tr>\n",
       "    <tr>\n",
       "      <th>14</th>\n",
       "      <td>8694404</td>\n",
       "      <td>1946430310</td>\n",
       "      <td>188929509</td>\n",
       "      <td>10688</td>\n",
       "      <td>0</td>\n",
       "      <td>102</td>\n",
       "      <td>0</td>\n",
       "      <td>1</td>\n",
       "      <td>17000.0</td>\n",
       "      <td>True</td>\n",
       "      <td>62 137 142 81 92</td>\n",
       "      <td>2137</td>\n",
       "    </tr>\n",
       "    <tr>\n",
       "      <th>15</th>\n",
       "      <td>45332512</td>\n",
       "      <td>4419044</td>\n",
       "      <td>959777405</td>\n",
       "      <td>10688</td>\n",
       "      <td>0</td>\n",
       "      <td>41</td>\n",
       "      <td>0</td>\n",
       "      <td>1</td>\n",
       "      <td>16000.0</td>\n",
       "      <td>True</td>\n",
       "      <td>62 137 142 81 92</td>\n",
       "      <td>2137</td>\n",
       "    </tr>\n",
       "    <tr>\n",
       "      <th>16</th>\n",
       "      <td>97906057</td>\n",
       "      <td>425919380</td>\n",
       "      <td>2077317568</td>\n",
       "      <td>10688</td>\n",
       "      <td>0</td>\n",
       "      <td>36</td>\n",
       "      <td>1</td>\n",
       "      <td>0</td>\n",
       "      <td>19000.0</td>\n",
       "      <td>True</td>\n",
       "      <td>62 137 142 81 92</td>\n",
       "      <td>2137</td>\n",
       "    </tr>\n",
       "    <tr>\n",
       "      <th>17</th>\n",
       "      <td>27232397</td>\n",
       "      <td>471566</td>\n",
       "      <td>580647058</td>\n",
       "      <td>10688</td>\n",
       "      <td>0</td>\n",
       "      <td>14</td>\n",
       "      <td>0</td>\n",
       "      <td>1</td>\n",
       "      <td>14000.0</td>\n",
       "      <td>True</td>\n",
       "      <td>62 137 142 81 92</td>\n",
       "      <td>2137</td>\n",
       "    </tr>\n",
       "    <tr>\n",
       "      <th>18</th>\n",
       "      <td>23062314</td>\n",
       "      <td>666943370</td>\n",
       "      <td>494937491</td>\n",
       "      <td>10688</td>\n",
       "      <td>0</td>\n",
       "      <td>70</td>\n",
       "      <td>0</td>\n",
       "      <td>1</td>\n",
       "      <td>17000.0</td>\n",
       "      <td>True</td>\n",
       "      <td>62 137 142 81 92</td>\n",
       "      <td>2137</td>\n",
       "    </tr>\n",
       "    <tr>\n",
       "      <th>19</th>\n",
       "      <td>15554519</td>\n",
       "      <td>262894368</td>\n",
       "      <td>334068673</td>\n",
       "      <td>10688</td>\n",
       "      <td>0</td>\n",
       "      <td>65</td>\n",
       "      <td>1</td>\n",
       "      <td>0</td>\n",
       "      <td>19000.0</td>\n",
       "      <td>True</td>\n",
       "      <td>62 137 142 81 92</td>\n",
       "      <td>2137</td>\n",
       "    </tr>\n",
       "    <tr>\n",
       "      <th>20</th>\n",
       "      <td>33389858</td>\n",
       "      <td>3142797353</td>\n",
       "      <td>715217162</td>\n",
       "      <td>10688</td>\n",
       "      <td>0</td>\n",
       "      <td>75</td>\n",
       "      <td>0</td>\n",
       "      <td>1</td>\n",
       "      <td>19000.0</td>\n",
       "      <td>True</td>\n",
       "      <td>62 137 142 81 92</td>\n",
       "      <td>2137</td>\n",
       "    </tr>\n",
       "    <tr>\n",
       "      <th>21</th>\n",
       "      <td>40444515</td>\n",
       "      <td>1457505426</td>\n",
       "      <td>859798993</td>\n",
       "      <td>10688</td>\n",
       "      <td>0</td>\n",
       "      <td>20</td>\n",
       "      <td>0</td>\n",
       "      <td>1</td>\n",
       "      <td>15000.0</td>\n",
       "      <td>True</td>\n",
       "      <td>62 137 142 81 92</td>\n",
       "      <td>2137</td>\n",
       "    </tr>\n",
       "    <tr>\n",
       "      <th>22</th>\n",
       "      <td>45155746</td>\n",
       "      <td>41971904</td>\n",
       "      <td>956084810</td>\n",
       "      <td>10688</td>\n",
       "      <td>0</td>\n",
       "      <td>22</td>\n",
       "      <td>0</td>\n",
       "      <td>1</td>\n",
       "      <td>19000.0</td>\n",
       "      <td>True</td>\n",
       "      <td>62 137 142 81 92</td>\n",
       "      <td>2137</td>\n",
       "    </tr>\n",
       "    <tr>\n",
       "      <th>23</th>\n",
       "      <td>100049966</td>\n",
       "      <td>4159574398</td>\n",
       "      <td>2123650427</td>\n",
       "      <td>10688</td>\n",
       "      <td>0</td>\n",
       "      <td>665</td>\n",
       "      <td>0</td>\n",
       "      <td>1</td>\n",
       "      <td>21000.0</td>\n",
       "      <td>True</td>\n",
       "      <td>62 137 142 81 92</td>\n",
       "      <td>2137</td>\n",
       "    </tr>\n",
       "    <tr>\n",
       "      <th>24</th>\n",
       "      <td>100050574</td>\n",
       "      <td>5439776197</td>\n",
       "      <td>2123650427</td>\n",
       "      <td>10688</td>\n",
       "      <td>1</td>\n",
       "      <td>1018</td>\n",
       "      <td>-1</td>\n",
       "      <td>-1</td>\n",
       "      <td>NaN</td>\n",
       "      <td>False</td>\n",
       "      <td>62 137 142 81 92</td>\n",
       "      <td>739</td>\n",
       "    </tr>\n",
       "    <tr>\n",
       "      <th>25</th>\n",
       "      <td>96249102</td>\n",
       "      <td>400589</td>\n",
       "      <td>2042287337</td>\n",
       "      <td>10688</td>\n",
       "      <td>0</td>\n",
       "      <td>10</td>\n",
       "      <td>0</td>\n",
       "      <td>1</td>\n",
       "      <td>17000.0</td>\n",
       "      <td>True</td>\n",
       "      <td>62 137 142 81 92</td>\n",
       "      <td>2137</td>\n",
       "    </tr>\n",
       "    <tr>\n",
       "      <th>26</th>\n",
       "      <td>23782578</td>\n",
       "      <td>349008368</td>\n",
       "      <td>508749344</td>\n",
       "      <td>10688</td>\n",
       "      <td>0</td>\n",
       "      <td>32</td>\n",
       "      <td>0</td>\n",
       "      <td>1</td>\n",
       "      <td>19000.0</td>\n",
       "      <td>True</td>\n",
       "      <td>62 137 142 81 92</td>\n",
       "      <td>2137</td>\n",
       "    </tr>\n",
       "    <tr>\n",
       "      <th>27</th>\n",
       "      <td>30847153</td>\n",
       "      <td>80116366</td>\n",
       "      <td>661242810</td>\n",
       "      <td>10688</td>\n",
       "      <td>0</td>\n",
       "      <td>33</td>\n",
       "      <td>0</td>\n",
       "      <td>1</td>\n",
       "      <td>15000.0</td>\n",
       "      <td>True</td>\n",
       "      <td>62 137 142 81 92</td>\n",
       "      <td>2137</td>\n",
       "    </tr>\n",
       "    <tr>\n",
       "      <th>28</th>\n",
       "      <td>88669529</td>\n",
       "      <td>523836643</td>\n",
       "      <td>1885876785</td>\n",
       "      <td>10688</td>\n",
       "      <td>0</td>\n",
       "      <td>331</td>\n",
       "      <td>0</td>\n",
       "      <td>1</td>\n",
       "      <td>17000.0</td>\n",
       "      <td>True</td>\n",
       "      <td>62 137 142 81 92</td>\n",
       "      <td>2137</td>\n",
       "    </tr>\n",
       "    <tr>\n",
       "      <th>29</th>\n",
       "      <td>101135631</td>\n",
       "      <td>18243033172</td>\n",
       "      <td>2145920530</td>\n",
       "      <td>10688</td>\n",
       "      <td>0</td>\n",
       "      <td>258</td>\n",
       "      <td>0</td>\n",
       "      <td>1</td>\n",
       "      <td>17000.0</td>\n",
       "      <td>True</td>\n",
       "      <td>62 137 142 81 92</td>\n",
       "      <td>2137</td>\n",
       "    </tr>\n",
       "    <tr>\n",
       "      <th>...</th>\n",
       "      <td>...</td>\n",
       "      <td>...</td>\n",
       "      <td>...</td>\n",
       "      <td>...</td>\n",
       "      <td>...</td>\n",
       "      <td>...</td>\n",
       "      <td>...</td>\n",
       "      <td>...</td>\n",
       "      <td>...</td>\n",
       "      <td>...</td>\n",
       "      <td>...</td>\n",
       "      <td>...</td>\n",
       "    </tr>\n",
       "    <tr>\n",
       "      <th>20452</th>\n",
       "      <td>73009601</td>\n",
       "      <td>3229597448</td>\n",
       "      <td>1553419449</td>\n",
       "      <td>12942</td>\n",
       "      <td>1</td>\n",
       "      <td>172</td>\n",
       "      <td>-1</td>\n",
       "      <td>-1</td>\n",
       "      <td>NaN</td>\n",
       "      <td>False</td>\n",
       "      <td>136 38 81 29</td>\n",
       "      <td>4126</td>\n",
       "    </tr>\n",
       "    <tr>\n",
       "      <th>20453</th>\n",
       "      <td>78973267</td>\n",
       "      <td>3926535889</td>\n",
       "      <td>1680963325</td>\n",
       "      <td>12831</td>\n",
       "      <td>1</td>\n",
       "      <td>391</td>\n",
       "      <td>-1</td>\n",
       "      <td>-1</td>\n",
       "      <td>NaN</td>\n",
       "      <td>False</td>\n",
       "      <td>131 104 29</td>\n",
       "      <td>412</td>\n",
       "    </tr>\n",
       "    <tr>\n",
       "      <th>20454</th>\n",
       "      <td>70770426</td>\n",
       "      <td>13706766706</td>\n",
       "      <td>1505845771</td>\n",
       "      <td>12831</td>\n",
       "      <td>1</td>\n",
       "      <td>978</td>\n",
       "      <td>-1</td>\n",
       "      <td>-1</td>\n",
       "      <td>NaN</td>\n",
       "      <td>False</td>\n",
       "      <td>131 104 29</td>\n",
       "      <td>412</td>\n",
       "    </tr>\n",
       "    <tr>\n",
       "      <th>20455</th>\n",
       "      <td>35300615</td>\n",
       "      <td>4601860533</td>\n",
       "      <td>755046069</td>\n",
       "      <td>12831</td>\n",
       "      <td>1</td>\n",
       "      <td>345</td>\n",
       "      <td>-1</td>\n",
       "      <td>-1</td>\n",
       "      <td>NaN</td>\n",
       "      <td>False</td>\n",
       "      <td>131 104 29</td>\n",
       "      <td>412</td>\n",
       "    </tr>\n",
       "    <tr>\n",
       "      <th>20456</th>\n",
       "      <td>50709877</td>\n",
       "      <td>4834915102</td>\n",
       "      <td>1074246041</td>\n",
       "      <td>12831</td>\n",
       "      <td>1</td>\n",
       "      <td>703</td>\n",
       "      <td>-1</td>\n",
       "      <td>-1</td>\n",
       "      <td>NaN</td>\n",
       "      <td>False</td>\n",
       "      <td>131 104 29</td>\n",
       "      <td>412</td>\n",
       "    </tr>\n",
       "    <tr>\n",
       "      <th>20457</th>\n",
       "      <td>67277693</td>\n",
       "      <td>3686369094</td>\n",
       "      <td>1430759725</td>\n",
       "      <td>12831</td>\n",
       "      <td>1</td>\n",
       "      <td>404</td>\n",
       "      <td>-1</td>\n",
       "      <td>-1</td>\n",
       "      <td>NaN</td>\n",
       "      <td>False</td>\n",
       "      <td>131 104 29</td>\n",
       "      <td>412</td>\n",
       "    </tr>\n",
       "    <tr>\n",
       "      <th>20458</th>\n",
       "      <td>4753772</td>\n",
       "      <td>1656718955</td>\n",
       "      <td>101015055</td>\n",
       "      <td>12831</td>\n",
       "      <td>1</td>\n",
       "      <td>192</td>\n",
       "      <td>-1</td>\n",
       "      <td>-1</td>\n",
       "      <td>NaN</td>\n",
       "      <td>False</td>\n",
       "      <td>131 104 29</td>\n",
       "      <td>412</td>\n",
       "    </tr>\n",
       "    <tr>\n",
       "      <th>20459</th>\n",
       "      <td>79417976</td>\n",
       "      <td>25313247848</td>\n",
       "      <td>1691082738</td>\n",
       "      <td>12831</td>\n",
       "      <td>0</td>\n",
       "      <td>492</td>\n",
       "      <td>2</td>\n",
       "      <td>1</td>\n",
       "      <td>21000.0</td>\n",
       "      <td>True</td>\n",
       "      <td>131 104 29</td>\n",
       "      <td>1104</td>\n",
       "    </tr>\n",
       "    <tr>\n",
       "      <th>20460</th>\n",
       "      <td>58261917</td>\n",
       "      <td>3184527986</td>\n",
       "      <td>1235168593</td>\n",
       "      <td>12831</td>\n",
       "      <td>1</td>\n",
       "      <td>498</td>\n",
       "      <td>-1</td>\n",
       "      <td>-1</td>\n",
       "      <td>NaN</td>\n",
       "      <td>False</td>\n",
       "      <td>131 104 29</td>\n",
       "      <td>412</td>\n",
       "    </tr>\n",
       "    <tr>\n",
       "      <th>20461</th>\n",
       "      <td>67044469</td>\n",
       "      <td>4536272688</td>\n",
       "      <td>1425328951</td>\n",
       "      <td>12831</td>\n",
       "      <td>1</td>\n",
       "      <td>563</td>\n",
       "      <td>-1</td>\n",
       "      <td>-1</td>\n",
       "      <td>NaN</td>\n",
       "      <td>False</td>\n",
       "      <td>131 104 29</td>\n",
       "      <td>412</td>\n",
       "    </tr>\n",
       "    <tr>\n",
       "      <th>20462</th>\n",
       "      <td>77109272</td>\n",
       "      <td>12924646188</td>\n",
       "      <td>1641944791</td>\n",
       "      <td>12831</td>\n",
       "      <td>1</td>\n",
       "      <td>3470</td>\n",
       "      <td>-1</td>\n",
       "      <td>-1</td>\n",
       "      <td>NaN</td>\n",
       "      <td>False</td>\n",
       "      <td>131 104 29</td>\n",
       "      <td>412</td>\n",
       "    </tr>\n",
       "    <tr>\n",
       "      <th>20463</th>\n",
       "      <td>16140831</td>\n",
       "      <td>9287148074</td>\n",
       "      <td>346059871</td>\n",
       "      <td>12831</td>\n",
       "      <td>1</td>\n",
       "      <td>1785</td>\n",
       "      <td>-1</td>\n",
       "      <td>-1</td>\n",
       "      <td>NaN</td>\n",
       "      <td>False</td>\n",
       "      <td>131 104 29</td>\n",
       "      <td>412</td>\n",
       "    </tr>\n",
       "    <tr>\n",
       "      <th>20464</th>\n",
       "      <td>57323586</td>\n",
       "      <td>78131799240</td>\n",
       "      <td>1216339429</td>\n",
       "      <td>12831</td>\n",
       "      <td>1</td>\n",
       "      <td>2414</td>\n",
       "      <td>-1</td>\n",
       "      <td>-1</td>\n",
       "      <td>NaN</td>\n",
       "      <td>False</td>\n",
       "      <td>131 104 29</td>\n",
       "      <td>412</td>\n",
       "    </tr>\n",
       "    <tr>\n",
       "      <th>20465</th>\n",
       "      <td>83358647</td>\n",
       "      <td>1119972800</td>\n",
       "      <td>1775995167</td>\n",
       "      <td>12831</td>\n",
       "      <td>1</td>\n",
       "      <td>237</td>\n",
       "      <td>-1</td>\n",
       "      <td>-1</td>\n",
       "      <td>NaN</td>\n",
       "      <td>False</td>\n",
       "      <td>131 104 29</td>\n",
       "      <td>412</td>\n",
       "    </tr>\n",
       "    <tr>\n",
       "      <th>20466</th>\n",
       "      <td>47022544</td>\n",
       "      <td>11905526940</td>\n",
       "      <td>993353113</td>\n",
       "      <td>12831</td>\n",
       "      <td>1</td>\n",
       "      <td>390</td>\n",
       "      <td>-1</td>\n",
       "      <td>-1</td>\n",
       "      <td>NaN</td>\n",
       "      <td>False</td>\n",
       "      <td>131 104 29</td>\n",
       "      <td>412</td>\n",
       "    </tr>\n",
       "    <tr>\n",
       "      <th>20467</th>\n",
       "      <td>78352198</td>\n",
       "      <td>4063176090</td>\n",
       "      <td>1667377524</td>\n",
       "      <td>12831</td>\n",
       "      <td>1</td>\n",
       "      <td>279</td>\n",
       "      <td>-1</td>\n",
       "      <td>-1</td>\n",
       "      <td>NaN</td>\n",
       "      <td>False</td>\n",
       "      <td>131 104 29</td>\n",
       "      <td>412</td>\n",
       "    </tr>\n",
       "    <tr>\n",
       "      <th>20468</th>\n",
       "      <td>16597416</td>\n",
       "      <td>4659471209</td>\n",
       "      <td>356883588</td>\n",
       "      <td>12831</td>\n",
       "      <td>1</td>\n",
       "      <td>2891</td>\n",
       "      <td>-1</td>\n",
       "      <td>-1</td>\n",
       "      <td>NaN</td>\n",
       "      <td>False</td>\n",
       "      <td>131 104 29</td>\n",
       "      <td>412</td>\n",
       "    </tr>\n",
       "    <tr>\n",
       "      <th>20469</th>\n",
       "      <td>69374669</td>\n",
       "      <td>30806850442</td>\n",
       "      <td>1475795705</td>\n",
       "      <td>12831</td>\n",
       "      <td>1</td>\n",
       "      <td>940</td>\n",
       "      <td>-1</td>\n",
       "      <td>-1</td>\n",
       "      <td>NaN</td>\n",
       "      <td>False</td>\n",
       "      <td>131 104 29</td>\n",
       "      <td>412</td>\n",
       "    </tr>\n",
       "    <tr>\n",
       "      <th>20470</th>\n",
       "      <td>12660778</td>\n",
       "      <td>3739210317</td>\n",
       "      <td>274281918</td>\n",
       "      <td>12831</td>\n",
       "      <td>1</td>\n",
       "      <td>229</td>\n",
       "      <td>-1</td>\n",
       "      <td>-1</td>\n",
       "      <td>NaN</td>\n",
       "      <td>False</td>\n",
       "      <td>131 104 29</td>\n",
       "      <td>412</td>\n",
       "    </tr>\n",
       "    <tr>\n",
       "      <th>20471</th>\n",
       "      <td>27989768</td>\n",
       "      <td>17907968727</td>\n",
       "      <td>597646021</td>\n",
       "      <td>12831</td>\n",
       "      <td>1</td>\n",
       "      <td>570</td>\n",
       "      <td>-1</td>\n",
       "      <td>-1</td>\n",
       "      <td>NaN</td>\n",
       "      <td>False</td>\n",
       "      <td>131 104 29</td>\n",
       "      <td>412</td>\n",
       "    </tr>\n",
       "    <tr>\n",
       "      <th>20472</th>\n",
       "      <td>63898727</td>\n",
       "      <td>16184526239</td>\n",
       "      <td>1359204481</td>\n",
       "      <td>12831</td>\n",
       "      <td>1</td>\n",
       "      <td>499</td>\n",
       "      <td>-1</td>\n",
       "      <td>-1</td>\n",
       "      <td>NaN</td>\n",
       "      <td>False</td>\n",
       "      <td>131 104 29</td>\n",
       "      <td>412</td>\n",
       "    </tr>\n",
       "    <tr>\n",
       "      <th>20473</th>\n",
       "      <td>29689652</td>\n",
       "      <td>7266435772</td>\n",
       "      <td>635686664</td>\n",
       "      <td>12831</td>\n",
       "      <td>1</td>\n",
       "      <td>171</td>\n",
       "      <td>-1</td>\n",
       "      <td>-1</td>\n",
       "      <td>NaN</td>\n",
       "      <td>False</td>\n",
       "      <td>131 104 29</td>\n",
       "      <td>412</td>\n",
       "    </tr>\n",
       "    <tr>\n",
       "      <th>20474</th>\n",
       "      <td>79593858</td>\n",
       "      <td>3536459096</td>\n",
       "      <td>1694841021</td>\n",
       "      <td>12831</td>\n",
       "      <td>1</td>\n",
       "      <td>712</td>\n",
       "      <td>-1</td>\n",
       "      <td>-1</td>\n",
       "      <td>NaN</td>\n",
       "      <td>False</td>\n",
       "      <td>131 104 29</td>\n",
       "      <td>412</td>\n",
       "    </tr>\n",
       "    <tr>\n",
       "      <th>20475</th>\n",
       "      <td>92316104</td>\n",
       "      <td>1592395670</td>\n",
       "      <td>1958429353</td>\n",
       "      <td>12831</td>\n",
       "      <td>1</td>\n",
       "      <td>807</td>\n",
       "      <td>-1</td>\n",
       "      <td>-1</td>\n",
       "      <td>NaN</td>\n",
       "      <td>False</td>\n",
       "      <td>131 104 29</td>\n",
       "      <td>412</td>\n",
       "    </tr>\n",
       "    <tr>\n",
       "      <th>20476</th>\n",
       "      <td>67277280</td>\n",
       "      <td>2936429171</td>\n",
       "      <td>1430759725</td>\n",
       "      <td>4652</td>\n",
       "      <td>1</td>\n",
       "      <td>281</td>\n",
       "      <td>-1</td>\n",
       "      <td>-1</td>\n",
       "      <td>NaN</td>\n",
       "      <td>False</td>\n",
       "      <td>79</td>\n",
       "      <td>737</td>\n",
       "    </tr>\n",
       "    <tr>\n",
       "      <th>20477</th>\n",
       "      <td>75842967</td>\n",
       "      <td>27821751404</td>\n",
       "      <td>1614520723</td>\n",
       "      <td>4652</td>\n",
       "      <td>1</td>\n",
       "      <td>575</td>\n",
       "      <td>-1</td>\n",
       "      <td>-1</td>\n",
       "      <td>NaN</td>\n",
       "      <td>False</td>\n",
       "      <td>79</td>\n",
       "      <td>737</td>\n",
       "    </tr>\n",
       "    <tr>\n",
       "      <th>20478</th>\n",
       "      <td>80972934</td>\n",
       "      <td>2078224822</td>\n",
       "      <td>1722993905</td>\n",
       "      <td>4652</td>\n",
       "      <td>1</td>\n",
       "      <td>342</td>\n",
       "      <td>-1</td>\n",
       "      <td>-1</td>\n",
       "      <td>NaN</td>\n",
       "      <td>False</td>\n",
       "      <td>79</td>\n",
       "      <td>737</td>\n",
       "    </tr>\n",
       "    <tr>\n",
       "      <th>20479</th>\n",
       "      <td>67044338</td>\n",
       "      <td>3999657136</td>\n",
       "      <td>1425328951</td>\n",
       "      <td>4652</td>\n",
       "      <td>1</td>\n",
       "      <td>524</td>\n",
       "      <td>-1</td>\n",
       "      <td>-1</td>\n",
       "      <td>NaN</td>\n",
       "      <td>False</td>\n",
       "      <td>79</td>\n",
       "      <td>737</td>\n",
       "    </tr>\n",
       "    <tr>\n",
       "      <th>20480</th>\n",
       "      <td>16597903</td>\n",
       "      <td>5503967958</td>\n",
       "      <td>356883588</td>\n",
       "      <td>4652</td>\n",
       "      <td>1</td>\n",
       "      <td>3149</td>\n",
       "      <td>-1</td>\n",
       "      <td>-1</td>\n",
       "      <td>NaN</td>\n",
       "      <td>False</td>\n",
       "      <td>79</td>\n",
       "      <td>737</td>\n",
       "    </tr>\n",
       "    <tr>\n",
       "      <th>20481</th>\n",
       "      <td>27989331</td>\n",
       "      <td>16592776796</td>\n",
       "      <td>597646021</td>\n",
       "      <td>4652</td>\n",
       "      <td>1</td>\n",
       "      <td>430</td>\n",
       "      <td>-1</td>\n",
       "      <td>-1</td>\n",
       "      <td>NaN</td>\n",
       "      <td>False</td>\n",
       "      <td>79</td>\n",
       "      <td>737</td>\n",
       "    </tr>\n",
       "  </tbody>\n",
       "</table>\n",
       "<p>20482 rows × 12 columns</p>\n",
       "</div>"
      ],
      "text/plain": [
       "          row_id    timestamp     user_id  content_id  content_type_id  \\\n",
       "0       98061850      1401905  2080495627       10688                0   \n",
       "1        3101767    207265933    66766436       10688                0   \n",
       "2       53322772    334920976  1130932128       10688                0   \n",
       "3       44891819      7250145   949877178       10688                0   \n",
       "4       23190258       863712   497821907       10688                0   \n",
       "5       72545015   2775346903  1544012629       10688                0   \n",
       "6        5690512       705875   122150413       10688                0   \n",
       "7       50064765   1165990723  1060743949       10688                0   \n",
       "8       28310902    596129497   604934359       10688                0   \n",
       "9       91068585       824495  1932855888       10688                0   \n",
       "10      54800468    160478721  1162126495       10688                0   \n",
       "11      61040955   1054538249  1295086313       10688                0   \n",
       "12      42456041       618156   900086523       10688                0   \n",
       "13      17417349    333451082   374235785       10688                0   \n",
       "14       8694404   1946430310   188929509       10688                0   \n",
       "15      45332512      4419044   959777405       10688                0   \n",
       "16      97906057    425919380  2077317568       10688                0   \n",
       "17      27232397       471566   580647058       10688                0   \n",
       "18      23062314    666943370   494937491       10688                0   \n",
       "19      15554519    262894368   334068673       10688                0   \n",
       "20      33389858   3142797353   715217162       10688                0   \n",
       "21      40444515   1457505426   859798993       10688                0   \n",
       "22      45155746     41971904   956084810       10688                0   \n",
       "23     100049966   4159574398  2123650427       10688                0   \n",
       "24     100050574   5439776197  2123650427       10688                1   \n",
       "25      96249102       400589  2042287337       10688                0   \n",
       "26      23782578    349008368   508749344       10688                0   \n",
       "27      30847153     80116366   661242810       10688                0   \n",
       "28      88669529    523836643  1885876785       10688                0   \n",
       "29     101135631  18243033172  2145920530       10688                0   \n",
       "...          ...          ...         ...         ...              ...   \n",
       "20452   73009601   3229597448  1553419449       12942                1   \n",
       "20453   78973267   3926535889  1680963325       12831                1   \n",
       "20454   70770426  13706766706  1505845771       12831                1   \n",
       "20455   35300615   4601860533   755046069       12831                1   \n",
       "20456   50709877   4834915102  1074246041       12831                1   \n",
       "20457   67277693   3686369094  1430759725       12831                1   \n",
       "20458    4753772   1656718955   101015055       12831                1   \n",
       "20459   79417976  25313247848  1691082738       12831                0   \n",
       "20460   58261917   3184527986  1235168593       12831                1   \n",
       "20461   67044469   4536272688  1425328951       12831                1   \n",
       "20462   77109272  12924646188  1641944791       12831                1   \n",
       "20463   16140831   9287148074   346059871       12831                1   \n",
       "20464   57323586  78131799240  1216339429       12831                1   \n",
       "20465   83358647   1119972800  1775995167       12831                1   \n",
       "20466   47022544  11905526940   993353113       12831                1   \n",
       "20467   78352198   4063176090  1667377524       12831                1   \n",
       "20468   16597416   4659471209   356883588       12831                1   \n",
       "20469   69374669  30806850442  1475795705       12831                1   \n",
       "20470   12660778   3739210317   274281918       12831                1   \n",
       "20471   27989768  17907968727   597646021       12831                1   \n",
       "20472   63898727  16184526239  1359204481       12831                1   \n",
       "20473   29689652   7266435772   635686664       12831                1   \n",
       "20474   79593858   3536459096  1694841021       12831                1   \n",
       "20475   92316104   1592395670  1958429353       12831                1   \n",
       "20476   67277280   2936429171  1430759725        4652                1   \n",
       "20477   75842967  27821751404  1614520723        4652                1   \n",
       "20478   80972934   2078224822  1722993905        4652                1   \n",
       "20479   67044338   3999657136  1425328951        4652                1   \n",
       "20480   16597903   5503967958   356883588        4652                1   \n",
       "20481   27989331  16592776796   597646021        4652                1   \n",
       "\n",
       "       task_container_id  user_answer  answered_correctly  \\\n",
       "0                     23            0                   1   \n",
       "1                     19            3                   0   \n",
       "2                     68            1                   0   \n",
       "3                     19            0                   1   \n",
       "4                     26            0                   1   \n",
       "5                    101            0                   1   \n",
       "6                     13            3                   0   \n",
       "7                    150            0                   1   \n",
       "8                     73            0                   1   \n",
       "9                     24            0                   1   \n",
       "10                    53            0                   1   \n",
       "11                    59            0                   1   \n",
       "12                    11            3                   0   \n",
       "13                    53            1                   0   \n",
       "14                   102            0                   1   \n",
       "15                    41            0                   1   \n",
       "16                    36            1                   0   \n",
       "17                    14            0                   1   \n",
       "18                    70            0                   1   \n",
       "19                    65            1                   0   \n",
       "20                    75            0                   1   \n",
       "21                    20            0                   1   \n",
       "22                    22            0                   1   \n",
       "23                   665            0                   1   \n",
       "24                  1018           -1                  -1   \n",
       "25                    10            0                   1   \n",
       "26                    32            0                   1   \n",
       "27                    33            0                   1   \n",
       "28                   331            0                   1   \n",
       "29                   258            0                   1   \n",
       "...                  ...          ...                 ...   \n",
       "20452                172           -1                  -1   \n",
       "20453                391           -1                  -1   \n",
       "20454                978           -1                  -1   \n",
       "20455                345           -1                  -1   \n",
       "20456                703           -1                  -1   \n",
       "20457                404           -1                  -1   \n",
       "20458                192           -1                  -1   \n",
       "20459                492            2                   1   \n",
       "20460                498           -1                  -1   \n",
       "20461                563           -1                  -1   \n",
       "20462               3470           -1                  -1   \n",
       "20463               1785           -1                  -1   \n",
       "20464               2414           -1                  -1   \n",
       "20465                237           -1                  -1   \n",
       "20466                390           -1                  -1   \n",
       "20467                279           -1                  -1   \n",
       "20468               2891           -1                  -1   \n",
       "20469                940           -1                  -1   \n",
       "20470                229           -1                  -1   \n",
       "20471                570           -1                  -1   \n",
       "20472                499           -1                  -1   \n",
       "20473                171           -1                  -1   \n",
       "20474                712           -1                  -1   \n",
       "20475                807           -1                  -1   \n",
       "20476                281           -1                  -1   \n",
       "20477                575           -1                  -1   \n",
       "20478                342           -1                  -1   \n",
       "20479                524           -1                  -1   \n",
       "20480               3149           -1                  -1   \n",
       "20481                430           -1                  -1   \n",
       "\n",
       "       prior_question_elapsed_time prior_question_had_explanation  \\\n",
       "0                          15000.0                           True   \n",
       "1                          17000.0                           True   \n",
       "2                          17000.0                           True   \n",
       "3                          11000.0                           True   \n",
       "4                          15000.0                           True   \n",
       "5                          17000.0                           True   \n",
       "6                          16000.0                           True   \n",
       "7                          18000.0                           True   \n",
       "8                          16000.0                           True   \n",
       "9                          19000.0                           True   \n",
       "10                         20000.0                           True   \n",
       "11                         18000.0                           True   \n",
       "12                         20000.0                           True   \n",
       "13                         15000.0                           True   \n",
       "14                         17000.0                           True   \n",
       "15                         16000.0                           True   \n",
       "16                         19000.0                           True   \n",
       "17                         14000.0                           True   \n",
       "18                         17000.0                           True   \n",
       "19                         19000.0                           True   \n",
       "20                         19000.0                           True   \n",
       "21                         15000.0                           True   \n",
       "22                         19000.0                           True   \n",
       "23                         21000.0                           True   \n",
       "24                             NaN                          False   \n",
       "25                         17000.0                           True   \n",
       "26                         19000.0                           True   \n",
       "27                         15000.0                           True   \n",
       "28                         17000.0                           True   \n",
       "29                         17000.0                           True   \n",
       "...                            ...                            ...   \n",
       "20452                          NaN                          False   \n",
       "20453                          NaN                          False   \n",
       "20454                          NaN                          False   \n",
       "20455                          NaN                          False   \n",
       "20456                          NaN                          False   \n",
       "20457                          NaN                          False   \n",
       "20458                          NaN                          False   \n",
       "20459                      21000.0                           True   \n",
       "20460                          NaN                          False   \n",
       "20461                          NaN                          False   \n",
       "20462                          NaN                          False   \n",
       "20463                          NaN                          False   \n",
       "20464                          NaN                          False   \n",
       "20465                          NaN                          False   \n",
       "20466                          NaN                          False   \n",
       "20467                          NaN                          False   \n",
       "20468                          NaN                          False   \n",
       "20469                          NaN                          False   \n",
       "20470                          NaN                          False   \n",
       "20471                          NaN                          False   \n",
       "20472                          NaN                          False   \n",
       "20473                          NaN                          False   \n",
       "20474                          NaN                          False   \n",
       "20475                          NaN                          False   \n",
       "20476                          NaN                          False   \n",
       "20477                          NaN                          False   \n",
       "20478                          NaN                          False   \n",
       "20479                          NaN                          False   \n",
       "20480                          NaN                          False   \n",
       "20481                          NaN                          False   \n",
       "\n",
       "                   tags   tag  \n",
       "0      62 137 142 81 92  2137  \n",
       "1      62 137 142 81 92  2137  \n",
       "2      62 137 142 81 92  2137  \n",
       "3      62 137 142 81 92  2137  \n",
       "4      62 137 142 81 92  2137  \n",
       "5      62 137 142 81 92  2137  \n",
       "6      62 137 142 81 92  2137  \n",
       "7      62 137 142 81 92  2137  \n",
       "8      62 137 142 81 92  2137  \n",
       "9      62 137 142 81 92  2137  \n",
       "10     62 137 142 81 92  2137  \n",
       "11     62 137 142 81 92  2137  \n",
       "12     62 137 142 81 92  2137  \n",
       "13     62 137 142 81 92  2137  \n",
       "14     62 137 142 81 92  2137  \n",
       "15     62 137 142 81 92  2137  \n",
       "16     62 137 142 81 92  2137  \n",
       "17     62 137 142 81 92  2137  \n",
       "18     62 137 142 81 92  2137  \n",
       "19     62 137 142 81 92  2137  \n",
       "20     62 137 142 81 92  2137  \n",
       "21     62 137 142 81 92  2137  \n",
       "22     62 137 142 81 92  2137  \n",
       "23     62 137 142 81 92  2137  \n",
       "24     62 137 142 81 92   739  \n",
       "25     62 137 142 81 92  2137  \n",
       "26     62 137 142 81 92  2137  \n",
       "27     62 137 142 81 92  2137  \n",
       "28     62 137 142 81 92  2137  \n",
       "29     62 137 142 81 92  2137  \n",
       "...                 ...   ...  \n",
       "20452      136 38 81 29  4126  \n",
       "20453        131 104 29   412  \n",
       "20454        131 104 29   412  \n",
       "20455        131 104 29   412  \n",
       "20456        131 104 29   412  \n",
       "20457        131 104 29   412  \n",
       "20458        131 104 29   412  \n",
       "20459        131 104 29  1104  \n",
       "20460        131 104 29   412  \n",
       "20461        131 104 29   412  \n",
       "20462        131 104 29   412  \n",
       "20463        131 104 29   412  \n",
       "20464        131 104 29   412  \n",
       "20465        131 104 29   412  \n",
       "20466        131 104 29   412  \n",
       "20467        131 104 29   412  \n",
       "20468        131 104 29   412  \n",
       "20469        131 104 29   412  \n",
       "20470        131 104 29   412  \n",
       "20471        131 104 29   412  \n",
       "20472        131 104 29   412  \n",
       "20473        131 104 29   412  \n",
       "20474        131 104 29   412  \n",
       "20475        131 104 29   412  \n",
       "20476                79   737  \n",
       "20477                79   737  \n",
       "20478                79   737  \n",
       "20479                79   737  \n",
       "20480                79   737  \n",
       "20481                79   737  \n",
       "\n",
       "[20482 rows x 12 columns]"
      ]
     },
     "execution_count": 655,
     "metadata": {},
     "output_type": "execute_result"
    }
   ],
   "source": [
    "df_train_final"
   ]
  },
  {
   "cell_type": "code",
   "execution_count": 656,
   "metadata": {},
   "outputs": [],
   "source": [
    "def set_combination(content_type_id, combination):\n",
    "    if content_type_id == 0:\n",
    "        return combination\n",
    "    else:\n",
    "        return None"
   ]
  },
  {
   "cell_type": "code",
   "execution_count": 657,
   "metadata": {},
   "outputs": [],
   "source": [
    "df_train_final['combination'] = [set_combination(content_type_id, combination) for content_type_id, combination in zip(df_train_final['content_type_id'], df_train_final['tags'])]"
   ]
  },
  {
   "cell_type": "code",
   "execution_count": 659,
   "metadata": {
    "scrolled": false
   },
   "outputs": [],
   "source": [
    "df_train_final = df_train_final.drop(columns='tags')"
   ]
  },
  {
   "cell_type": "code",
   "execution_count": 660,
   "metadata": {},
   "outputs": [
    {
     "data": {
      "text/html": [
       "<div>\n",
       "<style scoped>\n",
       "    .dataframe tbody tr th:only-of-type {\n",
       "        vertical-align: middle;\n",
       "    }\n",
       "\n",
       "    .dataframe tbody tr th {\n",
       "        vertical-align: top;\n",
       "    }\n",
       "\n",
       "    .dataframe thead th {\n",
       "        text-align: right;\n",
       "    }\n",
       "</style>\n",
       "<table border=\"1\" class=\"dataframe\">\n",
       "  <thead>\n",
       "    <tr style=\"text-align: right;\">\n",
       "      <th></th>\n",
       "      <th>row_id</th>\n",
       "      <th>timestamp</th>\n",
       "      <th>user_id</th>\n",
       "      <th>content_id</th>\n",
       "      <th>content_type_id</th>\n",
       "      <th>task_container_id</th>\n",
       "      <th>user_answer</th>\n",
       "      <th>answered_correctly</th>\n",
       "      <th>prior_question_elapsed_time</th>\n",
       "      <th>prior_question_had_explanation</th>\n",
       "      <th>tag</th>\n",
       "      <th>combination</th>\n",
       "    </tr>\n",
       "  </thead>\n",
       "  <tbody>\n",
       "    <tr>\n",
       "      <th>0</th>\n",
       "      <td>98061850</td>\n",
       "      <td>1401905</td>\n",
       "      <td>2080495627</td>\n",
       "      <td>10688</td>\n",
       "      <td>0</td>\n",
       "      <td>23</td>\n",
       "      <td>0</td>\n",
       "      <td>1</td>\n",
       "      <td>15000.0</td>\n",
       "      <td>True</td>\n",
       "      <td>2137</td>\n",
       "      <td>62 137 142 81 92</td>\n",
       "    </tr>\n",
       "    <tr>\n",
       "      <th>1</th>\n",
       "      <td>3101767</td>\n",
       "      <td>207265933</td>\n",
       "      <td>66766436</td>\n",
       "      <td>10688</td>\n",
       "      <td>0</td>\n",
       "      <td>19</td>\n",
       "      <td>3</td>\n",
       "      <td>0</td>\n",
       "      <td>17000.0</td>\n",
       "      <td>True</td>\n",
       "      <td>2137</td>\n",
       "      <td>62 137 142 81 92</td>\n",
       "    </tr>\n",
       "    <tr>\n",
       "      <th>2</th>\n",
       "      <td>53322772</td>\n",
       "      <td>334920976</td>\n",
       "      <td>1130932128</td>\n",
       "      <td>10688</td>\n",
       "      <td>0</td>\n",
       "      <td>68</td>\n",
       "      <td>1</td>\n",
       "      <td>0</td>\n",
       "      <td>17000.0</td>\n",
       "      <td>True</td>\n",
       "      <td>2137</td>\n",
       "      <td>62 137 142 81 92</td>\n",
       "    </tr>\n",
       "    <tr>\n",
       "      <th>3</th>\n",
       "      <td>44891819</td>\n",
       "      <td>7250145</td>\n",
       "      <td>949877178</td>\n",
       "      <td>10688</td>\n",
       "      <td>0</td>\n",
       "      <td>19</td>\n",
       "      <td>0</td>\n",
       "      <td>1</td>\n",
       "      <td>11000.0</td>\n",
       "      <td>True</td>\n",
       "      <td>2137</td>\n",
       "      <td>62 137 142 81 92</td>\n",
       "    </tr>\n",
       "    <tr>\n",
       "      <th>4</th>\n",
       "      <td>23190258</td>\n",
       "      <td>863712</td>\n",
       "      <td>497821907</td>\n",
       "      <td>10688</td>\n",
       "      <td>0</td>\n",
       "      <td>26</td>\n",
       "      <td>0</td>\n",
       "      <td>1</td>\n",
       "      <td>15000.0</td>\n",
       "      <td>True</td>\n",
       "      <td>2137</td>\n",
       "      <td>62 137 142 81 92</td>\n",
       "    </tr>\n",
       "  </tbody>\n",
       "</table>\n",
       "</div>"
      ],
      "text/plain": [
       "     row_id  timestamp     user_id  content_id  content_type_id  \\\n",
       "0  98061850    1401905  2080495627       10688                0   \n",
       "1   3101767  207265933    66766436       10688                0   \n",
       "2  53322772  334920976  1130932128       10688                0   \n",
       "3  44891819    7250145   949877178       10688                0   \n",
       "4  23190258     863712   497821907       10688                0   \n",
       "\n",
       "   task_container_id  user_answer  answered_correctly  \\\n",
       "0                 23            0                   1   \n",
       "1                 19            3                   0   \n",
       "2                 68            1                   0   \n",
       "3                 19            0                   1   \n",
       "4                 26            0                   1   \n",
       "\n",
       "   prior_question_elapsed_time prior_question_had_explanation   tag  \\\n",
       "0                      15000.0                           True  2137   \n",
       "1                      17000.0                           True  2137   \n",
       "2                      17000.0                           True  2137   \n",
       "3                      11000.0                           True  2137   \n",
       "4                      15000.0                           True  2137   \n",
       "\n",
       "        combination  \n",
       "0  62 137 142 81 92  \n",
       "1  62 137 142 81 92  \n",
       "2  62 137 142 81 92  \n",
       "3  62 137 142 81 92  \n",
       "4  62 137 142 81 92  "
      ]
     },
     "execution_count": 660,
     "metadata": {},
     "output_type": "execute_result"
    }
   ],
   "source": [
    "df_train_final.head()"
   ]
  }
 ],
 "metadata": {
  "kernelspec": {
   "display_name": "Python 3",
   "language": "python",
   "name": "python3"
  },
  "language_info": {
   "codemirror_mode": {
    "name": "ipython",
    "version": 3
   },
   "file_extension": ".py",
   "mimetype": "text/x-python",
   "name": "python",
   "nbconvert_exporter": "python",
   "pygments_lexer": "ipython3",
   "version": "3.7.7"
  }
 },
 "nbformat": 4,
 "nbformat_minor": 4
}
