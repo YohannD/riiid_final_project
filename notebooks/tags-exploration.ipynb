{
 "cells": [
  {
   "cell_type": "markdown",
   "metadata": {},
   "source": [
    "# Tags exploration"
   ]
  },
  {
   "cell_type": "markdown",
   "metadata": {},
   "source": [
    "## 1. Questions"
   ]
  },
  {
   "cell_type": "code",
   "execution_count": 106,
   "metadata": {},
   "outputs": [],
   "source": [
    "import pandas as pd\n",
    "import matplotlib.pyplot as plt\n",
    "import numpy as np\n",
    "import seaborn as sns"
   ]
  },
  {
   "cell_type": "code",
   "execution_count": 107,
   "metadata": {},
   "outputs": [],
   "source": [
    "df_questions = pd.read_csv('../data/questions.csv')"
   ]
  },
  {
   "cell_type": "code",
   "execution_count": 108,
   "metadata": {},
   "outputs": [
    {
     "data": {
      "text/html": [
       "<div>\n",
       "<style scoped>\n",
       "    .dataframe tbody tr th:only-of-type {\n",
       "        vertical-align: middle;\n",
       "    }\n",
       "\n",
       "    .dataframe tbody tr th {\n",
       "        vertical-align: top;\n",
       "    }\n",
       "\n",
       "    .dataframe thead th {\n",
       "        text-align: right;\n",
       "    }\n",
       "</style>\n",
       "<table border=\"1\" class=\"dataframe\">\n",
       "  <thead>\n",
       "    <tr style=\"text-align: right;\">\n",
       "      <th></th>\n",
       "      <th>question_id</th>\n",
       "      <th>bundle_id</th>\n",
       "      <th>correct_answer</th>\n",
       "      <th>part</th>\n",
       "      <th>tags</th>\n",
       "    </tr>\n",
       "  </thead>\n",
       "  <tbody>\n",
       "    <tr>\n",
       "      <th>0</th>\n",
       "      <td>0</td>\n",
       "      <td>0</td>\n",
       "      <td>0</td>\n",
       "      <td>1</td>\n",
       "      <td>51 131 162 38</td>\n",
       "    </tr>\n",
       "    <tr>\n",
       "      <th>1</th>\n",
       "      <td>1</td>\n",
       "      <td>1</td>\n",
       "      <td>1</td>\n",
       "      <td>1</td>\n",
       "      <td>131 36 81</td>\n",
       "    </tr>\n",
       "    <tr>\n",
       "      <th>2</th>\n",
       "      <td>2</td>\n",
       "      <td>2</td>\n",
       "      <td>0</td>\n",
       "      <td>1</td>\n",
       "      <td>131 101 162 92</td>\n",
       "    </tr>\n",
       "    <tr>\n",
       "      <th>3</th>\n",
       "      <td>3</td>\n",
       "      <td>3</td>\n",
       "      <td>0</td>\n",
       "      <td>1</td>\n",
       "      <td>131 149 162 29</td>\n",
       "    </tr>\n",
       "    <tr>\n",
       "      <th>4</th>\n",
       "      <td>4</td>\n",
       "      <td>4</td>\n",
       "      <td>3</td>\n",
       "      <td>1</td>\n",
       "      <td>131 5 162 38</td>\n",
       "    </tr>\n",
       "  </tbody>\n",
       "</table>\n",
       "</div>"
      ],
      "text/plain": [
       "   question_id  bundle_id  correct_answer  part            tags\n",
       "0            0          0               0     1   51 131 162 38\n",
       "1            1          1               1     1       131 36 81\n",
       "2            2          2               0     1  131 101 162 92\n",
       "3            3          3               0     1  131 149 162 29\n",
       "4            4          4               3     1    131 5 162 38"
      ]
     },
     "execution_count": 108,
     "metadata": {},
     "output_type": "execute_result"
    }
   ],
   "source": [
    "df_questions.head()"
   ]
  },
  {
   "cell_type": "code",
   "execution_count": 109,
   "metadata": {},
   "outputs": [],
   "source": [
    "def set_section(part):\n",
    "    if part <= 4:\n",
    "        section = 'Listening'\n",
    "    else:\n",
    "        section = 'Reading'\n",
    "    return section"
   ]
  },
  {
   "cell_type": "code",
   "execution_count": 110,
   "metadata": {},
   "outputs": [],
   "source": [
    "df_questions['section'] = df_questions['part'].apply(set_section)"
   ]
  },
  {
   "cell_type": "code",
   "execution_count": 111,
   "metadata": {},
   "outputs": [],
   "source": [
    "topics_mapping = {1: 'Photographs', 2: 'Question/Response', 3: 'Conversations', 4: 'Talks', 5: 'Incomplete Sentences', 6: 'Text Completion', 7: 'Passages'}"
   ]
  },
  {
   "cell_type": "code",
   "execution_count": 112,
   "metadata": {},
   "outputs": [],
   "source": [
    "df_questions['topics'] = df_questions['part'].map(topics_mapping)"
   ]
  },
  {
   "cell_type": "code",
   "execution_count": 113,
   "metadata": {
    "scrolled": true
   },
   "outputs": [
    {
     "data": {
      "text/html": [
       "<div>\n",
       "<style scoped>\n",
       "    .dataframe tbody tr th:only-of-type {\n",
       "        vertical-align: middle;\n",
       "    }\n",
       "\n",
       "    .dataframe tbody tr th {\n",
       "        vertical-align: top;\n",
       "    }\n",
       "\n",
       "    .dataframe thead th {\n",
       "        text-align: right;\n",
       "    }\n",
       "</style>\n",
       "<table border=\"1\" class=\"dataframe\">\n",
       "  <thead>\n",
       "    <tr style=\"text-align: right;\">\n",
       "      <th></th>\n",
       "      <th>question_id</th>\n",
       "      <th>bundle_id</th>\n",
       "      <th>correct_answer</th>\n",
       "      <th>part</th>\n",
       "      <th>tags</th>\n",
       "      <th>section</th>\n",
       "      <th>topics</th>\n",
       "    </tr>\n",
       "  </thead>\n",
       "  <tbody>\n",
       "    <tr>\n",
       "      <th>0</th>\n",
       "      <td>0</td>\n",
       "      <td>0</td>\n",
       "      <td>0</td>\n",
       "      <td>1</td>\n",
       "      <td>51 131 162 38</td>\n",
       "      <td>Listening</td>\n",
       "      <td>Photographs</td>\n",
       "    </tr>\n",
       "    <tr>\n",
       "      <th>1</th>\n",
       "      <td>1</td>\n",
       "      <td>1</td>\n",
       "      <td>1</td>\n",
       "      <td>1</td>\n",
       "      <td>131 36 81</td>\n",
       "      <td>Listening</td>\n",
       "      <td>Photographs</td>\n",
       "    </tr>\n",
       "    <tr>\n",
       "      <th>2</th>\n",
       "      <td>2</td>\n",
       "      <td>2</td>\n",
       "      <td>0</td>\n",
       "      <td>1</td>\n",
       "      <td>131 101 162 92</td>\n",
       "      <td>Listening</td>\n",
       "      <td>Photographs</td>\n",
       "    </tr>\n",
       "    <tr>\n",
       "      <th>3</th>\n",
       "      <td>3</td>\n",
       "      <td>3</td>\n",
       "      <td>0</td>\n",
       "      <td>1</td>\n",
       "      <td>131 149 162 29</td>\n",
       "      <td>Listening</td>\n",
       "      <td>Photographs</td>\n",
       "    </tr>\n",
       "    <tr>\n",
       "      <th>4</th>\n",
       "      <td>4</td>\n",
       "      <td>4</td>\n",
       "      <td>3</td>\n",
       "      <td>1</td>\n",
       "      <td>131 5 162 38</td>\n",
       "      <td>Listening</td>\n",
       "      <td>Photographs</td>\n",
       "    </tr>\n",
       "  </tbody>\n",
       "</table>\n",
       "</div>"
      ],
      "text/plain": [
       "   question_id  bundle_id  correct_answer  part            tags    section  \\\n",
       "0            0          0               0     1   51 131 162 38  Listening   \n",
       "1            1          1               1     1       131 36 81  Listening   \n",
       "2            2          2               0     1  131 101 162 92  Listening   \n",
       "3            3          3               0     1  131 149 162 29  Listening   \n",
       "4            4          4               3     1    131 5 162 38  Listening   \n",
       "\n",
       "        topics  \n",
       "0  Photographs  \n",
       "1  Photographs  \n",
       "2  Photographs  \n",
       "3  Photographs  \n",
       "4  Photographs  "
      ]
     },
     "execution_count": 113,
     "metadata": {},
     "output_type": "execute_result"
    }
   ],
   "source": [
    "df_questions.head()"
   ]
  },
  {
   "cell_type": "code",
   "execution_count": 114,
   "metadata": {},
   "outputs": [],
   "source": [
    "df_questions['tags_split'] = df_questions['tags'].apply(lambda x: str(x).rsplit())"
   ]
  },
  {
   "cell_type": "code",
   "execution_count": 115,
   "metadata": {
    "scrolled": true
   },
   "outputs": [
    {
     "data": {
      "text/html": [
       "<div>\n",
       "<style scoped>\n",
       "    .dataframe tbody tr th:only-of-type {\n",
       "        vertical-align: middle;\n",
       "    }\n",
       "\n",
       "    .dataframe tbody tr th {\n",
       "        vertical-align: top;\n",
       "    }\n",
       "\n",
       "    .dataframe thead th {\n",
       "        text-align: right;\n",
       "    }\n",
       "</style>\n",
       "<table border=\"1\" class=\"dataframe\">\n",
       "  <thead>\n",
       "    <tr style=\"text-align: right;\">\n",
       "      <th></th>\n",
       "      <th>question_id</th>\n",
       "      <th>bundle_id</th>\n",
       "      <th>correct_answer</th>\n",
       "      <th>part</th>\n",
       "      <th>tags</th>\n",
       "      <th>section</th>\n",
       "      <th>topics</th>\n",
       "      <th>tags_split</th>\n",
       "    </tr>\n",
       "  </thead>\n",
       "  <tbody>\n",
       "    <tr>\n",
       "      <th>0</th>\n",
       "      <td>0</td>\n",
       "      <td>0</td>\n",
       "      <td>0</td>\n",
       "      <td>1</td>\n",
       "      <td>51 131 162 38</td>\n",
       "      <td>Listening</td>\n",
       "      <td>Photographs</td>\n",
       "      <td>[51, 131, 162, 38]</td>\n",
       "    </tr>\n",
       "    <tr>\n",
       "      <th>1</th>\n",
       "      <td>1</td>\n",
       "      <td>1</td>\n",
       "      <td>1</td>\n",
       "      <td>1</td>\n",
       "      <td>131 36 81</td>\n",
       "      <td>Listening</td>\n",
       "      <td>Photographs</td>\n",
       "      <td>[131, 36, 81]</td>\n",
       "    </tr>\n",
       "    <tr>\n",
       "      <th>2</th>\n",
       "      <td>2</td>\n",
       "      <td>2</td>\n",
       "      <td>0</td>\n",
       "      <td>1</td>\n",
       "      <td>131 101 162 92</td>\n",
       "      <td>Listening</td>\n",
       "      <td>Photographs</td>\n",
       "      <td>[131, 101, 162, 92]</td>\n",
       "    </tr>\n",
       "    <tr>\n",
       "      <th>3</th>\n",
       "      <td>3</td>\n",
       "      <td>3</td>\n",
       "      <td>0</td>\n",
       "      <td>1</td>\n",
       "      <td>131 149 162 29</td>\n",
       "      <td>Listening</td>\n",
       "      <td>Photographs</td>\n",
       "      <td>[131, 149, 162, 29]</td>\n",
       "    </tr>\n",
       "    <tr>\n",
       "      <th>4</th>\n",
       "      <td>4</td>\n",
       "      <td>4</td>\n",
       "      <td>3</td>\n",
       "      <td>1</td>\n",
       "      <td>131 5 162 38</td>\n",
       "      <td>Listening</td>\n",
       "      <td>Photographs</td>\n",
       "      <td>[131, 5, 162, 38]</td>\n",
       "    </tr>\n",
       "  </tbody>\n",
       "</table>\n",
       "</div>"
      ],
      "text/plain": [
       "   question_id  bundle_id  correct_answer  part            tags    section  \\\n",
       "0            0          0               0     1   51 131 162 38  Listening   \n",
       "1            1          1               1     1       131 36 81  Listening   \n",
       "2            2          2               0     1  131 101 162 92  Listening   \n",
       "3            3          3               0     1  131 149 162 29  Listening   \n",
       "4            4          4               3     1    131 5 162 38  Listening   \n",
       "\n",
       "        topics           tags_split  \n",
       "0  Photographs   [51, 131, 162, 38]  \n",
       "1  Photographs        [131, 36, 81]  \n",
       "2  Photographs  [131, 101, 162, 92]  \n",
       "3  Photographs  [131, 149, 162, 29]  \n",
       "4  Photographs    [131, 5, 162, 38]  "
      ]
     },
     "execution_count": 115,
     "metadata": {},
     "output_type": "execute_result"
    }
   ],
   "source": [
    "df_questions.head()"
   ]
  },
  {
   "cell_type": "markdown",
   "metadata": {},
   "source": [
    "### TOEIC Part 1 : Photographs"
   ]
  },
  {
   "cell_type": "code",
   "execution_count": 116,
   "metadata": {},
   "outputs": [],
   "source": [
    "def tag_photographs(tags):\n",
    "    photographs = ['5','9','13','36','40','51','61','68','70','93','94','99','101','104','111','130','149','164','178','187']\n",
    "    return ''.join([tag for tag in tags if tag in photographs])"
   ]
  },
  {
   "cell_type": "code",
   "execution_count": 117,
   "metadata": {},
   "outputs": [],
   "source": [
    "df_questions['tags_photographs'] = df_questions.loc[(df_questions.topics=='Photographs')]['tags_split'].apply(tag_photographs)"
   ]
  },
  {
   "cell_type": "code",
   "execution_count": 118,
   "metadata": {},
   "outputs": [],
   "source": [
    "df_questions['tags_photographs'] = df_questions['tags_photographs'].fillna('')"
   ]
  },
  {
   "cell_type": "code",
   "execution_count": 119,
   "metadata": {},
   "outputs": [
    {
     "data": {
      "text/plain": [
       "array(['51', '36', '101', '149', '5', '94', '61', '13', '164', '99', '93',\n",
       "       '70', '9', '104', '40', '130', '187', '111', '178', '', '68'],\n",
       "      dtype=object)"
      ]
     },
     "execution_count": 119,
     "metadata": {},
     "output_type": "execute_result"
    }
   ],
   "source": [
    "df_questions['tags_photographs'].unique()"
   ]
  },
  {
   "cell_type": "code",
   "execution_count": 120,
   "metadata": {
    "scrolled": true
   },
   "outputs": [
    {
     "data": {
      "image/png": "[encoded data removed]",
      "text/plain": [
       "<Figure size 432x288 with 1 Axes>"
      ]
     },
     "metadata": {
      "needs_background": "light"
     },
     "output_type": "display_data"
    }
   ],
   "source": [
    "tags_photographs_unique, tags_photographs_counts = np.unique(df_questions[df_questions.topics=='Photographs']['tags_photographs'], return_counts=True)\n",
    "\n",
    "dict_1 = dict(zip(tags_photographs_unique, tags_photographs_counts))\n",
    "\n",
    "plt.bar(range(len(dict_1)), list(dict_1.values()), align='center')\n",
    "plt.xticks(range(len(dict_1)), list(dict_1.keys()))\n",
    "plt.show()"
   ]
  },
  {
   "cell_type": "markdown",
   "metadata": {},
   "source": [
    "### TOEIC Part 2 : Question-Response"
   ]
  },
  {
   "cell_type": "code",
   "execution_count": 121,
   "metadata": {},
   "outputs": [],
   "source": [
    "def tag_question_response(tags):\n",
    "    question_response = ['2','17','20','30','71','90','105','114','137','138','140','141','148','155','176']\n",
    "    return ''.join([tag for tag in tags if tag in question_response])"
   ]
  },
  {
   "cell_type": "code",
   "execution_count": 122,
   "metadata": {},
   "outputs": [],
   "source": [
    "df_questions['tags_question_response'] = df_questions.loc[(df_questions.topics=='Question/Response')]['tags_split'].apply(tag_question_response)"
   ]
  },
  {
   "cell_type": "code",
   "execution_count": 123,
   "metadata": {},
   "outputs": [],
   "source": [
    "df_questions['tags_question_response'] = df_questions['tags_question_response'].fillna('')"
   ]
  },
  {
   "cell_type": "code",
   "execution_count": 124,
   "metadata": {},
   "outputs": [
    {
     "data": {
      "text/plain": [
       "array(['', '30', '90', '176', '140', '2', '114', '138', '141', '137',\n",
       "       '148', '155', '105', '71', '20', '17', '220'], dtype=object)"
      ]
     },
     "execution_count": 124,
     "metadata": {},
     "output_type": "execute_result"
    }
   ],
   "source": [
    "df_questions['tags_question_response'].unique()"
   ]
  },
  {
   "cell_type": "code",
   "execution_count": 125,
   "metadata": {
    "scrolled": false
   },
   "outputs": [
    {
     "data": {
      "image/png": "[encoded data removed]",
      "text/plain": [
       "<Figure size 432x288 with 1 Axes>"
      ]
     },
     "metadata": {
      "needs_background": "light"
     },
     "output_type": "display_data"
    }
   ],
   "source": [
    "tags_quest_resp_unique, tags_quest_resp_counts = np.unique(df_questions[df_questions.topics=='Question/Response']['tags_question_response'], return_counts=True)\n",
    "\n",
    "dict_2 = dict(zip(tags_quest_resp_unique, tags_quest_resp_counts))\n",
    "\n",
    "plt.bar(range(len(dict_2)), list(dict_2.values()), align='center')\n",
    "plt.xticks(range(len(dict_2)), list(dict_2.keys()))\n",
    "plt.show()"
   ]
  },
  {
   "cell_type": "code",
   "execution_count": 126,
   "metadata": {},
   "outputs": [
    {
     "name": "stdout",
     "output_type": "stream",
     "text": [
      "'' to be checked : 3 values\n"
     ]
    }
   ],
   "source": [
    "print(\"'' to be checked :\", dict_2[''], 'values')"
   ]
  },
  {
   "cell_type": "markdown",
   "metadata": {},
   "source": [
    "### TOEIC Part 3 : Conversations"
   ]
  },
  {
   "cell_type": "code",
   "execution_count": 127,
   "metadata": {},
   "outputs": [],
   "source": [
    "def tag_conversations(tags):\n",
    "    conversations = ['74','82','106','113','136','157','161']\n",
    "    return ''.join([tag for tag in tags if tag in conversations])"
   ]
  },
  {
   "cell_type": "code",
   "execution_count": 128,
   "metadata": {},
   "outputs": [],
   "source": [
    "df_questions['tags_conversations'] = df_questions.loc[(df_questions.topics=='Conversations')]['tags_split'].apply(tag_conversations)"
   ]
  },
  {
   "cell_type": "code",
   "execution_count": 129,
   "metadata": {},
   "outputs": [],
   "source": [
    "df_questions['tags_conversations'] = df_questions['tags_conversations'].fillna('')"
   ]
  },
  {
   "cell_type": "code",
   "execution_count": 130,
   "metadata": {},
   "outputs": [
    {
     "data": {
      "text/plain": [
       "array(['', '74', '136', '82', '106', '157', '113', '161'], dtype=object)"
      ]
     },
     "execution_count": 130,
     "metadata": {},
     "output_type": "execute_result"
    }
   ],
   "source": [
    "df_questions['tags_conversations'].unique()"
   ]
  },
  {
   "cell_type": "code",
   "execution_count": 131,
   "metadata": {
    "scrolled": true
   },
   "outputs": [
    {
     "data": {
      "image/png": "[encoded data removed]",
      "text/plain": [
       "<Figure size 432x288 with 1 Axes>"
      ]
     },
     "metadata": {
      "needs_background": "light"
     },
     "output_type": "display_data"
    }
   ],
   "source": [
    "tags_conversations_unique, tags_conversations_counts = np.unique(df_questions[df_questions.topics=='Conversations']['tags_conversations'], return_counts=True)\n",
    "\n",
    "dict_3 = dict(zip(tags_conversations_unique, tags_conversations_counts))\n",
    "\n",
    "plt.bar(range(len(dict_3)), list(dict_3.values()), align='center')\n",
    "plt.xticks(range(len(dict_3)), list(dict_3.keys()))\n",
    "plt.show()"
   ]
  },
  {
   "cell_type": "markdown",
   "metadata": {},
   "source": [
    "### TOEIC Part 4 : Talks"
   ]
  },
  {
   "cell_type": "code",
   "execution_count": 132,
   "metadata": {},
   "outputs": [],
   "source": [
    "def tag_talks(tags):\n",
    "    talks = ['3','12','59','67','83','103','120','126','144','150','158','169','171','183']\n",
    "    return ''.join([tag for tag in tags if tag in talks])"
   ]
  },
  {
   "cell_type": "code",
   "execution_count": 133,
   "metadata": {},
   "outputs": [],
   "source": [
    "df_questions['tags_talks'] = df_questions.loc[(df_questions.topics=='Talks')]['tags_split'].apply(tag_talks)"
   ]
  },
  {
   "cell_type": "code",
   "execution_count": 134,
   "metadata": {},
   "outputs": [],
   "source": [
    "df_questions['tags_talks'] = df_questions['tags_talks'].fillna('')"
   ]
  },
  {
   "cell_type": "code",
   "execution_count": 135,
   "metadata": {},
   "outputs": [
    {
     "data": {
      "text/plain": [
       "array(['', '12', '103', '67', '171', '144', '169', '126', '158', '83',\n",
       "       '150', '183', '120', '3', '59'], dtype=object)"
      ]
     },
     "execution_count": 135,
     "metadata": {},
     "output_type": "execute_result"
    }
   ],
   "source": [
    "df_questions['tags_talks'].unique()"
   ]
  },
  {
   "cell_type": "code",
   "execution_count": 136,
   "metadata": {
    "scrolled": true
   },
   "outputs": [
    {
     "data": {
      "image/png": "[encoded data removed]",
      "text/plain": [
       "<Figure size 432x288 with 1 Axes>"
      ]
     },
     "metadata": {
      "needs_background": "light"
     },
     "output_type": "display_data"
    }
   ],
   "source": [
    "tags_talks_unique, tags_talks_counts = np.unique(df_questions[df_questions.topics=='Talks']['tags_talks'], return_counts=True)\n",
    "\n",
    "dict_4 = dict(zip(tags_talks_unique, tags_talks_counts))\n",
    "\n",
    "plt.bar(range(len(dict_4)), list(dict_4.values()), align='center')\n",
    "plt.xticks(range(len(dict_4)), list(dict_4.keys()))\n",
    "plt.show()"
   ]
  },
  {
   "cell_type": "markdown",
   "metadata": {},
   "source": [
    "### TOEIC Parts 5 & 6 : Incomplete Sentences & Text Completion"
   ]
  },
  {
   "cell_type": "code",
   "execution_count": 137,
   "metadata": {},
   "outputs": [],
   "source": [
    "def tag_completion(tags):\n",
    "    if ' 162' in str(tags):\n",
    "        tags = str(tags).replace(' 162','')\n",
    "    else:\n",
    "        tags = str(tags)\n",
    "    return tags"
   ]
  },
  {
   "cell_type": "code",
   "execution_count": 138,
   "metadata": {},
   "outputs": [],
   "source": [
    "df_questions['tags_completion'] = df_questions.loc[(df_questions.topics=='Incomplete Sentences')|(df_questions.topics=='Text Completion')]['tags'].apply(tag_completion)"
   ]
  },
  {
   "cell_type": "code",
   "execution_count": 139,
   "metadata": {},
   "outputs": [],
   "source": [
    "df_questions['tags_completion'] = df_questions['tags_completion'].fillna('')"
   ]
  },
  {
   "cell_type": "code",
   "execution_count": 140,
   "metadata": {},
   "outputs": [
    {
     "data": {
      "text/plain": [
       "array(['', '8', '4', '166', '85', '156', '53', '73', '66', '108', '173',\n",
       "       '72', '95', '7', '15', '132', '180', '75', '49', '55', '109', '60',\n",
       "       '125', '133', '152', '181', '57', '91', '96', '116', '79', '89',\n",
       "       '47', '65', '80', '43', '52', '1', '28', '177', '112', '134',\n",
       "       '123', '168', '24', '147', '174', '14', '64', '48', '128', '44',\n",
       "       '170', '179', '175', '45', '78', '23', '159', '31', '25', '151',\n",
       "       '34', '33', '127', '172', '124', '115', '26', '54', '182', '167',\n",
       "       '58', '27', 'nan', '86'], dtype=object)"
      ]
     },
     "execution_count": 140,
     "metadata": {},
     "output_type": "execute_result"
    }
   ],
   "source": [
    "df_questions['tags_completion'].unique()"
   ]
  },
  {
   "cell_type": "code",
   "execution_count": 141,
   "metadata": {},
   "outputs": [
    {
     "data": {
      "image/png": "[encoded data removed]",
      "text/plain": [
       "<Figure size 432x288 with 1 Axes>"
      ]
     },
     "metadata": {
      "needs_background": "light"
     },
     "output_type": "display_data"
    }
   ],
   "source": [
    "tags_completion_unique, tags_completion_counts = np.unique(df_questions[df_questions.topics=='Incomplete Sentences']['tags_completion'], return_counts=True)\n",
    "\n",
    "dict_5 = dict(zip(tags_completion_unique, tags_completion_counts))\n",
    "\n",
    "plt.bar(range(len(dict_5)), list(dict_5.values()), align='center')\n",
    "plt.xticks(range(len(dict_5)), list(dict_5.keys()))\n",
    "plt.show()"
   ]
  },
  {
   "cell_type": "code",
   "execution_count": 142,
   "metadata": {
    "scrolled": false
   },
   "outputs": [
    {
     "data": {
      "image/png": "[encoded data removed]",
      "text/plain": [
       "<Figure size 432x288 with 1 Axes>"
      ]
     },
     "metadata": {
      "needs_background": "light"
     },
     "output_type": "display_data"
    }
   ],
   "source": [
    "tags_completion2_unique, tags_completion2_counts = np.unique(df_questions[df_questions.topics=='Text Completion']['tags_completion'], return_counts=True)\n",
    "\n",
    "dict_6 = dict(zip(tags_completion2_unique, tags_completion2_counts))\n",
    "\n",
    "plt.bar(range(len(dict_6)), list(dict_6.values()), align='center')\n",
    "plt.xticks(range(len(dict_6)), list(dict_6.keys()))\n",
    "plt.show()"
   ]
  },
  {
   "cell_type": "code",
   "execution_count": 143,
   "metadata": {},
   "outputs": [
    {
     "name": "stdout",
     "output_type": "stream",
     "text": [
      "'nan' to be checked : 1 value\n"
     ]
    }
   ],
   "source": [
    "print(\"'nan' to be checked :\", dict_6['nan'], 'value')"
   ]
  },
  {
   "cell_type": "markdown",
   "metadata": {},
   "source": [
    "### TOEIC Part 7 : Passages"
   ]
  },
  {
   "cell_type": "code",
   "execution_count": 144,
   "metadata": {},
   "outputs": [],
   "source": [
    "def tag_passages(tags):\n",
    "    passages = ['18','19','39','76','97','118','145','153','165']\n",
    "    return ''.join([tag for tag in tags if tag in passages])"
   ]
  },
  {
   "cell_type": "code",
   "execution_count": 145,
   "metadata": {},
   "outputs": [],
   "source": [
    "df_questions['tags_passages'] = df_questions.loc[(df_questions.topics=='Passages')]['tags_split'].apply(tag_passages)"
   ]
  },
  {
   "cell_type": "code",
   "execution_count": 146,
   "metadata": {},
   "outputs": [],
   "source": [
    "df_questions['tags_passages'] = df_questions['tags_passages'].fillna('')"
   ]
  },
  {
   "cell_type": "code",
   "execution_count": 147,
   "metadata": {},
   "outputs": [
    {
     "data": {
      "text/plain": [
       "array(['', '118', '18', '19', '97', '39', '145', '76', '153', '165'],\n",
       "      dtype=object)"
      ]
     },
     "execution_count": 147,
     "metadata": {},
     "output_type": "execute_result"
    }
   ],
   "source": [
    "df_questions['tags_passages'].unique()"
   ]
  },
  {
   "cell_type": "code",
   "execution_count": 148,
   "metadata": {
    "scrolled": false
   },
   "outputs": [
    {
     "data": {
      "image/png": "[encoded data removed]",
      "text/plain": [
       "<Figure size 432x288 with 1 Axes>"
      ]
     },
     "metadata": {
      "needs_background": "light"
     },
     "output_type": "display_data"
    }
   ],
   "source": [
    "tags_passages_unique, tags_passages_counts = np.unique(df_questions[df_questions.topics=='Passages']['tags_passages'], return_counts=True)\n",
    "\n",
    "dict_7 = dict(zip(tags_passages_unique, tags_passages_counts))\n",
    "\n",
    "plt.bar(range(len(dict_7)), list(dict_7.values()), align='center')\n",
    "plt.xticks(range(len(dict_7)), list(dict_7.keys()))\n",
    "plt.show()"
   ]
  },
  {
   "cell_type": "code",
   "execution_count": 149,
   "metadata": {},
   "outputs": [
    {
     "name": "stdout",
     "output_type": "stream",
     "text": [
      "'' to be checked : 5 values\n"
     ]
    }
   ],
   "source": [
    "print(\"'' to be checked :\", dict_7[''], 'values')"
   ]
  },
  {
   "cell_type": "markdown",
   "metadata": {},
   "source": [
    "### Tags summary for questions"
   ]
  },
  {
   "cell_type": "code",
   "execution_count": 150,
   "metadata": {
    "scrolled": false
   },
   "outputs": [
    {
     "name": "stdout",
     "output_type": "stream",
     "text": [
      "unique tags for part 1 : 21\n",
      "unique tags for part 2 : 17\n",
      "unique tags for part 3 : 8\n",
      "unique tags for part 4 : 15\n",
      "unique tags for parts 5 & 6 : 76\n",
      "unique tags for part 7 : 10\n"
     ]
    }
   ],
   "source": [
    "print('unique tags for part 1 :', df_questions['tags_photographs'].nunique())\n",
    "print('unique tags for part 2 :', df_questions['tags_question_response'].nunique())\n",
    "print('unique tags for part 3 :', df_questions['tags_conversations'].nunique())\n",
    "print('unique tags for part 4 :', df_questions['tags_talks'].nunique())\n",
    "print('unique tags for parts 5 & 6 :', df_questions['tags_completion'].nunique())\n",
    "print('unique tags for part 7 :', df_questions['tags_passages'].nunique())"
   ]
  },
  {
   "cell_type": "code",
   "execution_count": 151,
   "metadata": {
    "scrolled": true
   },
   "outputs": [
    {
     "name": "stdout",
     "output_type": "stream",
     "text": [
      "unique combinations for part 1 : 145\n",
      "unique combinations for part 2 : 422\n",
      "unique combinations for part 3 : 133\n",
      "unique combinations for part 4 : 418\n",
      "unique combinations for parts 5 & 6 : 109\n",
      "unique combinations for part 7 : 292\n"
     ]
    }
   ],
   "source": [
    "print('unique combinations for part 1 :', df_questions[df_questions['part']==1]['tags'].nunique())\n",
    "print('unique combinations for part 2 :', df_questions[df_questions['part']==2]['tags'].nunique())\n",
    "print('unique combinations for part 3 :', df_questions[df_questions['part']==3]['tags'].nunique())\n",
    "print('unique combinations for part 4 :', df_questions[df_questions['part']==4]['tags'].nunique())\n",
    "print('unique combinations for parts 5 & 6 :', df_questions[(df_questions['part']==5) | (df_questions['part']==6)]['tags'].nunique())\n",
    "print('unique combinations for part 7 :', df_questions[df_questions['part']==7]['tags'].nunique())"
   ]
  },
  {
   "cell_type": "code",
   "execution_count": 152,
   "metadata": {},
   "outputs": [],
   "source": [
    "df_questions['unique_tag'] = df_questions.tags_photographs + df_questions.tags_question_response + df_questions.tags_conversations + df_questions.tags_talks + df_questions.tags_completion + df_questions.tags_passages "
   ]
  },
  {
   "cell_type": "code",
   "execution_count": 153,
   "metadata": {},
   "outputs": [],
   "source": [
    "df_questions['unique_tag'] = df_questions['unique_tag'].fillna('')"
   ]
  },
  {
   "cell_type": "code",
   "execution_count": 154,
   "metadata": {
    "scrolled": true
   },
   "outputs": [
    {
     "data": {
      "text/plain": [
       "array(['51', '36', '101', '149', '5', '94', '61', '13', '164', '99', '93',\n",
       "       '70', '9', '104', '40', '130', '187', '111', '178', '30', '90',\n",
       "       '176', '140', '2', '114', '138', '141', '137', '148', '155', '105',\n",
       "       '71', '20', '17', '', '220', '74', '136', '82', '106', '157',\n",
       "       '113', '161', '12', '103', '67', '171', '144', '169', '126', '158',\n",
       "       '83', '150', '183', '120', '8', '4', '166', '85', '156', '53',\n",
       "       '73', '66', '108', '173', '72', '95', '7', '15', '132', '180',\n",
       "       '75', '49', '55', '109', '60', '125', '133', '152', '181', '57',\n",
       "       '91', '96', '116', '79', '89', '47', '65', '80', '43', '52', '1',\n",
       "       '28', '177', '112', '134', '123', '168', '24', '147', '174', '14',\n",
       "       '64', '48', '128', '44', '170', '179', '175', '45', '78', '23',\n",
       "       '159', '31', '25', '151', '34', '33', '127', '172', '124', '115',\n",
       "       '26', '54', '182', '167', '58', '27', '118', '18', '19', '97',\n",
       "       '39', '145', '76', '153', '68', 'nan', '3', '165', '59', '86'],\n",
       "      dtype=object)"
      ]
     },
     "execution_count": 154,
     "metadata": {},
     "output_type": "execute_result"
    }
   ],
   "source": [
    "df_questions['unique_tag'].unique()"
   ]
  },
  {
   "cell_type": "code",
   "execution_count": 155,
   "metadata": {},
   "outputs": [
    {
     "name": "stderr",
     "output_type": "stream",
     "text": [
      "c:\\users\\imen_\\.venvs\\lewagon\\lib\\site-packages\\seaborn\\_decorators.py:43: FutureWarning: Pass the following variable as a keyword arg: x. From version 0.12, the only valid positional argument will be `data`, and passing other arguments without an explicit keyword will result in an error or misinterpretation.\n",
      "  FutureWarning\n"
     ]
    },
    {
     "data": {
      "text/plain": [
       "<AxesSubplot:xlabel='unique_tag', ylabel='count'>"
      ]
     },
     "execution_count": 155,
     "metadata": {},
     "output_type": "execute_result"
    },
    {
     "data": {
      "image/png": "[encoded data removed]",
      "text/plain": [
       "<Figure size 432x288 with 1 Axes>"
      ]
     },
     "metadata": {
      "needs_background": "light"
     },
     "output_type": "display_data"
    }
   ],
   "source": [
    "sns.countplot(df_questions['unique_tag'])"
   ]
  },
  {
   "cell_type": "code",
   "execution_count": 156,
   "metadata": {
    "scrolled": true
   },
   "outputs": [
    {
     "name": "stderr",
     "output_type": "stream",
     "text": [
      "c:\\users\\imen_\\.venvs\\lewagon\\lib\\site-packages\\seaborn\\_decorators.py:43: FutureWarning: Pass the following variable as a keyword arg: x. From version 0.12, the only valid positional argument will be `data`, and passing other arguments without an explicit keyword will result in an error or misinterpretation.\n",
      "  FutureWarning\n"
     ]
    },
    {
     "data": {
      "text/plain": [
       "<AxesSubplot:xlabel='part', ylabel='count'>"
      ]
     },
     "execution_count": 156,
     "metadata": {},
     "output_type": "execute_result"
    },
    {
     "data": {
      "image/png": "[encoded data removed]",
      "text/plain": [
       "<Figure size 432x288 with 1 Axes>"
      ]
     },
     "metadata": {
      "needs_background": "light"
     },
     "output_type": "display_data"
    }
   ],
   "source": [
    "sns.countplot(df_questions['part'])"
   ]
  },
  {
   "cell_type": "code",
   "execution_count": 157,
   "metadata": {},
   "outputs": [],
   "source": [
    "def unique_key(x, y):\n",
    "    return str(x) + str(y)"
   ]
  },
  {
   "cell_type": "code",
   "execution_count": 158,
   "metadata": {},
   "outputs": [],
   "source": [
    "df_questions['unique_key_questions'] = [unique_key(x, y) for x, y in zip(df_questions['part'], df_questions['unique_tag'])]"
   ]
  },
  {
   "cell_type": "code",
   "execution_count": 159,
   "metadata": {},
   "outputs": [
    {
     "name": "stdout",
     "output_type": "stream",
     "text": [
      "205\n"
     ]
    }
   ],
   "source": [
    "print(df_questions.unique_key_questions.nunique())"
   ]
  },
  {
   "cell_type": "markdown",
   "metadata": {},
   "source": [
    "## 2. Lectures"
   ]
  },
  {
   "cell_type": "code",
   "execution_count": 160,
   "metadata": {},
   "outputs": [],
   "source": [
    "df_lectures = pd.read_csv('../data/lectures.csv')"
   ]
  },
  {
   "cell_type": "code",
   "execution_count": 161,
   "metadata": {},
   "outputs": [
    {
     "data": {
      "text/html": [
       "<div>\n",
       "<style scoped>\n",
       "    .dataframe tbody tr th:only-of-type {\n",
       "        vertical-align: middle;\n",
       "    }\n",
       "\n",
       "    .dataframe tbody tr th {\n",
       "        vertical-align: top;\n",
       "    }\n",
       "\n",
       "    .dataframe thead th {\n",
       "        text-align: right;\n",
       "    }\n",
       "</style>\n",
       "<table border=\"1\" class=\"dataframe\">\n",
       "  <thead>\n",
       "    <tr style=\"text-align: right;\">\n",
       "      <th></th>\n",
       "      <th>lecture_id</th>\n",
       "      <th>tag</th>\n",
       "      <th>part</th>\n",
       "      <th>type_of</th>\n",
       "    </tr>\n",
       "  </thead>\n",
       "  <tbody>\n",
       "    <tr>\n",
       "      <th>0</th>\n",
       "      <td>89</td>\n",
       "      <td>159</td>\n",
       "      <td>5</td>\n",
       "      <td>concept</td>\n",
       "    </tr>\n",
       "    <tr>\n",
       "      <th>1</th>\n",
       "      <td>100</td>\n",
       "      <td>70</td>\n",
       "      <td>1</td>\n",
       "      <td>concept</td>\n",
       "    </tr>\n",
       "    <tr>\n",
       "      <th>2</th>\n",
       "      <td>185</td>\n",
       "      <td>45</td>\n",
       "      <td>6</td>\n",
       "      <td>concept</td>\n",
       "    </tr>\n",
       "    <tr>\n",
       "      <th>3</th>\n",
       "      <td>192</td>\n",
       "      <td>79</td>\n",
       "      <td>5</td>\n",
       "      <td>solving question</td>\n",
       "    </tr>\n",
       "    <tr>\n",
       "      <th>4</th>\n",
       "      <td>317</td>\n",
       "      <td>156</td>\n",
       "      <td>5</td>\n",
       "      <td>solving question</td>\n",
       "    </tr>\n",
       "  </tbody>\n",
       "</table>\n",
       "</div>"
      ],
      "text/plain": [
       "   lecture_id  tag  part           type_of\n",
       "0          89  159     5           concept\n",
       "1         100   70     1           concept\n",
       "2         185   45     6           concept\n",
       "3         192   79     5  solving question\n",
       "4         317  156     5  solving question"
      ]
     },
     "execution_count": 161,
     "metadata": {},
     "output_type": "execute_result"
    }
   ],
   "source": [
    "df_lectures.head()"
   ]
  },
  {
   "cell_type": "code",
   "execution_count": 162,
   "metadata": {
    "scrolled": false
   },
   "outputs": [
    {
     "name": "stdout",
     "output_type": "stream",
     "text": [
      "unique tags for part 1 : 20\n",
      "unique tags for part 2 : 23\n",
      "unique tags for part 3 : 7\n",
      "unique tags for part 4 : 19\n",
      "unique tags for parts 5 & 6 : 73\n",
      "unique tags for part 7 : 16\n"
     ]
    }
   ],
   "source": [
    "print('unique tags for part 1 :', df_lectures[df_lectures['part']==1]['tag'].nunique())\n",
    "print('unique tags for part 2 :', df_lectures[df_lectures['part']==2]['tag'].nunique())\n",
    "print('unique tags for part 3 :', df_lectures[df_lectures['part']==3]['tag'].nunique())\n",
    "print('unique tags for part 4 :', df_lectures[df_lectures['part']==4]['tag'].nunique())\n",
    "print('unique tags for parts 5 & 6 :', df_lectures[(df_lectures['part']==5) | (df_lectures['part']==6)]['tag'].nunique())\n",
    "print('unique tags for part 7 :', df_lectures[df_lectures['part']==7]['tag'].nunique())"
   ]
  },
  {
   "cell_type": "code",
   "execution_count": 163,
   "metadata": {},
   "outputs": [
    {
     "name": "stderr",
     "output_type": "stream",
     "text": [
      "c:\\users\\imen_\\.venvs\\lewagon\\lib\\site-packages\\seaborn\\_decorators.py:43: FutureWarning: Pass the following variable as a keyword arg: x. From version 0.12, the only valid positional argument will be `data`, and passing other arguments without an explicit keyword will result in an error or misinterpretation.\n",
      "  FutureWarning\n"
     ]
    },
    {
     "data": {
      "text/plain": [
       "<AxesSubplot:xlabel='tag', ylabel='count'>"
      ]
     },
     "execution_count": 163,
     "metadata": {},
     "output_type": "execute_result"
    },
    {
     "data": {
      "image/png": "[encoded data removed]",
      "text/plain": [
       "<Figure size 432x288 with 1 Axes>"
      ]
     },
     "metadata": {
      "needs_background": "light"
     },
     "output_type": "display_data"
    }
   ],
   "source": [
    "sns.countplot(df_lectures['tag'])"
   ]
  },
  {
   "cell_type": "code",
   "execution_count": 164,
   "metadata": {},
   "outputs": [
    {
     "name": "stderr",
     "output_type": "stream",
     "text": [
      "c:\\users\\imen_\\.venvs\\lewagon\\lib\\site-packages\\seaborn\\_decorators.py:43: FutureWarning: Pass the following variable as a keyword arg: x. From version 0.12, the only valid positional argument will be `data`, and passing other arguments without an explicit keyword will result in an error or misinterpretation.\n",
      "  FutureWarning\n"
     ]
    },
    {
     "data": {
      "text/plain": [
       "<AxesSubplot:xlabel='type_of', ylabel='count'>"
      ]
     },
     "execution_count": 164,
     "metadata": {},
     "output_type": "execute_result"
    },
    {
     "data": {
      "image/png": "[encoded data removed]",
      "text/plain": [
       "<Figure size 432x288 with 1 Axes>"
      ]
     },
     "metadata": {
      "needs_background": "light"
     },
     "output_type": "display_data"
    }
   ],
   "source": [
    "sns.countplot(df_lectures['type_of'])"
   ]
  },
  {
   "cell_type": "markdown",
   "metadata": {},
   "source": [
    "## 3. Cross Checking Questions & Lectures"
   ]
  },
  {
   "cell_type": "code",
   "execution_count": 165,
   "metadata": {},
   "outputs": [],
   "source": [
    "df_lectures['unique_key_lectures'] = [unique_key(x, y) for x, y in zip(df_lectures['part'], df_lectures['tag'])]"
   ]
  },
  {
   "cell_type": "code",
   "execution_count": 166,
   "metadata": {
    "scrolled": true
   },
   "outputs": [
    {
     "data": {
      "text/html": [
       "<div>\n",
       "<style scoped>\n",
       "    .dataframe tbody tr th:only-of-type {\n",
       "        vertical-align: middle;\n",
       "    }\n",
       "\n",
       "    .dataframe tbody tr th {\n",
       "        vertical-align: top;\n",
       "    }\n",
       "\n",
       "    .dataframe thead th {\n",
       "        text-align: right;\n",
       "    }\n",
       "</style>\n",
       "<table border=\"1\" class=\"dataframe\">\n",
       "  <thead>\n",
       "    <tr style=\"text-align: right;\">\n",
       "      <th></th>\n",
       "      <th>lecture_id</th>\n",
       "      <th>tag</th>\n",
       "      <th>part</th>\n",
       "      <th>type_of</th>\n",
       "      <th>unique_key_lectures</th>\n",
       "    </tr>\n",
       "  </thead>\n",
       "  <tbody>\n",
       "    <tr>\n",
       "      <th>0</th>\n",
       "      <td>89</td>\n",
       "      <td>159</td>\n",
       "      <td>5</td>\n",
       "      <td>concept</td>\n",
       "      <td>5159</td>\n",
       "    </tr>\n",
       "    <tr>\n",
       "      <th>1</th>\n",
       "      <td>100</td>\n",
       "      <td>70</td>\n",
       "      <td>1</td>\n",
       "      <td>concept</td>\n",
       "      <td>170</td>\n",
       "    </tr>\n",
       "    <tr>\n",
       "      <th>2</th>\n",
       "      <td>185</td>\n",
       "      <td>45</td>\n",
       "      <td>6</td>\n",
       "      <td>concept</td>\n",
       "      <td>645</td>\n",
       "    </tr>\n",
       "    <tr>\n",
       "      <th>3</th>\n",
       "      <td>192</td>\n",
       "      <td>79</td>\n",
       "      <td>5</td>\n",
       "      <td>solving question</td>\n",
       "      <td>579</td>\n",
       "    </tr>\n",
       "    <tr>\n",
       "      <th>4</th>\n",
       "      <td>317</td>\n",
       "      <td>156</td>\n",
       "      <td>5</td>\n",
       "      <td>solving question</td>\n",
       "      <td>5156</td>\n",
       "    </tr>\n",
       "  </tbody>\n",
       "</table>\n",
       "</div>"
      ],
      "text/plain": [
       "   lecture_id  tag  part           type_of unique_key_lectures\n",
       "0          89  159     5           concept                5159\n",
       "1         100   70     1           concept                 170\n",
       "2         185   45     6           concept                 645\n",
       "3         192   79     5  solving question                 579\n",
       "4         317  156     5  solving question                5156"
      ]
     },
     "execution_count": 166,
     "metadata": {},
     "output_type": "execute_result"
    }
   ],
   "source": [
    "df_lectures.head()"
   ]
  },
  {
   "cell_type": "code",
   "execution_count": 167,
   "metadata": {},
   "outputs": [
    {
     "name": "stdout",
     "output_type": "stream",
     "text": [
      "418\n",
      "220\n"
     ]
    }
   ],
   "source": [
    "print(df_lectures.lecture_id.nunique())\n",
    "print(df_lectures.unique_key_lectures.nunique())"
   ]
  },
  {
   "cell_type": "code",
   "execution_count": 168,
   "metadata": {},
   "outputs": [
    {
     "data": {
      "text/plain": [
       "220"
      ]
     },
     "execution_count": 168,
     "metadata": {},
     "output_type": "execute_result"
    }
   ],
   "source": [
    "df_lectures_2 = df_lectures.drop(columns=['lecture_id', 'type_of']).set_index('tag').drop_duplicates()\n",
    "len(df_lectures_2)"
   ]
  },
  {
   "cell_type": "code",
   "execution_count": 169,
   "metadata": {},
   "outputs": [
    {
     "data": {
      "text/html": [
       "<div>\n",
       "<style scoped>\n",
       "    .dataframe tbody tr th:only-of-type {\n",
       "        vertical-align: middle;\n",
       "    }\n",
       "\n",
       "    .dataframe tbody tr th {\n",
       "        vertical-align: top;\n",
       "    }\n",
       "\n",
       "    .dataframe thead th {\n",
       "        text-align: right;\n",
       "    }\n",
       "</style>\n",
       "<table border=\"1\" class=\"dataframe\">\n",
       "  <thead>\n",
       "    <tr style=\"text-align: right;\">\n",
       "      <th></th>\n",
       "      <th>part</th>\n",
       "      <th>unique_key_lectures</th>\n",
       "    </tr>\n",
       "    <tr>\n",
       "      <th>tag</th>\n",
       "      <th></th>\n",
       "      <th></th>\n",
       "    </tr>\n",
       "  </thead>\n",
       "  <tbody>\n",
       "    <tr>\n",
       "      <th>159</th>\n",
       "      <td>5</td>\n",
       "      <td>5159</td>\n",
       "    </tr>\n",
       "    <tr>\n",
       "      <th>70</th>\n",
       "      <td>1</td>\n",
       "      <td>170</td>\n",
       "    </tr>\n",
       "    <tr>\n",
       "      <th>45</th>\n",
       "      <td>6</td>\n",
       "      <td>645</td>\n",
       "    </tr>\n",
       "    <tr>\n",
       "      <th>79</th>\n",
       "      <td>5</td>\n",
       "      <td>579</td>\n",
       "    </tr>\n",
       "    <tr>\n",
       "      <th>156</th>\n",
       "      <td>5</td>\n",
       "      <td>5156</td>\n",
       "    </tr>\n",
       "  </tbody>\n",
       "</table>\n",
       "</div>"
      ],
      "text/plain": [
       "     part unique_key_lectures\n",
       "tag                          \n",
       "159     5                5159\n",
       "70      1                 170\n",
       "45      6                 645\n",
       "79      5                 579\n",
       "156     5                5156"
      ]
     },
     "execution_count": 169,
     "metadata": {},
     "output_type": "execute_result"
    }
   ],
   "source": [
    "df_lectures_2.head()"
   ]
  },
  {
   "cell_type": "code",
   "execution_count": 170,
   "metadata": {},
   "outputs": [],
   "source": [
    "df_merge = df_questions.merge(df_lectures_2, left_on=df_questions['unique_key_questions'], right_on=df_lectures_2['unique_key_lectures'], how='outer')\n",
    "df_merge = df_merge.drop(columns='part_y')"
   ]
  },
  {
   "cell_type": "code",
   "execution_count": 171,
   "metadata": {},
   "outputs": [],
   "source": [
    "missing_lectures_id = df_merge[df_merge['unique_key_lectures'].isna()].groupby(['unique_tag','part_x'])[['unique_tag']].count()"
   ]
  },
  {
   "cell_type": "code",
   "execution_count": 172,
   "metadata": {},
   "outputs": [
    {
     "data": {
      "text/html": [
       "<div>\n",
       "<style scoped>\n",
       "    .dataframe tbody tr th:only-of-type {\n",
       "        vertical-align: middle;\n",
       "    }\n",
       "\n",
       "    .dataframe tbody tr th {\n",
       "        vertical-align: top;\n",
       "    }\n",
       "\n",
       "    .dataframe thead th {\n",
       "        text-align: right;\n",
       "    }\n",
       "</style>\n",
       "<table border=\"1\" class=\"dataframe\">\n",
       "  <thead>\n",
       "    <tr style=\"text-align: right;\">\n",
       "      <th></th>\n",
       "      <th></th>\n",
       "      <th>count</th>\n",
       "    </tr>\n",
       "    <tr>\n",
       "      <th>unique_tag</th>\n",
       "      <th>part_x</th>\n",
       "      <th></th>\n",
       "    </tr>\n",
       "  </thead>\n",
       "  <tbody>\n",
       "    <tr>\n",
       "      <th rowspan=\"2\" valign=\"top\"></th>\n",
       "      <th>2.0</th>\n",
       "      <td>3</td>\n",
       "    </tr>\n",
       "    <tr>\n",
       "      <th>7.0</th>\n",
       "      <td>5</td>\n",
       "    </tr>\n",
       "    <tr>\n",
       "      <th>165</th>\n",
       "      <th>7.0</th>\n",
       "      <td>15</td>\n",
       "    </tr>\n",
       "    <tr>\n",
       "      <th>220</th>\n",
       "      <th>2.0</th>\n",
       "      <td>1</td>\n",
       "    </tr>\n",
       "    <tr>\n",
       "      <th>3</th>\n",
       "      <th>4.0</th>\n",
       "      <td>45</td>\n",
       "    </tr>\n",
       "    <tr>\n",
       "      <th>59</th>\n",
       "      <th>4.0</th>\n",
       "      <td>57</td>\n",
       "    </tr>\n",
       "    <tr>\n",
       "      <th>86</th>\n",
       "      <th>6.0</th>\n",
       "      <td>1</td>\n",
       "    </tr>\n",
       "    <tr>\n",
       "      <th>nan</th>\n",
       "      <th>6.0</th>\n",
       "      <td>1</td>\n",
       "    </tr>\n",
       "  </tbody>\n",
       "</table>\n",
       "</div>"
      ],
      "text/plain": [
       "                   count\n",
       "unique_tag part_x       \n",
       "           2.0         3\n",
       "           7.0         5\n",
       "165        7.0        15\n",
       "220        2.0         1\n",
       "3          4.0        45\n",
       "59         4.0        57\n",
       "86         6.0         1\n",
       "nan        6.0         1"
      ]
     },
     "execution_count": 172,
     "metadata": {},
     "output_type": "execute_result"
    }
   ],
   "source": [
    "missing_lectures_id.columns = ['count']\n",
    "missing_lectures_id"
   ]
  },
  {
   "cell_type": "code",
   "execution_count": 173,
   "metadata": {},
   "outputs": [
    {
     "data": {
      "text/plain": [
       "count    128\n",
       "dtype: int64"
      ]
     },
     "execution_count": 173,
     "metadata": {},
     "output_type": "execute_result"
    }
   ],
   "source": [
    "missing_lectures_id.sum()"
   ]
  },
  {
   "cell_type": "code",
   "execution_count": 174,
   "metadata": {},
   "outputs": [
    {
     "data": {
      "text/html": [
       "<div>\n",
       "<style scoped>\n",
       "    .dataframe tbody tr th:only-of-type {\n",
       "        vertical-align: middle;\n",
       "    }\n",
       "\n",
       "    .dataframe tbody tr th {\n",
       "        vertical-align: top;\n",
       "    }\n",
       "\n",
       "    .dataframe thead th {\n",
       "        text-align: right;\n",
       "    }\n",
       "</style>\n",
       "<table border=\"1\" class=\"dataframe\">\n",
       "  <thead>\n",
       "    <tr style=\"text-align: right;\">\n",
       "      <th></th>\n",
       "      <th>question_id</th>\n",
       "      <th>bundle_id</th>\n",
       "      <th>correct_answer</th>\n",
       "      <th>part</th>\n",
       "      <th>unique_key_questions</th>\n",
       "    </tr>\n",
       "  </thead>\n",
       "  <tbody>\n",
       "    <tr>\n",
       "      <th>0</th>\n",
       "      <td>0</td>\n",
       "      <td>0</td>\n",
       "      <td>0</td>\n",
       "      <td>1</td>\n",
       "      <td>151</td>\n",
       "    </tr>\n",
       "    <tr>\n",
       "      <th>1</th>\n",
       "      <td>1</td>\n",
       "      <td>1</td>\n",
       "      <td>1</td>\n",
       "      <td>1</td>\n",
       "      <td>136</td>\n",
       "    </tr>\n",
       "    <tr>\n",
       "      <th>2</th>\n",
       "      <td>2</td>\n",
       "      <td>2</td>\n",
       "      <td>0</td>\n",
       "      <td>1</td>\n",
       "      <td>1101</td>\n",
       "    </tr>\n",
       "    <tr>\n",
       "      <th>3</th>\n",
       "      <td>3</td>\n",
       "      <td>3</td>\n",
       "      <td>0</td>\n",
       "      <td>1</td>\n",
       "      <td>1149</td>\n",
       "    </tr>\n",
       "    <tr>\n",
       "      <th>4</th>\n",
       "      <td>4</td>\n",
       "      <td>4</td>\n",
       "      <td>3</td>\n",
       "      <td>1</td>\n",
       "      <td>15</td>\n",
       "    </tr>\n",
       "  </tbody>\n",
       "</table>\n",
       "</div>"
      ],
      "text/plain": [
       "   question_id  bundle_id  correct_answer  part unique_key_questions\n",
       "0            0          0               0     1                  151\n",
       "1            1          1               1     1                  136\n",
       "2            2          2               0     1                 1101\n",
       "3            3          3               0     1                 1149\n",
       "4            4          4               3     1                   15"
      ]
     },
     "execution_count": 174,
     "metadata": {},
     "output_type": "execute_result"
    }
   ],
   "source": [
    "df_questions_2 = df_questions.copy()\n",
    "df_questions_2 = df_questions[['question_id', 'bundle_id', 'correct_answer', 'part', 'unique_key_questions']]\n",
    "df_questions_2.head()"
   ]
  },
  {
   "cell_type": "code",
   "execution_count": 175,
   "metadata": {},
   "outputs": [],
   "source": [
    "df_merge_2 = df_lectures.merge(df_questions_2, left_on=df_lectures['unique_key_lectures'], right_on=df_questions_2['unique_key_questions'], how='outer')\n",
    "df_merge_2 = df_merge_2.drop(columns='part_y')"
   ]
  },
  {
   "cell_type": "code",
   "execution_count": 176,
   "metadata": {},
   "outputs": [],
   "source": [
    "missing_lectures_id_2 = df_merge_2[df_merge_2['unique_key_questions'].isna()].groupby(['tag','part_x'])[['tag']].count()"
   ]
  },
  {
   "cell_type": "code",
   "execution_count": 177,
   "metadata": {
    "scrolled": true
   },
   "outputs": [
    {
     "data": {
      "text/html": [
       "<div>\n",
       "<style scoped>\n",
       "    .dataframe tbody tr th:only-of-type {\n",
       "        vertical-align: middle;\n",
       "    }\n",
       "\n",
       "    .dataframe tbody tr th {\n",
       "        vertical-align: top;\n",
       "    }\n",
       "\n",
       "    .dataframe thead th {\n",
       "        text-align: right;\n",
       "    }\n",
       "</style>\n",
       "<table border=\"1\" class=\"dataframe\">\n",
       "  <thead>\n",
       "    <tr style=\"text-align: right;\">\n",
       "      <th></th>\n",
       "      <th></th>\n",
       "      <th>count</th>\n",
       "    </tr>\n",
       "    <tr>\n",
       "      <th>tag</th>\n",
       "      <th>part_x</th>\n",
       "      <th></th>\n",
       "    </tr>\n",
       "  </thead>\n",
       "  <tbody>\n",
       "    <tr>\n",
       "      <th>0.0</th>\n",
       "      <th>7.0</th>\n",
       "      <td>2</td>\n",
       "    </tr>\n",
       "    <tr>\n",
       "      <th>6.0</th>\n",
       "      <th>2.0</th>\n",
       "      <td>2</td>\n",
       "    </tr>\n",
       "    <tr>\n",
       "      <th>16.0</th>\n",
       "      <th>7.0</th>\n",
       "      <td>2</td>\n",
       "    </tr>\n",
       "    <tr>\n",
       "      <th>37.0</th>\n",
       "      <th>7.0</th>\n",
       "      <td>2</td>\n",
       "    </tr>\n",
       "    <tr>\n",
       "      <th>42.0</th>\n",
       "      <th>7.0</th>\n",
       "      <td>3</td>\n",
       "    </tr>\n",
       "    <tr>\n",
       "      <th>50.0</th>\n",
       "      <th>7.0</th>\n",
       "      <td>2</td>\n",
       "    </tr>\n",
       "    <tr>\n",
       "      <th>62.0</th>\n",
       "      <th>2.0</th>\n",
       "      <td>6</td>\n",
       "    </tr>\n",
       "    <tr>\n",
       "      <th>69.0</th>\n",
       "      <th>2.0</th>\n",
       "      <td>3</td>\n",
       "    </tr>\n",
       "    <tr>\n",
       "      <th>74.0</th>\n",
       "      <th>4.0</th>\n",
       "      <td>4</td>\n",
       "    </tr>\n",
       "    <tr>\n",
       "      <th>82.0</th>\n",
       "      <th>4.0</th>\n",
       "      <td>2</td>\n",
       "    </tr>\n",
       "    <tr>\n",
       "      <th>98.0</th>\n",
       "      <th>7.0</th>\n",
       "      <td>3</td>\n",
       "    </tr>\n",
       "    <tr>\n",
       "      <th>106.0</th>\n",
       "      <th>4.0</th>\n",
       "      <td>2</td>\n",
       "    </tr>\n",
       "    <tr>\n",
       "      <th>113.0</th>\n",
       "      <th>4.0</th>\n",
       "      <td>3</td>\n",
       "    </tr>\n",
       "    <tr>\n",
       "      <th>119.0</th>\n",
       "      <th>2.0</th>\n",
       "      <td>5</td>\n",
       "    </tr>\n",
       "    <tr>\n",
       "      <th>129.0</th>\n",
       "      <th>2.0</th>\n",
       "      <td>3</td>\n",
       "    </tr>\n",
       "    <tr>\n",
       "      <th>136.0</th>\n",
       "      <th>4.0</th>\n",
       "      <td>4</td>\n",
       "    </tr>\n",
       "    <tr>\n",
       "      <th>139.0</th>\n",
       "      <th>7.0</th>\n",
       "      <td>1</td>\n",
       "    </tr>\n",
       "    <tr>\n",
       "      <th>142.0</th>\n",
       "      <th>2.0</th>\n",
       "      <td>2</td>\n",
       "    </tr>\n",
       "    <tr>\n",
       "      <th>143.0</th>\n",
       "      <th>2.0</th>\n",
       "      <td>1</td>\n",
       "    </tr>\n",
       "    <tr>\n",
       "      <th>157.0</th>\n",
       "      <th>4.0</th>\n",
       "      <td>1</td>\n",
       "    </tr>\n",
       "    <tr>\n",
       "      <th>161.0</th>\n",
       "      <th>4.0</th>\n",
       "      <td>3</td>\n",
       "    </tr>\n",
       "    <tr>\n",
       "      <th>163.0</th>\n",
       "      <th>2.0</th>\n",
       "      <td>3</td>\n",
       "    </tr>\n",
       "    <tr>\n",
       "      <th>184.0</th>\n",
       "      <th>7.0</th>\n",
       "      <td>2</td>\n",
       "    </tr>\n",
       "  </tbody>\n",
       "</table>\n",
       "</div>"
      ],
      "text/plain": [
       "              count\n",
       "tag   part_x       \n",
       "0.0   7.0         2\n",
       "6.0   2.0         2\n",
       "16.0  7.0         2\n",
       "37.0  7.0         2\n",
       "42.0  7.0         3\n",
       "50.0  7.0         2\n",
       "62.0  2.0         6\n",
       "69.0  2.0         3\n",
       "74.0  4.0         4\n",
       "82.0  4.0         2\n",
       "98.0  7.0         3\n",
       "106.0 4.0         2\n",
       "113.0 4.0         3\n",
       "119.0 2.0         5\n",
       "129.0 2.0         3\n",
       "136.0 4.0         4\n",
       "139.0 7.0         1\n",
       "142.0 2.0         2\n",
       "143.0 2.0         1\n",
       "157.0 4.0         1\n",
       "161.0 4.0         3\n",
       "163.0 2.0         3\n",
       "184.0 7.0         2"
      ]
     },
     "execution_count": 177,
     "metadata": {},
     "output_type": "execute_result"
    }
   ],
   "source": [
    "missing_lectures_id_2.columns = ['count']\n",
    "missing_lectures_id_2"
   ]
  },
  {
   "cell_type": "code",
   "execution_count": 178,
   "metadata": {},
   "outputs": [
    {
     "data": {
      "text/plain": [
       "count    61\n",
       "dtype: int64"
      ]
     },
     "execution_count": 178,
     "metadata": {},
     "output_type": "execute_result"
    }
   ],
   "source": [
    "missing_lectures_id_2.sum()"
   ]
  },
  {
   "cell_type": "markdown",
   "metadata": {},
   "source": [
    "Some tags are in the questions dataset but not in the lectures -> to be investigated : \n",
    "\n",
    "| TOEIC parts            | Tags                                                                             |\n",
    "|------------------------|:--------------------------------------------------------------------------------:|\n",
    "|1                       | [10, 110, 131]                                                                   |\n",
    "|2                       | [32, 41, 88, 100, 107, 119, 186]                                                 |\n",
    "|7                       | [11, 21, 22, 35, 46, 56, 63, 77, 84, 87, 117, 121, 122, 135, 146, 154, 160, 185] |\n",
    "|1, 2, 3, 4              | [29, 38, 81, 92, 102]                                                            |\n",
    "|1, 2, 3, 4, 6, 7        | [162]                                                                            |"
   ]
  },
  {
   "cell_type": "markdown",
   "metadata": {},
   "source": [
    "## 4. Cross Checking with Train"
   ]
  },
  {
   "cell_type": "code",
   "execution_count": 179,
   "metadata": {},
   "outputs": [],
   "source": [
    "df_train_v0 = pd.read_csv('../data/train_1M.csv')"
   ]
  },
  {
   "cell_type": "code",
   "execution_count": 180,
   "metadata": {},
   "outputs": [],
   "source": [
    "df_train_v0 = df_train_v0.drop(columns='Unnamed: 0')"
   ]
  },
  {
   "cell_type": "code",
   "execution_count": 181,
   "metadata": {
    "scrolled": false
   },
   "outputs": [
    {
     "name": "stdout",
     "output_type": "stream",
     "text": [
      "<class 'pandas.core.frame.DataFrame'>\n",
      "RangeIndex: 987269 entries, 0 to 987268\n",
      "Data columns (total 10 columns):\n",
      "row_id                            987269 non-null int64\n",
      "timestamp                         987269 non-null int64\n",
      "user_id                           987269 non-null int64\n",
      "content_id                        987269 non-null int64\n",
      "content_type_id                   987269 non-null int64\n",
      "task_container_id                 987269 non-null int64\n",
      "user_answer                       987269 non-null int64\n",
      "answered_correctly                987269 non-null int64\n",
      "prior_question_elapsed_time       963913 non-null float64\n",
      "prior_question_had_explanation    983348 non-null object\n",
      "dtypes: float64(1), int64(8), object(1)\n",
      "memory usage: 75.3+ MB\n"
     ]
    }
   ],
   "source": [
    "df_train_v0.info()"
   ]
  },
  {
   "cell_type": "code",
   "execution_count": 182,
   "metadata": {},
   "outputs": [],
   "source": [
    "df_train = df_train_v0.merge(df_questions, left_on=df_train_v0['content_id'], right_on=df_questions['question_id'], how='left').drop(columns=['tags_photographs','tags_question_response','tags_conversations','tags_talks','tags_completion','tags_passages','key_0'])"
   ]
  },
  {
   "cell_type": "code",
   "execution_count": 183,
   "metadata": {},
   "outputs": [],
   "source": [
    "df_train_merged = df_train.merge(df_lectures, left_on=df_train['content_id'], right_on=df_lectures['lecture_id'], how='left').drop(columns='key_0')"
   ]
  },
  {
   "cell_type": "code",
   "execution_count": 184,
   "metadata": {},
   "outputs": [],
   "source": [
    "def set_tag(tag_q, tag_l, content_type_id):\n",
    "    if content_type_id == 0:\n",
    "        return tag_q\n",
    "    elif content_type_id == 1:\n",
    "        return tag_l"
   ]
  },
  {
   "cell_type": "code",
   "execution_count": 185,
   "metadata": {},
   "outputs": [],
   "source": [
    "df_train_merged['tag_q_l'] = [set_tag(tag_q, tag_l, content_type_id) for tag_q, tag_l, content_type_id in zip(df_train_merged['unique_tag'], df_train_merged['tag'], df_train_merged['content_type_id'])]"
   ]
  },
  {
   "cell_type": "code",
   "execution_count": 186,
   "metadata": {},
   "outputs": [],
   "source": [
    "df_train_merged = df_train_merged.drop(columns=['question_id','bundle_id','correct_answer','tags','section','topics','tags_split','unique_tag','unique_key_questions','lecture_id','tag','type_of','unique_key_lectures'])"
   ]
  },
  {
   "cell_type": "code",
   "execution_count": 187,
   "metadata": {},
   "outputs": [],
   "source": [
    "def set_part(part_q, part_l, content_type_id):\n",
    "    if content_type_id == 0:\n",
    "        return part_q\n",
    "    elif content_type_id == 1:\n",
    "        return part_l"
   ]
  },
  {
   "cell_type": "code",
   "execution_count": 188,
   "metadata": {},
   "outputs": [],
   "source": [
    "df_train_merged['part_q_l'] = [set_part(part_q, part_l, content_type_id) for part_q, part_l, content_type_id in zip(df_train_merged['part_x'], df_train_merged['part_y'], df_train_merged['content_type_id'])]"
   ]
  },
  {
   "cell_type": "code",
   "execution_count": 189,
   "metadata": {},
   "outputs": [],
   "source": [
    "df_train_final = df_train_merged.copy().drop(columns=['part_x', 'part_y'])"
   ]
  },
  {
   "cell_type": "code",
   "execution_count": 190,
   "metadata": {},
   "outputs": [],
   "source": [
    "def set_section(part):\n",
    "    if part <= 4:\n",
    "        return 0\n",
    "    elif part <=7:\n",
    "        return 1"
   ]
  },
  {
   "cell_type": "code",
   "execution_count": 191,
   "metadata": {},
   "outputs": [],
   "source": [
    "df_train_final['section'] = df_train_merged['part_q_l'].apply(set_section)"
   ]
  },
  {
   "cell_type": "code",
   "execution_count": 192,
   "metadata": {
    "scrolled": false
   },
   "outputs": [
    {
     "name": "stdout",
     "output_type": "stream",
     "text": [
      "<class 'pandas.core.frame.DataFrame'>\n",
      "Int64Index: 987269 entries, 0 to 987268\n",
      "Data columns (total 13 columns):\n",
      "row_id                            987269 non-null int64\n",
      "timestamp                         987269 non-null int64\n",
      "user_id                           987269 non-null int64\n",
      "content_id                        987269 non-null int64\n",
      "content_type_id                   987269 non-null int64\n",
      "task_container_id                 987269 non-null int64\n",
      "user_answer                       987269 non-null int64\n",
      "answered_correctly                987269 non-null int64\n",
      "prior_question_elapsed_time       963913 non-null float64\n",
      "prior_question_had_explanation    983348 non-null object\n",
      "tag_q_l                           987269 non-null object\n",
      "part_q_l                          987269 non-null float64\n",
      "section                           987269 non-null int64\n",
      "dtypes: float64(2), int64(9), object(2)\n",
      "memory usage: 105.5+ MB\n"
     ]
    }
   ],
   "source": [
    "df_train_final.info()"
   ]
  },
  {
   "cell_type": "code",
   "execution_count": 193,
   "metadata": {},
   "outputs": [
    {
     "name": "stdout",
     "output_type": "stream",
     "text": [
      "'' to be checked : 220 values\n"
     ]
    }
   ],
   "source": [
    "tag_q_l_unique, tag_q_l_counts = np.unique(df_train_final['tag_q_l'].astype(str), return_counts=True)\n",
    "\n",
    "dict_tags = dict(zip(tag_q_l_unique, tag_q_l_counts))\n",
    "\n",
    "print(\"'' to be checked :\", dict_tags[''], 'values')"
   ]
  },
  {
   "cell_type": "code",
   "execution_count": 194,
   "metadata": {},
   "outputs": [
    {
     "data": {
      "text/plain": [
       "content_id\n",
       "741      110\n",
       "1159       4\n",
       "1355      86\n",
       "7655       8\n",
       "11571      3\n",
       "11572      3\n",
       "11573      3\n",
       "11574      3\n",
       "Name: content_id, dtype: int64"
      ]
     },
     "execution_count": 194,
     "metadata": {},
     "output_type": "execute_result"
    }
   ],
   "source": [
    "df_train_final[df_train_final['tag_q_l']==''].groupby('content_id')['content_id'].count()"
   ]
  },
  {
   "cell_type": "code",
   "execution_count": 195,
   "metadata": {},
   "outputs": [
    {
     "data": {
      "image/png": "[encoded data removed]",
      "text/plain": [
       "<Figure size 432x288 with 1 Axes>"
      ]
     },
     "metadata": {
      "needs_background": "light"
     },
     "output_type": "display_data"
    }
   ],
   "source": [
    "part_q_l_unique, part_q_l_counts = np.unique(df_train_final['part_q_l'].astype(str), return_counts=True)\n",
    "\n",
    "dict_parts = dict(zip(part_q_l_unique, part_q_l_counts))\n",
    "\n",
    "plt.bar(range(len(dict_parts)), list(dict_parts.values()), align='center')\n",
    "plt.xticks(range(len(dict_parts)), list(dict_parts.keys()))\n",
    "plt.show()"
   ]
  },
  {
   "cell_type": "code",
   "execution_count": 196,
   "metadata": {
    "scrolled": false
   },
   "outputs": [
    {
     "data": {
      "image/png": "[encoded data removed]",
      "text/plain": [
       "<Figure size 432x288 with 1 Axes>"
      ]
     },
     "metadata": {
      "needs_background": "light"
     },
     "output_type": "display_data"
    }
   ],
   "source": [
    "section_unique, section_counts = np.unique(df_train_final['section'].astype(str), return_counts=True)\n",
    "\n",
    "dict_sections = dict(zip(section_unique, section_counts))\n",
    "\n",
    "plt.bar(range(len(dict_sections)), list(dict_sections.values()), align='center')\n",
    "plt.xticks(range(len(dict_sections)), list(dict_sections.keys()))\n",
    "plt.show()"
   ]
  },
  {
   "cell_type": "code",
   "execution_count": 197,
   "metadata": {},
   "outputs": [],
   "source": [
    "def map_missing(tag):\n",
    "    if tag == '':\n",
    "        return tag.map[{741: '143', 1159: '', 1355: '143', 7655: '98', 11571: '37', 11573: '37', 11574: '37'}]\n",
    "    else:\n",
    "        return 0"
   ]
  },
  {
   "cell_type": "code",
   "execution_count": 198,
   "metadata": {},
   "outputs": [],
   "source": [
    "df_train_final['tag_q_l_temp'] = df_train_final['content_id'].apply(map_missing)"
   ]
  },
  {
   "cell_type": "code",
   "execution_count": 199,
   "metadata": {},
   "outputs": [
    {
     "data": {
      "text/plain": [
       "array([0], dtype=int64)"
      ]
     },
     "execution_count": 199,
     "metadata": {},
     "output_type": "execute_result"
    }
   ],
   "source": [
    "df_train_final['tag_q_l_temp'].unique()"
   ]
  },
  {
   "cell_type": "code",
   "execution_count": 200,
   "metadata": {},
   "outputs": [],
   "source": [
    "def set_correct_tag(tag_1, tag_2):\n",
    "    if tag_1 == '':\n",
    "        return tag_2\n",
    "    else:\n",
    "        return tag_1"
   ]
  },
  {
   "cell_type": "code",
   "execution_count": 201,
   "metadata": {},
   "outputs": [],
   "source": [
    "df_train_final['tag'] = [set_correct_tag(tag_1, tag_2) for tag_1, tag_2 in zip(df_train_final['tag_q_l'], df_train_final['tag_q_l_temp'])]"
   ]
  },
  {
   "cell_type": "code",
   "execution_count": 202,
   "metadata": {},
   "outputs": [],
   "source": [
    "df_train_final = df_train_final.drop(columns=['tag_q_l','tag_q_l_temp'])"
   ]
  },
  {
   "cell_type": "code",
   "execution_count": 203,
   "metadata": {
    "scrolled": true
   },
   "outputs": [
    {
     "data": {
      "text/plain": [
       "Series([], Name: content_id, dtype: int64)"
      ]
     },
     "execution_count": 203,
     "metadata": {},
     "output_type": "execute_result"
    }
   ],
   "source": [
    "df_train_final[df_train_final['tag']==\"\"].groupby('content_id')['content_id'].count()"
   ]
  },
  {
   "cell_type": "code",
   "execution_count": 204,
   "metadata": {},
   "outputs": [],
   "source": [
    "df_train_final.rename(columns={'tag':'tag_q_l'},inplace=True)"
   ]
  },
  {
   "cell_type": "code",
   "execution_count": 205,
   "metadata": {},
   "outputs": [],
   "source": [
    "df_train_final['cumcount_already_seen_tag'] = df_train_final.groupby(['user_id','tag_q_l']).cumcount()\n",
    "df_train_final['cumcount_already_seen_tag_q_l'] = df_train_final.groupby(['user_id','tag_q_l','content_type_id']).cumcount()\n",
    "df_train_final['already_seen_tag'] = df_train_final['cumcount_already_seen_tag'].apply(lambda x:1 if x>=1 else 0)"
   ]
  },
  {
   "cell_type": "code",
   "execution_count": 206,
   "metadata": {},
   "outputs": [],
   "source": [
    "def already_seen_lectures(content_type_id, cumcount_already_seen_tag_lectures):\n",
    "    if content_type_id == 0:\n",
    "        if cumcount_already_seen_tag_lectures >=1:\n",
    "            return 1\n",
    "        else:\n",
    "            return 0\n",
    "    else:\n",
    "        return 0"
   ]
  },
  {
   "cell_type": "code",
   "execution_count": 207,
   "metadata": {},
   "outputs": [],
   "source": [
    "df_train_final['already_seen_tag_lecture']=[already_seen_lectures(content_type_id, cumcount_already_seen_tag_lectures) for content_type_id, cumcount_already_seen_tag_lectures in zip(df_train_final['content_type_id'], df_train_final['cumcount_already_seen_tag_q_l'])]"
   ]
  },
  {
   "cell_type": "code",
   "execution_count": 208,
   "metadata": {},
   "outputs": [],
   "source": [
    "df_train_final['cumcount_already_seen_part']=df_train_final.groupby(['user_id','part_q_l','content_type_id']).cumcount()\n",
    "df_train_final['already_seen_part']=df_train_final['cumcount_already_seen_part'].apply(lambda x:1 if x>=1 else 0)"
   ]
  },
  {
   "cell_type": "code",
   "execution_count": 209,
   "metadata": {},
   "outputs": [
    {
     "data": {
      "text/plain": [
       "<AxesSubplot:xlabel='part_q_l'>"
      ]
     },
     "execution_count": 209,
     "metadata": {},
     "output_type": "execute_result"
    },
    {
     "data": {
      "image/png": "[encoded data removed]",
      "text/plain": [
       "<Figure size 432x288 with 1 Axes>"
      ]
     },
     "metadata": {
      "needs_background": "light"
     },
     "output_type": "display_data"
    }
   ],
   "source": [
    "df_train_final.query('content_type_id==0').groupby('part_q_l').agg({'answered_correctly':'mean'}).plot()"
   ]
  },
  {
   "cell_type": "code",
   "execution_count": 210,
   "metadata": {},
   "outputs": [
    {
     "data": {
      "text/plain": [
       "<AxesSubplot:xlabel='already_seen_tag'>"
      ]
     },
     "execution_count": 210,
     "metadata": {},
     "output_type": "execute_result"
    },
    {
     "data": {
      "image/png": "[encoded data removed]",
      "text/plain": [
       "<Figure size 432x288 with 1 Axes>"
      ]
     },
     "metadata": {
      "needs_background": "light"
     },
     "output_type": "display_data"
    }
   ],
   "source": [
    "df_train_final.query('content_type_id==0').groupby('already_seen_tag').agg({'answered_correctly':'mean'}).plot()"
   ]
  },
  {
   "cell_type": "code",
   "execution_count": 211,
   "metadata": {},
   "outputs": [
    {
     "data": {
      "text/plain": [
       "<AxesSubplot:xlabel='already_seen_tag_lecture'>"
      ]
     },
     "execution_count": 211,
     "metadata": {},
     "output_type": "execute_result"
    },
    {
     "data": {
      "image/png": "[encoded data removed]",
      "text/plain": [
       "<Figure size 432x288 with 1 Axes>"
      ]
     },
     "metadata": {
      "needs_background": "light"
     },
     "output_type": "display_data"
    }
   ],
   "source": [
    "df_train_final.query('content_type_id==0').groupby('already_seen_tag_lecture').agg({'answered_correctly':'mean'}).plot()"
   ]
  },
  {
   "cell_type": "code",
   "execution_count": 212,
   "metadata": {},
   "outputs": [
    {
     "data": {
      "text/plain": [
       "<AxesSubplot:xlabel='section'>"
      ]
     },
     "execution_count": 212,
     "metadata": {},
     "output_type": "execute_result"
    },
    {
     "data": {
      "image/png": "[encoded data removed]",
      "text/plain": [
       "<Figure size 432x288 with 1 Axes>"
      ]
     },
     "metadata": {
      "needs_background": "light"
     },
     "output_type": "display_data"
    }
   ],
   "source": [
    "df_train_final.query('content_type_id==0').groupby('section').agg({'answered_correctly':'mean'}).plot()"
   ]
  },
  {
   "cell_type": "code",
   "execution_count": 227,
   "metadata": {},
   "outputs": [
    {
     "data": {
      "text/plain": [
       "<AxesSubplot:xlabel='part_q_l,already_seen_tag_lecture'>"
      ]
     },
     "execution_count": 227,
     "metadata": {},
     "output_type": "execute_result"
    },
    {
     "data": {
      "image/png": "[encoded data removed]",
      "text/plain": [
       "<Figure size 432x288 with 1 Axes>"
      ]
     },
     "metadata": {
      "needs_background": "light"
     },
     "output_type": "display_data"
    }
   ],
   "source": [
    "df_train_final.query('content_type_id==0').groupby(['part_q_l','already_seen_tag_lecture']).agg({'answered_correctly':'mean'}).plot(kind='bar')"
   ]
  },
  {
   "cell_type": "code",
   "execution_count": 220,
   "metadata": {},
   "outputs": [
    {
     "name": "stdout",
     "output_type": "stream",
     "text": [
      "<class 'pandas.core.frame.DataFrame'>\n",
      "Int64Index: 987269 entries, 0 to 987268\n",
      "Data columns (total 19 columns):\n",
      "row_id                            987269 non-null int64\n",
      "timestamp                         987269 non-null int64\n",
      "user_id                           987269 non-null int64\n",
      "content_id                        987269 non-null int64\n",
      "content_type_id                   987269 non-null int64\n",
      "task_container_id                 987269 non-null int64\n",
      "user_answer                       987269 non-null int64\n",
      "answered_correctly                987269 non-null int64\n",
      "prior_question_elapsed_time       963913 non-null float64\n",
      "prior_question_had_explanation    983348 non-null object\n",
      "part_q_l                          987269 non-null float64\n",
      "section                           987269 non-null int64\n",
      "tag_q_l                           987269 non-null object\n",
      "cumcount_already_seen_tag         987269 non-null int64\n",
      "cumcount_already_seen_tag_q_l     987269 non-null int64\n",
      "already_seen_tag                  987269 non-null int64\n",
      "already_seen_tag_lecture          987269 non-null int64\n",
      "cumcount_already_seen_part        987269 non-null int64\n",
      "already_seen_part                 987269 non-null int64\n",
      "dtypes: float64(2), int64(15), object(2)\n",
      "memory usage: 150.6+ MB\n"
     ]
    }
   ],
   "source": [
    "df_train_final.info()"
   ]
  },
  {
   "cell_type": "code",
   "execution_count": 221,
   "metadata": {},
   "outputs": [],
   "source": [
    "df_train_with_tags = df_train_final[['row_id','user_id','tag_q_l','part_q_l','section','cumcount_already_seen_tag_q_l','already_seen_tag_lecture','already_seen_part']]"
   ]
  },
  {
   "cell_type": "code",
   "execution_count": 222,
   "metadata": {},
   "outputs": [
    {
     "data": {
      "text/html": [
       "<div>\n",
       "<style scoped>\n",
       "    .dataframe tbody tr th:only-of-type {\n",
       "        vertical-align: middle;\n",
       "    }\n",
       "\n",
       "    .dataframe tbody tr th {\n",
       "        vertical-align: top;\n",
       "    }\n",
       "\n",
       "    .dataframe thead th {\n",
       "        text-align: right;\n",
       "    }\n",
       "</style>\n",
       "<table border=\"1\" class=\"dataframe\">\n",
       "  <thead>\n",
       "    <tr style=\"text-align: right;\">\n",
       "      <th></th>\n",
       "      <th>row_id</th>\n",
       "      <th>user_id</th>\n",
       "      <th>tag_q_l</th>\n",
       "      <th>part_q_l</th>\n",
       "      <th>section</th>\n",
       "      <th>cumcount_already_seen_tag_q_l</th>\n",
       "      <th>already_seen_tag_lecture</th>\n",
       "      <th>already_seen_part</th>\n",
       "    </tr>\n",
       "  </thead>\n",
       "  <tbody>\n",
       "    <tr>\n",
       "      <th>0</th>\n",
       "      <td>90286654</td>\n",
       "      <td>1917429896</td>\n",
       "      <td>93</td>\n",
       "      <td>1.0</td>\n",
       "      <td>0</td>\n",
       "      <td>0</td>\n",
       "      <td>0</td>\n",
       "      <td>0</td>\n",
       "    </tr>\n",
       "    <tr>\n",
       "      <th>1</th>\n",
       "      <td>90286655</td>\n",
       "      <td>1917429896</td>\n",
       "      <td>94</td>\n",
       "      <td>1.0</td>\n",
       "      <td>0</td>\n",
       "      <td>0</td>\n",
       "      <td>0</td>\n",
       "      <td>1</td>\n",
       "    </tr>\n",
       "    <tr>\n",
       "      <th>2</th>\n",
       "      <td>90286656</td>\n",
       "      <td>1917429896</td>\n",
       "      <td>9</td>\n",
       "      <td>1.0</td>\n",
       "      <td>0</td>\n",
       "      <td>0</td>\n",
       "      <td>0</td>\n",
       "      <td>1</td>\n",
       "    </tr>\n",
       "    <tr>\n",
       "      <th>3</th>\n",
       "      <td>90286657</td>\n",
       "      <td>1917429896</td>\n",
       "      <td>140</td>\n",
       "      <td>2.0</td>\n",
       "      <td>0</td>\n",
       "      <td>0</td>\n",
       "      <td>0</td>\n",
       "      <td>0</td>\n",
       "    </tr>\n",
       "    <tr>\n",
       "      <th>4</th>\n",
       "      <td>90286658</td>\n",
       "      <td>1917429896</td>\n",
       "      <td>136</td>\n",
       "      <td>3.0</td>\n",
       "      <td>0</td>\n",
       "      <td>0</td>\n",
       "      <td>0</td>\n",
       "      <td>0</td>\n",
       "    </tr>\n",
       "  </tbody>\n",
       "</table>\n",
       "</div>"
      ],
      "text/plain": [
       "     row_id     user_id tag_q_l  part_q_l  section  \\\n",
       "0  90286654  1917429896      93       1.0        0   \n",
       "1  90286655  1917429896      94       1.0        0   \n",
       "2  90286656  1917429896       9       1.0        0   \n",
       "3  90286657  1917429896     140       2.0        0   \n",
       "4  90286658  1917429896     136       3.0        0   \n",
       "\n",
       "   cumcount_already_seen_tag_q_l  already_seen_tag_lecture  already_seen_part  \n",
       "0                              0                         0                  0  \n",
       "1                              0                         0                  1  \n",
       "2                              0                         0                  1  \n",
       "3                              0                         0                  0  \n",
       "4                              0                         0                  0  "
      ]
     },
     "execution_count": 222,
     "metadata": {},
     "output_type": "execute_result"
    }
   ],
   "source": [
    "df_train_with_tags.head()"
   ]
  },
  {
   "cell_type": "code",
   "execution_count": 224,
   "metadata": {},
   "outputs": [],
   "source": [
    "df_train_with_tags.to_csv('../data/df_train_with_tags.csv', index=False)"
   ]
  }
 ],
 "metadata": {
  "kernelspec": {
   "display_name": "Python 3",
   "language": "python",
   "name": "python3"
  },
  "language_info": {
   "codemirror_mode": {
    "name": "ipython",
    "version": 3
   },
   "file_extension": ".py",
   "mimetype": "text/x-python",
   "name": "python",
   "nbconvert_exporter": "python",
   "pygments_lexer": "ipython3",
   "version": "3.7.7"
  }
 },
 "nbformat": 4,
 "nbformat_minor": 4
}
