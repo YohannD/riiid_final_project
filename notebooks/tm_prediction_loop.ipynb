{
 "cells": [
  {
   "cell_type": "code",
   "execution_count": 3,
   "metadata": {
    "ExecuteTime": {
     "end_time": "2020-12-15T08:55:10.385134Z",
     "start_time": "2020-12-15T08:55:10.367516Z"
    }
   },
   "outputs": [],
   "source": [
    "import pandas as pd"
   ]
  },
  {
   "cell_type": "markdown",
   "metadata": {},
   "source": [
    "# Import q_stats"
   ]
  },
  {
   "cell_type": "code",
   "execution_count": null,
   "metadata": {},
   "outputs": [],
   "source": []
  },
  {
   "cell_type": "markdown",
   "metadata": {},
   "source": [
    "# Model import"
   ]
  },
  {
   "cell_type": "code",
   "execution_count": 5,
   "metadata": {
    "ExecuteTime": {
     "end_time": "2020-12-15T08:56:44.318993Z",
     "start_time": "2020-12-15T08:56:42.429347Z"
    }
   },
   "outputs": [],
   "source": [
    "import pickle\n",
    "my_pipeline = pickle.load(open('../models/xgboost_pipe_M1.pkl',\"rb\"))  ## wb= write bites : le b est important"
   ]
  },
  {
   "cell_type": "code",
   "execution_count": 12,
   "metadata": {
    "ExecuteTime": {
     "end_time": "2020-12-15T08:59:12.616718Z",
     "start_time": "2020-12-15T08:59:12.610490Z"
    }
   },
   "outputs": [],
   "source": [
    "pipeline_features_list=pd.read_csv('../models/xgboost_pipe_M1_features_list')"
   ]
  },
  {
   "cell_type": "code",
   "execution_count": 13,
   "metadata": {
    "ExecuteTime": {
     "end_time": "2020-12-15T08:59:12.846360Z",
     "start_time": "2020-12-15T08:59:12.822929Z"
    }
   },
   "outputs": [
    {
     "data": {
      "text/html": [
       "<div>\n",
       "<style scoped>\n",
       "    .dataframe tbody tr th:only-of-type {\n",
       "        vertical-align: middle;\n",
       "    }\n",
       "\n",
       "    .dataframe tbody tr th {\n",
       "        vertical-align: top;\n",
       "    }\n",
       "\n",
       "    .dataframe thead th {\n",
       "        text-align: right;\n",
       "    }\n",
       "</style>\n",
       "<table border=\"1\" class=\"dataframe\">\n",
       "  <thead>\n",
       "    <tr style=\"text-align: right;\">\n",
       "      <th></th>\n",
       "      <th>feature</th>\n",
       "    </tr>\n",
       "  </thead>\n",
       "  <tbody>\n",
       "    <tr>\n",
       "      <th>0</th>\n",
       "      <td>user_personalized_qstat_knowing_had_explanatio...</td>\n",
       "    </tr>\n",
       "    <tr>\n",
       "      <th>1</th>\n",
       "      <td>user_avg_score_cum_on_this_part</td>\n",
       "    </tr>\n",
       "    <tr>\n",
       "      <th>2</th>\n",
       "      <td>user_correct_answers_cum_on_this_part</td>\n",
       "    </tr>\n",
       "    <tr>\n",
       "      <th>3</th>\n",
       "      <td>qstats_answered_correctly</td>\n",
       "    </tr>\n",
       "    <tr>\n",
       "      <th>4</th>\n",
       "      <td>user_avg_score_cum</td>\n",
       "    </tr>\n",
       "    <tr>\n",
       "      <th>5</th>\n",
       "      <td>qstats_prior_question_had_explanation</td>\n",
       "    </tr>\n",
       "    <tr>\n",
       "      <th>6</th>\n",
       "      <td>already_seen</td>\n",
       "    </tr>\n",
       "    <tr>\n",
       "      <th>7</th>\n",
       "      <td>user_activity_cumcount</td>\n",
       "    </tr>\n",
       "    <tr>\n",
       "      <th>8</th>\n",
       "      <td>at_least_one_lesson</td>\n",
       "    </tr>\n",
       "  </tbody>\n",
       "</table>\n",
       "</div>"
      ],
      "text/plain": [
       "                                             feature\n",
       "0  user_personalized_qstat_knowing_had_explanatio...\n",
       "1                    user_avg_score_cum_on_this_part\n",
       "2              user_correct_answers_cum_on_this_part\n",
       "3                          qstats_answered_correctly\n",
       "4                                 user_avg_score_cum\n",
       "5              qstats_prior_question_had_explanation\n",
       "6                                       already_seen\n",
       "7                             user_activity_cumcount\n",
       "8                                at_least_one_lesson"
      ]
     },
     "execution_count": 13,
     "metadata": {},
     "output_type": "execute_result"
    }
   ],
   "source": [
    "pipeline_features_list"
   ]
  },
  {
   "cell_type": "markdown",
   "metadata": {},
   "source": [
    "# Initialisation utilisateur débutant"
   ]
  },
  {
   "cell_type": "code",
   "execution_count": 16,
   "metadata": {
    "ExecuteTime": {
     "end_time": "2020-12-15T09:46:13.837909Z",
     "start_time": "2020-12-15T09:46:13.703749Z"
    }
   },
   "outputs": [
    {
     "data": {
      "text/html": [
       "<div>\n",
       "<style scoped>\n",
       "    .dataframe tbody tr th:only-of-type {\n",
       "        vertical-align: middle;\n",
       "    }\n",
       "\n",
       "    .dataframe tbody tr th {\n",
       "        vertical-align: top;\n",
       "    }\n",
       "\n",
       "    .dataframe thead th {\n",
       "        text-align: right;\n",
       "    }\n",
       "</style>\n",
       "<table border=\"1\" class=\"dataframe\">\n",
       "  <thead>\n",
       "    <tr style=\"text-align: right;\">\n",
       "      <th></th>\n",
       "      <th>content_type_id</th>\n",
       "      <th>content_id</th>\n",
       "      <th>user_activity_cumcount</th>\n",
       "      <th>user_avg_score_cum</th>\n",
       "      <th>user_correct_answers_cum</th>\n",
       "      <th>user_avg_score_cum_part1</th>\n",
       "      <th>user_avg_score_cum_part2</th>\n",
       "      <th>user_avg_score_cum_part3</th>\n",
       "      <th>user_avg_score_cum_part4</th>\n",
       "      <th>user_avg_score_cum_part5</th>\n",
       "      <th>...</th>\n",
       "      <th>user_correct_answers_cum_part6</th>\n",
       "      <th>user_correct_answers_cum_part7</th>\n",
       "      <th>at_least_one_lesson</th>\n",
       "      <th>user_personalized_qstat_knowing_had_explanation_or_not</th>\n",
       "      <th>user_avg_score_cum_on_this_part</th>\n",
       "      <th>user_correct_answers_cum_on_this_part</th>\n",
       "      <th>already_seen</th>\n",
       "      <th>qstats_answered_correctly</th>\n",
       "      <th>qstats_prior_question_had_explanation</th>\n",
       "      <th>answered_correctly</th>\n",
       "    </tr>\n",
       "  </thead>\n",
       "  <tbody>\n",
       "    <tr>\n",
       "      <th>0</th>\n",
       "      <td>-1</td>\n",
       "      <td>-1</td>\n",
       "      <td>0</td>\n",
       "      <td>0.499</td>\n",
       "      <td>0</td>\n",
       "      <td>0.499</td>\n",
       "      <td>0.499</td>\n",
       "      <td>0.499</td>\n",
       "      <td>0.499</td>\n",
       "      <td>0.499</td>\n",
       "      <td>...</td>\n",
       "      <td>0</td>\n",
       "      <td>0</td>\n",
       "      <td>0</td>\n",
       "      <td>-1</td>\n",
       "      <td>0.499</td>\n",
       "      <td>0</td>\n",
       "      <td>-1</td>\n",
       "      <td>-1</td>\n",
       "      <td>-1</td>\n",
       "      <td>-1</td>\n",
       "    </tr>\n",
       "  </tbody>\n",
       "</table>\n",
       "<p>1 rows × 27 columns</p>\n",
       "</div>"
      ],
      "text/plain": [
       "   content_type_id  content_id  user_activity_cumcount  user_avg_score_cum  \\\n",
       "0               -1          -1                       0               0.499   \n",
       "\n",
       "   user_correct_answers_cum  user_avg_score_cum_part1  \\\n",
       "0                         0                     0.499   \n",
       "\n",
       "   user_avg_score_cum_part2  user_avg_score_cum_part3  \\\n",
       "0                     0.499                     0.499   \n",
       "\n",
       "   user_avg_score_cum_part4  user_avg_score_cum_part5  ...  \\\n",
       "0                     0.499                     0.499  ...   \n",
       "\n",
       "   user_correct_answers_cum_part6  user_correct_answers_cum_part7  \\\n",
       "0                               0                               0   \n",
       "\n",
       "   at_least_one_lesson  \\\n",
       "0                    0   \n",
       "\n",
       "   user_personalized_qstat_knowing_had_explanation_or_not  \\\n",
       "0                                                 -1        \n",
       "\n",
       "   user_avg_score_cum_on_this_part  user_correct_answers_cum_on_this_part  \\\n",
       "0                            0.499                                      0   \n",
       "\n",
       "   already_seen  qstats_answered_correctly  \\\n",
       "0            -1                         -1   \n",
       "\n",
       "   qstats_prior_question_had_explanation  answered_correctly  \n",
       "0                                     -1                  -1  \n",
       "\n",
       "[1 rows x 27 columns]"
      ]
     },
     "execution_count": 16,
     "metadata": {},
     "output_type": "execute_result"
    }
   ],
   "source": [
    "user_history_empty=pd.DataFrame({'content_type_id':[-1],\n",
    "                             'content_id':[-1],\n",
    "                             'user_activity_cumcount':[-1],\n",
    "                             'user_avg_score_cum':[0.499],\n",
    "                             'user_correct_answers_cum':[0],\n",
    "                             'user_avg_score_cum_part1':[0.499],\n",
    "                             'user_avg_score_cum_part2':[0.499],\n",
    "                             'user_avg_score_cum_part3':[0.499],\n",
    "                             'user_avg_score_cum_part4':[0.499],\n",
    "                             'user_avg_score_cum_part5':[0.499],\n",
    "                             'user_avg_score_cum_part6':[0.499],\n",
    "                             'user_avg_score_cum_part7':[0.499],\n",
    "                             'user_correct_answers_cum_part1':[0],\n",
    "                             'user_correct_answers_cum_part2':[0],\n",
    "                             'user_correct_answers_cum_part3':[0],\n",
    "                             'user_correct_answers_cum_part4':[0],\n",
    "                             'user_correct_answers_cum_part5':[0],\n",
    "                             'user_correct_answers_cum_part6':[0],\n",
    "                             'user_correct_answers_cum_part7':[0],\n",
    "                             'at_least_one_lesson':[0],\n",
    "                             'user_personalized_qstat_knowing_had_explanation_or_not':[-1],\n",
    "                             'user_avg_score_cum_on_this_part':[0.499],\n",
    "                             'user_correct_answers_cum_on_this_part':[0],\n",
    "                             'already_seen':[-1],\n",
    "                             'qstats_answered_correctly':[-1],\n",
    "                             'qstats_prior_question_had_explanation':[-1],\n",
    "                             'answered_correctly':[-1]\n",
    "                          })\n",
    "user_history"
   ]
  },
  {
   "cell_type": "markdown",
   "metadata": {},
   "source": [
    "# User history update fonction"
   ]
  },
  {
   "cell_type": "code",
   "execution_count": null,
   "metadata": {},
   "outputs": [],
   "source": [
    "def user_history_update(content_type_id, content_id, data_qstats, user_history=None):\n",
    "    '''Crée ou met à jour l'hisorique d'un utilisateur, stockée dans un df'''\n",
    "    \n",
    "    user_history_empty=pd.DataFrame({ # following columns depend of previous history of the user : \n",
    "                             ### TO BE UPDATED ###\n",
    "                             'user_activity_cumcount':[-1],\n",
    "                             'user_avg_score_cum':[0.499],\n",
    "                             'user_correct_answers_cum':[0],\n",
    "                             'user_avg_score_cum_part1':[0.499],\n",
    "                             'user_avg_score_cum_part2':[0.499],\n",
    "                             'user_avg_score_cum_part3':[0.499],\n",
    "                             'user_avg_score_cum_part4':[0.499],\n",
    "                             'user_avg_score_cum_part5':[0.499],\n",
    "                             'user_avg_score_cum_part6':[0.499],\n",
    "                             'user_avg_score_cum_part7':[0.499],\n",
    "                             'user_correct_answers_cum_part1':[0],\n",
    "                             'user_correct_answers_cum_part2':[0],\n",
    "                             'user_correct_answers_cum_part3':[0],\n",
    "                             'user_correct_answers_cum_part4':[0],\n",
    "                             'user_correct_answers_cum_part5':[0],\n",
    "                             'user_correct_answers_cum_part6':[0],\n",
    "                             'user_correct_answers_cum_part7':[0],\n",
    "                             'at_least_one_lesson':[0],\n",
    "                             # following columns are pure question stats : \n",
    "                             ### TO BE IMPORTED ###\n",
    "                             'content_type_id':[-1],\n",
    "                             'content_id':[-1],\n",
    "                             'part_q_l':[-1]\n",
    "                             'qstats_answered_correctly':[-1],\n",
    "                             'qstats_prior_question_had_explanation':[-1],\n",
    "                             'qstats_answered_correctly_knowing_having_had_explanation':[-1],\n",
    "                             'qstats_answered_correctly_knowing_having_not_had_explanation':[-1],\n",
    "                             # following columns depend of the current question AND the hisory of user\n",
    "                             ### TO BE COMPUTED ###\n",
    "                             'user_personalized_qstat_knowing_had_explanation_or_not':[-1],\n",
    "                             'already_seen':[-1],\n",
    "                             'user_avg_score_cum_on_this_part':[0.499],\n",
    "                             'user_correct_answers_cum_on_this_part':[0],\n",
    "                             # the following line is the prediction to be made\n",
    "                             ### TO BE PREDICTED ###\n",
    "                             'answered_correctly':[-1]\n",
    "                          })\n",
    "    \n",
    "    if not type(user_history)==pd.DataFrame:\n",
    "        user_history=user_history_empty\n",
    "    \n",
    "    last_line=user_history.iloc[-1]\n",
    "    new_line =last_line.copy()\n",
    "    new_line['user_activity_cumcount'] = last_line['user_activity_cumcount'] + 1\n",
    "    \n",
    "    last_content_type_id=user_history.iloc[-1]['content_type_id']\n",
    "    if not last_content_type_id==1:# TODO : coder le comportement de cette fonction quand elle arrive sur une lecture\n",
    "\n",
    "            new_line['at_least_one_lesson']=1\n",
    "    \n",
    "    elif last_content_type_id==0:\n",
    "        \n",
    "        ### USER HISTORY FEATURES ###\n",
    "            \n",
    "            new_line['user_correct_answers_cum'] = last_line['user_correct_answers_cum']\\\n",
    "                                                 + last_line['answered_correctly']\n",
    "            new_user_questions_count             = last_line['user_correct_answers_cum']\\\n",
    "                                                 / last_line['user_avg_score_cum']\\\n",
    "                                                 + 1\n",
    "            new_line['user_avg_score_cum']       = new_line['user_correct_answers_cum']\\\n",
    "                                                 / new_user_questions_count\n",
    "            \n",
    "            for part in range(1,8):\n",
    "                new_line[f'user_correct_answers_cum_part{part}'] = last_line[f'user_correct_answers_cum_part{part}']\\\n",
    "                                                                 + last_line[f'answered_correctly_part{part}']\n",
    "                vars()[f'new_user_questions_count_part{part}']   = last_line[f'user_correct_answers_cum_part{part}']\\\n",
    "                                                                 / last_line[f'user_avg_score_cum_part{part}']\\\n",
    "                                                                 + 1\n",
    "                new_line[f'user_avg_score_cum_part{part}']       = new_line[f'user_correct_answers_cum_part{part}']\\\n",
    "                                                                 / vars()[f'new_user_questions_count_part{part}']                \n",
    "        \n",
    "        ### CURRENT QUESTION IMPORT  \n",
    "                                         \n",
    "\n",
    "        new_line= pd.DataFrame({'user_id':user,\n",
    "                             'answered_correctly':row['answered_correctly'],\n",
    "                             'correctly_answered_cumcount':new_correctly_answered_cumcount,\n",
    "                             'uncorrectly_answered_cumcount':new_uncorrectly_answered_cumcount,\n",
    "                             'user_avg_score_cum':new_user_avg_score_cum,\n",
    "                             'qstats_answered_correctly':data_qstats.loc[content].qstats_answered_correctly,\n",
    "                                           },\n",
    "                              index=[-1])\n",
    "        user_history=pd.concat([user_history,new_line],axis=0,ignore_index=True)\n",
    "\n",
    "    return user_history"
   ]
  },
  {
   "cell_type": "markdown",
   "metadata": {},
   "source": [
    "# Loop"
   ]
  },
  {
   "cell_type": "code",
   "execution_count": 15,
   "metadata": {
    "ExecuteTime": {
     "end_time": "2020-12-15T09:38:40.626212Z",
     "start_time": "2020-12-15T09:38:40.621181Z"
    }
   },
   "outputs": [],
   "source": [
    "loop_length=1000\n",
    "question_selection_strategy='random'"
   ]
  },
  {
   "cell_type": "code",
   "execution_count": null,
   "metadata": {},
   "outputs": [],
   "source": [
    "for i in range(loop_length):\n",
    "    "
   ]
  },
  {
   "cell_type": "code",
   "execution_count": 17,
   "metadata": {
    "ExecuteTime": {
     "end_time": "2020-12-15T10:16:14.753733Z",
     "start_time": "2020-12-15T10:16:14.726793Z"
    }
   },
   "outputs": [
    {
     "data": {
      "text/plain": [
       "range(1, 7)"
      ]
     },
     "execution_count": 17,
     "metadata": {},
     "output_type": "execute_result"
    }
   ],
   "source": [
    "range(1,7)"
   ]
  },
  {
   "cell_type": "code",
   "execution_count": 19,
   "metadata": {
    "ExecuteTime": {
     "end_time": "2020-12-15T10:16:31.215133Z",
     "start_time": "2020-12-15T10:16:31.170257Z"
    }
   },
   "outputs": [
    {
     "name": "stdout",
     "output_type": "stream",
     "text": [
      "1\n",
      "2\n",
      "3\n",
      "4\n",
      "5\n",
      "6\n"
     ]
    }
   ],
   "source": [
    "for i in range(1,7):\n",
    "    print(i)"
   ]
  },
  {
   "cell_type": "code",
   "execution_count": 21,
   "metadata": {
    "ExecuteTime": {
     "end_time": "2020-12-15T10:19:54.939803Z",
     "start_time": "2020-12-15T10:19:54.913614Z"
    }
   },
   "outputs": [
    {
     "data": {
      "text/plain": [
       "99"
      ]
     },
     "execution_count": 21,
     "metadata": {},
     "output_type": "execute_result"
    }
   ],
   "source": [
    "i=9\n",
    "vars()[f'machin{i}']=99\n",
    "machin9"
   ]
  },
  {
   "cell_type": "code",
   "execution_count": null,
   "metadata": {},
   "outputs": [],
   "source": []
  }
 ],
 "metadata": {
  "kernelspec": {
   "display_name": "Python 3",
   "language": "python",
   "name": "python3"
  },
  "language_info": {
   "codemirror_mode": {
    "name": "ipython",
    "version": 3
   },
   "file_extension": ".py",
   "mimetype": "text/x-python",
   "name": "python",
   "nbconvert_exporter": "python",
   "pygments_lexer": "ipython3",
   "version": "3.7.7"
  },
  "toc": {
   "base_numbering": 1,
   "nav_menu": {},
   "number_sections": true,
   "sideBar": true,
   "skip_h1_title": false,
   "title_cell": "Table of Contents",
   "title_sidebar": "Contents",
   "toc_cell": false,
   "toc_position": {},
   "toc_section_display": true,
   "toc_window_display": false
  }
 },
 "nbformat": 4,
 "nbformat_minor": 4
}
