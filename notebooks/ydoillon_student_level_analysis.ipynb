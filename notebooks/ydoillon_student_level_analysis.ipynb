{
 "cells": [
  {
   "cell_type": "code",
   "execution_count": 16,
   "metadata": {
    "ExecuteTime": {
     "end_time": "2020-12-08T10:35:01.083454Z",
     "start_time": "2020-12-08T10:35:00.620292Z"
    }
   },
   "outputs": [],
   "source": [
    "import pandas as pd\n",
    "import numpy as np\n",
    "import matplotlib.pyplot as plt"
   ]
  },
  {
   "cell_type": "code",
   "execution_count": 2,
   "metadata": {
    "ExecuteTime": {
     "end_time": "2020-12-08T10:29:58.208784Z",
     "start_time": "2020-12-08T10:29:58.191124Z"
    }
   },
   "outputs": [
    {
     "data": {
      "text/plain": [
       "'/Users/Yohann/code/YohannD/riiid-project/notebooks'"
      ]
     },
     "execution_count": 2,
     "metadata": {},
     "output_type": "execute_result"
    }
   ],
   "source": [
    "pwd"
   ]
  },
  {
   "cell_type": "code",
   "execution_count": 4,
   "metadata": {
    "ExecuteTime": {
     "end_time": "2020-12-08T10:30:37.429874Z",
     "start_time": "2020-12-08T10:30:35.763632Z"
    }
   },
   "outputs": [],
   "source": [
    "data = pd.read_csv('../raw_data/train_1M.csv')\n",
    "df = data.copy()"
   ]
  },
  {
   "cell_type": "code",
   "execution_count": 243,
   "metadata": {
    "ExecuteTime": {
     "end_time": "2020-12-08T14:08:36.304817Z",
     "start_time": "2020-12-08T14:08:36.159154Z"
    }
   },
   "outputs": [
    {
     "data": {
      "text/plain": [
       "Unnamed: 0                        113073\n",
       "row_id                            113073\n",
       "timestamp                         113073\n",
       "user_id                           113073\n",
       "content_id                        113073\n",
       "content_type_id                   113073\n",
       "task_container_id                 113073\n",
       "user_answer                       113073\n",
       "answered_correctly                113073\n",
       "prior_question_elapsed_time        93638\n",
       "prior_question_had_explanation    113073\n",
       "dtype: int64"
      ]
     },
     "execution_count": 243,
     "metadata": {},
     "output_type": "execute_result"
    }
   ],
   "source": [
    "df[df['prior_question_had_explanation']==False].count()"
   ]
  },
  {
   "cell_type": "code",
   "execution_count": 128,
   "metadata": {
    "ExecuteTime": {
     "end_time": "2020-12-08T11:39:30.237218Z",
     "start_time": "2020-12-08T11:39:30.214332Z"
    }
   },
   "outputs": [
    {
     "data": {
      "text/plain": [
       " 1    635571\n",
       " 0    332263\n",
       "-1     19435\n",
       "Name: answered_correctly, dtype: int64"
      ]
     },
     "execution_count": 128,
     "metadata": {},
     "output_type": "execute_result"
    }
   ],
   "source": [
    "df.answered_correctly.value_counts()"
   ]
  },
  {
   "cell_type": "code",
   "execution_count": 162,
   "metadata": {
    "ExecuteTime": {
     "end_time": "2020-12-08T12:01:06.828399Z",
     "start_time": "2020-12-08T12:01:06.691121Z"
    }
   },
   "outputs": [
    {
     "data": {
      "text/plain": [
       "True     870275\n",
       "False    113073\n",
       "Name: prior_question_had_explanation, dtype: int64"
      ]
     },
     "execution_count": 162,
     "metadata": {},
     "output_type": "execute_result"
    }
   ],
   "source": [
    "df.prior_question_had_explanation.value_counts()"
   ]
  },
  {
   "cell_type": "code",
   "execution_count": 142,
   "metadata": {
    "ExecuteTime": {
     "end_time": "2020-12-08T11:44:34.106504Z",
     "start_time": "2020-12-08T11:44:34.084554Z"
    }
   },
   "outputs": [
    {
     "data": {
      "text/plain": [
       "-12.786184210526315"
      ]
     },
     "execution_count": 142,
     "metadata": {},
     "output_type": "execute_result"
    }
   ],
   "source": [
    "df[df['answered_correctly'] == -1].groupby('user_id').answered_correctly.sum().mean()"
   ]
  },
  {
   "cell_type": "code",
   "execution_count": 6,
   "metadata": {
    "ExecuteTime": {
     "end_time": "2020-12-08T10:30:47.353601Z",
     "start_time": "2020-12-08T10:30:47.345203Z"
    }
   },
   "outputs": [
    {
     "data": {
      "text/plain": [
       "(987269, 11)"
      ]
     },
     "execution_count": 6,
     "metadata": {},
     "output_type": "execute_result"
    }
   ],
   "source": [
    "df.shape"
   ]
  },
  {
   "cell_type": "markdown",
   "metadata": {},
   "source": [
    "# Explore users"
   ]
  },
  {
   "cell_type": "code",
   "execution_count": 296,
   "metadata": {
    "ExecuteTime": {
     "end_time": "2020-12-08T15:14:27.342354Z",
     "start_time": "2020-12-08T15:14:26.534265Z"
    }
   },
   "outputs": [],
   "source": [
    "nb_users = df.user_id.nunique()\n",
    "nb_answers_per_user = df[df['content_type_id'] == 0].groupby('user_id').row_id.count().round()\n",
    "nb_lectures_per_user = df.groupby('user_id').content_type_id.sum().round()\n",
    "nb_answers_mean = df[df['answered_correctly'] >= 0].groupby('user_id').answered_correctly.sum().mean().round()\n",
    "nb_answers_max =  df[df['answered_correctly'] >= 0].groupby('user_id').answered_correctly.sum().max().round()\n",
    "nb_lectures_mean = df[df['content_type_id'] == 1].groupby('user_id').row_id.count().mean().round()\n",
    "nb_lectures_max = df[df['content_type_id'] == 1].groupby('user_id').row_id.count().max().round()\n",
    "avg_score = ((df[df['answered_correctly'] >= 0].groupby('user_id').answered_correctly.sum() / df[df['answered_correctly'] >= 0].groupby('user_id').answered_correctly.count()).mean()*100).round()\n",
    "avg_score_per_user = ((df[df['answered_correctly'] >= 0].groupby('user_id').answered_correctly.sum() / df[df['answered_correctly'] >= 0].groupby('user_id').answered_correctly.count())*100).round()\n",
    "max_time_spent = (df.groupby('user_id').timestamp.max().max()/3600000).round()\n",
    "mean_time_spent = (df.groupby('user_id').timestamp.max().mean()/3600000).round()"
   ]
  },
  {
   "cell_type": "code",
   "execution_count": 297,
   "metadata": {
    "ExecuteTime": {
     "end_time": "2020-12-08T15:14:41.148516Z",
     "start_time": "2020-12-08T15:14:41.138249Z"
    }
   },
   "outputs": [
    {
     "data": {
      "text/plain": [
       "user_id\n",
       "1710599        0\n",
       "1906069        0\n",
       "2101969       12\n",
       "2198581        0\n",
       "2381110        1\n",
       "3763060        8\n",
       "4580228        0\n",
       "5256034        5\n",
       "5745276        2\n",
       "5766705        2\n",
       "5987022        0\n",
       "6324620        0\n",
       "6932476        0\n",
       "7408877        0\n",
       "7993478        0\n",
       "8048242       11\n",
       "8968814        1\n",
       "10879629       0\n",
       "11036207       0\n",
       "12002096       0\n",
       "13401374       0\n",
       "15388756      37\n",
       "15680803       0\n",
       "15954421       0\n",
       "16097978       0\n",
       "16452690       0\n",
       "17045043       0\n",
       "17926202       2\n",
       "18066275       2\n",
       "18733142       0\n",
       "              ..\n",
       "2134488088     0\n",
       "2134593978     0\n",
       "2135262756     0\n",
       "2136151042     0\n",
       "2136431267     0\n",
       "2138364452     0\n",
       "2138630601    10\n",
       "2139300906     0\n",
       "2139382730     0\n",
       "2139891146     0\n",
       "2140062901     2\n",
       "2140400537     0\n",
       "2140692639     0\n",
       "2140730411     0\n",
       "2141200021     0\n",
       "2141203754    12\n",
       "2141359238     1\n",
       "2141834251     0\n",
       "2142376280    44\n",
       "2143704701    20\n",
       "2144119140     0\n",
       "2144418693     1\n",
       "2144555928     0\n",
       "2145039135    50\n",
       "2145059952     1\n",
       "2145253714    32\n",
       "2145343445     0\n",
       "2145381578     0\n",
       "2145920530     5\n",
       "2147379374     0\n",
       "Name: content_type_id, Length: 3935, dtype: int64"
      ]
     },
     "execution_count": 297,
     "metadata": {},
     "output_type": "execute_result"
    }
   ],
   "source": [
    "nb_lectures_per_user"
   ]
  },
  {
   "cell_type": "code",
   "execution_count": 220,
   "metadata": {
    "ExecuteTime": {
     "end_time": "2020-12-08T13:51:41.609319Z",
     "start_time": "2020-12-08T13:51:41.026678Z"
    }
   },
   "outputs": [
    {
     "name": "stderr",
     "output_type": "stream",
     "text": [
      "/Users/Yohann/.pyenv/versions/3.7.7/envs/lewagon/lib/python3.7/site-packages/ipykernel_launcher.py:3: UserWarning: Attempted to set non-positive bottom ylim on a log-scaled axis.\n",
      "Invalid limit will be ignored.\n",
      "  This is separate from the ipykernel package so we can avoid doing imports until\n"
     ]
    },
    {
     "data": {
      "text/plain": [
       "(2.984930890941384, 1000)"
      ]
     },
     "execution_count": 220,
     "metadata": {},
     "output_type": "execute_result"
    },
    {
     "data": {
      "image/png": "[encoded data removed]",
      "text/plain": [
       "<Figure size 432x288 with 1 Axes>"
      ]
     },
     "metadata": {
      "needs_background": "light"
     },
     "output_type": "display_data"
    }
   ],
   "source": [
    "plt.hist(nb_lectures_per_user, log=True, bins=5)\n",
    "plt.xlim(0,300)\n",
    "plt.ylim(0,1000)"
   ]
  },
  {
   "cell_type": "code",
   "execution_count": 239,
   "metadata": {
    "ExecuteTime": {
     "end_time": "2020-12-08T13:54:55.754808Z",
     "start_time": "2020-12-08T13:54:55.443163Z"
    }
   },
   "outputs": [
    {
     "data": {
      "text/plain": [
       "(array([ 459.,  971., 1560.,  781.,   45.]),\n",
       " array([ 21. ,  36.8,  52.6,  68.4,  84.2, 100. ]),\n",
       " <BarContainer object of 5 artists>)"
      ]
     },
     "execution_count": 239,
     "metadata": {},
     "output_type": "execute_result"
    },
    {
     "data": {
      "image/png": "[encoded data removed]",
      "text/plain": [
       "<Figure size 432x288 with 1 Axes>"
      ]
     },
     "metadata": {
      "needs_background": "light"
     },
     "output_type": "display_data"
    }
   ],
   "source": [
    "nb_answers_per_user\n",
    "nb_answers_per_user\n",
    "plt.hist(avg_score_per_user.where(avg_score_per_user>20), 5)"
   ]
  },
  {
   "cell_type": "code",
   "execution_count": 283,
   "metadata": {
    "ExecuteTime": {
     "end_time": "2020-12-08T15:10:49.592171Z",
     "start_time": "2020-12-08T15:10:49.583331Z"
    }
   },
   "outputs": [
    {
     "name": "stdout",
     "output_type": "stream",
     "text": [
      "Number of users: 3935\n",
      "Mean users answered correctly 162.0 questions.\n",
      "Users at most answered correctly 8919 questions.\n",
      "Mean users took 13.0 lectures.\n",
      "Users at most answered took 200 lectures.\n",
      "Users average score is 55.0 %.\n",
      "User max time spent on app: 22437.0 h.\n",
      "User mean time spent on app: 1518.0 h.\n"
     ]
    }
   ],
   "source": [
    "print('Number of users:', nb_users)\n",
    "print('Mean users answered correctly', nb_answers_mean, 'questions.')\n",
    "print('Users at most answered correctly', nb_answers_max, 'questions.')\n",
    "print('Mean users took', nb_lectures_mean, 'lectures.')\n",
    "print('Users at most answered took', nb_lectures_max, 'lectures.')\n",
    "print('Users average score is', avg_score, '%.')\n",
    "print('User max time spent on app:', max_time_spent, 'h.')\n",
    "print('User mean time spent on app:', mean_time_spent, 'h.')\n",
    "\n"
   ]
  },
  {
   "cell_type": "code",
   "execution_count": 284,
   "metadata": {
    "ExecuteTime": {
     "end_time": "2020-12-08T15:10:55.984014Z",
     "start_time": "2020-12-08T15:10:54.426254Z"
    }
   },
   "outputs": [
    {
     "data": {
      "text/plain": [
       "Text(0.5, 1.0, 'Average scores')"
      ]
     },
     "execution_count": 284,
     "metadata": {},
     "output_type": "execute_result"
    },
    {
     "data": {
      "image/png": "[encoded data removed]",
      "text/plain": [
       "<Figure size 432x288 with 2 Axes>"
      ]
     },
     "metadata": {
      "needs_background": "light"
     },
     "output_type": "display_data"
    }
   ],
   "source": [
    "#fig, axs = plt.subplots(2, 2)\n",
    "f, (ax1, ax2) = plt.subplots(1, 2, sharey=True)\n",
    "\n",
    "ax1.hist(df[df['answered_correctly'] >= 0].groupby('user_id').answered_correctly.sum(), log=True, bins=10, label='Correctly answered questions')\n",
    "#plt.title('Correctly answered questions')\n",
    "\n",
    "ax2.hist(df[df['answered_correctly'] >= 0].groupby('user_id').answered_correctly.sum() / df[df['answered_correctly'] >= 0].groupby('user_id').answered_correctly.count(), log=True, bins=10)\n",
    "plt.title('Average scores')"
   ]
  },
  {
   "cell_type": "code",
   "execution_count": 156,
   "metadata": {
    "ExecuteTime": {
     "end_time": "2020-12-08T11:58:09.435570Z",
     "start_time": "2020-12-08T11:58:09.002879Z"
    }
   },
   "outputs": [
    {
     "data": {
      "text/plain": [
       "<matplotlib.collections.PathCollection at 0x125b53950>"
      ]
     },
     "execution_count": 156,
     "metadata": {},
     "output_type": "execute_result"
    },
    {
     "data": {
      "image/png": "[encoded data removed]",
      "text/plain": [
       "<Figure size 432x288 with 1 Axes>"
      ]
     },
     "metadata": {
      "needs_background": "light"
     },
     "output_type": "display_data"
    }
   ],
   "source": [
    "plt.scatter(df[df['answered_correctly'] >= 0].groupby('user_id').answered_correctly.sum(), df[df['answered_correctly'] >= 0].groupby('user_id').answered_correctly.count())\n",
    "\n",
    "\n"
   ]
  },
  {
   "cell_type": "code",
   "execution_count": 161,
   "metadata": {
    "ExecuteTime": {
     "end_time": "2020-12-08T12:00:13.303711Z",
     "start_time": "2020-12-08T12:00:12.845030Z"
    }
   },
   "outputs": [
    {
     "data": {
      "text/plain": [
       "<matplotlib.collections.PathCollection at 0x1257b6a90>"
      ]
     },
     "execution_count": 161,
     "metadata": {},
     "output_type": "execute_result"
    },
    {
     "data": {
      "image/png": "[encoded data removed]",
      "text/plain": [
       "<Figure size 432x288 with 1 Axes>"
      ]
     },
     "metadata": {
      "needs_background": "light"
     },
     "output_type": "display_data"
    }
   ],
   "source": [
    "plt.scatter(df[df['answered_correctly'] >= 0].groupby('user_id').timestamp.max()/360000, df[df['answered_correctly'] >= 0].groupby('user_id').answered_correctly.sum())"
   ]
  },
  {
   "cell_type": "code",
   "execution_count": 163,
   "metadata": {
    "ExecuteTime": {
     "end_time": "2020-12-08T12:04:11.659892Z",
     "start_time": "2020-12-08T12:04:11.102333Z"
    }
   },
   "outputs": [
    {
     "data": {
      "text/plain": [
       "<matplotlib.collections.PathCollection at 0x134ae07d0>"
      ]
     },
     "execution_count": 163,
     "metadata": {},
     "output_type": "execute_result"
    },
    {
     "data": {
      "image/png": "[encoded data removed]",
      "text/plain": [
       "<Figure size 432x288 with 1 Axes>"
      ]
     },
     "metadata": {
      "needs_background": "light"
     },
     "output_type": "display_data"
    }
   ],
   "source": [
    "plt.scatter(df[df['answered_correctly'] >= 0].groupby('user_id').timestamp.max()/360000, df[df['answered_correctly'] >= 0].groupby('user_id').answered_correctly.sum() / df[df['answered_correctly'] >= 0].groupby('user_id').answered_correctly.count())\n",
    "\n"
   ]
  },
  {
   "cell_type": "markdown",
   "metadata": {},
   "source": [
    "## Users breakdown per time spent on app"
   ]
  },
  {
   "cell_type": "code",
   "execution_count": null,
   "metadata": {},
   "outputs": [],
   "source": [
    "df.qcut"
   ]
  },
  {
   "cell_type": "code",
   "execution_count": 251,
   "metadata": {
    "ExecuteTime": {
     "end_time": "2020-12-08T14:12:58.003591Z",
     "start_time": "2020-12-08T14:12:57.672457Z"
    }
   },
   "outputs": [],
   "source": [
    "users_one_w = df[df['timestamp'] <= 6.048e+8]\n",
    "users_one_m = df[df['timestamp'] <= 2.628e+9]\n",
    "users_six_m = df[df['timestamp'] <= 1.577e+10]\n",
    "users_one_y = df[df['timestamp'] <= 3.154e+10]\n",
    "users_over_one_y = df[df['timestamp'] > 3.154e+10]\n",
    "users_over_two_y = df[df['timestamp'] > 3.154e+10]"
   ]
  },
  {
   "cell_type": "code",
   "execution_count": 257,
   "metadata": {
    "ExecuteTime": {
     "end_time": "2020-12-08T14:20:23.267425Z",
     "start_time": "2020-12-08T14:20:22.898412Z"
    }
   },
   "outputs": [
    {
     "name": "stdout",
     "output_type": "stream",
     "text": [
      "One week users: (3935, 10)\n",
      "One month users: (3935, 10)\n",
      "Six months users: (3935, 10)\n",
      "One year users: (183, 10)\n"
     ]
    }
   ],
   "source": [
    "print('One week users:', users_one_w.groupby('user_id').count().shape)\n",
    "print('One month users:', users_one_m.groupby('user_id').count().shape)\n",
    "print('Six months users:', users_six_m.groupby('user_id').count().shape)\n",
    "print('One year users:', users_over_one_y.groupby('user_id').count().shape)"
   ]
  },
  {
   "cell_type": "code",
   "execution_count": 356,
   "metadata": {
    "ExecuteTime": {
     "end_time": "2020-12-08T16:10:37.045221Z",
     "start_time": "2020-12-08T16:10:36.282709Z"
    }
   },
   "outputs": [
    {
     "name": "stdout",
     "output_type": "stream",
     "text": [
      "Average score per user: nan\n",
      "Average score per user: nan\n",
      "Average score per user: nan\n",
      "Average score per user: nan\n"
     ]
    }
   ],
   "source": [
    "use_time = [users_one_m, users_one_w, users_one_y, users_over_one_y]\n",
    "\n",
    "for user in use_time:\n",
    "    print('Average score per user:',((user[user['answered_correctly'] >= 0].groupby('user_id').answered_correctly.cumsum() / (user[user['answered_correctly'] >= 0].groupby('user_id').answered_correctly.count())*100)).mean())\n",
    "\n",
    "\n",
    "\n"
   ]
  },
  {
   "cell_type": "markdown",
   "metadata": {},
   "source": [
    "## Users breakdown per average score"
   ]
  },
  {
   "cell_type": "code",
   "execution_count": 267,
   "metadata": {
    "ExecuteTime": {
     "end_time": "2020-12-08T15:03:38.016739Z",
     "start_time": "2020-12-08T15:03:37.672079Z"
    }
   },
   "outputs": [
    {
     "name": "stderr",
     "output_type": "stream",
     "text": [
      "/Users/Yohann/.pyenv/versions/3.7.7/envs/lewagon/lib/python3.7/site-packages/numpy/lib/histograms.py:839: RuntimeWarning: invalid value encountered in greater_equal\n",
      "  keep = (tmp_a >= first_edge)\n",
      "/Users/Yohann/.pyenv/versions/3.7.7/envs/lewagon/lib/python3.7/site-packages/numpy/lib/histograms.py:840: RuntimeWarning: invalid value encountered in less_equal\n",
      "  keep &= (tmp_a <= last_edge)\n"
     ]
    },
    {
     "data": {
      "text/plain": [
       "(array([ 459.,  971., 1560.,  781.,   45.]),\n",
       " array([ 21. ,  36.8,  52.6,  68.4,  84.2, 100. ]),\n",
       " <BarContainer object of 5 artists>)"
      ]
     },
     "execution_count": 267,
     "metadata": {},
     "output_type": "execute_result"
    },
    {
     "data": {
      "image/png": "[encoded data removed]",
      "text/plain": [
       "<Figure size 432x288 with 1 Axes>"
      ]
     },
     "metadata": {
      "needs_background": "light"
     },
     "output_type": "display_data"
    }
   ],
   "source": [
    "#users_25p = df[df['timestamp'] <= 6.048e+8]\n",
    "#users_50p = df[df['timestamp'] <= 2.628e+9]\n",
    "#users_75p = df[df['timestamp'] <= 1.577e+10]\n",
    "\n",
    "plt.hist(avg_score_per_user.where(avg_score_per_user>20), 5)\n"
   ]
  },
  {
   "cell_type": "code",
   "execution_count": 294,
   "metadata": {
    "ExecuteTime": {
     "end_time": "2020-12-08T15:13:13.874107Z",
     "start_time": "2020-12-08T15:13:13.577364Z"
    }
   },
   "outputs": [
    {
     "data": {
      "text/plain": [
       "(0.0, 200.0)"
      ]
     },
     "execution_count": 294,
     "metadata": {},
     "output_type": "execute_result"
    },
    {
     "data": {
      "image/png": "[encoded data removed]",
      "text/plain": [
       "<Figure size 432x288 with 1 Axes>"
      ]
     },
     "metadata": {
      "needs_background": "light"
     },
     "output_type": "display_data"
    }
   ],
   "source": [
    "# avg score depending on how many lectures seen  \n",
    "plt.scatter(df.groupby('user_id').content_type_id.sum().round(), avg_score_per_user)\n",
    "plt.xlim(0,200)"
   ]
  },
  {
   "cell_type": "code",
   "execution_count": 292,
   "metadata": {
    "ExecuteTime": {
     "end_time": "2020-12-08T15:12:58.447973Z",
     "start_time": "2020-12-08T15:12:58.438705Z"
    }
   },
   "outputs": [
    {
     "data": {
      "text/plain": [
       "(3935,)"
      ]
     },
     "execution_count": 292,
     "metadata": {},
     "output_type": "execute_result"
    }
   ],
   "source": [
    "avg_score_per_user.shape"
   ]
  },
  {
   "cell_type": "code",
   "execution_count": 287,
   "metadata": {
    "ExecuteTime": {
     "end_time": "2020-12-08T15:11:32.522451Z",
     "start_time": "2020-12-08T15:11:32.457782Z"
    }
   },
   "outputs": [
    {
     "data": {
      "text/plain": [
       "(3935,)"
      ]
     },
     "execution_count": 287,
     "metadata": {},
     "output_type": "execute_result"
    }
   ],
   "source": [
    ".shape"
   ]
  },
  {
   "cell_type": "code",
   "execution_count": 314,
   "metadata": {
    "ExecuteTime": {
     "end_time": "2020-12-08T15:18:38.234241Z",
     "start_time": "2020-12-08T15:18:38.191504Z"
    }
   },
   "outputs": [
    {
     "data": {
      "text/plain": [
       "2415"
      ]
     },
     "execution_count": 314,
     "metadata": {},
     "output_type": "execute_result"
    }
   ],
   "source": [
    "(df.groupby('user_id').content_type_id.sum()==0).sum()"
   ]
  },
  {
   "cell_type": "code",
   "execution_count": 331,
   "metadata": {
    "ExecuteTime": {
     "end_time": "2020-12-08T15:36:15.683659Z",
     "start_time": "2020-12-08T15:36:15.536526Z"
    }
   },
   "outputs": [],
   "source": [
    "questions = df.query('content_type_id==0')\n",
    "lectures = df.query('content_type_id==1')"
   ]
  },
  {
   "cell_type": "code",
   "execution_count": 336,
   "metadata": {
    "ExecuteTime": {
     "end_time": "2020-12-08T15:50:38.360949Z",
     "start_time": "2020-12-08T15:50:38.180917Z"
    }
   },
   "outputs": [],
   "source": [
    "df['user_activity_cumcount']=df.groupby('user_id').cumcount()"
   ]
  },
  {
   "cell_type": "code",
   "execution_count": 340,
   "metadata": {
    "ExecuteTime": {
     "end_time": "2020-12-08T15:56:33.125088Z",
     "start_time": "2020-12-08T15:56:33.072233Z"
    }
   },
   "outputs": [],
   "source": [
    "df['days_on_the_app']=df.groupby('user_id').timestamp.max()"
   ]
  },
  {
   "cell_type": "code",
   "execution_count": 351,
   "metadata": {
    "ExecuteTime": {
     "end_time": "2020-12-08T16:05:36.171357Z",
     "start_time": "2020-12-08T16:05:36.146660Z"
    }
   },
   "outputs": [
    {
     "data": {
      "text/html": [
       "<div>\n",
       "<style scoped>\n",
       "    .dataframe tbody tr th:only-of-type {\n",
       "        vertical-align: middle;\n",
       "    }\n",
       "\n",
       "    .dataframe tbody tr th {\n",
       "        vertical-align: top;\n",
       "    }\n",
       "\n",
       "    .dataframe thead th {\n",
       "        text-align: right;\n",
       "    }\n",
       "</style>\n",
       "<table border=\"1\" class=\"dataframe\">\n",
       "  <thead>\n",
       "    <tr style=\"text-align: right;\">\n",
       "      <th></th>\n",
       "      <th>timestamp</th>\n",
       "      <th>user_id</th>\n",
       "      <th>content_id</th>\n",
       "      <th>content_type_id</th>\n",
       "      <th>task_container_id</th>\n",
       "      <th>user_answer</th>\n",
       "      <th>answered_correctly</th>\n",
       "      <th>prior_question_elapsed_time</th>\n",
       "      <th>prior_question_had_explanation</th>\n",
       "      <th>user_activity_cumcount</th>\n",
       "      <th>user_score_cumsum</th>\n",
       "    </tr>\n",
       "    <tr>\n",
       "      <th>row_id</th>\n",
       "      <th></th>\n",
       "      <th></th>\n",
       "      <th></th>\n",
       "      <th></th>\n",
       "      <th></th>\n",
       "      <th></th>\n",
       "      <th></th>\n",
       "      <th></th>\n",
       "      <th></th>\n",
       "      <th></th>\n",
       "      <th></th>\n",
       "    </tr>\n",
       "  </thead>\n",
       "  <tbody>\n",
       "    <tr>\n",
       "      <th>90286654</th>\n",
       "      <td>0</td>\n",
       "      <td>1917429896</td>\n",
       "      <td>7900</td>\n",
       "      <td>0</td>\n",
       "      <td>0</td>\n",
       "      <td>0</td>\n",
       "      <td>1</td>\n",
       "      <td>NaN</td>\n",
       "      <td>NaN</td>\n",
       "      <td>0</td>\n",
       "      <td>1</td>\n",
       "    </tr>\n",
       "    <tr>\n",
       "      <th>90286655</th>\n",
       "      <td>26511</td>\n",
       "      <td>1917429896</td>\n",
       "      <td>7876</td>\n",
       "      <td>0</td>\n",
       "      <td>1</td>\n",
       "      <td>2</td>\n",
       "      <td>0</td>\n",
       "      <td>21000.0</td>\n",
       "      <td>False</td>\n",
       "      <td>1</td>\n",
       "      <td>1</td>\n",
       "    </tr>\n",
       "    <tr>\n",
       "      <th>90286656</th>\n",
       "      <td>55312</td>\n",
       "      <td>1917429896</td>\n",
       "      <td>175</td>\n",
       "      <td>0</td>\n",
       "      <td>2</td>\n",
       "      <td>0</td>\n",
       "      <td>0</td>\n",
       "      <td>21000.0</td>\n",
       "      <td>False</td>\n",
       "      <td>2</td>\n",
       "      <td>1</td>\n",
       "    </tr>\n",
       "    <tr>\n",
       "      <th>90286657</th>\n",
       "      <td>102436</td>\n",
       "      <td>1917429896</td>\n",
       "      <td>1278</td>\n",
       "      <td>0</td>\n",
       "      <td>3</td>\n",
       "      <td>0</td>\n",
       "      <td>0</td>\n",
       "      <td>23000.0</td>\n",
       "      <td>False</td>\n",
       "      <td>3</td>\n",
       "      <td>1</td>\n",
       "    </tr>\n",
       "    <tr>\n",
       "      <th>90286658</th>\n",
       "      <td>188454</td>\n",
       "      <td>1917429896</td>\n",
       "      <td>2063</td>\n",
       "      <td>0</td>\n",
       "      <td>4</td>\n",
       "      <td>3</td>\n",
       "      <td>0</td>\n",
       "      <td>45000.0</td>\n",
       "      <td>False</td>\n",
       "      <td>4</td>\n",
       "      <td>1</td>\n",
       "    </tr>\n",
       "  </tbody>\n",
       "</table>\n",
       "</div>"
      ],
      "text/plain": [
       "          timestamp     user_id  content_id  content_type_id  \\\n",
       "row_id                                                         \n",
       "90286654          0  1917429896        7900                0   \n",
       "90286655      26511  1917429896        7876                0   \n",
       "90286656      55312  1917429896         175                0   \n",
       "90286657     102436  1917429896        1278                0   \n",
       "90286658     188454  1917429896        2063                0   \n",
       "\n",
       "          task_container_id  user_answer  answered_correctly  \\\n",
       "row_id                                                         \n",
       "90286654                  0            0                   1   \n",
       "90286655                  1            2                   0   \n",
       "90286656                  2            0                   0   \n",
       "90286657                  3            0                   0   \n",
       "90286658                  4            3                   0   \n",
       "\n",
       "          prior_question_elapsed_time prior_question_had_explanation  \\\n",
       "row_id                                                                 \n",
       "90286654                          NaN                            NaN   \n",
       "90286655                      21000.0                          False   \n",
       "90286656                      21000.0                          False   \n",
       "90286657                      23000.0                          False   \n",
       "90286658                      45000.0                          False   \n",
       "\n",
       "          user_activity_cumcount  user_score_cumsum  \n",
       "row_id                                               \n",
       "90286654                       0                  1  \n",
       "90286655                       1                  1  \n",
       "90286656                       2                  1  \n",
       "90286657                       3                  1  \n",
       "90286658                       4                  1  "
      ]
     },
     "execution_count": 351,
     "metadata": {},
     "output_type": "execute_result"
    }
   ],
   "source": [
    "df.head()"
   ]
  },
  {
   "cell_type": "code",
   "execution_count": 354,
   "metadata": {
    "ExecuteTime": {
     "end_time": "2020-12-08T16:08:43.156768Z",
     "start_time": "2020-12-08T16:08:43.147207Z"
    }
   },
   "outputs": [
    {
     "data": {
      "text/plain": [
       "<pandas.core.groupby.generic.SeriesGroupBy object at 0x115ec4c10>"
      ]
     },
     "execution_count": 354,
     "metadata": {},
     "output_type": "execute_result"
    }
   ],
   "source": [
    "df.groupby('user_id').timestamp."
   ]
  },
  {
   "cell_type": "code",
   "execution_count": null,
   "metadata": {},
   "outputs": [],
   "source": []
  }
 ],
 "metadata": {
  "kernelspec": {
   "display_name": "Python 3",
   "language": "python",
   "name": "python3"
  },
  "language_info": {
   "codemirror_mode": {
    "name": "ipython",
    "version": 3
   },
   "file_extension": ".py",
   "mimetype": "text/x-python",
   "name": "python",
   "nbconvert_exporter": "python",
   "pygments_lexer": "ipython3",
   "version": "3.7.7"
  },
  "toc": {
   "base_numbering": 1,
   "nav_menu": {},
   "number_sections": true,
   "sideBar": true,
   "skip_h1_title": false,
   "title_cell": "Table of Contents",
   "title_sidebar": "Contents",
   "toc_cell": false,
   "toc_position": {},
   "toc_section_display": true,
   "toc_window_display": false
  },
  "varInspector": {
   "cols": {
    "lenName": 16,
    "lenType": 16,
    "lenVar": 40
   },
   "kernels_config": {
    "python": {
     "delete_cmd_postfix": "",
     "delete_cmd_prefix": "del ",
     "library": "var_list.py",
     "varRefreshCmd": "print(var_dic_list())"
    },
    "r": {
     "delete_cmd_postfix": ") ",
     "delete_cmd_prefix": "rm(",
     "library": "var_list.r",
     "varRefreshCmd": "cat(var_dic_list()) "
    }
   },
   "types_to_exclude": [
    "module",
    "function",
    "builtin_function_or_method",
    "instance",
    "_Feature"
   ],
   "window_display": false
  }
 },
 "nbformat": 4,
 "nbformat_minor": 4
}
