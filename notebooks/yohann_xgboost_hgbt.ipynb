{
 "cells": [
  {
   "cell_type": "code",
   "execution_count": 1,
   "metadata": {
    "ExecuteTime": {
     "end_time": "2020-12-15T15:04:51.329572Z",
     "start_time": "2020-12-15T15:04:47.850659Z"
    },
    "id": "q-4GQ9opku0S"
   },
   "outputs": [],
   "source": [
    "import pandas as pd\n",
    "from sklearn.model_selection import cross_val_score, cross_val_predict, cross_validate, train_test_split\n",
    "from sklearn.linear_model import LogisticRegression\n",
    "from sklearn. metrics import roc_auc_score, accuracy_score\n",
    "import seaborn as sns"
   ]
  },
  {
   "cell_type": "code",
   "execution_count": 2,
   "metadata": {
    "ExecuteTime": {
     "end_time": "2020-12-15T15:04:52.113807Z",
     "start_time": "2020-12-15T15:04:51.385941Z"
    },
    "id": "l3eo6nKQkvvz"
   },
   "outputs": [
    {
     "ename": "FileNotFoundError",
     "evalue": "[Errno 2] No such file or directory: '../data/train_1M_with_features_merged_v2.csv'",
     "output_type": "error",
     "traceback": [
      "\u001b[0;31m---------------------------------------------------------------------------\u001b[0m",
      "\u001b[0;31mFileNotFoundError\u001b[0m                         Traceback (most recent call last)",
      "\u001b[0;32m<ipython-input-2-3fb867d06745>\u001b[0m in \u001b[0;36m<module>\u001b[0;34m\u001b[0m\n\u001b[0;32m----> 1\u001b[0;31m \u001b[0mdf\u001b[0m \u001b[0;34m=\u001b[0m \u001b[0mpd\u001b[0m\u001b[0;34m.\u001b[0m\u001b[0mread_csv\u001b[0m\u001b[0;34m(\u001b[0m\u001b[0;34m'../data/train_1M_with_features_merged_v2.csv'\u001b[0m\u001b[0;34m)\u001b[0m\u001b[0;34m\u001b[0m\u001b[0;34m\u001b[0m\u001b[0m\n\u001b[0m",
      "\u001b[0;32m~/.pyenv/versions/3.7.7/envs/lewagon/lib/python3.7/site-packages/pandas/io/parsers.py\u001b[0m in \u001b[0;36mread_csv\u001b[0;34m(filepath_or_buffer, sep, delimiter, header, names, index_col, usecols, squeeze, prefix, mangle_dupe_cols, dtype, engine, converters, true_values, false_values, skipinitialspace, skiprows, skipfooter, nrows, na_values, keep_default_na, na_filter, verbose, skip_blank_lines, parse_dates, infer_datetime_format, keep_date_col, date_parser, dayfirst, cache_dates, iterator, chunksize, compression, thousands, decimal, lineterminator, quotechar, quoting, doublequote, escapechar, comment, encoding, dialect, error_bad_lines, warn_bad_lines, delim_whitespace, low_memory, memory_map, float_precision)\u001b[0m\n\u001b[1;32m    686\u001b[0m     )\n\u001b[1;32m    687\u001b[0m \u001b[0;34m\u001b[0m\u001b[0m\n\u001b[0;32m--> 688\u001b[0;31m     \u001b[0;32mreturn\u001b[0m \u001b[0m_read\u001b[0m\u001b[0;34m(\u001b[0m\u001b[0mfilepath_or_buffer\u001b[0m\u001b[0;34m,\u001b[0m \u001b[0mkwds\u001b[0m\u001b[0;34m)\u001b[0m\u001b[0;34m\u001b[0m\u001b[0;34m\u001b[0m\u001b[0m\n\u001b[0m\u001b[1;32m    689\u001b[0m \u001b[0;34m\u001b[0m\u001b[0m\n\u001b[1;32m    690\u001b[0m \u001b[0;34m\u001b[0m\u001b[0m\n",
      "\u001b[0;32m~/.pyenv/versions/3.7.7/envs/lewagon/lib/python3.7/site-packages/pandas/io/parsers.py\u001b[0m in \u001b[0;36m_read\u001b[0;34m(filepath_or_buffer, kwds)\u001b[0m\n\u001b[1;32m    452\u001b[0m \u001b[0;34m\u001b[0m\u001b[0m\n\u001b[1;32m    453\u001b[0m     \u001b[0;31m# Create the parser.\u001b[0m\u001b[0;34m\u001b[0m\u001b[0;34m\u001b[0m\u001b[0;34m\u001b[0m\u001b[0m\n\u001b[0;32m--> 454\u001b[0;31m     \u001b[0mparser\u001b[0m \u001b[0;34m=\u001b[0m \u001b[0mTextFileReader\u001b[0m\u001b[0;34m(\u001b[0m\u001b[0mfp_or_buf\u001b[0m\u001b[0;34m,\u001b[0m \u001b[0;34m**\u001b[0m\u001b[0mkwds\u001b[0m\u001b[0;34m)\u001b[0m\u001b[0;34m\u001b[0m\u001b[0;34m\u001b[0m\u001b[0m\n\u001b[0m\u001b[1;32m    455\u001b[0m \u001b[0;34m\u001b[0m\u001b[0m\n\u001b[1;32m    456\u001b[0m     \u001b[0;32mif\u001b[0m \u001b[0mchunksize\u001b[0m \u001b[0;32mor\u001b[0m \u001b[0miterator\u001b[0m\u001b[0;34m:\u001b[0m\u001b[0;34m\u001b[0m\u001b[0;34m\u001b[0m\u001b[0m\n",
      "\u001b[0;32m~/.pyenv/versions/3.7.7/envs/lewagon/lib/python3.7/site-packages/pandas/io/parsers.py\u001b[0m in \u001b[0;36m__init__\u001b[0;34m(self, f, engine, **kwds)\u001b[0m\n\u001b[1;32m    946\u001b[0m             \u001b[0mself\u001b[0m\u001b[0;34m.\u001b[0m\u001b[0moptions\u001b[0m\u001b[0;34m[\u001b[0m\u001b[0;34m\"has_index_names\"\u001b[0m\u001b[0;34m]\u001b[0m \u001b[0;34m=\u001b[0m \u001b[0mkwds\u001b[0m\u001b[0;34m[\u001b[0m\u001b[0;34m\"has_index_names\"\u001b[0m\u001b[0;34m]\u001b[0m\u001b[0;34m\u001b[0m\u001b[0;34m\u001b[0m\u001b[0m\n\u001b[1;32m    947\u001b[0m \u001b[0;34m\u001b[0m\u001b[0m\n\u001b[0;32m--> 948\u001b[0;31m         \u001b[0mself\u001b[0m\u001b[0;34m.\u001b[0m\u001b[0m_make_engine\u001b[0m\u001b[0;34m(\u001b[0m\u001b[0mself\u001b[0m\u001b[0;34m.\u001b[0m\u001b[0mengine\u001b[0m\u001b[0;34m)\u001b[0m\u001b[0;34m\u001b[0m\u001b[0;34m\u001b[0m\u001b[0m\n\u001b[0m\u001b[1;32m    949\u001b[0m \u001b[0;34m\u001b[0m\u001b[0m\n\u001b[1;32m    950\u001b[0m     \u001b[0;32mdef\u001b[0m \u001b[0mclose\u001b[0m\u001b[0;34m(\u001b[0m\u001b[0mself\u001b[0m\u001b[0;34m)\u001b[0m\u001b[0;34m:\u001b[0m\u001b[0;34m\u001b[0m\u001b[0;34m\u001b[0m\u001b[0m\n",
      "\u001b[0;32m~/.pyenv/versions/3.7.7/envs/lewagon/lib/python3.7/site-packages/pandas/io/parsers.py\u001b[0m in \u001b[0;36m_make_engine\u001b[0;34m(self, engine)\u001b[0m\n\u001b[1;32m   1178\u001b[0m     \u001b[0;32mdef\u001b[0m \u001b[0m_make_engine\u001b[0m\u001b[0;34m(\u001b[0m\u001b[0mself\u001b[0m\u001b[0;34m,\u001b[0m \u001b[0mengine\u001b[0m\u001b[0;34m=\u001b[0m\u001b[0;34m\"c\"\u001b[0m\u001b[0;34m)\u001b[0m\u001b[0;34m:\u001b[0m\u001b[0;34m\u001b[0m\u001b[0;34m\u001b[0m\u001b[0m\n\u001b[1;32m   1179\u001b[0m         \u001b[0;32mif\u001b[0m \u001b[0mengine\u001b[0m \u001b[0;34m==\u001b[0m \u001b[0;34m\"c\"\u001b[0m\u001b[0;34m:\u001b[0m\u001b[0;34m\u001b[0m\u001b[0;34m\u001b[0m\u001b[0m\n\u001b[0;32m-> 1180\u001b[0;31m             \u001b[0mself\u001b[0m\u001b[0;34m.\u001b[0m\u001b[0m_engine\u001b[0m \u001b[0;34m=\u001b[0m \u001b[0mCParserWrapper\u001b[0m\u001b[0;34m(\u001b[0m\u001b[0mself\u001b[0m\u001b[0;34m.\u001b[0m\u001b[0mf\u001b[0m\u001b[0;34m,\u001b[0m \u001b[0;34m**\u001b[0m\u001b[0mself\u001b[0m\u001b[0;34m.\u001b[0m\u001b[0moptions\u001b[0m\u001b[0;34m)\u001b[0m\u001b[0;34m\u001b[0m\u001b[0;34m\u001b[0m\u001b[0m\n\u001b[0m\u001b[1;32m   1181\u001b[0m         \u001b[0;32melse\u001b[0m\u001b[0;34m:\u001b[0m\u001b[0;34m\u001b[0m\u001b[0;34m\u001b[0m\u001b[0m\n\u001b[1;32m   1182\u001b[0m             \u001b[0;32mif\u001b[0m \u001b[0mengine\u001b[0m \u001b[0;34m==\u001b[0m \u001b[0;34m\"python\"\u001b[0m\u001b[0;34m:\u001b[0m\u001b[0;34m\u001b[0m\u001b[0;34m\u001b[0m\u001b[0m\n",
      "\u001b[0;32m~/.pyenv/versions/3.7.7/envs/lewagon/lib/python3.7/site-packages/pandas/io/parsers.py\u001b[0m in \u001b[0;36m__init__\u001b[0;34m(self, src, **kwds)\u001b[0m\n\u001b[1;32m   2008\u001b[0m         \u001b[0mkwds\u001b[0m\u001b[0;34m[\u001b[0m\u001b[0;34m\"usecols\"\u001b[0m\u001b[0;34m]\u001b[0m \u001b[0;34m=\u001b[0m \u001b[0mself\u001b[0m\u001b[0;34m.\u001b[0m\u001b[0musecols\u001b[0m\u001b[0;34m\u001b[0m\u001b[0;34m\u001b[0m\u001b[0m\n\u001b[1;32m   2009\u001b[0m \u001b[0;34m\u001b[0m\u001b[0m\n\u001b[0;32m-> 2010\u001b[0;31m         \u001b[0mself\u001b[0m\u001b[0;34m.\u001b[0m\u001b[0m_reader\u001b[0m \u001b[0;34m=\u001b[0m \u001b[0mparsers\u001b[0m\u001b[0;34m.\u001b[0m\u001b[0mTextReader\u001b[0m\u001b[0;34m(\u001b[0m\u001b[0msrc\u001b[0m\u001b[0;34m,\u001b[0m \u001b[0;34m**\u001b[0m\u001b[0mkwds\u001b[0m\u001b[0;34m)\u001b[0m\u001b[0;34m\u001b[0m\u001b[0;34m\u001b[0m\u001b[0m\n\u001b[0m\u001b[1;32m   2011\u001b[0m         \u001b[0mself\u001b[0m\u001b[0;34m.\u001b[0m\u001b[0munnamed_cols\u001b[0m \u001b[0;34m=\u001b[0m \u001b[0mself\u001b[0m\u001b[0;34m.\u001b[0m\u001b[0m_reader\u001b[0m\u001b[0;34m.\u001b[0m\u001b[0munnamed_cols\u001b[0m\u001b[0;34m\u001b[0m\u001b[0;34m\u001b[0m\u001b[0m\n\u001b[1;32m   2012\u001b[0m \u001b[0;34m\u001b[0m\u001b[0m\n",
      "\u001b[0;32mpandas/_libs/parsers.pyx\u001b[0m in \u001b[0;36mpandas._libs.parsers.TextReader.__cinit__\u001b[0;34m()\u001b[0m\n",
      "\u001b[0;32mpandas/_libs/parsers.pyx\u001b[0m in \u001b[0;36mpandas._libs.parsers.TextReader._setup_parser_source\u001b[0;34m()\u001b[0m\n",
      "\u001b[0;31mFileNotFoundError\u001b[0m: [Errno 2] No such file or directory: '../data/train_1M_with_features_merged_v2.csv'"
     ]
    }
   ],
   "source": [
    "df = pd.read_csv('../heroku/train_1M_with_features_merged_v2.csv')"
   ]
  },
  {
   "cell_type": "code",
   "execution_count": null,
   "metadata": {
    "ExecuteTime": {
     "end_time": "2020-12-15T15:04:52.146947Z",
     "start_time": "2020-12-15T15:04:49.793Z"
    },
    "colab": {
     "base_uri": "https://localhost:8080/",
     "height": 241
    },
    "id": "6XoGOaRayDi_",
    "outputId": "f9b8e6bd-7ab7-4b7b-9b2a-9456b10128a5"
   },
   "outputs": [],
   "source": [
    "df.head()"
   ]
  },
  {
   "cell_type": "code",
   "execution_count": 77,
   "metadata": {
    "ExecuteTime": {
     "end_time": "2020-12-14T15:23:04.829006Z",
     "start_time": "2020-12-14T15:22:51.127657Z"
    },
    "id": "ueH-jvMwyiW-"
   },
   "outputs": [
    {
     "data": {
      "text/plain": [
       "answered_correctly                                                 1.000000\n",
       "user_personalized_qstat_knowing_had_explanation_or_not             0.393328\n",
       "qstats_answered_correctly                                          0.380770\n",
       "qstats_answered_correctly_knowing_having_had_explanation           0.373850\n",
       "qstats_answered_correctly_knowing_having_not_had_explanation       0.211393\n",
       "user_avg_score_cum_on_this_part                                    0.189773\n",
       "user_avg_score_cum                                                 0.181107\n",
       "qstats_prior_question_had_explanation                              0.109755\n",
       "prior_question_had_explanation                                     0.100927\n",
       "already_seen_tag_q_l_cumcount_with_trim_at_3                       0.097745\n",
       "already_seen_tag_lecture                                           0.086766\n",
       "already_seen                                                       0.073562\n",
       "user_activity_cumcount                                             0.073021\n",
       "task_container_id                                                  0.071260\n",
       "qstats_user_activity_cumcount                                      0.070283\n",
       "at_least_one_lesson                                                0.070224\n",
       "qstats_task_container_id                                           0.068699\n",
       "user_correct_answers_cum_on_this_part                              0.057380\n",
       "part2                                                              0.053728\n",
       "cumcount_already_seen_tag_q_l                                      0.052023\n",
       "qstats_user_activity_cumcount_knowing_answered_correctly           0.050993\n",
       "part1                                                              0.049813\n",
       "qstats_task_container_id_knowing_answered_correctly                0.049644\n",
       "lectures_seen                                                      0.043932\n",
       "already_seen_part                                                  0.028740\n",
       "tag_q_l                                                            0.026111\n",
       "part3                                                              0.024711\n",
       "timestamp                                                          0.024252\n",
       "qstats_user_activity_cumcount_knowing_answered_uncorrectly         0.022964\n",
       "qstats_task_container_id_knowing_answered_uncorrectly              0.017292\n",
       "part6                                                              0.014423\n",
       "answer2                                                            0.012602\n",
       "qstats_answer3                                                     0.009900\n",
       "qstats_answer1                                                     0.008764\n",
       "qstats_answer0                                                     0.008629\n",
       "part7                                                              0.004251\n",
       "user_id                                                            0.003163\n",
       "row_id                                                             0.003111\n",
       "qstats_prior_question_elapsed_time_knowing_answered_correctly      0.002051\n",
       "answer3                                                            0.001712\n",
       "answer0                                                            0.001170\n",
       "Unnamed: 0                                                        -0.002064\n",
       "prior_question_elapsed_time                                       -0.005029\n",
       "qstats_timestamp_knowing_answered_uncorrectly                     -0.010980\n",
       "answer1                                                           -0.013824\n",
       "qstats_prior_question_elapsed_time                                -0.015718\n",
       "content_id                                                        -0.018030\n",
       "part4                                                             -0.024135\n",
       "qstats_answer2                                                    -0.030137\n",
       "qstats_prior_question_elapsed_time_knowing_answered_uncorrectly   -0.052954\n",
       "section                                                           -0.069152\n",
       "part_q_l                                                          -0.069848\n",
       "qstats_answers                                                    -0.079398\n",
       "part5                                                             -0.080024\n",
       "qstats_count                                                      -0.140667\n",
       "content_type_id                                                         NaN\n",
       "qstats_timestamp                                                        NaN\n",
       "qstats_timestamp_knowing_answered_correctly                             NaN\n",
       "Name: answered_correctly, dtype: float64"
      ]
     },
     "execution_count": 77,
     "metadata": {},
     "output_type": "execute_result"
    }
   ],
   "source": [
    "from sklearn.preprocessing import RobustScaler\n",
    "corr = df.query('content_type_id==0').corr().answered_correctly\n",
    "corr.sort_values(ascending=False)"
   ]
  },
  {
   "cell_type": "markdown",
   "metadata": {},
   "source": [
    "# Essai xgboost 14 features"
   ]
  },
  {
   "cell_type": "code",
   "execution_count": 84,
   "metadata": {
    "ExecuteTime": {
     "end_time": "2020-12-14T15:30:45.505510Z",
     "start_time": "2020-12-14T15:30:45.467415Z"
    },
    "id": "3--os6agzefy"
   },
   "outputs": [],
   "source": [
    "#corr[corr > 0.04].sort_values(ascending=False).index.to_list()\n",
    "features = ['user_personalized_qstat_knowing_had_explanation_or_not',\n",
    "            'user_avg_score_cum_on_this_part',\n",
    "            'user_correct_answers_cum_on_this_part',\n",
    " 'qstats_answered_correctly',\n",
    " 'user_avg_score_cum',\n",
    " 'qstats_prior_question_had_explanation',\n",
    " 'already_seen',\n",
    " #'already_seen_tag_lecture',\n",
    " 'user_activity_cumcount',\n",
    " #'qstats_user_activity_cumcount',\n",
    " 'at_least_one_lesson',\n",
    " #'qstats_user_activity_cumcount_knowing_answered_correctly',\n",
    " #'qstats_task_container_id_knowing_answered_correctly',\n",
    " #'lectures_seen',\n",
    " #'qstats_count',\n",
    " #'qstats_answers',\n",
    " 'content_type_id']"
   ]
  },
  {
   "cell_type": "code",
   "execution_count": 85,
   "metadata": {
    "ExecuteTime": {
     "end_time": "2020-12-14T15:30:49.526231Z",
     "start_time": "2020-12-14T15:30:48.276067Z"
    }
   },
   "outputs": [
    {
     "name": "stdout",
     "output_type": "stream",
     "text": [
      "<class 'pandas.core.frame.DataFrame'>\n",
      "RangeIndex: 987269 entries, 0 to 987268\n",
      "Data columns (total 10 columns):\n",
      " #   Column                                                  Non-Null Count   Dtype  \n",
      "---  ------                                                  --------------   -----  \n",
      " 0   user_personalized_qstat_knowing_had_explanation_or_not  987269 non-null  float64\n",
      " 1   user_avg_score_cum_on_this_part                         967834 non-null  float64\n",
      " 2   user_correct_answers_cum_on_this_part                   967834 non-null  float64\n",
      " 3   qstats_answered_correctly                               967834 non-null  float64\n",
      " 4   user_avg_score_cum                                      967834 non-null  float64\n",
      " 5   qstats_prior_question_had_explanation                   967834 non-null  float64\n",
      " 6   already_seen                                            987269 non-null  int64  \n",
      " 7   user_activity_cumcount                                  987269 non-null  int64  \n",
      " 8   at_least_one_lesson                                     987269 non-null  int64  \n",
      " 9   content_type_id                                         987269 non-null  int64  \n",
      "dtypes: float64(6), int64(4)\n",
      "memory usage: 75.3 MB\n"
     ]
    }
   ],
   "source": [
    "feats=df.loc[:,features]\n",
    "feats.info()"
   ]
  },
  {
   "cell_type": "code",
   "execution_count": 86,
   "metadata": {
    "ExecuteTime": {
     "end_time": "2020-12-14T15:30:49.902454Z",
     "start_time": "2020-12-14T15:30:49.535994Z"
    },
    "id": "OvsrzSKl2xai"
   },
   "outputs": [
    {
     "data": {
      "text/html": [
       "<div>\n",
       "<style scoped>\n",
       "    .dataframe tbody tr th:only-of-type {\n",
       "        vertical-align: middle;\n",
       "    }\n",
       "\n",
       "    .dataframe tbody tr th {\n",
       "        vertical-align: top;\n",
       "    }\n",
       "\n",
       "    .dataframe thead th {\n",
       "        text-align: right;\n",
       "    }\n",
       "</style>\n",
       "<table border=\"1\" class=\"dataframe\">\n",
       "  <thead>\n",
       "    <tr style=\"text-align: right;\">\n",
       "      <th></th>\n",
       "      <th>user_personalized_qstat_knowing_had_explanation_or_not</th>\n",
       "      <th>user_avg_score_cum_on_this_part</th>\n",
       "      <th>user_correct_answers_cum_on_this_part</th>\n",
       "      <th>qstats_answered_correctly</th>\n",
       "      <th>user_avg_score_cum</th>\n",
       "      <th>qstats_prior_question_had_explanation</th>\n",
       "      <th>already_seen</th>\n",
       "      <th>user_activity_cumcount</th>\n",
       "      <th>at_least_one_lesson</th>\n",
       "      <th>content_type_id</th>\n",
       "    </tr>\n",
       "  </thead>\n",
       "  <tbody>\n",
       "    <tr>\n",
       "      <th>0</th>\n",
       "      <td>0.8364</td>\n",
       "      <td>0.0</td>\n",
       "      <td>0.0</td>\n",
       "      <td>0.8370</td>\n",
       "      <td>0.000000</td>\n",
       "      <td>0.07404</td>\n",
       "      <td>0</td>\n",
       "      <td>0</td>\n",
       "      <td>0</td>\n",
       "      <td>0</td>\n",
       "    </tr>\n",
       "    <tr>\n",
       "      <th>1</th>\n",
       "      <td>0.3770</td>\n",
       "      <td>1.0</td>\n",
       "      <td>1.0</td>\n",
       "      <td>0.3972</td>\n",
       "      <td>1.000000</td>\n",
       "      <td>0.11970</td>\n",
       "      <td>0</td>\n",
       "      <td>1</td>\n",
       "      <td>0</td>\n",
       "      <td>0</td>\n",
       "    </tr>\n",
       "    <tr>\n",
       "      <th>2</th>\n",
       "      <td>0.3513</td>\n",
       "      <td>0.5</td>\n",
       "      <td>1.0</td>\n",
       "      <td>0.3640</td>\n",
       "      <td>0.500000</td>\n",
       "      <td>0.14160</td>\n",
       "      <td>0</td>\n",
       "      <td>2</td>\n",
       "      <td>0</td>\n",
       "      <td>0</td>\n",
       "    </tr>\n",
       "    <tr>\n",
       "      <th>3</th>\n",
       "      <td>0.6450</td>\n",
       "      <td>0.0</td>\n",
       "      <td>0.0</td>\n",
       "      <td>0.6514</td>\n",
       "      <td>0.333333</td>\n",
       "      <td>0.05120</td>\n",
       "      <td>0</td>\n",
       "      <td>3</td>\n",
       "      <td>0</td>\n",
       "      <td>0</td>\n",
       "    </tr>\n",
       "    <tr>\n",
       "      <th>4</th>\n",
       "      <td>0.1642</td>\n",
       "      <td>0.0</td>\n",
       "      <td>0.0</td>\n",
       "      <td>0.1749</td>\n",
       "      <td>0.250000</td>\n",
       "      <td>0.09250</td>\n",
       "      <td>0</td>\n",
       "      <td>4</td>\n",
       "      <td>0</td>\n",
       "      <td>0</td>\n",
       "    </tr>\n",
       "    <tr>\n",
       "      <th>...</th>\n",
       "      <td>...</td>\n",
       "      <td>...</td>\n",
       "      <td>...</td>\n",
       "      <td>...</td>\n",
       "      <td>...</td>\n",
       "      <td>...</td>\n",
       "      <td>...</td>\n",
       "      <td>...</td>\n",
       "      <td>...</td>\n",
       "      <td>...</td>\n",
       "    </tr>\n",
       "    <tr>\n",
       "      <th>987264</th>\n",
       "      <td>0.5930</td>\n",
       "      <td>1.0</td>\n",
       "      <td>3.0</td>\n",
       "      <td>0.5967</td>\n",
       "      <td>0.600000</td>\n",
       "      <td>0.23200</td>\n",
       "      <td>0</td>\n",
       "      <td>25</td>\n",
       "      <td>0</td>\n",
       "      <td>0</td>\n",
       "    </tr>\n",
       "    <tr>\n",
       "      <th>987265</th>\n",
       "      <td>0.4854</td>\n",
       "      <td>0.0</td>\n",
       "      <td>0.0</td>\n",
       "      <td>0.5063</td>\n",
       "      <td>0.615385</td>\n",
       "      <td>0.07830</td>\n",
       "      <td>0</td>\n",
       "      <td>26</td>\n",
       "      <td>0</td>\n",
       "      <td>0</td>\n",
       "    </tr>\n",
       "    <tr>\n",
       "      <th>987266</th>\n",
       "      <td>0.4270</td>\n",
       "      <td>1.0</td>\n",
       "      <td>1.0</td>\n",
       "      <td>0.4424</td>\n",
       "      <td>0.629630</td>\n",
       "      <td>0.07830</td>\n",
       "      <td>0</td>\n",
       "      <td>27</td>\n",
       "      <td>0</td>\n",
       "      <td>0</td>\n",
       "    </tr>\n",
       "    <tr>\n",
       "      <th>987267</th>\n",
       "      <td>0.2842</td>\n",
       "      <td>1.0</td>\n",
       "      <td>2.0</td>\n",
       "      <td>0.2932</td>\n",
       "      <td>0.642857</td>\n",
       "      <td>0.07830</td>\n",
       "      <td>0</td>\n",
       "      <td>28</td>\n",
       "      <td>0</td>\n",
       "      <td>0</td>\n",
       "    </tr>\n",
       "    <tr>\n",
       "      <th>987268</th>\n",
       "      <td>0.5923</td>\n",
       "      <td>1.0</td>\n",
       "      <td>3.0</td>\n",
       "      <td>0.6104</td>\n",
       "      <td>0.655172</td>\n",
       "      <td>0.07830</td>\n",
       "      <td>0</td>\n",
       "      <td>29</td>\n",
       "      <td>0</td>\n",
       "      <td>0</td>\n",
       "    </tr>\n",
       "  </tbody>\n",
       "</table>\n",
       "<p>987269 rows × 10 columns</p>\n",
       "</div>"
      ],
      "text/plain": [
       "        user_personalized_qstat_knowing_had_explanation_or_not  \\\n",
       "0                                                  0.8364        \n",
       "1                                                  0.3770        \n",
       "2                                                  0.3513        \n",
       "3                                                  0.6450        \n",
       "4                                                  0.1642        \n",
       "...                                                   ...        \n",
       "987264                                             0.5930        \n",
       "987265                                             0.4854        \n",
       "987266                                             0.4270        \n",
       "987267                                             0.2842        \n",
       "987268                                             0.5923        \n",
       "\n",
       "        user_avg_score_cum_on_this_part  \\\n",
       "0                                   0.0   \n",
       "1                                   1.0   \n",
       "2                                   0.5   \n",
       "3                                   0.0   \n",
       "4                                   0.0   \n",
       "...                                 ...   \n",
       "987264                              1.0   \n",
       "987265                              0.0   \n",
       "987266                              1.0   \n",
       "987267                              1.0   \n",
       "987268                              1.0   \n",
       "\n",
       "        user_correct_answers_cum_on_this_part  qstats_answered_correctly  \\\n",
       "0                                         0.0                     0.8370   \n",
       "1                                         1.0                     0.3972   \n",
       "2                                         1.0                     0.3640   \n",
       "3                                         0.0                     0.6514   \n",
       "4                                         0.0                     0.1749   \n",
       "...                                       ...                        ...   \n",
       "987264                                    3.0                     0.5967   \n",
       "987265                                    0.0                     0.5063   \n",
       "987266                                    1.0                     0.4424   \n",
       "987267                                    2.0                     0.2932   \n",
       "987268                                    3.0                     0.6104   \n",
       "\n",
       "        user_avg_score_cum  qstats_prior_question_had_explanation  \\\n",
       "0                 0.000000                                0.07404   \n",
       "1                 1.000000                                0.11970   \n",
       "2                 0.500000                                0.14160   \n",
       "3                 0.333333                                0.05120   \n",
       "4                 0.250000                                0.09250   \n",
       "...                    ...                                    ...   \n",
       "987264            0.600000                                0.23200   \n",
       "987265            0.615385                                0.07830   \n",
       "987266            0.629630                                0.07830   \n",
       "987267            0.642857                                0.07830   \n",
       "987268            0.655172                                0.07830   \n",
       "\n",
       "        already_seen  user_activity_cumcount  at_least_one_lesson  \\\n",
       "0                  0                       0                    0   \n",
       "1                  0                       1                    0   \n",
       "2                  0                       2                    0   \n",
       "3                  0                       3                    0   \n",
       "4                  0                       4                    0   \n",
       "...              ...                     ...                  ...   \n",
       "987264             0                      25                    0   \n",
       "987265             0                      26                    0   \n",
       "987266             0                      27                    0   \n",
       "987267             0                      28                    0   \n",
       "987268             0                      29                    0   \n",
       "\n",
       "        content_type_id  \n",
       "0                     0  \n",
       "1                     0  \n",
       "2                     0  \n",
       "3                     0  \n",
       "4                     0  \n",
       "...                 ...  \n",
       "987264                0  \n",
       "987265                0  \n",
       "987266                0  \n",
       "987267                0  \n",
       "987268                0  \n",
       "\n",
       "[987269 rows x 10 columns]"
      ]
     },
     "execution_count": 86,
     "metadata": {},
     "output_type": "execute_result"
    }
   ],
   "source": [
    "import numpy as np\n",
    "feats = feats.replace(np.inf, 0.5)\n",
    "feats"
   ]
  },
  {
   "cell_type": "code",
   "execution_count": 87,
   "metadata": {
    "ExecuteTime": {
     "end_time": "2020-12-14T15:30:53.568301Z",
     "start_time": "2020-12-14T15:30:53.533230Z"
    },
    "id": "if2C7tcJCReY"
   },
   "outputs": [],
   "source": [
    "feats.replace(np.nan, 0, inplace=True)"
   ]
  },
  {
   "cell_type": "markdown",
   "metadata": {
    "id": "nnwDW3y-nRIU"
   },
   "source": [
    "Best so far - XGBoost\n"
   ]
  },
  {
   "cell_type": "code",
   "execution_count": 27,
   "metadata": {
    "ExecuteTime": {
     "end_time": "2020-12-14T10:58:01.830091Z",
     "start_time": "2020-12-14T10:41:25.336755Z"
    },
    "colab": {
     "base_uri": "https://localhost:8080/"
    },
    "id": "QLcO2mlmNuSj",
    "outputId": "cb8d7cf5-0b06-458b-c721-db07465d9c76"
   },
   "outputs": [
    {
     "name": "stderr",
     "output_type": "stream",
     "text": [
      "[Parallel(n_jobs=1)]: Using backend SequentialBackend with 1 concurrent workers.\n",
      "/Users/thomasmathieu/.pyenv/versions/3.7.7/envs/lewagon/lib/python3.7/site-packages/sklearn/preprocessing/data.py:334: DataConversionWarning: Data with input dtype int64, float64 were all converted to float64 by MinMaxScaler.\n",
      "  return self.partial_fit(X, y)\n",
      "/Users/thomasmathieu/.pyenv/versions/3.7.7/envs/lewagon/lib/python3.7/site-packages/sklearn/preprocessing/data.py:334: DataConversionWarning: Data with input dtype int64, float64 were all converted to float64 by MinMaxScaler.\n",
      "  return self.partial_fit(X, y)\n",
      "/Users/thomasmathieu/.pyenv/versions/3.7.7/envs/lewagon/lib/python3.7/site-packages/sklearn/preprocessing/data.py:334: DataConversionWarning: Data with input dtype int64, float64 were all converted to float64 by MinMaxScaler.\n",
      "  return self.partial_fit(X, y)\n",
      "/Users/thomasmathieu/.pyenv/versions/3.7.7/envs/lewagon/lib/python3.7/site-packages/sklearn/preprocessing/data.py:334: DataConversionWarning: Data with input dtype int64, float64 were all converted to float64 by MinMaxScaler.\n",
      "  return self.partial_fit(X, y)\n",
      "/Users/thomasmathieu/.pyenv/versions/3.7.7/envs/lewagon/lib/python3.7/site-packages/sklearn/preprocessing/data.py:334: DataConversionWarning: Data with input dtype int64, float64 were all converted to float64 by MinMaxScaler.\n",
      "  return self.partial_fit(X, y)\n",
      "[Parallel(n_jobs=1)]: Done   5 out of   5 | elapsed: 16.5min finished\n"
     ]
    },
    {
     "name": "stdout",
     "output_type": "stream",
     "text": [
      "roc-auc: 0.7668300129201188\n"
     ]
    }
   ],
   "source": [
    "from sklearn.ensemble import GradientBoostingClassifier\n",
    "from sklearn.preprocessing import MinMaxScaler\n",
    "from sklearn.pipeline import make_pipeline\n",
    "from skearn\n",
    "\n",
    "X = feats.query('content_type_id==0').drop(columns={'content_type_id'})\n",
    "y = df.query('content_type_id==0')['answered_correctly']\n",
    "\n",
    "X_train, X_test, y_train, y_test = train_test_split(X, y, test_size=0.3,random_state = 2)\n",
    "\n",
    "scaler = MinMaxScaler()\n",
    "xgboost = GradientBoostingClassifier()\n",
    "xgboost_pipe = make_pipeline(scaler,xgboost)\n",
    "\n",
    "\n",
    "y_pred = cross_val_predict(xgboost_pipe, X, y, cv=5, method='predict_proba', verbose=1, njobs=-1)\n",
    "print('roc-auc:', roc_auc_score(y, y_pred[:,1]))"
   ]
  },
  {
   "cell_type": "code",
   "execution_count": 43,
   "metadata": {
    "ExecuteTime": {
     "end_time": "2020-12-14T11:07:59.980284Z",
     "start_time": "2020-12-14T11:07:59.955831Z"
    },
    "colab": {
     "base_uri": "https://localhost:8080/"
    },
    "id": "_5UER388PAMh",
    "outputId": "9166d9a2-0db2-4b7e-ee6b-d338039e18f4"
   },
   "outputs": [
    {
     "ename": "TypeError",
     "evalue": "'Pipeline' object is not subscriptable",
     "output_type": "error",
     "traceback": [
      "\u001b[0;31m---------------------------------------------------------------------------\u001b[0m",
      "\u001b[0;31mTypeError\u001b[0m                                 Traceback (most recent call last)",
      "\u001b[0;32m<ipython-input-43-e36f5c4d6236>\u001b[0m in \u001b[0;36m<module>\u001b[0;34m\u001b[0m\n\u001b[0;32m----> 1\u001b[0;31m \u001b[0mxgboost_pipe\u001b[0m\u001b[0;34m[\u001b[0m\u001b[0;34m-\u001b[0m\u001b[0;36m1\u001b[0m\u001b[0;34m]\u001b[0m\u001b[0;34m\u001b[0m\u001b[0;34m\u001b[0m\u001b[0m\n\u001b[0m",
      "\u001b[0;31mTypeError\u001b[0m: 'Pipeline' object is not subscriptable"
     ]
    }
   ],
   "source": [
    "xgboost_pipe"
   ]
  },
  {
   "cell_type": "code",
   "execution_count": null,
   "metadata": {
    "colab": {
     "base_uri": "https://localhost:8080/"
    },
    "id": "aCAjwhIJQUmY",
    "outputId": "0e8d56f9-2e36-4481-99ce-75afcdc44966"
   },
   "outputs": [
    {
     "data": {
      "text/plain": [
       "Index(['user_personalized_qstat_knowing_had_explanation_or_not',\n",
       "       'qstats_answered_correctly', 'user_avg_score_cum',\n",
       "       'qstats_prior_question_had_explanation', 'already_seen',\n",
       "       'already_seen_tag_lecture', 'user_activity_cumcount',\n",
       "       'qstats_user_activity_cumcount', 'at_least_one_lesson',\n",
       "       'qstats_user_activity_cumcount_knowing_answered_correctly',\n",
       "       'qstats_task_container_id_knowing_answered_correctly', 'lectures_seen',\n",
       "       'qstats_count', 'qstats_answers', 'content_type_id'],\n",
       "      dtype='object')"
      ]
     },
     "execution_count": 159,
     "metadata": {
      "tags": []
     },
     "output_type": "execute_result"
    }
   ],
   "source": [
    "features.columns"
   ]
  },
  {
   "cell_type": "markdown",
   "metadata": {},
   "source": [
    "# En enlevant la cross val"
   ]
  },
  {
   "cell_type": "code",
   "execution_count": 90,
   "metadata": {
    "ExecuteTime": {
     "end_time": "2020-12-14T15:37:03.109150Z",
     "start_time": "2020-12-14T15:34:21.395589Z"
    }
   },
   "outputs": [
    {
     "name": "stderr",
     "output_type": "stream",
     "text": [
      "/Users/thomasmathieu/.pyenv/versions/3.7.7/envs/lewagon/lib/python3.7/site-packages/sklearn/preprocessing/data.py:334: DataConversionWarning: Data with input dtype int64, float64 were all converted to float64 by MinMaxScaler.\n",
      "  return self.partial_fit(X, y)\n"
     ]
    },
    {
     "name": "stdout",
     "output_type": "stream",
     "text": [
      "roc-auc: 0.7696749022494385\n"
     ]
    }
   ],
   "source": [
    "from sklearn.ensemble import GradientBoostingClassifier\n",
    "from sklearn.preprocessing import MinMaxScaler\n",
    "from sklearn.pipeline import make_pipeline\n",
    "\n",
    "X = feats.query('content_type_id==0').drop(columns={'content_type_id'})\n",
    "y = df.query('content_type_id==0')['answered_correctly']\n",
    "\n",
    "X_train, X_test, y_train, y_test = train_test_split(X, y, test_size=0.3,random_state = 1)\n",
    "\n",
    "scaler = MinMaxScaler()\n",
    "xgboost = GradientBoostingClassifier()\n",
    "xgboost_pipe = make_pipeline(scaler,xgboost)\n",
    "\n",
    "xgboost_pipe.fit (X_train, y_train)\n",
    "\n",
    "y_pred = xgboost_pipe.predict_proba(X_test)\n",
    "print('roc-auc:', roc_auc_score(y_test, y_pred[:,1]))"
   ]
  },
  {
   "cell_type": "code",
   "execution_count": 89,
   "metadata": {
    "ExecuteTime": {
     "end_time": "2020-12-14T15:33:46.452139Z",
     "start_time": "2020-12-14T15:33:46.374698Z"
    }
   },
   "outputs": [
    {
     "data": {
      "text/plain": [
       "array([0.74222709, 0.06279859, 0.00116907, 0.00843532, 0.09884094,\n",
       "       0.0053311 , 0.05941764, 0.01913869, 0.00264155])"
      ]
     },
     "execution_count": 89,
     "metadata": {},
     "output_type": "execute_result"
    }
   ],
   "source": [
    "xgboost.feature_importances_"
   ]
  },
  {
   "cell_type": "code",
   "execution_count": 91,
   "metadata": {
    "ExecuteTime": {
     "end_time": "2020-12-14T15:37:32.357056Z",
     "start_time": "2020-12-14T15:37:32.181242Z"
    }
   },
   "outputs": [],
   "source": [
    "import pickle\n",
    "pickle.dump(xgboost_pipe, open(\"xgboost_pipe3.pkl\", \"wb\") )"
   ]
  },
  {
   "cell_type": "code",
   "execution_count": 92,
   "metadata": {
    "ExecuteTime": {
     "end_time": "2020-12-14T15:37:33.197416Z",
     "start_time": "2020-12-14T15:37:33.077831Z"
    }
   },
   "outputs": [
    {
     "data": {
      "text/plain": [
       "0    user_personalized_qstat_knowing_had_explanatio...\n",
       "1                      user_avg_score_cum_on_this_part\n",
       "2                user_correct_answers_cum_on_this_part\n",
       "3                            qstats_answered_correctly\n",
       "4                                   user_avg_score_cum\n",
       "5                qstats_prior_question_had_explanation\n",
       "6                                         already_seen\n",
       "7                               user_activity_cumcount\n",
       "8                                  at_least_one_lesson\n",
       "dtype: object"
      ]
     },
     "execution_count": 92,
     "metadata": {},
     "output_type": "execute_result"
    }
   ],
   "source": [
    "features = ['user_personalized_qstat_knowing_had_explanation_or_not',\n",
    "            'user_avg_score_cum_on_this_part',\n",
    "            'user_correct_answers_cum_on_this_part',\n",
    " 'qstats_answered_correctly',\n",
    " 'user_avg_score_cum',\n",
    " 'qstats_prior_question_had_explanation',\n",
    " 'already_seen',\n",
    " #'already_seen_tag_lecture',\n",
    " 'user_activity_cumcount',\n",
    " #'qstats_user_activity_cumcount',\n",
    " 'at_least_one_lesson',\n",
    " #'qstats_user_activity_cumcount_knowing_answered_correctly',\n",
    " #'qstats_task_container_id_knowing_answered_correctly',\n",
    " #'lectures_seen',\n",
    " #'qstats_count',\n",
    " #'qstats_answers',\n",
    " 'content_type_id']\n",
    "\n",
    "pd.Series(features[:-1]).to_csv('xgboost_pipe3_features_list.csv')\n",
    "\n",
    "pd.Series(features[:-1])"
   ]
  },
  {
   "cell_type": "markdown",
   "metadata": {
    "id": "WYJVyqj4x4w6"
   },
   "source": [
    "# Logistic Regression"
   ]
  },
  {
   "cell_type": "code",
   "execution_count": null,
   "metadata": {
    "id": "n7pemXPbleLM"
   },
   "outputs": [],
   "source": [
    "X = df.query('content_type_id==0')[['qstats_answered_correctly', 'user_avg_score_cum', 'already_seen', 'lectures_seen', 'at_least_one_lesson']]\n",
    "y = df.query('content_type_id==0')['answered_correctly']"
   ]
  },
  {
   "cell_type": "code",
   "execution_count": null,
   "metadata": {
    "id": "Dc0eWzSZnihb"
   },
   "outputs": [],
   "source": [
    "X = features.query('content_type_id==0').drop(columns={'content_type_id'})\n",
    "y = df.query('content_type_id==0')['answered_correctly']\n",
    "\n",
    "X_train, X_test, y_train, y_test = train_test_split(X, y, test_size=0.3,random_state = 2)\n",
    "\n",
    "scaler = MinMaxScaler()\n",
    "X_train = scaler.fit_transform(X_train)\n",
    "\n",
    "log = LogisticRegression()\n",
    "log.fit(X_train, y_train)\n",
    "y_pred = cross_val_predict(log, X_test, y_test, cv=10, method='predict_proba', verbose=1)\n",
    "print('roc-auc:', roc_auc_score(y_test, y_pred[:,1]))"
   ]
  },
  {
   "cell_type": "markdown",
   "metadata": {
    "id": "mpjv37TQ-eha"
   },
   "source": [
    "Correlations"
   ]
  },
  {
   "cell_type": "code",
   "execution_count": null,
   "metadata": {
    "id": "YBWKz1i0oM9b"
   },
   "outputs": [],
   "source": [
    "corr.sort_values(ascending=False)"
   ]
  },
  {
   "cell_type": "code",
   "execution_count": null,
   "metadata": {
    "id": "YCFWECyesaE-"
   },
   "outputs": [],
   "source": [
    "corr = df.query('content_type_id==0').corr().answered_correctly"
   ]
  },
  {
   "cell_type": "markdown",
   "metadata": {
    "id": "FksuZ32L-UZX"
   },
   "source": [
    "# RandomForestClassifier"
   ]
  },
  {
   "cell_type": "code",
   "execution_count": null,
   "metadata": {
    "id": "j053YXZk-Vx7"
   },
   "outputs": [],
   "source": [
    "from sklearn.ensemble import RandomForestClassifier"
   ]
  },
  {
   "cell_type": "code",
   "execution_count": null,
   "metadata": {
    "id": "dCYgq-2FrVes"
   },
   "outputs": [],
   "source": [
    "X = df.query('content_type_id==0')[['qstats_answered_correctly', 'user_avg_score_cum', 'already_seen', 'lectures_seen', 'at_least_one_lesson']]\n",
    "y = df.query('content_type_id==0')['answered_correctly']"
   ]
  },
  {
   "cell_type": "code",
   "execution_count": null,
   "metadata": {
    "colab": {
     "base_uri": "https://localhost:8080/"
    },
    "id": "ild7nfRUCpcC",
    "outputId": "35b497c5-ca24-4cdd-83f3-5f30b3320a1f"
   },
   "outputs": [
    {
     "name": "stderr",
     "output_type": "stream",
     "text": [
      "[Parallel(n_jobs=1)]: Using backend SequentialBackend with 1 concurrent workers.\n"
     ]
    },
    {
     "name": "stdout",
     "output_type": "stream",
     "text": [
      "roc-auc: 0.7125921037505767\n"
     ]
    },
    {
     "name": "stderr",
     "output_type": "stream",
     "text": [
      "[Parallel(n_jobs=1)]: Done  10 out of  10 | elapsed:  7.0min finished\n"
     ]
    }
   ],
   "source": [
    "y_pred = cross_val_predict(forest, X_test, y_test, cv=10, method='predict_proba', verbose=1)\n",
    "print('roc-auc:', roc_auc_score(y_test, y_pred[:,1]))"
   ]
  },
  {
   "cell_type": "markdown",
   "metadata": {
    "id": "QT6Ozhx-CFGG"
   },
   "source": [
    "# Bagging Classifier"
   ]
  },
  {
   "cell_type": "markdown",
   "metadata": {
    "id": "VXonpbg7C9hV"
   },
   "source": [
    "# Adaboost"
   ]
  },
  {
   "cell_type": "code",
   "execution_count": null,
   "metadata": {
    "colab": {
     "base_uri": "https://localhost:8080/"
    },
    "id": "pSNzmp9guj9Q",
    "outputId": "31d074da-11b6-416c-9a5b-7304de76fb8c"
   },
   "outputs": [
    {
     "name": "stderr",
     "output_type": "stream",
     "text": [
      "[Parallel(n_jobs=1)]: Using backend SequentialBackend with 1 concurrent workers.\n"
     ]
    },
    {
     "name": "stdout",
     "output_type": "stream",
     "text": [
      "roc-auc: 0.7594259462782705\n"
     ]
    },
    {
     "name": "stderr",
     "output_type": "stream",
     "text": [
      "[Parallel(n_jobs=1)]: Done  10 out of  10 | elapsed:  2.3min finished\n"
     ]
    }
   ],
   "source": [
    "from sklearn.ensemble import AdaBoostClassifier\n",
    "from sklearn.tree import DecisionTreeClassifier\n",
    "\n",
    "X_train, X_test, y_train, y_test = train_test_split(X, y, test_size=0.3,random_state = 1)\n",
    "adaboost = AdaBoostClassifier(DecisionTreeClassifier(max_depth=3), n_estimators=50) \n",
    "adaboost.fit(X_train, y_train)\n",
    "\n",
    "y_pred = cross_val_predict(adaboost, X_test, y_test, cv=10, method='predict_proba', verbose=1)\n",
    "print('roc-auc:', roc_auc_score(y_test, y_pred[:,1]))"
   ]
  },
  {
   "cell_type": "markdown",
   "metadata": {
    "id": "Nad_IzCRNddw"
   },
   "source": [
    "# SVC"
   ]
  },
  {
   "cell_type": "code",
   "execution_count": null,
   "metadata": {
    "colab": {
     "background_save": true
    },
    "id": "C9fssTegOgSK"
   },
   "outputs": [],
   "source": [
    "from sklearn.svm import SVC\n",
    "\n",
    "X = features.query('content_type_id==0').drop(columns={'content_type_id'})\n",
    "y = df.query('content_type_id==0')['answered_correctly']\n",
    "\n",
    "kernels = ['linear', 'poly', 'rbf', 'sigmoid', 'precomputed']\n",
    "\n",
    "for kernel in kernels:\n",
    "  X_train, X_test, y_train, y_test = train_test_split(X, y, test_size=0.3,random_state = 2)\n",
    "  X_train = scaler.fit_transform(X_train)\n",
    "  svc = SVC(kernel=kernel, C=10, max_iter=1500, probability=True, tol=0.01, gamma='scale')\n",
    "  svc.fit(X_train, y_train)\n",
    "  y_pred = cross_val_predict(svc, X_test, y_test, cv=5, method='predict_proba', verbose=1)\n",
    "  print('roc-auc:', roc_auc_score(y_test, y_pred[:,1]))"
   ]
  },
  {
   "cell_type": "code",
   "execution_count": null,
   "metadata": {
    "colab": {
     "base_uri": "https://localhost:8080/"
    },
    "id": "tN36yZvrNTsa",
    "outputId": "51ccdf2a-6b75-4780-d855-d6abe6664367"
   },
   "outputs": [
    {
     "name": "stderr",
     "output_type": "stream",
     "text": [
      "[Parallel(n_jobs=1)]: Using backend SequentialBackend with 1 concurrent workers.\n"
     ]
    },
    {
     "name": "stdout",
     "output_type": "stream",
     "text": [
      "roc-auc: 0.7289342611288083\n"
     ]
    },
    {
     "name": "stderr",
     "output_type": "stream",
     "text": [
      "[Parallel(n_jobs=1)]: Done  10 out of  10 | elapsed:    4.3s finished\n"
     ]
    }
   ],
   "source": [
    "# equivalent but with SGD solver\n",
    "from sklearn.linear_model import SGDClassifier\n",
    "\n",
    "svc_bis = SGDClassifier(loss='modified_huber', penalty='l2', alpha=0.1)\n",
    "\n",
    "X_train, X_test, y_train, y_test = train_test_split(X, y, test_size=0.3,random_state = 1)\n",
    "\n",
    "#svc_bis = GradientBoostingClassifier() \n",
    "svc_bis.fit(X_train, y_train)\n",
    "\n",
    "y_pred = cross_val_predict(svc_bis, X_test, y_test, cv=10, method='predict_proba', verbose=1)\n",
    "print('roc-auc:', roc_auc_score(y_test, y_pred[:,1]))"
   ]
  },
  {
   "cell_type": "markdown",
   "metadata": {
    "id": "Vefuclqo4a8G"
   },
   "source": [
    "# Multi-layer Stacking - XGBoost, SVC and Log reg"
   ]
  },
  {
   "cell_type": "code",
   "execution_count": null,
   "metadata": {
    "colab": {
     "base_uri": "https://localhost:8080/"
    },
    "id": "CKI4503r4aLz",
    "outputId": "a9205273-f708-47be-e612-e9322e1755c6"
   },
   "outputs": [
    {
     "name": "stderr",
     "output_type": "stream",
     "text": [
      "[Parallel(n_jobs=1)]: Using backend SequentialBackend with 1 concurrent workers.\n"
     ]
    },
    {
     "name": "stdout",
     "output_type": "stream",
     "text": [
      "roc-auc: 0.7682322465652832\n"
     ]
    },
    {
     "name": "stderr",
     "output_type": "stream",
     "text": [
      "[Parallel(n_jobs=1)]: Done   5 out of   5 | elapsed: 25.1min finished\n"
     ]
    }
   ],
   "source": [
    "from sklearn.ensemble import StackingClassifier\n",
    "from sklearn.linear_model import SGDClassifier, LogisticRegression\n",
    "from sklearn.ensemble import GradientBoostingClassifier\n",
    "from sklearn.preprocessing import MinMaxScaler\n",
    "\n",
    "\n",
    "scaler = MinMaxScaler()\n",
    "\n",
    "X = features.query('content_type_id==0').drop(columns={'content_type_id'})\n",
    "y = df.query('content_type_id==0')['answered_correctly']\n",
    "\n",
    "X_train, X_test, y_train, y_test = train_test_split(X, y, test_size=0.3, random_state = 2)\n",
    "\n",
    "X_train = scaler.fit_transform(X_train)\n",
    "\n",
    "\n",
    "ensemble = StackingClassifier(\n",
    "    estimators = [(\"log\", GradientBoostingClassifier()),\n",
    "                  (\"svc\", SGDClassifier(loss='modified_huber', penalty='l2', alpha=0.1, max_iter=3000))],\n",
    "                  final_estimator = LogisticRegression(max_iter=3000) )\n",
    "\n",
    "ensemble.fit(X_train, y_train)\n",
    "y_pred = cross_val_predict(ensemble, X_test, y_test, cv=5, method='predict_proba', verbose=1)\n",
    "print('roc-auc:', roc_auc_score(y_test, y_pred[:,1]))"
   ]
  },
  {
   "cell_type": "code",
   "execution_count": null,
   "metadata": {
    "id": "8zVmkMwNNXvS"
   },
   "outputs": [],
   "source": []
  }
 ],
 "metadata": {
  "accelerator": "GPU",
  "colab": {
   "collapsed_sections": [],
   "name": "yohann_baseline.ipynb",
   "provenance": []
  },
  "kernelspec": {
   "display_name": "Python 3",
   "language": "python",
   "name": "python3"
  },
  "language_info": {
   "codemirror_mode": {
    "name": "ipython",
    "version": 3
   },
   "file_extension": ".py",
   "mimetype": "text/x-python",
   "name": "python",
   "nbconvert_exporter": "python",
   "pygments_lexer": "ipython3",
   "version": "3.7.7"
  },
  "toc": {
   "base_numbering": 1,
   "nav_menu": {},
   "number_sections": true,
   "sideBar": true,
   "skip_h1_title": false,
   "title_cell": "Table of Contents",
   "title_sidebar": "Contents",
   "toc_cell": false,
   "toc_position": {
    "height": "calc(100% - 180px)",
    "left": "10px",
    "top": "150px",
    "width": "165px"
   },
   "toc_section_display": true,
   "toc_window_display": false
  },
  "varInspector": {
   "cols": {
    "lenName": 16,
    "lenType": 16,
    "lenVar": 40
   },
   "kernels_config": {
    "python": {
     "delete_cmd_postfix": "",
     "delete_cmd_prefix": "del ",
     "library": "var_list.py",
     "varRefreshCmd": "print(var_dic_list())"
    },
    "r": {
     "delete_cmd_postfix": ") ",
     "delete_cmd_prefix": "rm(",
     "library": "var_list.r",
     "varRefreshCmd": "cat(var_dic_list()) "
    }
   },
   "types_to_exclude": [
    "module",
    "function",
    "builtin_function_or_method",
    "instance",
    "_Feature"
   ],
   "window_display": false
  }
 },
 "nbformat": 4,
 "nbformat_minor": 1
}
