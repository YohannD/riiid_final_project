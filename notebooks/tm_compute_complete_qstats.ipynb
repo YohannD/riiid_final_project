{
 "cells": [
  {
   "cell_type": "code",
   "execution_count": 29,
   "metadata": {
    "ExecuteTime": {
     "end_time": "2020-12-15T11:44:06.639915Z",
     "start_time": "2020-12-15T11:44:06.623705Z"
    }
   },
   "outputs": [],
   "source": [
    "import pandas as pd\n",
    "import numpy as np"
   ]
  },
  {
   "cell_type": "code",
   "execution_count": 2,
   "metadata": {
    "ExecuteTime": {
     "end_time": "2020-12-15T11:03:49.516397Z",
     "start_time": "2020-12-15T10:52:24.058750Z"
    }
   },
   "outputs": [],
   "source": [
    "train=pd.read_csv('../data/train.csv')"
   ]
  },
  {
   "cell_type": "code",
   "execution_count": 21,
   "metadata": {
    "ExecuteTime": {
     "end_time": "2020-12-15T11:38:53.736200Z",
     "start_time": "2020-12-15T11:38:53.577595Z"
    }
   },
   "outputs": [],
   "source": [
    "questions=pd.read_csv('../data/questions.csv')\n",
    "questions.rename(columns={'question_id':'content_id'}, inplace=True)"
   ]
  },
  {
   "cell_type": "code",
   "execution_count": 6,
   "metadata": {
    "ExecuteTime": {
     "end_time": "2020-12-15T11:13:35.707399Z",
     "start_time": "2020-12-15T11:13:20.616061Z"
    }
   },
   "outputs": [],
   "source": [
    "train['prior_expl_bool']=train['prior_question_had_explanation'].astype('bool')"
   ]
  },
  {
   "cell_type": "code",
   "execution_count": 7,
   "metadata": {
    "ExecuteTime": {
     "end_time": "2020-12-15T11:27:33.949380Z",
     "start_time": "2020-12-15T11:13:42.462970Z"
    }
   },
   "outputs": [],
   "source": [
    "global_qstats=train.loc[train.content_type_id==0].groupby('content_id').agg({'row_id':'count',\n",
    "                                                                           'answered_correctly':'mean',\n",
    "                                                                           'prior_expl_bool':'mean'})"
   ]
  },
  {
   "cell_type": "code",
   "execution_count": 10,
   "metadata": {
    "ExecuteTime": {
     "end_time": "2020-12-15T11:28:14.731030Z",
     "start_time": "2020-12-15T11:28:14.711693Z"
    }
   },
   "outputs": [],
   "source": [
    "global_qstats=global_qstats.rename(columns={'row_id':'qstats_count',\n",
    "                                            'answered_correctly':'qstats_answered_correctly',\n",
    "                                            'prior_expl_bool':'qstats_prior_question_had_explanation',\n",
    "                                           })"
   ]
  },
  {
   "cell_type": "code",
   "execution_count": 12,
   "metadata": {
    "ExecuteTime": {
     "end_time": "2020-12-15T11:28:23.300727Z",
     "start_time": "2020-12-15T11:28:23.266749Z"
    }
   },
   "outputs": [
    {
     "data": {
      "text/html": [
       "<div>\n",
       "<style scoped>\n",
       "    .dataframe tbody tr th:only-of-type {\n",
       "        vertical-align: middle;\n",
       "    }\n",
       "\n",
       "    .dataframe tbody tr th {\n",
       "        vertical-align: top;\n",
       "    }\n",
       "\n",
       "    .dataframe thead th {\n",
       "        text-align: right;\n",
       "    }\n",
       "</style>\n",
       "<table border=\"1\" class=\"dataframe\">\n",
       "  <thead>\n",
       "    <tr style=\"text-align: right;\">\n",
       "      <th></th>\n",
       "      <th>qstats_count</th>\n",
       "      <th>qstats_answered_correctly</th>\n",
       "      <th>qstats_prior_question_had_explanation</th>\n",
       "    </tr>\n",
       "    <tr>\n",
       "      <th>content_id</th>\n",
       "      <th></th>\n",
       "      <th></th>\n",
       "      <th></th>\n",
       "    </tr>\n",
       "  </thead>\n",
       "  <tbody>\n",
       "    <tr>\n",
       "      <th>0</th>\n",
       "      <td>6903</td>\n",
       "      <td>0.907721</td>\n",
       "      <td>0.948138</td>\n",
       "    </tr>\n",
       "    <tr>\n",
       "      <th>1</th>\n",
       "      <td>7398</td>\n",
       "      <td>0.890646</td>\n",
       "      <td>0.980400</td>\n",
       "    </tr>\n",
       "    <tr>\n",
       "      <th>2</th>\n",
       "      <td>44905</td>\n",
       "      <td>0.554281</td>\n",
       "      <td>0.888253</td>\n",
       "    </tr>\n",
       "    <tr>\n",
       "      <th>3</th>\n",
       "      <td>22973</td>\n",
       "      <td>0.779437</td>\n",
       "      <td>0.958473</td>\n",
       "    </tr>\n",
       "    <tr>\n",
       "      <th>4</th>\n",
       "      <td>31736</td>\n",
       "      <td>0.613215</td>\n",
       "      <td>0.530313</td>\n",
       "    </tr>\n",
       "    <tr>\n",
       "      <th>...</th>\n",
       "      <td>...</td>\n",
       "      <td>...</td>\n",
       "      <td>...</td>\n",
       "    </tr>\n",
       "    <tr>\n",
       "      <th>13518</th>\n",
       "      <td>868</td>\n",
       "      <td>0.786866</td>\n",
       "      <td>0.998848</td>\n",
       "    </tr>\n",
       "    <tr>\n",
       "      <th>13519</th>\n",
       "      <td>924</td>\n",
       "      <td>0.571429</td>\n",
       "      <td>0.994589</td>\n",
       "    </tr>\n",
       "    <tr>\n",
       "      <th>13520</th>\n",
       "      <td>861</td>\n",
       "      <td>0.672474</td>\n",
       "      <td>0.995354</td>\n",
       "    </tr>\n",
       "    <tr>\n",
       "      <th>13521</th>\n",
       "      <td>870</td>\n",
       "      <td>0.808046</td>\n",
       "      <td>0.996552</td>\n",
       "    </tr>\n",
       "    <tr>\n",
       "      <th>13522</th>\n",
       "      <td>860</td>\n",
       "      <td>0.913953</td>\n",
       "      <td>0.991860</td>\n",
       "    </tr>\n",
       "  </tbody>\n",
       "</table>\n",
       "<p>13523 rows × 3 columns</p>\n",
       "</div>"
      ],
      "text/plain": [
       "            qstats_count  qstats_answered_correctly  \\\n",
       "content_id                                            \n",
       "0                   6903                   0.907721   \n",
       "1                   7398                   0.890646   \n",
       "2                  44905                   0.554281   \n",
       "3                  22973                   0.779437   \n",
       "4                  31736                   0.613215   \n",
       "...                  ...                        ...   \n",
       "13518                868                   0.786866   \n",
       "13519                924                   0.571429   \n",
       "13520                861                   0.672474   \n",
       "13521                870                   0.808046   \n",
       "13522                860                   0.913953   \n",
       "\n",
       "            qstats_prior_question_had_explanation  \n",
       "content_id                                         \n",
       "0                                        0.948138  \n",
       "1                                        0.980400  \n",
       "2                                        0.888253  \n",
       "3                                        0.958473  \n",
       "4                                        0.530313  \n",
       "...                                           ...  \n",
       "13518                                    0.998848  \n",
       "13519                                    0.994589  \n",
       "13520                                    0.995354  \n",
       "13521                                    0.996552  \n",
       "13522                                    0.991860  \n",
       "\n",
       "[13523 rows x 3 columns]"
      ]
     },
     "execution_count": 12,
     "metadata": {},
     "output_type": "execute_result"
    }
   ],
   "source": [
    "global_qstats"
   ]
  },
  {
   "cell_type": "code",
   "execution_count": 18,
   "metadata": {
    "ExecuteTime": {
     "end_time": "2020-12-15T11:38:18.115749Z",
     "start_time": "2020-12-15T11:32:56.882854Z"
    }
   },
   "outputs": [],
   "source": [
    "had_expla_qstats=train.loc[train.content_type_id==0].query('prior_expl_bool==True').groupby('content_id').agg({'row_id':'count',\n",
    "                                                                           'answered_correctly':'mean'})"
   ]
  },
  {
   "cell_type": "code",
   "execution_count": 19,
   "metadata": {
    "ExecuteTime": {
     "end_time": "2020-12-15T11:38:28.886947Z",
     "start_time": "2020-12-15T11:38:28.736607Z"
    },
    "collapsed": true
   },
   "outputs": [
    {
     "data": {
      "text/html": [
       "<div>\n",
       "<style scoped>\n",
       "    .dataframe tbody tr th:only-of-type {\n",
       "        vertical-align: middle;\n",
       "    }\n",
       "\n",
       "    .dataframe tbody tr th {\n",
       "        vertical-align: top;\n",
       "    }\n",
       "\n",
       "    .dataframe thead th {\n",
       "        text-align: right;\n",
       "    }\n",
       "</style>\n",
       "<table border=\"1\" class=\"dataframe\">\n",
       "  <thead>\n",
       "    <tr style=\"text-align: right;\">\n",
       "      <th></th>\n",
       "      <th>row_id</th>\n",
       "      <th>answered_correctly</th>\n",
       "    </tr>\n",
       "    <tr>\n",
       "      <th>content_id</th>\n",
       "      <th></th>\n",
       "      <th></th>\n",
       "    </tr>\n",
       "  </thead>\n",
       "  <tbody>\n",
       "    <tr>\n",
       "      <th>0</th>\n",
       "      <td>6545</td>\n",
       "      <td>0.911994</td>\n",
       "    </tr>\n",
       "    <tr>\n",
       "      <th>1</th>\n",
       "      <td>7253</td>\n",
       "      <td>0.892183</td>\n",
       "    </tr>\n",
       "    <tr>\n",
       "      <th>2</th>\n",
       "      <td>39887</td>\n",
       "      <td>0.562213</td>\n",
       "    </tr>\n",
       "    <tr>\n",
       "      <th>3</th>\n",
       "      <td>22019</td>\n",
       "      <td>0.783460</td>\n",
       "    </tr>\n",
       "    <tr>\n",
       "      <th>4</th>\n",
       "      <td>16830</td>\n",
       "      <td>0.654308</td>\n",
       "    </tr>\n",
       "    <tr>\n",
       "      <th>...</th>\n",
       "      <td>...</td>\n",
       "      <td>...</td>\n",
       "    </tr>\n",
       "    <tr>\n",
       "      <th>13518</th>\n",
       "      <td>867</td>\n",
       "      <td>0.786621</td>\n",
       "    </tr>\n",
       "    <tr>\n",
       "      <th>13519</th>\n",
       "      <td>919</td>\n",
       "      <td>0.570185</td>\n",
       "    </tr>\n",
       "    <tr>\n",
       "      <th>13520</th>\n",
       "      <td>857</td>\n",
       "      <td>0.670945</td>\n",
       "    </tr>\n",
       "    <tr>\n",
       "      <th>13521</th>\n",
       "      <td>867</td>\n",
       "      <td>0.808535</td>\n",
       "    </tr>\n",
       "    <tr>\n",
       "      <th>13522</th>\n",
       "      <td>853</td>\n",
       "      <td>0.913247</td>\n",
       "    </tr>\n",
       "  </tbody>\n",
       "</table>\n",
       "<p>13519 rows × 2 columns</p>\n",
       "</div>"
      ],
      "text/plain": [
       "            row_id  answered_correctly\n",
       "content_id                            \n",
       "0             6545            0.911994\n",
       "1             7253            0.892183\n",
       "2            39887            0.562213\n",
       "3            22019            0.783460\n",
       "4            16830            0.654308\n",
       "...            ...                 ...\n",
       "13518          867            0.786621\n",
       "13519          919            0.570185\n",
       "13520          857            0.670945\n",
       "13521          867            0.808535\n",
       "13522          853            0.913247\n",
       "\n",
       "[13519 rows x 2 columns]"
      ]
     },
     "execution_count": 19,
     "metadata": {},
     "output_type": "execute_result"
    }
   ],
   "source": [
    "had_expla_qstats"
   ]
  },
  {
   "cell_type": "code",
   "execution_count": 20,
   "metadata": {
    "ExecuteTime": {
     "end_time": "2020-12-15T11:38:48.844796Z",
     "start_time": "2020-12-15T11:38:48.798650Z"
    }
   },
   "outputs": [],
   "source": [
    "had_expla_qstats=had_expla_qstats.rename(columns={'row_id':'prior_question_had_explanation_true_count',\n",
    "                                            'answered_correctly':'qstats_answered_correctly_knowing_having_had_explanation',\n",
    "                                            })"
   ]
  },
  {
   "cell_type": "code",
   "execution_count": 27,
   "metadata": {
    "ExecuteTime": {
     "end_time": "2020-12-15T11:42:13.641998Z",
     "start_time": "2020-12-15T11:42:13.623905Z"
    }
   },
   "outputs": [
    {
     "data": {
      "text/html": [
       "<div>\n",
       "<style scoped>\n",
       "    .dataframe tbody tr th:only-of-type {\n",
       "        vertical-align: middle;\n",
       "    }\n",
       "\n",
       "    .dataframe tbody tr th {\n",
       "        vertical-align: top;\n",
       "    }\n",
       "\n",
       "    .dataframe thead th {\n",
       "        text-align: right;\n",
       "    }\n",
       "</style>\n",
       "<table border=\"1\" class=\"dataframe\">\n",
       "  <thead>\n",
       "    <tr style=\"text-align: right;\">\n",
       "      <th></th>\n",
       "      <th>prior_question_had_explanation_true_count</th>\n",
       "      <th>qstats_answered_correctly_knowing_having_had_explanation</th>\n",
       "    </tr>\n",
       "    <tr>\n",
       "      <th>content_id</th>\n",
       "      <th></th>\n",
       "      <th></th>\n",
       "    </tr>\n",
       "  </thead>\n",
       "  <tbody>\n",
       "    <tr>\n",
       "      <th>0</th>\n",
       "      <td>6545</td>\n",
       "      <td>0.911994</td>\n",
       "    </tr>\n",
       "    <tr>\n",
       "      <th>1</th>\n",
       "      <td>7253</td>\n",
       "      <td>0.892183</td>\n",
       "    </tr>\n",
       "    <tr>\n",
       "      <th>2</th>\n",
       "      <td>39887</td>\n",
       "      <td>0.562213</td>\n",
       "    </tr>\n",
       "    <tr>\n",
       "      <th>3</th>\n",
       "      <td>22019</td>\n",
       "      <td>0.783460</td>\n",
       "    </tr>\n",
       "    <tr>\n",
       "      <th>4</th>\n",
       "      <td>16830</td>\n",
       "      <td>0.654308</td>\n",
       "    </tr>\n",
       "    <tr>\n",
       "      <th>...</th>\n",
       "      <td>...</td>\n",
       "      <td>...</td>\n",
       "    </tr>\n",
       "    <tr>\n",
       "      <th>13518</th>\n",
       "      <td>867</td>\n",
       "      <td>0.786621</td>\n",
       "    </tr>\n",
       "    <tr>\n",
       "      <th>13519</th>\n",
       "      <td>919</td>\n",
       "      <td>0.570185</td>\n",
       "    </tr>\n",
       "    <tr>\n",
       "      <th>13520</th>\n",
       "      <td>857</td>\n",
       "      <td>0.670945</td>\n",
       "    </tr>\n",
       "    <tr>\n",
       "      <th>13521</th>\n",
       "      <td>867</td>\n",
       "      <td>0.808535</td>\n",
       "    </tr>\n",
       "    <tr>\n",
       "      <th>13522</th>\n",
       "      <td>853</td>\n",
       "      <td>0.913247</td>\n",
       "    </tr>\n",
       "  </tbody>\n",
       "</table>\n",
       "<p>13519 rows × 2 columns</p>\n",
       "</div>"
      ],
      "text/plain": [
       "            prior_question_had_explanation_true_count  \\\n",
       "content_id                                              \n",
       "0                                                6545   \n",
       "1                                                7253   \n",
       "2                                               39887   \n",
       "3                                               22019   \n",
       "4                                               16830   \n",
       "...                                               ...   \n",
       "13518                                             867   \n",
       "13519                                             919   \n",
       "13520                                             857   \n",
       "13521                                             867   \n",
       "13522                                             853   \n",
       "\n",
       "            qstats_answered_correctly_knowing_having_had_explanation  \n",
       "content_id                                                            \n",
       "0                                                    0.911994         \n",
       "1                                                    0.892183         \n",
       "2                                                    0.562213         \n",
       "3                                                    0.783460         \n",
       "4                                                    0.654308         \n",
       "...                                                       ...         \n",
       "13518                                                0.786621         \n",
       "13519                                                0.570185         \n",
       "13520                                                0.670945         \n",
       "13521                                                0.808535         \n",
       "13522                                                0.913247         \n",
       "\n",
       "[13519 rows x 2 columns]"
      ]
     },
     "execution_count": 27,
     "metadata": {},
     "output_type": "execute_result"
    }
   ],
   "source": [
    "had_expla_qstats"
   ]
  },
  {
   "cell_type": "code",
   "execution_count": 24,
   "metadata": {
    "ExecuteTime": {
     "end_time": "2020-12-15T11:41:15.313790Z",
     "start_time": "2020-12-15T11:41:15.299850Z"
    }
   },
   "outputs": [],
   "source": [
    "questions.rename(columns={'question_id':'content_id'}, inplace=True)"
   ]
  },
  {
   "cell_type": "code",
   "execution_count": 25,
   "metadata": {
    "ExecuteTime": {
     "end_time": "2020-12-15T11:41:37.532951Z",
     "start_time": "2020-12-15T11:41:37.419404Z"
    },
    "collapsed": true
   },
   "outputs": [
    {
     "data": {
      "text/html": [
       "<div>\n",
       "<style scoped>\n",
       "    .dataframe tbody tr th:only-of-type {\n",
       "        vertical-align: middle;\n",
       "    }\n",
       "\n",
       "    .dataframe tbody tr th {\n",
       "        vertical-align: top;\n",
       "    }\n",
       "\n",
       "    .dataframe thead th {\n",
       "        text-align: right;\n",
       "    }\n",
       "</style>\n",
       "<table border=\"1\" class=\"dataframe\">\n",
       "  <thead>\n",
       "    <tr style=\"text-align: right;\">\n",
       "      <th></th>\n",
       "      <th>content_id</th>\n",
       "      <th>bundle_id</th>\n",
       "      <th>correct_answer</th>\n",
       "      <th>part</th>\n",
       "      <th>tags</th>\n",
       "      <th>qstats_count</th>\n",
       "      <th>qstats_answered_correctly</th>\n",
       "      <th>qstats_prior_question_had_explanation</th>\n",
       "    </tr>\n",
       "  </thead>\n",
       "  <tbody>\n",
       "    <tr>\n",
       "      <th>0</th>\n",
       "      <td>0</td>\n",
       "      <td>0</td>\n",
       "      <td>0</td>\n",
       "      <td>1</td>\n",
       "      <td>51 131 162 38</td>\n",
       "      <td>6903</td>\n",
       "      <td>0.907721</td>\n",
       "      <td>0.948138</td>\n",
       "    </tr>\n",
       "    <tr>\n",
       "      <th>1</th>\n",
       "      <td>1</td>\n",
       "      <td>1</td>\n",
       "      <td>1</td>\n",
       "      <td>1</td>\n",
       "      <td>131 36 81</td>\n",
       "      <td>7398</td>\n",
       "      <td>0.890646</td>\n",
       "      <td>0.980400</td>\n",
       "    </tr>\n",
       "    <tr>\n",
       "      <th>2</th>\n",
       "      <td>2</td>\n",
       "      <td>2</td>\n",
       "      <td>0</td>\n",
       "      <td>1</td>\n",
       "      <td>131 101 162 92</td>\n",
       "      <td>44905</td>\n",
       "      <td>0.554281</td>\n",
       "      <td>0.888253</td>\n",
       "    </tr>\n",
       "    <tr>\n",
       "      <th>3</th>\n",
       "      <td>3</td>\n",
       "      <td>3</td>\n",
       "      <td>0</td>\n",
       "      <td>1</td>\n",
       "      <td>131 149 162 29</td>\n",
       "      <td>22973</td>\n",
       "      <td>0.779437</td>\n",
       "      <td>0.958473</td>\n",
       "    </tr>\n",
       "    <tr>\n",
       "      <th>4</th>\n",
       "      <td>4</td>\n",
       "      <td>4</td>\n",
       "      <td>3</td>\n",
       "      <td>1</td>\n",
       "      <td>131 5 162 38</td>\n",
       "      <td>31736</td>\n",
       "      <td>0.613215</td>\n",
       "      <td>0.530313</td>\n",
       "    </tr>\n",
       "    <tr>\n",
       "      <th>...</th>\n",
       "      <td>...</td>\n",
       "      <td>...</td>\n",
       "      <td>...</td>\n",
       "      <td>...</td>\n",
       "      <td>...</td>\n",
       "      <td>...</td>\n",
       "      <td>...</td>\n",
       "      <td>...</td>\n",
       "    </tr>\n",
       "    <tr>\n",
       "      <th>13518</th>\n",
       "      <td>13518</td>\n",
       "      <td>13518</td>\n",
       "      <td>3</td>\n",
       "      <td>5</td>\n",
       "      <td>14</td>\n",
       "      <td>868</td>\n",
       "      <td>0.786866</td>\n",
       "      <td>0.998848</td>\n",
       "    </tr>\n",
       "    <tr>\n",
       "      <th>13519</th>\n",
       "      <td>13519</td>\n",
       "      <td>13519</td>\n",
       "      <td>3</td>\n",
       "      <td>5</td>\n",
       "      <td>8</td>\n",
       "      <td>924</td>\n",
       "      <td>0.571429</td>\n",
       "      <td>0.994589</td>\n",
       "    </tr>\n",
       "    <tr>\n",
       "      <th>13520</th>\n",
       "      <td>13520</td>\n",
       "      <td>13520</td>\n",
       "      <td>2</td>\n",
       "      <td>5</td>\n",
       "      <td>73</td>\n",
       "      <td>861</td>\n",
       "      <td>0.672474</td>\n",
       "      <td>0.995354</td>\n",
       "    </tr>\n",
       "    <tr>\n",
       "      <th>13521</th>\n",
       "      <td>13521</td>\n",
       "      <td>13521</td>\n",
       "      <td>0</td>\n",
       "      <td>5</td>\n",
       "      <td>125</td>\n",
       "      <td>870</td>\n",
       "      <td>0.808046</td>\n",
       "      <td>0.996552</td>\n",
       "    </tr>\n",
       "    <tr>\n",
       "      <th>13522</th>\n",
       "      <td>13522</td>\n",
       "      <td>13522</td>\n",
       "      <td>3</td>\n",
       "      <td>5</td>\n",
       "      <td>55</td>\n",
       "      <td>860</td>\n",
       "      <td>0.913953</td>\n",
       "      <td>0.991860</td>\n",
       "    </tr>\n",
       "  </tbody>\n",
       "</table>\n",
       "<p>13523 rows × 8 columns</p>\n",
       "</div>"
      ],
      "text/plain": [
       "       content_id  bundle_id  correct_answer  part            tags  \\\n",
       "0               0          0               0     1   51 131 162 38   \n",
       "1               1          1               1     1       131 36 81   \n",
       "2               2          2               0     1  131 101 162 92   \n",
       "3               3          3               0     1  131 149 162 29   \n",
       "4               4          4               3     1    131 5 162 38   \n",
       "...           ...        ...             ...   ...             ...   \n",
       "13518       13518      13518               3     5              14   \n",
       "13519       13519      13519               3     5               8   \n",
       "13520       13520      13520               2     5              73   \n",
       "13521       13521      13521               0     5             125   \n",
       "13522       13522      13522               3     5              55   \n",
       "\n",
       "       qstats_count  qstats_answered_correctly  \\\n",
       "0              6903                   0.907721   \n",
       "1              7398                   0.890646   \n",
       "2             44905                   0.554281   \n",
       "3             22973                   0.779437   \n",
       "4             31736                   0.613215   \n",
       "...             ...                        ...   \n",
       "13518           868                   0.786866   \n",
       "13519           924                   0.571429   \n",
       "13520           861                   0.672474   \n",
       "13521           870                   0.808046   \n",
       "13522           860                   0.913953   \n",
       "\n",
       "       qstats_prior_question_had_explanation  \n",
       "0                                   0.948138  \n",
       "1                                   0.980400  \n",
       "2                                   0.888253  \n",
       "3                                   0.958473  \n",
       "4                                   0.530313  \n",
       "...                                      ...  \n",
       "13518                               0.998848  \n",
       "13519                               0.994589  \n",
       "13520                               0.995354  \n",
       "13521                               0.996552  \n",
       "13522                               0.991860  \n",
       "\n",
       "[13523 rows x 8 columns]"
      ]
     },
     "execution_count": 25,
     "metadata": {},
     "output_type": "execute_result"
    }
   ],
   "source": [
    "qstats=questions.merge(global_qstats, on='content_id', how='left')\n",
    "qstats"
   ]
  },
  {
   "cell_type": "code",
   "execution_count": 28,
   "metadata": {
    "ExecuteTime": {
     "end_time": "2020-12-15T11:42:59.504373Z",
     "start_time": "2020-12-15T11:42:59.469479Z"
    }
   },
   "outputs": [
    {
     "name": "stdout",
     "output_type": "stream",
     "text": [
      "<class 'pandas.core.frame.DataFrame'>\n",
      "Int64Index: 13523 entries, 0 to 13522\n",
      "Data columns (total 10 columns):\n",
      " #   Column                                                    Non-Null Count  Dtype  \n",
      "---  ------                                                    --------------  -----  \n",
      " 0   content_id                                                13523 non-null  int64  \n",
      " 1   bundle_id                                                 13523 non-null  int64  \n",
      " 2   correct_answer                                            13523 non-null  int64  \n",
      " 3   part                                                      13523 non-null  int64  \n",
      " 4   tags                                                      13522 non-null  object \n",
      " 5   qstats_count                                              13523 non-null  int64  \n",
      " 6   qstats_answered_correctly                                 13523 non-null  float64\n",
      " 7   qstats_prior_question_had_explanation                     13523 non-null  float64\n",
      " 8   prior_question_had_explanation_true_count                 13519 non-null  float64\n",
      " 9   qstats_answered_correctly_knowing_having_had_explanation  13519 non-null  float64\n",
      "dtypes: float64(4), int64(5), object(1)\n",
      "memory usage: 1.1+ MB\n"
     ]
    }
   ],
   "source": [
    "qstats=qstats.merge(had_expla_qstats, on='content_id', how='left')\n",
    "qstats.info()"
   ]
  },
  {
   "cell_type": "code",
   "execution_count": 31,
   "metadata": {
    "ExecuteTime": {
     "end_time": "2020-12-15T11:44:55.661707Z",
     "start_time": "2020-12-15T11:44:55.641875Z"
    }
   },
   "outputs": [
    {
     "name": "stdout",
     "output_type": "stream",
     "text": [
      "<class 'pandas.core.frame.DataFrame'>\n",
      "Int64Index: 13523 entries, 0 to 13522\n",
      "Data columns (total 10 columns):\n",
      " #   Column                                                    Non-Null Count  Dtype  \n",
      "---  ------                                                    --------------  -----  \n",
      " 0   content_id                                                13523 non-null  int64  \n",
      " 1   bundle_id                                                 13523 non-null  int64  \n",
      " 2   correct_answer                                            13523 non-null  int64  \n",
      " 3   part                                                      13523 non-null  int64  \n",
      " 4   tags                                                      13522 non-null  object \n",
      " 5   qstats_count                                              13523 non-null  int64  \n",
      " 6   qstats_answered_correctly                                 13523 non-null  float64\n",
      " 7   qstats_prior_question_had_explanation                     13523 non-null  float64\n",
      " 8   prior_question_had_explanation_true_count                 13523 non-null  float64\n",
      " 9   qstats_answered_correctly_knowing_having_had_explanation  13519 non-null  float64\n",
      "dtypes: float64(4), int64(5), object(1)\n",
      "memory usage: 1.1+ MB\n"
     ]
    }
   ],
   "source": [
    "qstats['prior_question_had_explanation_true_count'].replace(np.nan,0, inplace=True)\n",
    "qstats.info()"
   ]
  },
  {
   "cell_type": "code",
   "execution_count": 32,
   "metadata": {
    "ExecuteTime": {
     "end_time": "2020-12-15T11:50:37.410349Z",
     "start_time": "2020-12-15T11:47:19.941923Z"
    }
   },
   "outputs": [],
   "source": [
    "had_not_expla_qstats=train.loc[train.content_type_id==0].query('prior_expl_bool==False').groupby('content_id').agg({'row_id':'count',\n",
    "                                                                           'answered_correctly':'mean'})"
   ]
  },
  {
   "cell_type": "code",
   "execution_count": 33,
   "metadata": {
    "ExecuteTime": {
     "end_time": "2020-12-15T11:50:55.367533Z",
     "start_time": "2020-12-15T11:50:55.325798Z"
    }
   },
   "outputs": [],
   "source": [
    "had_not_expla_qstats=had_not_expla_qstats.rename(columns={'row_id':'prior_question_had_explanation_false_count',\n",
    "                                            'answered_correctly':'qstats_answered_correctly_knowing_having_not_had_explanation',\n",
    "                                            })"
   ]
  },
  {
   "cell_type": "code",
   "execution_count": 34,
   "metadata": {
    "ExecuteTime": {
     "end_time": "2020-12-15T11:51:19.340550Z",
     "start_time": "2020-12-15T11:51:19.234724Z"
    }
   },
   "outputs": [
    {
     "name": "stdout",
     "output_type": "stream",
     "text": [
      "<class 'pandas.core.frame.DataFrame'>\n",
      "Int64Index: 13523 entries, 0 to 13522\n",
      "Data columns (total 12 columns):\n",
      " #   Column                                                        Non-Null Count  Dtype  \n",
      "---  ------                                                        --------------  -----  \n",
      " 0   content_id                                                    13523 non-null  int64  \n",
      " 1   bundle_id                                                     13523 non-null  int64  \n",
      " 2   correct_answer                                                13523 non-null  int64  \n",
      " 3   part                                                          13523 non-null  int64  \n",
      " 4   tags                                                          13522 non-null  object \n",
      " 5   qstats_count                                                  13523 non-null  int64  \n",
      " 6   qstats_answered_correctly                                     13523 non-null  float64\n",
      " 7   qstats_prior_question_had_explanation                         13523 non-null  float64\n",
      " 8   prior_question_had_explanation_true_count                     13523 non-null  float64\n",
      " 9   qstats_answered_correctly_knowing_having_had_explanation      13519 non-null  float64\n",
      " 10  prior_question_had_explanation_false_count                    13384 non-null  float64\n",
      " 11  qstats_answered_correctly_knowing_having_not_had_explanation  13384 non-null  float64\n",
      "dtypes: float64(6), int64(5), object(1)\n",
      "memory usage: 1.3+ MB\n"
     ]
    }
   ],
   "source": [
    "qstats=qstats.merge(had_not_expla_qstats, on='content_id', how='left')\n",
    "qstats.info()"
   ]
  },
  {
   "cell_type": "code",
   "execution_count": 35,
   "metadata": {
    "ExecuteTime": {
     "end_time": "2020-12-15T11:53:14.541266Z",
     "start_time": "2020-12-15T11:53:14.516973Z"
    }
   },
   "outputs": [
    {
     "name": "stdout",
     "output_type": "stream",
     "text": [
      "<class 'pandas.core.frame.DataFrame'>\n",
      "Int64Index: 13523 entries, 0 to 13522\n",
      "Data columns (total 12 columns):\n",
      " #   Column                                                        Non-Null Count  Dtype  \n",
      "---  ------                                                        --------------  -----  \n",
      " 0   content_id                                                    13523 non-null  int64  \n",
      " 1   bundle_id                                                     13523 non-null  int64  \n",
      " 2   correct_answer                                                13523 non-null  int64  \n",
      " 3   part                                                          13523 non-null  int64  \n",
      " 4   tags                                                          13522 non-null  object \n",
      " 5   qstats_count                                                  13523 non-null  int64  \n",
      " 6   qstats_answered_correctly                                     13523 non-null  float64\n",
      " 7   qstats_prior_question_had_explanation                         13523 non-null  float64\n",
      " 8   prior_question_had_explanation_true_count                     13523 non-null  float64\n",
      " 9   qstats_answered_correctly_knowing_having_had_explanation      13519 non-null  float64\n",
      " 10  prior_question_had_explanation_false_count                    13523 non-null  float64\n",
      " 11  qstats_answered_correctly_knowing_having_not_had_explanation  13384 non-null  float64\n",
      "dtypes: float64(6), int64(5), object(1)\n",
      "memory usage: 1.3+ MB\n"
     ]
    }
   ],
   "source": [
    "qstats['prior_question_had_explanation_false_count'].replace(np.nan,0, inplace=True)\n",
    "qstats.info()"
   ]
  },
  {
   "cell_type": "code",
   "execution_count": 36,
   "metadata": {
    "ExecuteTime": {
     "end_time": "2020-12-15T11:54:21.736433Z",
     "start_time": "2020-12-15T11:54:21.677027Z"
    },
    "collapsed": true
   },
   "outputs": [
    {
     "data": {
      "text/html": [
       "<div>\n",
       "<style scoped>\n",
       "    .dataframe tbody tr th:only-of-type {\n",
       "        vertical-align: middle;\n",
       "    }\n",
       "\n",
       "    .dataframe tbody tr th {\n",
       "        vertical-align: top;\n",
       "    }\n",
       "\n",
       "    .dataframe thead th {\n",
       "        text-align: right;\n",
       "    }\n",
       "</style>\n",
       "<table border=\"1\" class=\"dataframe\">\n",
       "  <thead>\n",
       "    <tr style=\"text-align: right;\">\n",
       "      <th></th>\n",
       "      <th>content_id</th>\n",
       "      <th>bundle_id</th>\n",
       "      <th>correct_answer</th>\n",
       "      <th>part</th>\n",
       "      <th>tags</th>\n",
       "      <th>qstats_count</th>\n",
       "      <th>qstats_answered_correctly</th>\n",
       "      <th>qstats_prior_question_had_explanation</th>\n",
       "      <th>prior_question_had_explanation_true_count</th>\n",
       "      <th>qstats_answered_correctly_knowing_having_had_explanation</th>\n",
       "      <th>prior_question_had_explanation_false_count</th>\n",
       "      <th>qstats_answered_correctly_knowing_having_not_had_explanation</th>\n",
       "    </tr>\n",
       "  </thead>\n",
       "  <tbody>\n",
       "    <tr>\n",
       "      <th>0</th>\n",
       "      <td>0</td>\n",
       "      <td>0</td>\n",
       "      <td>0</td>\n",
       "      <td>1</td>\n",
       "      <td>51 131 162 38</td>\n",
       "      <td>6903</td>\n",
       "      <td>0.907721</td>\n",
       "      <td>0.948138</td>\n",
       "      <td>6545.0</td>\n",
       "      <td>0.911994</td>\n",
       "      <td>358.0</td>\n",
       "      <td>0.829609</td>\n",
       "    </tr>\n",
       "    <tr>\n",
       "      <th>1</th>\n",
       "      <td>1</td>\n",
       "      <td>1</td>\n",
       "      <td>1</td>\n",
       "      <td>1</td>\n",
       "      <td>131 36 81</td>\n",
       "      <td>7398</td>\n",
       "      <td>0.890646</td>\n",
       "      <td>0.980400</td>\n",
       "      <td>7253.0</td>\n",
       "      <td>0.892183</td>\n",
       "      <td>145.0</td>\n",
       "      <td>0.813793</td>\n",
       "    </tr>\n",
       "    <tr>\n",
       "      <th>2</th>\n",
       "      <td>2</td>\n",
       "      <td>2</td>\n",
       "      <td>0</td>\n",
       "      <td>1</td>\n",
       "      <td>131 101 162 92</td>\n",
       "      <td>44905</td>\n",
       "      <td>0.554281</td>\n",
       "      <td>0.888253</td>\n",
       "      <td>39887.0</td>\n",
       "      <td>0.562213</td>\n",
       "      <td>5018.0</td>\n",
       "      <td>0.491232</td>\n",
       "    </tr>\n",
       "    <tr>\n",
       "      <th>3</th>\n",
       "      <td>3</td>\n",
       "      <td>3</td>\n",
       "      <td>0</td>\n",
       "      <td>1</td>\n",
       "      <td>131 149 162 29</td>\n",
       "      <td>22973</td>\n",
       "      <td>0.779437</td>\n",
       "      <td>0.958473</td>\n",
       "      <td>22019.0</td>\n",
       "      <td>0.783460</td>\n",
       "      <td>954.0</td>\n",
       "      <td>0.686583</td>\n",
       "    </tr>\n",
       "    <tr>\n",
       "      <th>4</th>\n",
       "      <td>4</td>\n",
       "      <td>4</td>\n",
       "      <td>3</td>\n",
       "      <td>1</td>\n",
       "      <td>131 5 162 38</td>\n",
       "      <td>31736</td>\n",
       "      <td>0.613215</td>\n",
       "      <td>0.530313</td>\n",
       "      <td>16830.0</td>\n",
       "      <td>0.654308</td>\n",
       "      <td>14906.0</td>\n",
       "      <td>0.566819</td>\n",
       "    </tr>\n",
       "    <tr>\n",
       "      <th>...</th>\n",
       "      <td>...</td>\n",
       "      <td>...</td>\n",
       "      <td>...</td>\n",
       "      <td>...</td>\n",
       "      <td>...</td>\n",
       "      <td>...</td>\n",
       "      <td>...</td>\n",
       "      <td>...</td>\n",
       "      <td>...</td>\n",
       "      <td>...</td>\n",
       "      <td>...</td>\n",
       "      <td>...</td>\n",
       "    </tr>\n",
       "    <tr>\n",
       "      <th>13518</th>\n",
       "      <td>13518</td>\n",
       "      <td>13518</td>\n",
       "      <td>3</td>\n",
       "      <td>5</td>\n",
       "      <td>14</td>\n",
       "      <td>868</td>\n",
       "      <td>0.786866</td>\n",
       "      <td>0.998848</td>\n",
       "      <td>867.0</td>\n",
       "      <td>0.786621</td>\n",
       "      <td>1.0</td>\n",
       "      <td>1.000000</td>\n",
       "    </tr>\n",
       "    <tr>\n",
       "      <th>13519</th>\n",
       "      <td>13519</td>\n",
       "      <td>13519</td>\n",
       "      <td>3</td>\n",
       "      <td>5</td>\n",
       "      <td>8</td>\n",
       "      <td>924</td>\n",
       "      <td>0.571429</td>\n",
       "      <td>0.994589</td>\n",
       "      <td>919.0</td>\n",
       "      <td>0.570185</td>\n",
       "      <td>5.0</td>\n",
       "      <td>0.800000</td>\n",
       "    </tr>\n",
       "    <tr>\n",
       "      <th>13520</th>\n",
       "      <td>13520</td>\n",
       "      <td>13520</td>\n",
       "      <td>2</td>\n",
       "      <td>5</td>\n",
       "      <td>73</td>\n",
       "      <td>861</td>\n",
       "      <td>0.672474</td>\n",
       "      <td>0.995354</td>\n",
       "      <td>857.0</td>\n",
       "      <td>0.670945</td>\n",
       "      <td>4.0</td>\n",
       "      <td>1.000000</td>\n",
       "    </tr>\n",
       "    <tr>\n",
       "      <th>13521</th>\n",
       "      <td>13521</td>\n",
       "      <td>13521</td>\n",
       "      <td>0</td>\n",
       "      <td>5</td>\n",
       "      <td>125</td>\n",
       "      <td>870</td>\n",
       "      <td>0.808046</td>\n",
       "      <td>0.996552</td>\n",
       "      <td>867.0</td>\n",
       "      <td>0.808535</td>\n",
       "      <td>3.0</td>\n",
       "      <td>0.666667</td>\n",
       "    </tr>\n",
       "    <tr>\n",
       "      <th>13522</th>\n",
       "      <td>13522</td>\n",
       "      <td>13522</td>\n",
       "      <td>3</td>\n",
       "      <td>5</td>\n",
       "      <td>55</td>\n",
       "      <td>860</td>\n",
       "      <td>0.913953</td>\n",
       "      <td>0.991860</td>\n",
       "      <td>853.0</td>\n",
       "      <td>0.913247</td>\n",
       "      <td>7.0</td>\n",
       "      <td>1.000000</td>\n",
       "    </tr>\n",
       "  </tbody>\n",
       "</table>\n",
       "<p>13523 rows × 12 columns</p>\n",
       "</div>"
      ],
      "text/plain": [
       "       content_id  bundle_id  correct_answer  part            tags  \\\n",
       "0               0          0               0     1   51 131 162 38   \n",
       "1               1          1               1     1       131 36 81   \n",
       "2               2          2               0     1  131 101 162 92   \n",
       "3               3          3               0     1  131 149 162 29   \n",
       "4               4          4               3     1    131 5 162 38   \n",
       "...           ...        ...             ...   ...             ...   \n",
       "13518       13518      13518               3     5              14   \n",
       "13519       13519      13519               3     5               8   \n",
       "13520       13520      13520               2     5              73   \n",
       "13521       13521      13521               0     5             125   \n",
       "13522       13522      13522               3     5              55   \n",
       "\n",
       "       qstats_count  qstats_answered_correctly  \\\n",
       "0              6903                   0.907721   \n",
       "1              7398                   0.890646   \n",
       "2             44905                   0.554281   \n",
       "3             22973                   0.779437   \n",
       "4             31736                   0.613215   \n",
       "...             ...                        ...   \n",
       "13518           868                   0.786866   \n",
       "13519           924                   0.571429   \n",
       "13520           861                   0.672474   \n",
       "13521           870                   0.808046   \n",
       "13522           860                   0.913953   \n",
       "\n",
       "       qstats_prior_question_had_explanation  \\\n",
       "0                                   0.948138   \n",
       "1                                   0.980400   \n",
       "2                                   0.888253   \n",
       "3                                   0.958473   \n",
       "4                                   0.530313   \n",
       "...                                      ...   \n",
       "13518                               0.998848   \n",
       "13519                               0.994589   \n",
       "13520                               0.995354   \n",
       "13521                               0.996552   \n",
       "13522                               0.991860   \n",
       "\n",
       "       prior_question_had_explanation_true_count  \\\n",
       "0                                         6545.0   \n",
       "1                                         7253.0   \n",
       "2                                        39887.0   \n",
       "3                                        22019.0   \n",
       "4                                        16830.0   \n",
       "...                                          ...   \n",
       "13518                                      867.0   \n",
       "13519                                      919.0   \n",
       "13520                                      857.0   \n",
       "13521                                      867.0   \n",
       "13522                                      853.0   \n",
       "\n",
       "       qstats_answered_correctly_knowing_having_had_explanation  \\\n",
       "0                                               0.911994          \n",
       "1                                               0.892183          \n",
       "2                                               0.562213          \n",
       "3                                               0.783460          \n",
       "4                                               0.654308          \n",
       "...                                                  ...          \n",
       "13518                                           0.786621          \n",
       "13519                                           0.570185          \n",
       "13520                                           0.670945          \n",
       "13521                                           0.808535          \n",
       "13522                                           0.913247          \n",
       "\n",
       "       prior_question_had_explanation_false_count  \\\n",
       "0                                           358.0   \n",
       "1                                           145.0   \n",
       "2                                          5018.0   \n",
       "3                                           954.0   \n",
       "4                                         14906.0   \n",
       "...                                           ...   \n",
       "13518                                         1.0   \n",
       "13519                                         5.0   \n",
       "13520                                         4.0   \n",
       "13521                                         3.0   \n",
       "13522                                         7.0   \n",
       "\n",
       "       qstats_answered_correctly_knowing_having_not_had_explanation  \n",
       "0                                               0.829609             \n",
       "1                                               0.813793             \n",
       "2                                               0.491232             \n",
       "3                                               0.686583             \n",
       "4                                               0.566819             \n",
       "...                                                  ...             \n",
       "13518                                           1.000000             \n",
       "13519                                           0.800000             \n",
       "13520                                           1.000000             \n",
       "13521                                           0.666667             \n",
       "13522                                           1.000000             \n",
       "\n",
       "[13523 rows x 12 columns]"
      ]
     },
     "execution_count": 36,
     "metadata": {},
     "output_type": "execute_result"
    }
   ],
   "source": [
    "qstats"
   ]
  },
  {
   "cell_type": "code",
   "execution_count": 39,
   "metadata": {
    "ExecuteTime": {
     "end_time": "2020-12-15T11:58:16.979629Z",
     "start_time": "2020-12-15T11:58:15.130094Z"
    }
   },
   "outputs": [],
   "source": [
    "for index, row in qstats.iterrows():\n",
    "    if np.isnan(row['qstats_answered_correctly_knowing_having_had_explanation']):\n",
    "        qstats.loc[index,'qstats_answered_correctly_knowing_having_had_explanation']=row['qstats_answered_correctly']\n",
    "    if np.isnan(row['qstats_answered_correctly_knowing_having_not_had_explanation']):\n",
    "        qstats.loc[index,'qstats_answered_correctly_knowing_having_not_had_explanation']=row['qstats_answered_correctly']    "
   ]
  },
  {
   "cell_type": "code",
   "execution_count": 40,
   "metadata": {
    "ExecuteTime": {
     "end_time": "2020-12-15T11:58:18.774889Z",
     "start_time": "2020-12-15T11:58:18.754821Z"
    }
   },
   "outputs": [
    {
     "name": "stdout",
     "output_type": "stream",
     "text": [
      "<class 'pandas.core.frame.DataFrame'>\n",
      "Int64Index: 13523 entries, 0 to 13522\n",
      "Data columns (total 12 columns):\n",
      " #   Column                                                        Non-Null Count  Dtype  \n",
      "---  ------                                                        --------------  -----  \n",
      " 0   content_id                                                    13523 non-null  int64  \n",
      " 1   bundle_id                                                     13523 non-null  int64  \n",
      " 2   correct_answer                                                13523 non-null  int64  \n",
      " 3   part                                                          13523 non-null  int64  \n",
      " 4   tags                                                          13522 non-null  object \n",
      " 5   qstats_count                                                  13523 non-null  int64  \n",
      " 6   qstats_answered_correctly                                     13523 non-null  float64\n",
      " 7   qstats_prior_question_had_explanation                         13523 non-null  float64\n",
      " 8   prior_question_had_explanation_true_count                     13523 non-null  float64\n",
      " 9   qstats_answered_correctly_knowing_having_had_explanation      13523 non-null  float64\n",
      " 10  prior_question_had_explanation_false_count                    13523 non-null  float64\n",
      " 11  qstats_answered_correctly_knowing_having_not_had_explanation  13523 non-null  float64\n",
      "dtypes: float64(6), int64(5), object(1)\n",
      "memory usage: 2.0+ MB\n"
     ]
    }
   ],
   "source": [
    "qstats.info()"
   ]
  },
  {
   "cell_type": "code",
   "execution_count": 41,
   "metadata": {
    "ExecuteTime": {
     "end_time": "2020-12-15T11:59:11.256518Z",
     "start_time": "2020-12-15T11:59:11.216805Z"
    }
   },
   "outputs": [
    {
     "name": "stdout",
     "output_type": "stream",
     "text": [
      "<class 'pandas.core.frame.DataFrame'>\n",
      "Int64Index: 13523 entries, 0 to 13522\n",
      "Data columns (total 10 columns):\n",
      " #   Column                                                        Non-Null Count  Dtype  \n",
      "---  ------                                                        --------------  -----  \n",
      " 0   content_id                                                    13523 non-null  int64  \n",
      " 1   bundle_id                                                     13523 non-null  int64  \n",
      " 2   correct_answer                                                13523 non-null  int64  \n",
      " 3   part                                                          13523 non-null  int64  \n",
      " 4   tags                                                          13522 non-null  object \n",
      " 5   qstats_count                                                  13523 non-null  int64  \n",
      " 6   qstats_answered_correctly                                     13523 non-null  float64\n",
      " 7   qstats_prior_question_had_explanation                         13523 non-null  float64\n",
      " 8   qstats_answered_correctly_knowing_having_had_explanation      13523 non-null  float64\n",
      " 9   qstats_answered_correctly_knowing_having_not_had_explanation  13523 non-null  float64\n",
      "dtypes: float64(4), int64(5), object(1)\n",
      "memory usage: 1.8+ MB\n"
     ]
    }
   ],
   "source": [
    "qstats.drop(columns=['prior_question_had_explanation_true_count', 'prior_question_had_explanation_false_count'], inplace=True)\n",
    "qstats.info()"
   ]
  },
  {
   "cell_type": "code",
   "execution_count": 42,
   "metadata": {
    "ExecuteTime": {
     "end_time": "2020-12-15T12:00:15.040464Z",
     "start_time": "2020-12-15T12:00:05.073122Z"
    }
   },
   "outputs": [],
   "source": [
    "qstats.to_csv('../data/qstats_for_M1')"
   ]
  },
  {
   "cell_type": "code",
   "execution_count": null,
   "metadata": {},
   "outputs": [],
   "source": []
  }
 ],
 "metadata": {
  "kernelspec": {
   "display_name": "Python 3",
   "language": "python",
   "name": "python3"
  },
  "language_info": {
   "codemirror_mode": {
    "name": "ipython",
    "version": 3
   },
   "file_extension": ".py",
   "mimetype": "text/x-python",
   "name": "python",
   "nbconvert_exporter": "python",
   "pygments_lexer": "ipython3",
   "version": "3.7.7"
  },
  "toc": {
   "base_numbering": 1,
   "nav_menu": {},
   "number_sections": true,
   "sideBar": true,
   "skip_h1_title": false,
   "title_cell": "Table of Contents",
   "title_sidebar": "Contents",
   "toc_cell": false,
   "toc_position": {},
   "toc_section_display": true,
   "toc_window_display": false
  }
 },
 "nbformat": 4,
 "nbformat_minor": 4
}
