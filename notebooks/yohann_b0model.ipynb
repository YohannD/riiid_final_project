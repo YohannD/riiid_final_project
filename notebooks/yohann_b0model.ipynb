{
 "cells": [
  {
   "cell_type": "code",
   "execution_count": 101,
   "metadata": {
    "ExecuteTime": {
     "end_time": "2020-12-09T10:02:43.109275Z",
     "start_time": "2020-12-09T10:02:43.103874Z"
    }
   },
   "outputs": [],
   "source": [
    "import pandas as pd\n",
    "import numpy as np"
   ]
  },
  {
   "cell_type": "code",
   "execution_count": 102,
   "metadata": {
    "ExecuteTime": {
     "end_time": "2020-12-09T10:02:45.439657Z",
     "start_time": "2020-12-09T10:02:43.711833Z"
    }
   },
   "outputs": [],
   "source": [
    "train = pd.read_csv('../raw_data/train_1M.csv')\n",
    "questions = pd.read_csv('../data/questions.csv')"
   ]
  },
  {
   "cell_type": "code",
   "execution_count": 103,
   "metadata": {
    "ExecuteTime": {
     "end_time": "2020-12-09T10:02:52.501321Z",
     "start_time": "2020-12-09T10:02:45.624123Z"
    }
   },
   "outputs": [],
   "source": [
    "# Only keep questions, rename content_id and merge with questions table.\n",
    "train = train.query('content_type_id==0')\n",
    "train = train.rename(columns={'content_id': 'question_id'})\n",
    "train = train.merge(questions, on='question_id', how='left')\n",
    "# Add features.\n",
    "train['user_activity_cumcount']=train.groupby('user_id').cumcount()\n",
    "train['question_avg_score'] = train.groupby('question_id')['answered_correctly'].mean()\n",
    "train['avgscore_cummean'] = train.groupby('user_id').answered_correctly.apply(lambda x: x.shift().expanding().mean())\n",
    "# Then remove all columns but 'question_avg_score', 'user_avgscore_cummean', 'answered_correctly' (target). Replace inf by 0\n",
    "b0_train = train[['question_avg_score', 'avgscore_cummean', 'answered_correctly']]\n",
    "b0_train.avgscore_cummean.replace(np.nan, 0, inplace=True)"
   ]
  },
  {
   "cell_type": "code",
   "execution_count": 106,
   "metadata": {
    "ExecuteTime": {
     "end_time": "2020-12-09T10:03:53.831435Z",
     "start_time": "2020-12-09T10:03:45.868154Z"
    }
   },
   "outputs": [],
   "source": [
    "b0_train.to_csv('b0_model.csv')"
   ]
  }
 ],
 "metadata": {
  "kernelspec": {
   "display_name": "Python 3",
   "language": "python",
   "name": "python3"
  },
  "language_info": {
   "codemirror_mode": {
    "name": "ipython",
    "version": 3
   },
   "file_extension": ".py",
   "mimetype": "text/x-python",
   "name": "python",
   "nbconvert_exporter": "python",
   "pygments_lexer": "ipython3",
   "version": "3.7.7"
  },
  "toc": {
   "base_numbering": 1,
   "nav_menu": {},
   "number_sections": true,
   "sideBar": true,
   "skip_h1_title": false,
   "title_cell": "Table of Contents",
   "title_sidebar": "Contents",
   "toc_cell": false,
   "toc_position": {},
   "toc_section_display": true,
   "toc_window_display": false
  },
  "varInspector": {
   "cols": {
    "lenName": 16,
    "lenType": 16,
    "lenVar": 40
   },
   "kernels_config": {
    "python": {
     "delete_cmd_postfix": "",
     "delete_cmd_prefix": "del ",
     "library": "var_list.py",
     "varRefreshCmd": "print(var_dic_list())"
    },
    "r": {
     "delete_cmd_postfix": ") ",
     "delete_cmd_prefix": "rm(",
     "library": "var_list.r",
     "varRefreshCmd": "cat(var_dic_list()) "
    }
   },
   "types_to_exclude": [
    "module",
    "function",
    "builtin_function_or_method",
    "instance",
    "_Feature"
   ],
   "window_display": false
  }
 },
 "nbformat": 4,
 "nbformat_minor": 4
}
