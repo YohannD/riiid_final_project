{
 "cells": [
  {
   "cell_type": "markdown",
   "metadata": {},
   "source": [
    "# Imports"
   ]
  },
  {
   "cell_type": "code",
   "execution_count": 2,
   "metadata": {
    "ExecuteTime": {
     "end_time": "2020-12-10T09:27:19.691112Z",
     "start_time": "2020-12-10T09:27:16.159236Z"
    }
   },
   "outputs": [],
   "source": [
    "from sklearn.model_selection import train_test_split\n",
    "from sklearn.model_selection import cross_val_score\n",
    "from sklearn.linear_model import LogisticRegression\n",
    "from sklearn.model_selection import cross_validate, cross_val_predict\n",
    "from sklearn. metrics import roc_auc_score, accuracy_score\n",
    "import pandas as pd\n",
    "import matplotlib.pyplot as plt\n",
    "\n",
    "from sklearn.model_selection import cross_val_predict\n",
    "from sklearn.metrics import precision_recall_curve\n",
    "from sklearn.metrics import roc_curve,roc_auc_score"
   ]
  },
  {
   "cell_type": "code",
   "execution_count": 5,
   "metadata": {
    "ExecuteTime": {
     "end_time": "2020-12-10T09:29:27.602298Z",
     "start_time": "2020-12-10T09:29:20.443253Z"
    }
   },
   "outputs": [],
   "source": [
    "train_1M=pd.read_csv('../data/train_1M_with_features_v1.csv')"
   ]
  },
  {
   "cell_type": "markdown",
   "metadata": {},
   "source": [
    "# B0 model"
   ]
  },
  {
   "cell_type": "code",
   "execution_count": 6,
   "metadata": {
    "ExecuteTime": {
     "end_time": "2020-12-10T09:29:35.525225Z",
     "start_time": "2020-12-10T09:29:34.116772Z"
    }
   },
   "outputs": [],
   "source": [
    "X=train_1M.query('content_type_id==0')[['qstats_answered_correctly','user_avg_score_cum']]\n",
    "y=train_1M.query('content_type_id==0')['answered_correctly']"
   ]
  },
  {
   "cell_type": "code",
   "execution_count": 10,
   "metadata": {
    "ExecuteTime": {
     "end_time": "2020-12-10T09:33:05.953544Z",
     "start_time": "2020-12-10T09:32:46.292523Z"
    }
   },
   "outputs": [
    {
     "name": "stderr",
     "output_type": "stream",
     "text": [
      "[Parallel(n_jobs=1)]: Using backend SequentialBackend with 1 concurrent workers.\n",
      "[Parallel(n_jobs=1)]: Done  10 out of  10 | elapsed:   18.9s finished\n"
     ]
    },
    {
     "data": {
      "text/plain": [
       "0.7467683126290192"
      ]
     },
     "execution_count": 10,
     "metadata": {},
     "output_type": "execute_result"
    }
   ],
   "source": [
    "log = LogisticRegression(solver='lbfgs', max_iter=1000)\n",
    "y_predic=cross_val_predict(log,X,y,method='predict_proba',cv=10,verbose=1,)\n",
    "y_predic_proba1=y_predic[:,1]  #on prend la 2e colonne, celle des probas de la classe 1\n",
    "roc_auc_score(y,y_predic_proba1)"
   ]
  },
  {
   "cell_type": "markdown",
   "metadata": {},
   "source": [
    "# B0 ++ avec qq features"
   ]
  },
  {
   "cell_type": "code",
   "execution_count": 11,
   "metadata": {
    "ExecuteTime": {
     "end_time": "2020-12-10T09:34:29.611954Z",
     "start_time": "2020-12-10T09:34:27.543653Z"
    }
   },
   "outputs": [
    {
     "data": {
      "text/plain": [
       "qstats_answered_correctly                                 0\n",
       "user_avg_score_cum                                        0\n",
       "already_seen                                              0\n",
       "user_personalized_qstat_knowing_had_explanation_or_not    0\n",
       "at_least_one_lesson                                       0\n",
       "dtype: int64"
      ]
     },
     "execution_count": 11,
     "metadata": {},
     "output_type": "execute_result"
    }
   ],
   "source": [
    "selected_features=['qstats_answered_correctly','user_avg_score_cum','already_seen','user_personalized_qstat_knowing_had_explanation_or_not','at_least_one_lesson']\n",
    "X=train_1M.query('content_type_id==0')[selected_features]\n",
    "y=train_1M.query('content_type_id==0')['answered_correctly']\n",
    "X.isna().sum()"
   ]
  },
  {
   "cell_type": "code",
   "execution_count": 12,
   "metadata": {
    "ExecuteTime": {
     "end_time": "2020-12-10T09:35:39.449591Z",
     "start_time": "2020-12-10T09:35:11.391533Z"
    }
   },
   "outputs": [
    {
     "data": {
      "text/plain": [
       "0.7575087237925182"
      ]
     },
     "execution_count": 12,
     "metadata": {},
     "output_type": "execute_result"
    }
   ],
   "source": [
    "log = LogisticRegression(solver='lbfgs', max_iter=1000)\n",
    "y_predic=cross_val_predict(log,X,y,method='predict_proba',cv=10)\n",
    "y_predic_proba1=y_predic[:,1]  #on prend la 2e colonne, celle des probas de la classe 1\n",
    "roc_auc_score(y,y_predic_proba1)"
   ]
  },
  {
   "cell_type": "code",
   "execution_count": null,
   "metadata": {},
   "outputs": [],
   "source": []
  }
 ],
 "metadata": {
  "kernelspec": {
   "display_name": "Python 3",
   "language": "python",
   "name": "python3"
  },
  "language_info": {
   "codemirror_mode": {
    "name": "ipython",
    "version": 3
   },
   "file_extension": ".py",
   "mimetype": "text/x-python",
   "name": "python",
   "nbconvert_exporter": "python",
   "pygments_lexer": "ipython3",
   "version": "3.7.7"
  },
  "toc": {
   "base_numbering": 1,
   "nav_menu": {},
   "number_sections": true,
   "sideBar": true,
   "skip_h1_title": false,
   "title_cell": "Table of Contents",
   "title_sidebar": "Contents",
   "toc_cell": false,
   "toc_position": {},
   "toc_section_display": true,
   "toc_window_display": false
  }
 },
 "nbformat": 4,
 "nbformat_minor": 4
}
