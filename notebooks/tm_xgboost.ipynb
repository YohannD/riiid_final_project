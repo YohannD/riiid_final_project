{
 "cells": [
  {
   "cell_type": "code",
   "execution_count": 2,
   "metadata": {
    "ExecuteTime": {
     "end_time": "2020-12-16T16:15:37.803690Z",
     "start_time": "2020-12-16T16:15:33.556719Z"
    },
    "id": "q-4GQ9opku0S"
   },
   "outputs": [],
   "source": [
    "import pandas as pd\n",
    "from sklearn.model_selection import cross_val_score, cross_val_predict, cross_validate, train_test_split\n",
    "from sklearn.linear_model import LogisticRegression\n",
    "from sklearn. metrics import roc_auc_score, accuracy_score\n",
    "import seaborn as sns\n",
    "import numpy as np"
   ]
  },
  {
   "cell_type": "code",
   "execution_count": 3,
   "metadata": {
    "ExecuteTime": {
     "end_time": "2020-12-16T16:15:51.909484Z",
     "start_time": "2020-12-16T16:15:38.417772Z"
    },
    "id": "l3eo6nKQkvvz"
   },
   "outputs": [],
   "source": [
    "df = pd.read_csv('../data/train_1M_with_features_merged_v3.csv')"
   ]
  },
  {
   "cell_type": "code",
   "execution_count": 4,
   "metadata": {
    "ExecuteTime": {
     "end_time": "2020-12-16T16:15:52.910474Z",
     "start_time": "2020-12-16T16:15:51.924874Z"
    },
    "collapsed": true
   },
   "outputs": [
    {
     "name": "stdout",
     "output_type": "stream",
     "text": [
      "<class 'pandas.core.frame.DataFrame'>\n",
      "RangeIndex: 987269 entries, 0 to 987268\n",
      "Data columns (total 61 columns):\n",
      " #   Column                                                           Non-Null Count   Dtype  \n",
      "---  ------                                                           --------------   -----  \n",
      " 0   Unnamed: 0                                                       987269 non-null  int64  \n",
      " 1   row_id                                                           987269 non-null  int64  \n",
      " 2   timestamp                                                        987269 non-null  int64  \n",
      " 3   user_id                                                          987269 non-null  int64  \n",
      " 4   content_id                                                       987269 non-null  int64  \n",
      " 5   content_type_id                                                  987269 non-null  int64  \n",
      " 6   task_container_id                                                987269 non-null  int64  \n",
      " 7   answered_correctly                                               987269 non-null  int64  \n",
      " 8   prior_question_elapsed_time                                      963913 non-null  float64\n",
      " 9   prior_question_had_explanation                                   987269 non-null  int64  \n",
      " 10  answer0                                                          987269 non-null  int64  \n",
      " 11  answer1                                                          987269 non-null  int64  \n",
      " 12  answer2                                                          987269 non-null  int64  \n",
      " 13  answer3                                                          987269 non-null  int64  \n",
      " 14  user_activity_cumcount                                           987269 non-null  int64  \n",
      " 15  already_seen                                                     987269 non-null  int64  \n",
      " 16  lectures_seen                                                    987269 non-null  int64  \n",
      " 17  at_least_one_lesson                                              987269 non-null  int64  \n",
      " 18  user_avg_score_cum                                               967834 non-null  float64\n",
      " 19  qstats_answered_correctly                                        967834 non-null  float64\n",
      " 20  qstats_count                                                     967834 non-null  float64\n",
      " 21  qstats_task_container_id                                         967834 non-null  float64\n",
      " 22  qstats_answers                                                   967834 non-null  float64\n",
      " 23  qstats_timestamp                                                 967834 non-null  float64\n",
      " 24  qstats_user_activity_cumcount                                    967834 non-null  float64\n",
      " 25  qstats_prior_question_had_explanation                            967834 non-null  float64\n",
      " 26  qstats_prior_question_elapsed_time                               967834 non-null  float64\n",
      " 27  qstats_answer0                                                   967834 non-null  float64\n",
      " 28  qstats_answer1                                                   967834 non-null  float64\n",
      " 29  qstats_answer2                                                   967834 non-null  float64\n",
      " 30  qstats_answer3                                                   967834 non-null  float64\n",
      " 31  qstats_answered_correctly_knowing_having_had_explanation         967505 non-null  float64\n",
      " 32  qstats_answered_correctly_knowing_having_not_had_explanation     839252 non-null  float64\n",
      " 33  qstats_task_container_id_knowing_answered_correctly              967598 non-null  float64\n",
      " 34  qstats_timestamp_knowing_answered_correctly                      967598 non-null  float64\n",
      " 35  qstats_user_activity_cumcount_knowing_answered_correctly         967598 non-null  float64\n",
      " 36  qstats_prior_question_elapsed_time_knowing_answered_correctly    967594 non-null  float64\n",
      " 37  qstats_task_container_id_knowing_answered_uncorrectly            961000 non-null  float64\n",
      " 38  qstats_timestamp_knowing_answered_uncorrectly                    961000 non-null  float64\n",
      " 39  qstats_user_activity_cumcount_knowing_answered_uncorrectly       961000 non-null  float64\n",
      " 40  qstats_prior_question_elapsed_time_knowing_answered_uncorrectly  960970 non-null  float64\n",
      " 41  user_personalized_qstat_knowing_had_explanation_or_not           987269 non-null  float64\n",
      " 42  tag_q_l                                                          987049 non-null  float64\n",
      " 43  part_q_l                                                         987269 non-null  int64  \n",
      " 44  section                                                          987269 non-null  int64  \n",
      " 45  cumcount_already_seen_tag_q_l                                    987269 non-null  int64  \n",
      " 46  already_seen_tag_lecture                                         987269 non-null  int64  \n",
      " 47  already_seen_part                                                987269 non-null  int64  \n",
      " 48  user_avg_score_cum_on_this_part                                  967834 non-null  float64\n",
      " 49  user_correct_answers_cum_on_this_part                            967834 non-null  float64\n",
      " 50  part1                                                            987269 non-null  int64  \n",
      " 51  part2                                                            987269 non-null  int64  \n",
      " 52  part3                                                            987269 non-null  int64  \n",
      " 53  part4                                                            987269 non-null  int64  \n",
      " 54  part5                                                            987269 non-null  int64  \n",
      " 55  part6                                                            987269 non-null  int64  \n",
      " 56  part7                                                            987269 non-null  int64  \n",
      " 57  already_seen_tag_q_l_cumcount_with_trim_at_3                     987269 non-null  int64  \n",
      " 58  same_user_and_similar_to_prior                                   967834 non-null  float64\n",
      " 59  similar_to_prior_and_had_answered_correctly                      967834 non-null  float64\n",
      " 60  similar_to_prior_and_have_had_explanation                        967834 non-null  float64\n",
      "dtypes: float64(31), int64(30)\n",
      "memory usage: 459.5 MB\n"
     ]
    }
   ],
   "source": [
    "df.info()"
   ]
  },
  {
   "cell_type": "code",
   "execution_count": 7,
   "metadata": {
    "ExecuteTime": {
     "end_time": "2020-12-16T16:19:05.141832Z",
     "start_time": "2020-12-16T16:19:05.126251Z"
    }
   },
   "outputs": [],
   "source": [
    "to_drop=['answered_correctly',\n",
    "         'Unnamed: 0',\n",
    "         'row_id',\n",
    "         'timestamp',\n",
    "         'user_id',\n",
    "         'content_id',\n",
    "         'content_type_id',\n",
    "         'prior_question_elapsed_time',\n",
    "         'answer0',\n",
    "         'answer1',\n",
    "         'answer2',\n",
    "         'answer3',\n",
    "         ]"
   ]
  },
  {
   "cell_type": "code",
   "execution_count": 8,
   "metadata": {
    "ExecuteTime": {
     "end_time": "2020-12-16T16:19:17.504511Z",
     "start_time": "2020-12-16T16:19:12.774166Z"
    },
    "colab": {
     "base_uri": "https://localhost:8080/",
     "height": 241
    },
    "id": "6XoGOaRayDi_",
    "outputId": "f9b8e6bd-7ab7-4b7b-9b2a-9456b10128a5"
   },
   "outputs": [],
   "source": [
    "train=df.query('content_type_id==0').drop(columns=to_drop).replace(np.inf,0)\n",
    "X_tot=train\n",
    "y=df.query('content_type_id==0')['answered_correctly']"
   ]
  },
  {
   "cell_type": "code",
   "execution_count": 9,
   "metadata": {
    "ExecuteTime": {
     "end_time": "2020-12-16T16:19:39.255486Z",
     "start_time": "2020-12-16T16:19:25.575777Z"
    },
    "collapsed": true,
    "id": "ueH-jvMwyiW-"
   },
   "outputs": [
    {
     "data": {
      "text/plain": [
       "answered_correctly                                              1.000000\n",
       "user_personalized_qstat_knowing_had_explanation_or_not          0.393328\n",
       "qstats_answered_correctly                                       0.380770\n",
       "qstats_answered_correctly_knowing_having_had_explanation        0.373850\n",
       "qstats_answered_correctly_knowing_having_not_had_explanation    0.211393\n",
       "                                                                  ...   \n",
       "part5                                                          -0.080024\n",
       "qstats_count                                                   -0.140667\n",
       "content_type_id                                                      NaN\n",
       "qstats_timestamp                                                     NaN\n",
       "qstats_timestamp_knowing_answered_correctly                          NaN\n",
       "Name: answered_correctly, Length: 61, dtype: float64"
      ]
     },
     "execution_count": 9,
     "metadata": {},
     "output_type": "execute_result"
    }
   ],
   "source": [
    "from sklearn.preprocessing import RobustScaler\n",
    "corr = df.query('content_type_id==0').corr().answered_correctly\n",
    "corr.sort_values(ascending=False)"
   ]
  },
  {
   "cell_type": "markdown",
   "metadata": {},
   "source": [
    "# Essai xgboost 14 features"
   ]
  },
  {
   "cell_type": "code",
   "execution_count": 10,
   "metadata": {
    "ExecuteTime": {
     "end_time": "2020-12-16T16:23:17.560300Z",
     "start_time": "2020-12-16T16:23:17.536073Z"
    },
    "id": "3--os6agzefy"
   },
   "outputs": [],
   "source": [
    "#corr[corr > 0.04].sort_values(ascending=False).index.to_list()\n",
    "features = ['user_personalized_qstat_knowing_had_explanation_or_not',\n",
    "            'user_avg_score_cum_on_this_part',\n",
    "            'user_correct_answers_cum_on_this_part',\n",
    " 'qstats_answered_correctly',\n",
    " 'user_avg_score_cum',\n",
    " 'qstats_prior_question_had_explanation',\n",
    " 'already_seen',\n",
    " #'already_seen_tag_lecture',\n",
    " 'user_activity_cumcount',\n",
    " #'qstats_user_activity_cumcount',\n",
    " 'at_least_one_lesson',\n",
    " #'qstats_user_activity_cumcount_knowing_answered_correctly',\n",
    " #'qstats_task_container_id_knowing_answered_correctly',\n",
    " #'lectures_seen',\n",
    " #'qstats_count',\n",
    " #'qstats_answers',\n",
    " 'content_type_id',\n",
    "  'same_user_and_similar_to_prior',\n",
    "            'similar_to_prior_and_had_answered_correctly',\n",
    "            'similar_to_prior_and_have_had_explanation']"
   ]
  },
  {
   "cell_type": "code",
   "execution_count": 14,
   "metadata": {
    "ExecuteTime": {
     "end_time": "2020-12-16T16:24:50.066749Z",
     "start_time": "2020-12-16T16:24:48.242835Z"
    },
    "collapsed": true
   },
   "outputs": [
    {
     "name": "stdout",
     "output_type": "stream",
     "text": [
      "<class 'pandas.core.frame.DataFrame'>\n",
      "Int64Index: 967834 entries, 0 to 987268\n",
      "Data columns (total 13 columns):\n",
      " #   Column                                                  Non-Null Count   Dtype  \n",
      "---  ------                                                  --------------   -----  \n",
      " 0   user_personalized_qstat_knowing_had_explanation_or_not  967834 non-null  float64\n",
      " 1   user_avg_score_cum_on_this_part                         967834 non-null  float64\n",
      " 2   user_correct_answers_cum_on_this_part                   967834 non-null  float64\n",
      " 3   qstats_answered_correctly                               967834 non-null  float64\n",
      " 4   user_avg_score_cum                                      967834 non-null  float64\n",
      " 5   qstats_prior_question_had_explanation                   967834 non-null  float64\n",
      " 6   already_seen                                            967834 non-null  int64  \n",
      " 7   user_activity_cumcount                                  967834 non-null  int64  \n",
      " 8   at_least_one_lesson                                     967834 non-null  int64  \n",
      " 9   content_type_id                                         967834 non-null  int64  \n",
      " 10  same_user_and_similar_to_prior                          967834 non-null  float64\n",
      " 11  similar_to_prior_and_had_answered_correctly             967834 non-null  float64\n",
      " 12  similar_to_prior_and_have_had_explanation               967834 non-null  float64\n",
      "dtypes: float64(9), int64(4)\n",
      "memory usage: 103.4 MB\n",
      "None\n"
     ]
    }
   ],
   "source": [
    "feats=df.loc[df.content_type_id==0,features]\n",
    "print(feats.info())\n",
    "feats = feats.replace(np.inf, 0.5)\n",
    "feats.replace(np.nan, 0, inplace=True)"
   ]
  },
  {
   "cell_type": "code",
   "execution_count": 13,
   "metadata": {
    "ExecuteTime": {
     "end_time": "2020-12-16T11:54:21.952329Z",
     "start_time": "2020-12-16T11:54:21.491742Z"
    },
    "collapsed": true
   },
   "outputs": [
    {
     "data": {
      "text/html": [
       "<div>\n",
       "<style scoped>\n",
       "    .dataframe tbody tr th:only-of-type {\n",
       "        vertical-align: middle;\n",
       "    }\n",
       "\n",
       "    .dataframe tbody tr th {\n",
       "        vertical-align: top;\n",
       "    }\n",
       "\n",
       "    .dataframe thead th {\n",
       "        text-align: right;\n",
       "    }\n",
       "</style>\n",
       "<table border=\"1\" class=\"dataframe\">\n",
       "  <thead>\n",
       "    <tr style=\"text-align: right;\">\n",
       "      <th></th>\n",
       "      <th>user_personalized_qstat_knowing_had_explanation_or_not</th>\n",
       "      <th>user_avg_score_cum_on_this_part</th>\n",
       "      <th>user_correct_answers_cum_on_this_part</th>\n",
       "      <th>qstats_answered_correctly</th>\n",
       "      <th>user_avg_score_cum</th>\n",
       "      <th>qstats_prior_question_had_explanation</th>\n",
       "      <th>already_seen</th>\n",
       "      <th>user_activity_cumcount</th>\n",
       "      <th>at_least_one_lesson</th>\n",
       "      <th>content_type_id</th>\n",
       "      <th>same_user_and_similar_to_prior</th>\n",
       "      <th>similar_to_prior_and_had_answered_correctly</th>\n",
       "      <th>similar_to_prior_and_have_had_explanation</th>\n",
       "    </tr>\n",
       "  </thead>\n",
       "  <tbody>\n",
       "    <tr>\n",
       "      <th>0</th>\n",
       "      <td>0.8364</td>\n",
       "      <td>0.0</td>\n",
       "      <td>0.0</td>\n",
       "      <td>0.8370</td>\n",
       "      <td>0.000000</td>\n",
       "      <td>0.07404</td>\n",
       "      <td>0</td>\n",
       "      <td>0</td>\n",
       "      <td>0</td>\n",
       "      <td>0</td>\n",
       "      <td>0.0</td>\n",
       "      <td>-0.0</td>\n",
       "      <td>0.0</td>\n",
       "    </tr>\n",
       "    <tr>\n",
       "      <th>1</th>\n",
       "      <td>0.3770</td>\n",
       "      <td>1.0</td>\n",
       "      <td>1.0</td>\n",
       "      <td>0.3972</td>\n",
       "      <td>1.000000</td>\n",
       "      <td>0.11970</td>\n",
       "      <td>0</td>\n",
       "      <td>1</td>\n",
       "      <td>0</td>\n",
       "      <td>0</td>\n",
       "      <td>0.5</td>\n",
       "      <td>0.5</td>\n",
       "      <td>0.0</td>\n",
       "    </tr>\n",
       "    <tr>\n",
       "      <th>2</th>\n",
       "      <td>0.3513</td>\n",
       "      <td>0.5</td>\n",
       "      <td>1.0</td>\n",
       "      <td>0.3640</td>\n",
       "      <td>0.500000</td>\n",
       "      <td>0.14160</td>\n",
       "      <td>0</td>\n",
       "      <td>2</td>\n",
       "      <td>0</td>\n",
       "      <td>0</td>\n",
       "      <td>0.5</td>\n",
       "      <td>0.0</td>\n",
       "      <td>0.0</td>\n",
       "    </tr>\n",
       "    <tr>\n",
       "      <th>3</th>\n",
       "      <td>0.6450</td>\n",
       "      <td>0.0</td>\n",
       "      <td>0.0</td>\n",
       "      <td>0.6514</td>\n",
       "      <td>0.333333</td>\n",
       "      <td>0.05120</td>\n",
       "      <td>0</td>\n",
       "      <td>3</td>\n",
       "      <td>0</td>\n",
       "      <td>0</td>\n",
       "      <td>0.0</td>\n",
       "      <td>0.0</td>\n",
       "      <td>0.0</td>\n",
       "    </tr>\n",
       "    <tr>\n",
       "      <th>4</th>\n",
       "      <td>0.1642</td>\n",
       "      <td>0.0</td>\n",
       "      <td>0.0</td>\n",
       "      <td>0.1749</td>\n",
       "      <td>0.250000</td>\n",
       "      <td>0.09250</td>\n",
       "      <td>0</td>\n",
       "      <td>4</td>\n",
       "      <td>0</td>\n",
       "      <td>0</td>\n",
       "      <td>0.0</td>\n",
       "      <td>0.0</td>\n",
       "      <td>0.0</td>\n",
       "    </tr>\n",
       "    <tr>\n",
       "      <th>...</th>\n",
       "      <td>...</td>\n",
       "      <td>...</td>\n",
       "      <td>...</td>\n",
       "      <td>...</td>\n",
       "      <td>...</td>\n",
       "      <td>...</td>\n",
       "      <td>...</td>\n",
       "      <td>...</td>\n",
       "      <td>...</td>\n",
       "      <td>...</td>\n",
       "      <td>...</td>\n",
       "      <td>...</td>\n",
       "      <td>...</td>\n",
       "    </tr>\n",
       "    <tr>\n",
       "      <th>987264</th>\n",
       "      <td>0.5930</td>\n",
       "      <td>1.0</td>\n",
       "      <td>3.0</td>\n",
       "      <td>0.5967</td>\n",
       "      <td>0.600000</td>\n",
       "      <td>0.23200</td>\n",
       "      <td>0</td>\n",
       "      <td>25</td>\n",
       "      <td>0</td>\n",
       "      <td>0</td>\n",
       "      <td>0.5</td>\n",
       "      <td>0.5</td>\n",
       "      <td>0.0</td>\n",
       "    </tr>\n",
       "    <tr>\n",
       "      <th>987265</th>\n",
       "      <td>0.4854</td>\n",
       "      <td>0.0</td>\n",
       "      <td>0.0</td>\n",
       "      <td>0.5063</td>\n",
       "      <td>0.615385</td>\n",
       "      <td>0.07830</td>\n",
       "      <td>0</td>\n",
       "      <td>26</td>\n",
       "      <td>0</td>\n",
       "      <td>0</td>\n",
       "      <td>0.0</td>\n",
       "      <td>0.0</td>\n",
       "      <td>0.0</td>\n",
       "    </tr>\n",
       "    <tr>\n",
       "      <th>987266</th>\n",
       "      <td>0.4270</td>\n",
       "      <td>1.0</td>\n",
       "      <td>1.0</td>\n",
       "      <td>0.4424</td>\n",
       "      <td>0.629630</td>\n",
       "      <td>0.07830</td>\n",
       "      <td>0</td>\n",
       "      <td>27</td>\n",
       "      <td>0</td>\n",
       "      <td>0</td>\n",
       "      <td>0.5</td>\n",
       "      <td>0.5</td>\n",
       "      <td>0.0</td>\n",
       "    </tr>\n",
       "    <tr>\n",
       "      <th>987267</th>\n",
       "      <td>0.2842</td>\n",
       "      <td>1.0</td>\n",
       "      <td>2.0</td>\n",
       "      <td>0.2932</td>\n",
       "      <td>0.642857</td>\n",
       "      <td>0.07830</td>\n",
       "      <td>0</td>\n",
       "      <td>28</td>\n",
       "      <td>0</td>\n",
       "      <td>0</td>\n",
       "      <td>0.5</td>\n",
       "      <td>0.5</td>\n",
       "      <td>0.0</td>\n",
       "    </tr>\n",
       "    <tr>\n",
       "      <th>987268</th>\n",
       "      <td>0.5923</td>\n",
       "      <td>1.0</td>\n",
       "      <td>3.0</td>\n",
       "      <td>0.6104</td>\n",
       "      <td>0.655172</td>\n",
       "      <td>0.07830</td>\n",
       "      <td>0</td>\n",
       "      <td>29</td>\n",
       "      <td>0</td>\n",
       "      <td>0</td>\n",
       "      <td>0.5</td>\n",
       "      <td>0.5</td>\n",
       "      <td>0.0</td>\n",
       "    </tr>\n",
       "  </tbody>\n",
       "</table>\n",
       "<p>967834 rows × 13 columns</p>\n",
       "</div>"
      ],
      "text/plain": [
       "        user_personalized_qstat_knowing_had_explanation_or_not  \\\n",
       "0                                                  0.8364        \n",
       "1                                                  0.3770        \n",
       "2                                                  0.3513        \n",
       "3                                                  0.6450        \n",
       "4                                                  0.1642        \n",
       "...                                                   ...        \n",
       "987264                                             0.5930        \n",
       "987265                                             0.4854        \n",
       "987266                                             0.4270        \n",
       "987267                                             0.2842        \n",
       "987268                                             0.5923        \n",
       "\n",
       "        user_avg_score_cum_on_this_part  \\\n",
       "0                                   0.0   \n",
       "1                                   1.0   \n",
       "2                                   0.5   \n",
       "3                                   0.0   \n",
       "4                                   0.0   \n",
       "...                                 ...   \n",
       "987264                              1.0   \n",
       "987265                              0.0   \n",
       "987266                              1.0   \n",
       "987267                              1.0   \n",
       "987268                              1.0   \n",
       "\n",
       "        user_correct_answers_cum_on_this_part  qstats_answered_correctly  \\\n",
       "0                                         0.0                     0.8370   \n",
       "1                                         1.0                     0.3972   \n",
       "2                                         1.0                     0.3640   \n",
       "3                                         0.0                     0.6514   \n",
       "4                                         0.0                     0.1749   \n",
       "...                                       ...                        ...   \n",
       "987264                                    3.0                     0.5967   \n",
       "987265                                    0.0                     0.5063   \n",
       "987266                                    1.0                     0.4424   \n",
       "987267                                    2.0                     0.2932   \n",
       "987268                                    3.0                     0.6104   \n",
       "\n",
       "        user_avg_score_cum  qstats_prior_question_had_explanation  \\\n",
       "0                 0.000000                                0.07404   \n",
       "1                 1.000000                                0.11970   \n",
       "2                 0.500000                                0.14160   \n",
       "3                 0.333333                                0.05120   \n",
       "4                 0.250000                                0.09250   \n",
       "...                    ...                                    ...   \n",
       "987264            0.600000                                0.23200   \n",
       "987265            0.615385                                0.07830   \n",
       "987266            0.629630                                0.07830   \n",
       "987267            0.642857                                0.07830   \n",
       "987268            0.655172                                0.07830   \n",
       "\n",
       "        already_seen  user_activity_cumcount  at_least_one_lesson  \\\n",
       "0                  0                       0                    0   \n",
       "1                  0                       1                    0   \n",
       "2                  0                       2                    0   \n",
       "3                  0                       3                    0   \n",
       "4                  0                       4                    0   \n",
       "...              ...                     ...                  ...   \n",
       "987264             0                      25                    0   \n",
       "987265             0                      26                    0   \n",
       "987266             0                      27                    0   \n",
       "987267             0                      28                    0   \n",
       "987268             0                      29                    0   \n",
       "\n",
       "        content_type_id  same_user_and_similar_to_prior  \\\n",
       "0                     0                             0.0   \n",
       "1                     0                             0.5   \n",
       "2                     0                             0.5   \n",
       "3                     0                             0.0   \n",
       "4                     0                             0.0   \n",
       "...                 ...                             ...   \n",
       "987264                0                             0.5   \n",
       "987265                0                             0.0   \n",
       "987266                0                             0.5   \n",
       "987267                0                             0.5   \n",
       "987268                0                             0.5   \n",
       "\n",
       "        similar_to_prior_and_had_answered_correctly  \\\n",
       "0                                              -0.0   \n",
       "1                                               0.5   \n",
       "2                                               0.0   \n",
       "3                                               0.0   \n",
       "4                                               0.0   \n",
       "...                                             ...   \n",
       "987264                                          0.5   \n",
       "987265                                          0.0   \n",
       "987266                                          0.5   \n",
       "987267                                          0.5   \n",
       "987268                                          0.5   \n",
       "\n",
       "        similar_to_prior_and_have_had_explanation  \n",
       "0                                             0.0  \n",
       "1                                             0.0  \n",
       "2                                             0.0  \n",
       "3                                             0.0  \n",
       "4                                             0.0  \n",
       "...                                           ...  \n",
       "987264                                        0.0  \n",
       "987265                                        0.0  \n",
       "987266                                        0.0  \n",
       "987267                                        0.0  \n",
       "987268                                        0.0  \n",
       "\n",
       "[967834 rows x 13 columns]"
      ]
     },
     "execution_count": 13,
     "metadata": {},
     "output_type": "execute_result"
    }
   ],
   "source": [
    "feats.query('content_type_id==0')"
   ]
  },
  {
   "cell_type": "markdown",
   "metadata": {
    "id": "nnwDW3y-nRIU"
   },
   "source": [
    "Best so far - XGBoost\n"
   ]
  },
  {
   "cell_type": "code",
   "execution_count": 12,
   "metadata": {
    "ExecuteTime": {
     "end_time": "2020-12-16T11:21:14.745196Z",
     "start_time": "2020-12-16T11:19:57.074118Z"
    },
    "colab": {
     "base_uri": "https://localhost:8080/"
    },
    "id": "QLcO2mlmNuSj",
    "outputId": "cb8d7cf5-0b06-458b-c721-db07465d9c76"
   },
   "outputs": [
    {
     "name": "stderr",
     "output_type": "stream",
     "text": [
      "[Parallel(n_jobs=1)]: Using backend SequentialBackend with 1 concurrent workers.\n",
      "[Parallel(n_jobs=1)]: Done   5 out of   5 | elapsed:  1.2min finished\n"
     ]
    },
    {
     "name": "stdout",
     "output_type": "stream",
     "text": [
      "roc-auc: 0.7698138199898431\n"
     ]
    }
   ],
   "source": [
    "from sklearn.experimental import enable_hist_gradient_boosting\n",
    "from sklearn.ensemble import HistGradientBoostingClassifier\n",
    "from sklearn.preprocessing import MinMaxScaler\n",
    "from sklearn.pipeline import make_pipeline\n",
    "\n",
    "X = feats.query('content_type_id==0').drop(columns={'content_type_id'})\n",
    "y = df.query('content_type_id==0')['answered_correctly']\n",
    "\n",
    "X_train, X_test, y_train, y_test = train_test_split(X, y, test_size=0.3,random_state = 2)\n",
    "\n",
    "scaler = MinMaxScaler()\n",
    "xgboost = HistGradientBoostingClassifier()\n",
    "xgboost_pipe = make_pipeline(scaler,xgboost)\n",
    "\n",
    "\n",
    "y_pred = cross_val_predict(xgboost_pipe, X, y, cv=5, method='predict_proba', verbose=1)\n",
    "print('roc-auc:', roc_auc_score(y, y_pred[:,1]))"
   ]
  },
  {
   "cell_type": "code",
   "execution_count": 43,
   "metadata": {
    "ExecuteTime": {
     "end_time": "2020-12-14T11:07:59.980284Z",
     "start_time": "2020-12-14T11:07:59.955831Z"
    },
    "colab": {
     "base_uri": "https://localhost:8080/"
    },
    "collapsed": true,
    "id": "_5UER388PAMh",
    "outputId": "9166d9a2-0db2-4b7e-ee6b-d338039e18f4"
   },
   "outputs": [
    {
     "ename": "TypeError",
     "evalue": "'Pipeline' object is not subscriptable",
     "output_type": "error",
     "traceback": [
      "\u001b[0;31m---------------------------------------------------------------------------\u001b[0m",
      "\u001b[0;31mTypeError\u001b[0m                                 Traceback (most recent call last)",
      "\u001b[0;32m<ipython-input-43-e36f5c4d6236>\u001b[0m in \u001b[0;36m<module>\u001b[0;34m\u001b[0m\n\u001b[0;32m----> 1\u001b[0;31m \u001b[0mxgboost_pipe\u001b[0m\u001b[0;34m[\u001b[0m\u001b[0;34m-\u001b[0m\u001b[0;36m1\u001b[0m\u001b[0;34m]\u001b[0m\u001b[0;34m\u001b[0m\u001b[0;34m\u001b[0m\u001b[0m\n\u001b[0m",
      "\u001b[0;31mTypeError\u001b[0m: 'Pipeline' object is not subscriptable"
     ]
    }
   ],
   "source": [
    "xgboost_pipe"
   ]
  },
  {
   "cell_type": "code",
   "execution_count": null,
   "metadata": {
    "colab": {
     "base_uri": "https://localhost:8080/"
    },
    "id": "aCAjwhIJQUmY",
    "outputId": "0e8d56f9-2e36-4481-99ce-75afcdc44966"
   },
   "outputs": [
    {
     "data": {
      "text/plain": [
       "Index(['user_personalized_qstat_knowing_had_explanation_or_not',\n",
       "       'qstats_answered_correctly', 'user_avg_score_cum',\n",
       "       'qstats_prior_question_had_explanation', 'already_seen',\n",
       "       'already_seen_tag_lecture', 'user_activity_cumcount',\n",
       "       'qstats_user_activity_cumcount', 'at_least_one_lesson',\n",
       "       'qstats_user_activity_cumcount_knowing_answered_correctly',\n",
       "       'qstats_task_container_id_knowing_answered_correctly', 'lectures_seen',\n",
       "       'qstats_count', 'qstats_answers', 'content_type_id'],\n",
       "      dtype='object')"
      ]
     },
     "execution_count": 159,
     "metadata": {
      "tags": []
     },
     "output_type": "execute_result"
    }
   ],
   "source": [
    "features.columns"
   ]
  },
  {
   "cell_type": "markdown",
   "metadata": {},
   "source": [
    "# En enlevant la cross val"
   ]
  },
  {
   "cell_type": "code",
   "execution_count": 15,
   "metadata": {
    "ExecuteTime": {
     "end_time": "2020-12-16T16:25:31.647804Z",
     "start_time": "2020-12-16T16:25:08.159226Z"
    }
   },
   "outputs": [
    {
     "name": "stdout",
     "output_type": "stream",
     "text": [
      "roc-auc: 0.7722514290349689\n"
     ]
    }
   ],
   "source": [
    "from sklearn.experimental import enable_hist_gradient_boosting\n",
    "from sklearn.ensemble import HistGradientBoostingClassifier\n",
    "from sklearn.preprocessing import MinMaxScaler\n",
    "from sklearn.pipeline import make_pipeline\n",
    "\n",
    "X = feats.query('content_type_id==0').drop(columns={'content_type_id'})\n",
    "y = df.query('content_type_id==0')['answered_correctly']\n",
    "\n",
    "X_train, X_test, y_train, y_test = train_test_split(X, y, test_size=0.3,random_state = 1)\n",
    "\n",
    "scaler = MinMaxScaler()\n",
    "xgboost = HistGradientBoostingClassifier()\n",
    "xgboost_pipe = make_pipeline(scaler,xgboost)\n",
    "\n",
    "xgboost_pipe.fit (X_train, y_train)\n",
    "\n",
    "y_pred = xgboost_pipe.predict_proba(X_test)\n",
    "print('roc-auc:', roc_auc_score(y_test, y_pred[:,1]))"
   ]
  },
  {
   "cell_type": "code",
   "execution_count": 17,
   "metadata": {
    "ExecuteTime": {
     "end_time": "2020-12-16T16:32:09.160366Z",
     "start_time": "2020-12-16T16:32:07.667682Z"
    }
   },
   "outputs": [
    {
     "name": "stdout",
     "output_type": "stream",
     "text": [
      "accuracy: 0.7299957637480153\n"
     ]
    }
   ],
   "source": [
    "y_red_bin = xgboost_pipe.predict(X_test)\n",
    "print('accuracy:', accuracy_score(y_test, y_red_bin))"
   ]
  },
  {
   "cell_type": "code",
   "execution_count": 25,
   "metadata": {
    "ExecuteTime": {
     "end_time": "2020-12-16T17:16:02.078659Z",
     "start_time": "2020-12-16T17:16:02.070871Z"
    }
   },
   "outputs": [
    {
     "data": {
      "text/plain": [
       "array([[0.5128708 , 0.4871292 ],\n",
       "       [0.23027739, 0.76972261],\n",
       "       [0.52994319, 0.47005681],\n",
       "       ...,\n",
       "       [0.0511856 , 0.9488144 ],\n",
       "       [0.53711004, 0.46288996],\n",
       "       [0.77120537, 0.22879463]])"
      ]
     },
     "execution_count": 25,
     "metadata": {},
     "output_type": "execute_result"
    }
   ],
   "source": [
    "y_pred"
   ]
  },
  {
   "cell_type": "code",
   "execution_count": 24,
   "metadata": {
    "ExecuteTime": {
     "end_time": "2020-12-16T17:15:54.050499Z",
     "start_time": "2020-12-16T17:15:54.042184Z"
    }
   },
   "outputs": [
    {
     "data": {
      "text/plain": [
       "array([0.4871292 , 0.76972261, 0.47005681, ..., 0.9488144 , 0.46288996,\n",
       "       0.22879463])"
      ]
     },
     "execution_count": 24,
     "metadata": {},
     "output_type": "execute_result"
    }
   ],
   "source": [
    "y_pred[:,1]"
   ]
  },
  {
   "cell_type": "code",
   "execution_count": 33,
   "metadata": {
    "ExecuteTime": {
     "end_time": "2020-12-16T17:21:54.088768Z",
     "start_time": "2020-12-16T17:21:54.045745Z"
    }
   },
   "outputs": [
    {
     "data": {
      "text/plain": [
       "0.6722690812154943"
      ]
     },
     "execution_count": 33,
     "metadata": {},
     "output_type": "execute_result"
    }
   ],
   "source": [
    "accuracy_score(y_test, y_pred[:,1]>0.7)"
   ]
  },
  {
   "cell_type": "code",
   "execution_count": 41,
   "metadata": {
    "ExecuteTime": {
     "end_time": "2020-12-16T17:25:49.813956Z",
     "start_time": "2020-12-16T17:25:49.648409Z"
    }
   },
   "outputs": [],
   "source": [
    "import matplotlib.pyplot as plt\n",
    "from sklearn.metrics import precision_recall_curve\n",
    "precision, recall, thresholds = precision_recall_curve(y_test, y_pred[:,1])\n",
    "\n",
    "df_threshold=pd.DataFrame({'recall':recall[:-1], 'precision':precision[:-1]},index=thresholds)\n",
    "df_threshold=df_threshold.sample(n=1000)"
   ]
  },
  {
   "cell_type": "code",
   "execution_count": 42,
   "metadata": {
    "ExecuteTime": {
     "end_time": "2020-12-16T17:25:50.083533Z",
     "start_time": "2020-12-16T17:25:50.076426Z"
    }
   },
   "outputs": [],
   "source": [
    "thresholds=df_threshold.index.to_list()"
   ]
  },
  {
   "cell_type": "code",
   "execution_count": 43,
   "metadata": {
    "ExecuteTime": {
     "end_time": "2020-12-16T17:26:17.406382Z",
     "start_time": "2020-12-16T17:25:51.414833Z"
    }
   },
   "outputs": [],
   "source": [
    "accuracies=[]\n",
    "for thres in thresholds:\n",
    "    accuracies.append(accuracy_score(y_test, y_pred[:,1]>thres))"
   ]
  },
  {
   "cell_type": "code",
   "execution_count": 45,
   "metadata": {
    "ExecuteTime": {
     "end_time": "2020-12-16T17:27:04.754122Z",
     "start_time": "2020-12-16T17:27:04.729926Z"
    }
   },
   "outputs": [],
   "source": [
    "df_threshold['accuracy']=accuracies"
   ]
  },
  {
   "cell_type": "code",
   "execution_count": 50,
   "metadata": {
    "ExecuteTime": {
     "end_time": "2020-12-16T17:29:22.337234Z",
     "start_time": "2020-12-16T17:29:22.331494Z"
    }
   },
   "outputs": [],
   "source": [
    "df_threshold=df_threshold.sort_index(axis=0)"
   ]
  },
  {
   "cell_type": "code",
   "execution_count": 51,
   "metadata": {
    "ExecuteTime": {
     "end_time": "2020-12-16T17:29:28.282751Z",
     "start_time": "2020-12-16T17:29:27.835460Z"
    }
   },
   "outputs": [
    {
     "data": {
      "text/html": [
       "<div>\n",
       "<style scoped>\n",
       "    .dataframe tbody tr th:only-of-type {\n",
       "        vertical-align: middle;\n",
       "    }\n",
       "\n",
       "    .dataframe tbody tr th {\n",
       "        vertical-align: top;\n",
       "    }\n",
       "\n",
       "    .dataframe thead th {\n",
       "        text-align: right;\n",
       "    }\n",
       "</style>\n",
       "<table border=\"1\" class=\"dataframe\">\n",
       "  <thead>\n",
       "    <tr style=\"text-align: right;\">\n",
       "      <th></th>\n",
       "      <th>recall</th>\n",
       "      <th>precision</th>\n",
       "      <th>accuracy</th>\n",
       "    </tr>\n",
       "  </thead>\n",
       "  <tbody>\n",
       "    <tr>\n",
       "      <th>0.061623</th>\n",
       "      <td>0.999879</td>\n",
       "      <td>0.657477</td>\n",
       "      <td>0.658217</td>\n",
       "    </tr>\n",
       "    <tr>\n",
       "      <th>0.061957</th>\n",
       "      <td>0.999879</td>\n",
       "      <td>0.657495</td>\n",
       "      <td>0.658238</td>\n",
       "    </tr>\n",
       "    <tr>\n",
       "      <th>0.069008</th>\n",
       "      <td>0.999827</td>\n",
       "      <td>0.657794</td>\n",
       "      <td>0.658682</td>\n",
       "    </tr>\n",
       "    <tr>\n",
       "      <th>0.142372</th>\n",
       "      <td>0.999281</td>\n",
       "      <td>0.659554</td>\n",
       "      <td>0.661169</td>\n",
       "    </tr>\n",
       "    <tr>\n",
       "      <th>0.146519</th>\n",
       "      <td>0.999029</td>\n",
       "      <td>0.659993</td>\n",
       "      <td>0.661751</td>\n",
       "    </tr>\n",
       "    <tr>\n",
       "      <th>...</th>\n",
       "      <td>...</td>\n",
       "      <td>...</td>\n",
       "      <td>...</td>\n",
       "    </tr>\n",
       "    <tr>\n",
       "      <th>0.999130</th>\n",
       "      <td>0.005471</td>\n",
       "      <td>1.000000</td>\n",
       "      <td>0.347586</td>\n",
       "    </tr>\n",
       "    <tr>\n",
       "      <th>0.999141</th>\n",
       "      <td>0.004872</td>\n",
       "      <td>1.000000</td>\n",
       "      <td>0.347200</td>\n",
       "    </tr>\n",
       "    <tr>\n",
       "      <th>0.999164</th>\n",
       "      <td>0.003911</td>\n",
       "      <td>1.000000</td>\n",
       "      <td>0.346553</td>\n",
       "    </tr>\n",
       "    <tr>\n",
       "      <th>0.999210</th>\n",
       "      <td>0.002315</td>\n",
       "      <td>1.000000</td>\n",
       "      <td>0.345527</td>\n",
       "    </tr>\n",
       "    <tr>\n",
       "      <th>0.999211</th>\n",
       "      <td>0.002305</td>\n",
       "      <td>1.000000</td>\n",
       "      <td>0.345520</td>\n",
       "    </tr>\n",
       "  </tbody>\n",
       "</table>\n",
       "<p>1000 rows × 3 columns</p>\n",
       "</div>"
      ],
      "text/plain": [
       "            recall  precision  accuracy\n",
       "0.061623  0.999879   0.657477  0.658217\n",
       "0.061957  0.999879   0.657495  0.658238\n",
       "0.069008  0.999827   0.657794  0.658682\n",
       "0.142372  0.999281   0.659554  0.661169\n",
       "0.146519  0.999029   0.659993  0.661751\n",
       "...            ...        ...       ...\n",
       "0.999130  0.005471   1.000000  0.347586\n",
       "0.999141  0.004872   1.000000  0.347200\n",
       "0.999164  0.003911   1.000000  0.346553\n",
       "0.999210  0.002315   1.000000  0.345527\n",
       "0.999211  0.002305   1.000000  0.345520\n",
       "\n",
       "[1000 rows x 3 columns]"
      ]
     },
     "execution_count": 51,
     "metadata": {},
     "output_type": "execute_result"
    },
    {
     "data": {
      "image/png": "[encoded data removed]",
      "text/plain": [
       "<Figure size 432x288 with 1 Axes>"
      ]
     },
     "metadata": {
      "needs_background": "light"
     },
     "output_type": "display_data"
    }
   ],
   "source": [
    "#Computing the minimum threshold, considering required precision\n",
    "#required_precision = 0.9\n",
    "#minimum_required_threshold= df_threshold[df_threshold['precision']>required_precision].index[0]\n",
    "\n",
    "df_threshold.plot()\n",
    "#plt.plot([0,1],[required_precision,required_precision])\n",
    "#plt.plot([minimum_required_threshold,minimum_required_threshold],[0,1])\n",
    "plt.xlabel('threshold')\n",
    "plt.xlabel('threshold')\n",
    "plt.ylabel('score')\n",
    "df_threshold"
   ]
  },
  {
   "cell_type": "markdown",
   "metadata": {},
   "source": [
    "# Re-run sur tout le train et export pickle"
   ]
  },
  {
   "cell_type": "code",
   "execution_count": 16,
   "metadata": {
    "ExecuteTime": {
     "end_time": "2020-12-15T16:04:33.675318Z",
     "start_time": "2020-12-15T16:04:13.096923Z"
    }
   },
   "outputs": [
    {
     "data": {
      "text/plain": [
       "Pipeline(steps=[('minmaxscaler', MinMaxScaler()),\n",
       "                ('histgradientboostingclassifier',\n",
       "                 HistGradientBoostingClassifier())])"
      ]
     },
     "execution_count": 16,
     "metadata": {},
     "output_type": "execute_result"
    }
   ],
   "source": [
    "xgboost_pipe.fit (X, y)"
   ]
  },
  {
   "cell_type": "code",
   "execution_count": 17,
   "metadata": {
    "ExecuteTime": {
     "end_time": "2020-12-15T16:04:43.001904Z",
     "start_time": "2020-12-15T16:04:42.984940Z"
    }
   },
   "outputs": [],
   "source": [
    "import pickle\n",
    "pickle.dump(xgboost_pipe, open(\"xgboost_pipe3.pkl\", \"wb\") )"
   ]
  },
  {
   "cell_type": "code",
   "execution_count": 92,
   "metadata": {
    "ExecuteTime": {
     "end_time": "2020-12-14T15:37:33.197416Z",
     "start_time": "2020-12-14T15:37:33.077831Z"
    }
   },
   "outputs": [
    {
     "data": {
      "text/plain": [
       "0    user_personalized_qstat_knowing_had_explanatio...\n",
       "1                      user_avg_score_cum_on_this_part\n",
       "2                user_correct_answers_cum_on_this_part\n",
       "3                            qstats_answered_correctly\n",
       "4                                   user_avg_score_cum\n",
       "5                qstats_prior_question_had_explanation\n",
       "6                                         already_seen\n",
       "7                               user_activity_cumcount\n",
       "8                                  at_least_one_lesson\n",
       "dtype: object"
      ]
     },
     "execution_count": 92,
     "metadata": {},
     "output_type": "execute_result"
    }
   ],
   "source": [
    "features = ['user_personalized_qstat_knowing_had_explanation_or_not',\n",
    "            'user_avg_score_cum_on_this_part',\n",
    "            'user_correct_answers_cum_on_this_part',\n",
    " 'qstats_answered_correctly',\n",
    " 'user_avg_score_cum',\n",
    " 'qstats_prior_question_had_explanation',\n",
    " 'already_seen',\n",
    " #'already_seen_tag_lecture',\n",
    " 'user_activity_cumcount',\n",
    " #'qstats_user_activity_cumcount',\n",
    " 'at_least_one_lesson',\n",
    " #'qstats_user_activity_cumcount_knowing_answered_correctly',\n",
    " #'qstats_task_container_id_knowing_answered_correctly',\n",
    " #'lectures_seen',\n",
    " #'qstats_count',\n",
    " #'qstats_answers',\n",
    " 'content_type_id']\n",
    "\n",
    "pd.Series(features[:-1]).to_csv('xgboost_pipe3_features_list.csv')\n",
    "\n",
    "pd.Series(features[:-1])"
   ]
  },
  {
   "cell_type": "markdown",
   "metadata": {
    "id": "WYJVyqj4x4w6"
   },
   "source": [
    "# Logistic Regression"
   ]
  },
  {
   "cell_type": "code",
   "execution_count": null,
   "metadata": {
    "id": "n7pemXPbleLM"
   },
   "outputs": [],
   "source": [
    "X = df.query('content_type_id==0')[['qstats_answered_correctly', 'user_avg_score_cum', 'already_seen', 'lectures_seen', 'at_least_one_lesson']]\n",
    "y = df.query('content_type_id==0')['answered_correctly']"
   ]
  },
  {
   "cell_type": "code",
   "execution_count": null,
   "metadata": {
    "id": "Dc0eWzSZnihb"
   },
   "outputs": [],
   "source": [
    "X = features.query('content_type_id==0').drop(columns={'content_type_id'})\n",
    "y = df.query('content_type_id==0')['answered_correctly']\n",
    "\n",
    "X_train, X_test, y_train, y_test = train_test_split(X, y, test_size=0.3,random_state = 2)\n",
    "\n",
    "scaler = MinMaxScaler()\n",
    "X_train = scaler.fit_transform(X_train)\n",
    "\n",
    "log = LogisticRegression()\n",
    "log.fit(X_train, y_train)\n",
    "y_pred = cross_val_predict(log, X_test, y_test, cv=10, method='predict_proba', verbose=1)\n",
    "print('roc-auc:', roc_auc_score(y_test, y_pred[:,1]))"
   ]
  },
  {
   "cell_type": "markdown",
   "metadata": {
    "id": "mpjv37TQ-eha"
   },
   "source": [
    "Correlations"
   ]
  },
  {
   "cell_type": "code",
   "execution_count": null,
   "metadata": {
    "id": "YBWKz1i0oM9b"
   },
   "outputs": [],
   "source": [
    "corr.sort_values(ascending=False)"
   ]
  },
  {
   "cell_type": "code",
   "execution_count": null,
   "metadata": {
    "id": "YCFWECyesaE-"
   },
   "outputs": [],
   "source": [
    "corr = df.query('content_type_id==0').corr().answered_correctly"
   ]
  },
  {
   "cell_type": "markdown",
   "metadata": {
    "id": "FksuZ32L-UZX"
   },
   "source": [
    "# RandomForestClassifier"
   ]
  },
  {
   "cell_type": "code",
   "execution_count": null,
   "metadata": {
    "id": "j053YXZk-Vx7"
   },
   "outputs": [],
   "source": [
    "from sklearn.ensemble import RandomForestClassifier"
   ]
  },
  {
   "cell_type": "code",
   "execution_count": null,
   "metadata": {
    "id": "dCYgq-2FrVes"
   },
   "outputs": [],
   "source": [
    "X = df.query('content_type_id==0')[['qstats_answered_correctly', 'user_avg_score_cum', 'already_seen', 'lectures_seen', 'at_least_one_lesson']]\n",
    "y = df.query('content_type_id==0')['answered_correctly']"
   ]
  },
  {
   "cell_type": "code",
   "execution_count": null,
   "metadata": {
    "colab": {
     "base_uri": "https://localhost:8080/"
    },
    "id": "ild7nfRUCpcC",
    "outputId": "35b497c5-ca24-4cdd-83f3-5f30b3320a1f"
   },
   "outputs": [
    {
     "name": "stderr",
     "output_type": "stream",
     "text": [
      "[Parallel(n_jobs=1)]: Using backend SequentialBackend with 1 concurrent workers.\n"
     ]
    },
    {
     "name": "stdout",
     "output_type": "stream",
     "text": [
      "roc-auc: 0.7125921037505767\n"
     ]
    },
    {
     "name": "stderr",
     "output_type": "stream",
     "text": [
      "[Parallel(n_jobs=1)]: Done  10 out of  10 | elapsed:  7.0min finished\n"
     ]
    }
   ],
   "source": [
    "y_pred = cross_val_predict(forest, X_test, y_test, cv=10, method='predict_proba', verbose=1)\n",
    "print('roc-auc:', roc_auc_score(y_test, y_pred[:,1]))"
   ]
  },
  {
   "cell_type": "markdown",
   "metadata": {
    "id": "QT6Ozhx-CFGG"
   },
   "source": [
    "# Bagging Classifier"
   ]
  },
  {
   "cell_type": "markdown",
   "metadata": {
    "id": "VXonpbg7C9hV"
   },
   "source": [
    "# Adaboost"
   ]
  },
  {
   "cell_type": "code",
   "execution_count": null,
   "metadata": {
    "colab": {
     "base_uri": "https://localhost:8080/"
    },
    "id": "pSNzmp9guj9Q",
    "outputId": "31d074da-11b6-416c-9a5b-7304de76fb8c"
   },
   "outputs": [
    {
     "name": "stderr",
     "output_type": "stream",
     "text": [
      "[Parallel(n_jobs=1)]: Using backend SequentialBackend with 1 concurrent workers.\n"
     ]
    },
    {
     "name": "stdout",
     "output_type": "stream",
     "text": [
      "roc-auc: 0.7594259462782705\n"
     ]
    },
    {
     "name": "stderr",
     "output_type": "stream",
     "text": [
      "[Parallel(n_jobs=1)]: Done  10 out of  10 | elapsed:  2.3min finished\n"
     ]
    }
   ],
   "source": [
    "from sklearn.ensemble import AdaBoostClassifier\n",
    "from sklearn.tree import DecisionTreeClassifier\n",
    "\n",
    "X_train, X_test, y_train, y_test = train_test_split(X, y, test_size=0.3,random_state = 1)\n",
    "adaboost = AdaBoostClassifier(DecisionTreeClassifier(max_depth=3), n_estimators=50) \n",
    "adaboost.fit(X_train, y_train)\n",
    "\n",
    "y_pred = cross_val_predict(adaboost, X_test, y_test, cv=10, method='predict_proba', verbose=1)\n",
    "print('roc-auc:', roc_auc_score(y_test, y_pred[:,1]))"
   ]
  },
  {
   "cell_type": "markdown",
   "metadata": {
    "id": "Nad_IzCRNddw"
   },
   "source": [
    "# SVC"
   ]
  },
  {
   "cell_type": "code",
   "execution_count": null,
   "metadata": {
    "colab": {
     "background_save": true
    },
    "id": "C9fssTegOgSK"
   },
   "outputs": [],
   "source": [
    "from sklearn.svm import SVC\n",
    "\n",
    "X = features.query('content_type_id==0').drop(columns={'content_type_id'})\n",
    "y = df.query('content_type_id==0')['answered_correctly']\n",
    "\n",
    "kernels = ['linear', 'poly', 'rbf', 'sigmoid', 'precomputed']\n",
    "\n",
    "for kernel in kernels:\n",
    "  X_train, X_test, y_train, y_test = train_test_split(X, y, test_size=0.3,random_state = 2)\n",
    "  X_train = scaler.fit_transform(X_train)\n",
    "  svc = SVC(kernel=kernel, C=10, max_iter=1500, probability=True, tol=0.01, gamma='scale')\n",
    "  svc.fit(X_train, y_train)\n",
    "  y_pred = cross_val_predict(svc, X_test, y_test, cv=5, method='predict_proba', verbose=1)\n",
    "  print('roc-auc:', roc_auc_score(y_test, y_pred[:,1]))"
   ]
  },
  {
   "cell_type": "code",
   "execution_count": null,
   "metadata": {
    "colab": {
     "base_uri": "https://localhost:8080/"
    },
    "id": "tN36yZvrNTsa",
    "outputId": "51ccdf2a-6b75-4780-d855-d6abe6664367"
   },
   "outputs": [
    {
     "name": "stderr",
     "output_type": "stream",
     "text": [
      "[Parallel(n_jobs=1)]: Using backend SequentialBackend with 1 concurrent workers.\n"
     ]
    },
    {
     "name": "stdout",
     "output_type": "stream",
     "text": [
      "roc-auc: 0.7289342611288083\n"
     ]
    },
    {
     "name": "stderr",
     "output_type": "stream",
     "text": [
      "[Parallel(n_jobs=1)]: Done  10 out of  10 | elapsed:    4.3s finished\n"
     ]
    }
   ],
   "source": [
    "# equivalent but with SGD solver\n",
    "from sklearn.linear_model import SGDClassifier\n",
    "\n",
    "svc_bis = SGDClassifier(loss='modified_huber', penalty='l2', alpha=0.1)\n",
    "\n",
    "X_train, X_test, y_train, y_test = train_test_split(X, y, test_size=0.3,random_state = 1)\n",
    "\n",
    "#svc_bis = GradientBoostingClassifier() \n",
    "svc_bis.fit(X_train, y_train)\n",
    "\n",
    "y_pred = cross_val_predict(svc_bis, X_test, y_test, cv=10, method='predict_proba', verbose=1)\n",
    "print('roc-auc:', roc_auc_score(y_test, y_pred[:,1]))"
   ]
  },
  {
   "cell_type": "markdown",
   "metadata": {
    "id": "Vefuclqo4a8G"
   },
   "source": [
    "# Multi-layer Stacking - XGBoost, SVC and Log reg"
   ]
  },
  {
   "cell_type": "code",
   "execution_count": null,
   "metadata": {
    "colab": {
     "base_uri": "https://localhost:8080/"
    },
    "id": "CKI4503r4aLz",
    "outputId": "a9205273-f708-47be-e612-e9322e1755c6"
   },
   "outputs": [
    {
     "name": "stderr",
     "output_type": "stream",
     "text": [
      "[Parallel(n_jobs=1)]: Using backend SequentialBackend with 1 concurrent workers.\n"
     ]
    },
    {
     "name": "stdout",
     "output_type": "stream",
     "text": [
      "roc-auc: 0.7682322465652832\n"
     ]
    },
    {
     "name": "stderr",
     "output_type": "stream",
     "text": [
      "[Parallel(n_jobs=1)]: Done   5 out of   5 | elapsed: 25.1min finished\n"
     ]
    }
   ],
   "source": [
    "from sklearn.ensemble import StackingClassifier\n",
    "from sklearn.linear_model import SGDClassifier, LogisticRegression\n",
    "from sklearn.ensemble import GradientBoostingClassifier\n",
    "from sklearn.preprocessing import MinMaxScaler\n",
    "\n",
    "\n",
    "scaler = MinMaxScaler()\n",
    "\n",
    "X = features.query('content_type_id==0').drop(columns={'content_type_id'})\n",
    "y = df.query('content_type_id==0')['answered_correctly']\n",
    "\n",
    "X_train, X_test, y_train, y_test = train_test_split(X, y, test_size=0.3, random_state = 2)\n",
    "\n",
    "X_train = scaler.fit_transform(X_train)\n",
    "\n",
    "\n",
    "ensemble = StackingClassifier(\n",
    "    estimators = [(\"log\", GradientBoostingClassifier()),\n",
    "                  (\"svc\", SGDClassifier(loss='modified_huber', penalty='l2', alpha=0.1, max_iter=3000))],\n",
    "                  final_estimator = LogisticRegression(max_iter=3000) )\n",
    "\n",
    "ensemble.fit(X_train, y_train)\n",
    "y_pred = cross_val_predict(ensemble, X_test, y_test, cv=5, method='predict_proba', verbose=1)\n",
    "print('roc-auc:', roc_auc_score(y_test, y_pred[:,1]))"
   ]
  },
  {
   "cell_type": "code",
   "execution_count": 6,
   "metadata": {
    "ExecuteTime": {
     "end_time": "2020-12-15T15:58:27.904061Z",
     "start_time": "2020-12-15T15:58:27.126073Z"
    },
    "id": "8zVmkMwNNXvS"
   },
   "outputs": [],
   "source": [
    "from sklearn.experimental import enable_hist_gradient_boosting\n",
    "from sklearn.ensemble import HistGradientBoostingClassifier"
   ]
  },
  {
   "cell_type": "code",
   "execution_count": 2,
   "metadata": {
    "ExecuteTime": {
     "end_time": "2020-12-15T15:30:06.653834Z",
     "start_time": "2020-12-15T15:30:05.425992Z"
    }
   },
   "outputs": [
    {
     "name": "stdout",
     "output_type": "stream",
     "text": [
      "absl-py==0.11.0\n",
      "aiobotocore==1.1.2\n",
      "aiohttp==3.7.3\n",
      "aioitertools==0.7.1\n",
      "alembic==1.4.1\n",
      "altair==4.1.0\n",
      "appnope==0.1.0\n",
      "argon2-cffi==20.1.0\n",
      "astor==0.8.1\n",
      "astroid==2.4.2\n",
      "astunparse==1.6.3\n",
      "async-generator==1.10\n",
      "async-timeout==3.0.1\n",
      "attrs==20.2.0\n",
      "azure-core==1.9.0\n",
      "azure-storage-blob==12.6.0\n",
      "backcall==0.2.0\n",
      "base58==2.0.1\n",
      "beautifulsoup4==4.9.3\n",
      "bleach==3.2.1\n",
      "blinker==1.4\n",
      "botocore==1.17.44\n",
      "branca==0.4.1\n",
      "bs4==0.0.1\n",
      "cachetools==4.1.1\n",
      "category-encoders==2.2.2\n",
      "certifi==2020.6.20\n",
      "cffi==1.14.3\n",
      "chardet==3.0.4\n",
      "chromedriver-binary==86.0.4240.22.0\n",
      "click==7.1.2\n",
      "cloudpickle==1.6.0\n",
      "confuse==1.3.0\n",
      "coverage==5.3\n",
      "cryptography==3.2.1\n",
      "cycler==0.10.0\n",
      "Cython==0.29.17\n",
      "databricks-cli==0.14.1\n",
      "deap==1.3.1\n",
      "decorator==4.4.2\n",
      "defusedxml==0.6.0\n",
      "docker==4.4.0\n",
      "docutils==0.15.2\n",
      "entrypoints==0.3\n",
      "Flask==1.1.1\n",
      "Flask-Cors==3.0.9\n",
      "folium==0.11.0\n",
      "fsspec==0.8.4\n",
      "future==0.18.2\n",
      "gast==0.3.3\n",
      "gcsfs==0.6.0\n",
      "gensim==3.8.3\n",
      "gitdb==4.0.5\n",
      "GitPython==3.1.11\n",
      "google-api-core==1.23.0\n",
      "google-auth==1.23.0\n",
      "google-auth-oauthlib==0.4.2\n",
      "google-cloud-core==1.4.3\n",
      "google-cloud-storage==1.26.0\n",
      "google-pasta==0.2.0\n",
      "google-resumable-media==0.5.1\n",
      "googleapis-common-protos==1.52.0\n",
      "gorilla==0.3.0\n",
      "grpcio==1.33.2\n",
      "gunicorn==20.0.4\n",
      "h5py==2.10.0\n",
      "herepy==2.1.1\n",
      "htmlmin==0.1.12\n",
      "idna==2.10\n",
      "ImageHash==4.1.0\n",
      "imageio==2.9.0\n",
      "importlib-metadata==2.0.0\n",
      "iniconfig==1.1.1\n",
      "ipdb==0.13.4\n",
      "ipykernel==5.3.4\n",
      "ipython==7.18.1\n",
      "ipython-genutils==0.2.0\n",
      "ipywidgets==7.5.1\n",
      "isodate==0.6.0\n",
      "isort==5.6.4\n",
      "itsdangerous==1.1.0\n",
      "jedi==0.17.2\n",
      "Jinja2==2.11.2\n",
      "jmespath==0.10.0\n",
      "joblib==0.14.1\n",
      "json5==0.9.5\n",
      "jsonschema==3.2.0\n",
      "jupyter-client==6.1.7\n",
      "jupyter-contrib-core==0.3.3\n",
      "jupyter-contrib-nbextensions==0.5.1\n",
      "jupyter-core==4.6.3\n",
      "jupyter-highlight-selected-word==0.2.0\n",
      "jupyter-latex-envs==1.4.6\n",
      "jupyter-nbextensions-configurator==0.4.1\n",
      "jupyterlab==2.2.8\n",
      "jupyterlab-pygments==0.1.2\n",
      "jupyterlab-server==1.2.0\n",
      "Keras-Preprocessing==1.1.2\n",
      "kiwisolver==1.2.0\n",
      "lazy-object-proxy==1.4.3\n",
      "llvmlite==0.34.0\n",
      "lolo2 @ git+git://github.com/brahnir1/lolo2.git@331ed1063596513aaf5dde6dd9356a81a7b9fb95\n",
      "lxml==4.6.1\n",
      "Mako==1.1.3\n",
      "Markdown==3.3.3\n",
      "MarkupSafe==1.1.1\n",
      "matplotlib==3.3.2\n",
      "mccabe==0.6.1\n",
      "memoized-property==1.0.3\n",
      "missingno==0.4.2\n",
      "mistune==0.8.4\n",
      "mlflow==1.8.0\n",
      "mlproject @ file:///Users/thomasmathieu/code/bdepebhe/mlproject\n",
      "msrest==0.6.19\n",
      "multidict==5.0.2\n",
      "mypackage @ git+git://github.com/Imen-ks/mypackage.git@727a2b8c3148786cbcf2832b16ecd84b1407a564\n",
      "nbclient==0.5.1\n",
      "nbconvert==6.0.7\n",
      "nbformat==5.0.8\n",
      "nest-asyncio==1.4.1\n",
      "networkx==2.5\n",
      "nltk==3.5\n",
      "notebook==6.1.4\n",
      "numba==0.51.2\n",
      "numpy==1.18.4\n",
      "oauthlib==3.1.0\n",
      "opt-einsum==3.3.0\n",
      "packaging==20.4\n",
      "pandas==1.1.4\n",
      "pandas-profiling==2.9.0\n",
      "pandocfilters==1.4.2\n",
      "parso==0.7.1\n",
      "pathtools==0.1.2\n",
      "patsy==0.5.1\n",
      "pexpect==4.8.0\n",
      "phik==0.10.0\n",
      "pickleshare==0.7.5\n",
      "Pillow==8.0.0\n",
      "plotly==4.11.0\n",
      "pluggy==0.13.1\n",
      "pmdarima==1.7.1\n",
      "prometheus-client==0.8.0\n",
      "prometheus-flask-exporter==0.18.1\n",
      "prompt-toolkit==3.0.8\n",
      "protobuf==3.14.0\n",
      "psutil==5.7.0\n",
      "ptyprocess==0.6.0\n",
      "py==1.9.0\n",
      "pyarrow==2.0.0\n",
      "pyasn1==0.4.8\n",
      "pyasn1-modules==0.2.8\n",
      "pycparser==2.20\n",
      "pydeck==0.5.0\n",
      "pygeohash==1.2.0\n",
      "Pygments==2.7.1\n",
      "pylint==2.6.0\n",
      "pyparsing==2.4.7\n",
      "pyrsistent==0.17.3\n",
      "pytest==6.1.1\n",
      "python-dateutil==2.8.1\n",
      "python-dotenv==0.15.0\n",
      "python-editor==1.0.4\n",
      "pytz==2020.1\n",
      "PyWavelets==1.1.1\n",
      "PyYAML==5.3.1\n",
      "pyzmq==19.0.2\n",
      "querystring-parser==1.2.4\n",
      "regex==2020.11.13\n",
      "requests==2.24.0\n",
      "requests-oauthlib==1.3.0\n",
      "retrying==1.3.3\n",
      "rsa==4.6\n",
      "s3fs==0.5.1\n",
      "scikit-image==0.17.2\n",
      "scikit-learn==0.23.2\n",
      "scikit-MDR==0.4.4\n",
      "scipy==1.5.4\n",
      "seaborn==0.11.0\n",
      "selenium==3.141.0\n",
      "Send2Trash==1.5.0\n",
      "share-package @ git+git://github.com/YohannD/share_package.git@811397eb84a09020128131d236ca23749550a3f0\n",
      "simplejson==3.17.2\n",
      "six==1.15.0\n",
      "skrebate==0.61\n",
      "smart-open==4.0.1\n",
      "smmap==3.0.4\n",
      "soupsieve==2.0.1\n",
      "SQLAlchemy==1.3.13\n",
      "sqlparse==0.4.1\n",
      "statsmodels==0.11.0\n",
      "stopit==1.1.2\n",
      "streamlit==0.72.0\n",
      "tabulate==0.8.7\n",
      "tangled-up-in-unicode==0.0.6\n",
      "TaxiFareModel @ file:///Users/thomasmathieu/code/bdepebhe/data-challenges/07-Data-Engineering/03-ML-Iteration/04-Kaggle-submission\n",
      "tensorboard==2.4.0\n",
      "tensorboard-plugin-wit==1.7.0\n",
      "tensorflow==2.3.1\n",
      "tensorflow-estimator==2.3.0\n",
      "termcolor==1.1.0\n",
      "terminado==0.9.1\n",
      "testpath==0.4.4\n",
      "threadpoolctl==2.1.0\n",
      "tifffile==2020.10.1\n",
      "toml==0.10.1\n",
      "toolz==0.11.1\n",
      "tornado==6.0.4\n",
      "TPOT==0.11.6.post1\n",
      "tqdm==4.51.0\n",
      "traitlets==5.0.5\n",
      "typed-ast==1.4.1\n",
      "typing-extensions==3.7.4.3\n",
      "tzlocal==2.1\n",
      "update-checker==0.18.0\n",
      "urllib3==1.25.10\n",
      "validators==0.18.1\n",
      "visions==0.5.0\n",
      "wagon-tools==1.1.2\n",
      "watchdog==0.10.4\n",
      "wcwidth==0.2.5\n",
      "webencodings==0.5.1\n",
      "websocket-client==0.57.0\n",
      "Werkzeug==1.0.1\n",
      "widgetsnbextension==3.5.1\n",
      "wrapt==1.12.1\n",
      "xgboost==1.1.1\n",
      "yarl==1.6.3\n",
      "zipp==3.3.1\n",
      "Note: you may need to restart the kernel to use updated packages.\n"
     ]
    }
   ],
   "source": [
    "pip freeze"
   ]
  },
  {
   "cell_type": "markdown",
   "metadata": {},
   "source": [
    "# Neural network"
   ]
  },
  {
   "cell_type": "code",
   "execution_count": 29,
   "metadata": {
    "ExecuteTime": {
     "end_time": "2020-12-16T12:02:46.198879Z",
     "start_time": "2020-12-16T12:02:42.205741Z"
    }
   },
   "outputs": [],
   "source": [
    "to_drop=['answered_correctly',\n",
    "         'Unnamed: 0',\n",
    "         'row_id',\n",
    "         'timestamp',\n",
    "         'user_id',\n",
    "         'content_id',\n",
    "         'content_type_id',\n",
    "         'prior_question_elapsed_time',\n",
    "         'answer0',\n",
    "         'answer1',\n",
    "         'answer2',\n",
    "         'answer3',\n",
    "         ]\n",
    "X_tot=df.query('content_type_id==0').drop(columns=to_drop)\n",
    "X_tot.replace(np.inf,0,inplace=True)"
   ]
  },
  {
   "cell_type": "code",
   "execution_count": 30,
   "metadata": {
    "ExecuteTime": {
     "end_time": "2020-12-16T12:32:20.672630Z",
     "start_time": "2020-12-16T12:02:47.257193Z"
    },
    "collapsed": true
   },
   "outputs": [
    {
     "name": "stdout",
     "output_type": "stream",
     "text": [
      "Epoch 1/500\n",
      "29640/29640 - 44s - loss: 0.5703 - val_loss: 0.5328\n",
      "Epoch 2/500\n",
      "29640/29640 - 44s - loss: 0.5326 - val_loss: 0.5307\n",
      "Epoch 3/500\n",
      "29640/29640 - 43s - loss: 0.5330 - val_loss: 0.5286\n",
      "Epoch 4/500\n",
      "29640/29640 - 43s - loss: 0.5315 - val_loss: 0.5295\n",
      "Epoch 5/500\n",
      "29640/29640 - 44s - loss: 0.5309 - val_loss: 0.5265\n",
      "Epoch 6/500\n",
      "29640/29640 - 43s - loss: 0.5323 - val_loss: 0.5276\n",
      "Epoch 7/500\n",
      "29640/29640 - 43s - loss: 0.5292 - val_loss: 0.5296\n",
      "Epoch 8/500\n",
      "29640/29640 - 44s - loss: 0.5336 - val_loss: 0.5278\n",
      "Epoch 9/500\n",
      "29640/29640 - 44s - loss: 0.5275 - val_loss: 0.5263\n",
      "Epoch 10/500\n",
      "29640/29640 - 43s - loss: 0.5270 - val_loss: 0.5270\n",
      "Epoch 11/500\n",
      "29640/29640 - 43s - loss: 0.5269 - val_loss: 0.5270\n",
      "Epoch 12/500\n",
      "29640/29640 - 43s - loss: 0.5268 - val_loss: 0.5258\n",
      "Epoch 13/500\n",
      "29640/29640 - 43s - loss: 0.5266 - val_loss: 0.5270\n",
      "Epoch 14/500\n",
      "29640/29640 - 42s - loss: 0.5265 - val_loss: 0.5267\n",
      "Epoch 15/500\n",
      "29640/29640 - 43s - loss: 0.5265 - val_loss: 0.5255\n",
      "Epoch 16/500\n",
      "29640/29640 - 43s - loss: 0.5263 - val_loss: 0.5258\n",
      "Epoch 17/500\n",
      "29640/29640 - 43s - loss: 0.5263 - val_loss: 0.5251\n",
      "Epoch 18/500\n",
      "29640/29640 - 42s - loss: 0.5262 - val_loss: 0.5254\n",
      "Epoch 19/500\n",
      "29640/29640 - 43s - loss: 0.5260 - val_loss: 0.5260\n",
      "Epoch 20/500\n",
      "29640/29640 - 43s - loss: 0.5259 - val_loss: 0.5253\n",
      "Epoch 21/500\n",
      "29640/29640 - 43s - loss: 0.5259 - val_loss: 0.5265\n",
      "Epoch 22/500\n",
      "29640/29640 - 43s - loss: 0.5259 - val_loss: 0.5251\n",
      "Epoch 23/500\n",
      "29640/29640 - 44s - loss: 0.5259 - val_loss: 0.5253\n",
      "Epoch 24/500\n",
      "29640/29640 - 43s - loss: 0.5259 - val_loss: 0.5248\n",
      "Epoch 25/500\n",
      "29640/29640 - 43s - loss: 0.5258 - val_loss: 0.5249\n",
      "Epoch 26/500\n",
      "29640/29640 - 42s - loss: 0.5257 - val_loss: 0.5252\n",
      "Epoch 27/500\n",
      "29640/29640 - 44s - loss: 0.5256 - val_loss: 0.5251\n",
      "Epoch 28/500\n",
      "29640/29640 - 43s - loss: 0.5256 - val_loss: 0.5265\n",
      "Epoch 29/500\n",
      "29640/29640 - 55s - loss: 0.5256 - val_loss: 0.5254\n",
      "Epoch 30/500\n",
      "29640/29640 - 55s - loss: 0.5256 - val_loss: 0.5252\n",
      "Epoch 31/500\n",
      "29640/29640 - 44s - loss: 0.5255 - val_loss: 0.5253\n",
      "Epoch 32/500\n",
      "29640/29640 - 49s - loss: 0.5256 - val_loss: 0.5255\n",
      "Epoch 33/500\n",
      "29640/29640 - 47s - loss: 0.5255 - val_loss: 0.5253\n",
      "Epoch 34/500\n",
      "29640/29640 - 79s - loss: 0.5255 - val_loss: 0.5254\n",
      "Epoch 35/500\n",
      "29640/29640 - 60s - loss: 0.5254 - val_loss: 0.5251\n",
      "Epoch 36/500\n",
      "29640/29640 - 97s - loss: 0.5254 - val_loss: 0.5250\n",
      "Epoch 37/500\n",
      "29640/29640 - 71s - loss: 0.5254 - val_loss: 0.5250\n",
      "Epoch 38/500\n"
     ]
    },
    {
     "ename": "KeyboardInterrupt",
     "evalue": "",
     "output_type": "error",
     "traceback": [
      "\u001b[0;31m---------------------------------------------------------------------------\u001b[0m",
      "\u001b[0;31mKeyboardInterrupt\u001b[0m                         Traceback (most recent call last)",
      "\u001b[0;32m<ipython-input-30-403354e266c1>\u001b[0m in \u001b[0;36m<module>\u001b[0;34m\u001b[0m\n\u001b[1;32m     37\u001b[0m                     \u001b[0mverbose\u001b[0m\u001b[0;34m=\u001b[0m\u001b[0;36m2\u001b[0m\u001b[0;34m,\u001b[0m\u001b[0;34m\u001b[0m\u001b[0;34m\u001b[0m\u001b[0m\n\u001b[1;32m     38\u001b[0m                     \u001b[0mvalidation_split\u001b[0m\u001b[0;34m=\u001b[0m\u001b[0;36m0.3\u001b[0m\u001b[0;34m,\u001b[0m \u001b[0;31m# utiliser un sous-set de validation\u001b[0m\u001b[0;34m\u001b[0m\u001b[0;34m\u001b[0m\u001b[0m\n\u001b[0;32m---> 39\u001b[0;31m                     callbacks=[es])\n\u001b[0m",
      "\u001b[0;32m~/.pyenv/versions/3.7.7/envs/lewagon/lib/python3.7/site-packages/tensorflow/python/keras/engine/training.py\u001b[0m in \u001b[0;36m_method_wrapper\u001b[0;34m(self, *args, **kwargs)\u001b[0m\n\u001b[1;32m    106\u001b[0m   \u001b[0;32mdef\u001b[0m \u001b[0m_method_wrapper\u001b[0m\u001b[0;34m(\u001b[0m\u001b[0mself\u001b[0m\u001b[0;34m,\u001b[0m \u001b[0;34m*\u001b[0m\u001b[0margs\u001b[0m\u001b[0;34m,\u001b[0m \u001b[0;34m**\u001b[0m\u001b[0mkwargs\u001b[0m\u001b[0;34m)\u001b[0m\u001b[0;34m:\u001b[0m\u001b[0;34m\u001b[0m\u001b[0;34m\u001b[0m\u001b[0m\n\u001b[1;32m    107\u001b[0m     \u001b[0;32mif\u001b[0m \u001b[0;32mnot\u001b[0m \u001b[0mself\u001b[0m\u001b[0;34m.\u001b[0m\u001b[0m_in_multi_worker_mode\u001b[0m\u001b[0;34m(\u001b[0m\u001b[0;34m)\u001b[0m\u001b[0;34m:\u001b[0m  \u001b[0;31m# pylint: disable=protected-access\u001b[0m\u001b[0;34m\u001b[0m\u001b[0;34m\u001b[0m\u001b[0m\n\u001b[0;32m--> 108\u001b[0;31m       \u001b[0;32mreturn\u001b[0m \u001b[0mmethod\u001b[0m\u001b[0;34m(\u001b[0m\u001b[0mself\u001b[0m\u001b[0;34m,\u001b[0m \u001b[0;34m*\u001b[0m\u001b[0margs\u001b[0m\u001b[0;34m,\u001b[0m \u001b[0;34m**\u001b[0m\u001b[0mkwargs\u001b[0m\u001b[0;34m)\u001b[0m\u001b[0;34m\u001b[0m\u001b[0;34m\u001b[0m\u001b[0m\n\u001b[0m\u001b[1;32m    109\u001b[0m \u001b[0;34m\u001b[0m\u001b[0m\n\u001b[1;32m    110\u001b[0m     \u001b[0;31m# Running inside `run_distribute_coordinator` already.\u001b[0m\u001b[0;34m\u001b[0m\u001b[0;34m\u001b[0m\u001b[0;34m\u001b[0m\u001b[0m\n",
      "\u001b[0;32m~/.pyenv/versions/3.7.7/envs/lewagon/lib/python3.7/site-packages/tensorflow/python/keras/engine/training.py\u001b[0m in \u001b[0;36mfit\u001b[0;34m(self, x, y, batch_size, epochs, verbose, callbacks, validation_split, validation_data, shuffle, class_weight, sample_weight, initial_epoch, steps_per_epoch, validation_steps, validation_batch_size, validation_freq, max_queue_size, workers, use_multiprocessing)\u001b[0m\n\u001b[1;32m   1096\u001b[0m                 batch_size=batch_size):\n\u001b[1;32m   1097\u001b[0m               \u001b[0mcallbacks\u001b[0m\u001b[0;34m.\u001b[0m\u001b[0mon_train_batch_begin\u001b[0m\u001b[0;34m(\u001b[0m\u001b[0mstep\u001b[0m\u001b[0;34m)\u001b[0m\u001b[0;34m\u001b[0m\u001b[0;34m\u001b[0m\u001b[0m\n\u001b[0;32m-> 1098\u001b[0;31m               \u001b[0mtmp_logs\u001b[0m \u001b[0;34m=\u001b[0m \u001b[0mtrain_function\u001b[0m\u001b[0;34m(\u001b[0m\u001b[0miterator\u001b[0m\u001b[0;34m)\u001b[0m\u001b[0;34m\u001b[0m\u001b[0;34m\u001b[0m\u001b[0m\n\u001b[0m\u001b[1;32m   1099\u001b[0m               \u001b[0;32mif\u001b[0m \u001b[0mdata_handler\u001b[0m\u001b[0;34m.\u001b[0m\u001b[0mshould_sync\u001b[0m\u001b[0;34m:\u001b[0m\u001b[0;34m\u001b[0m\u001b[0;34m\u001b[0m\u001b[0m\n\u001b[1;32m   1100\u001b[0m                 \u001b[0mcontext\u001b[0m\u001b[0;34m.\u001b[0m\u001b[0masync_wait\u001b[0m\u001b[0;34m(\u001b[0m\u001b[0;34m)\u001b[0m\u001b[0;34m\u001b[0m\u001b[0;34m\u001b[0m\u001b[0m\n",
      "\u001b[0;32m~/.pyenv/versions/3.7.7/envs/lewagon/lib/python3.7/site-packages/tensorflow/python/eager/def_function.py\u001b[0m in \u001b[0;36m__call__\u001b[0;34m(self, *args, **kwds)\u001b[0m\n\u001b[1;32m    778\u001b[0m       \u001b[0;32melse\u001b[0m\u001b[0;34m:\u001b[0m\u001b[0;34m\u001b[0m\u001b[0;34m\u001b[0m\u001b[0m\n\u001b[1;32m    779\u001b[0m         \u001b[0mcompiler\u001b[0m \u001b[0;34m=\u001b[0m \u001b[0;34m\"nonXla\"\u001b[0m\u001b[0;34m\u001b[0m\u001b[0;34m\u001b[0m\u001b[0m\n\u001b[0;32m--> 780\u001b[0;31m         \u001b[0mresult\u001b[0m \u001b[0;34m=\u001b[0m \u001b[0mself\u001b[0m\u001b[0;34m.\u001b[0m\u001b[0m_call\u001b[0m\u001b[0;34m(\u001b[0m\u001b[0;34m*\u001b[0m\u001b[0margs\u001b[0m\u001b[0;34m,\u001b[0m \u001b[0;34m**\u001b[0m\u001b[0mkwds\u001b[0m\u001b[0;34m)\u001b[0m\u001b[0;34m\u001b[0m\u001b[0;34m\u001b[0m\u001b[0m\n\u001b[0m\u001b[1;32m    781\u001b[0m \u001b[0;34m\u001b[0m\u001b[0m\n\u001b[1;32m    782\u001b[0m       \u001b[0mnew_tracing_count\u001b[0m \u001b[0;34m=\u001b[0m \u001b[0mself\u001b[0m\u001b[0;34m.\u001b[0m\u001b[0m_get_tracing_count\u001b[0m\u001b[0;34m(\u001b[0m\u001b[0;34m)\u001b[0m\u001b[0;34m\u001b[0m\u001b[0;34m\u001b[0m\u001b[0m\n",
      "\u001b[0;32m~/.pyenv/versions/3.7.7/envs/lewagon/lib/python3.7/site-packages/tensorflow/python/eager/def_function.py\u001b[0m in \u001b[0;36m_call\u001b[0;34m(self, *args, **kwds)\u001b[0m\n\u001b[1;32m    805\u001b[0m       \u001b[0;31m# In this case we have created variables on the first call, so we run the\u001b[0m\u001b[0;34m\u001b[0m\u001b[0;34m\u001b[0m\u001b[0;34m\u001b[0m\u001b[0m\n\u001b[1;32m    806\u001b[0m       \u001b[0;31m# defunned version which is guaranteed to never create variables.\u001b[0m\u001b[0;34m\u001b[0m\u001b[0;34m\u001b[0m\u001b[0;34m\u001b[0m\u001b[0m\n\u001b[0;32m--> 807\u001b[0;31m       \u001b[0;32mreturn\u001b[0m \u001b[0mself\u001b[0m\u001b[0;34m.\u001b[0m\u001b[0m_stateless_fn\u001b[0m\u001b[0;34m(\u001b[0m\u001b[0;34m*\u001b[0m\u001b[0margs\u001b[0m\u001b[0;34m,\u001b[0m \u001b[0;34m**\u001b[0m\u001b[0mkwds\u001b[0m\u001b[0;34m)\u001b[0m  \u001b[0;31m# pylint: disable=not-callable\u001b[0m\u001b[0;34m\u001b[0m\u001b[0;34m\u001b[0m\u001b[0m\n\u001b[0m\u001b[1;32m    808\u001b[0m     \u001b[0;32melif\u001b[0m \u001b[0mself\u001b[0m\u001b[0;34m.\u001b[0m\u001b[0m_stateful_fn\u001b[0m \u001b[0;32mis\u001b[0m \u001b[0;32mnot\u001b[0m \u001b[0;32mNone\u001b[0m\u001b[0;34m:\u001b[0m\u001b[0;34m\u001b[0m\u001b[0;34m\u001b[0m\u001b[0m\n\u001b[1;32m    809\u001b[0m       \u001b[0;31m# Release the lock early so that multiple threads can perform the call\u001b[0m\u001b[0;34m\u001b[0m\u001b[0;34m\u001b[0m\u001b[0;34m\u001b[0m\u001b[0m\n",
      "\u001b[0;32m~/.pyenv/versions/3.7.7/envs/lewagon/lib/python3.7/site-packages/tensorflow/python/eager/function.py\u001b[0m in \u001b[0;36m__call__\u001b[0;34m(self, *args, **kwargs)\u001b[0m\n\u001b[1;32m   2827\u001b[0m     \u001b[0;32mwith\u001b[0m \u001b[0mself\u001b[0m\u001b[0;34m.\u001b[0m\u001b[0m_lock\u001b[0m\u001b[0;34m:\u001b[0m\u001b[0;34m\u001b[0m\u001b[0;34m\u001b[0m\u001b[0m\n\u001b[1;32m   2828\u001b[0m       \u001b[0mgraph_function\u001b[0m\u001b[0;34m,\u001b[0m \u001b[0margs\u001b[0m\u001b[0;34m,\u001b[0m \u001b[0mkwargs\u001b[0m \u001b[0;34m=\u001b[0m \u001b[0mself\u001b[0m\u001b[0;34m.\u001b[0m\u001b[0m_maybe_define_function\u001b[0m\u001b[0;34m(\u001b[0m\u001b[0margs\u001b[0m\u001b[0;34m,\u001b[0m \u001b[0mkwargs\u001b[0m\u001b[0;34m)\u001b[0m\u001b[0;34m\u001b[0m\u001b[0;34m\u001b[0m\u001b[0m\n\u001b[0;32m-> 2829\u001b[0;31m     \u001b[0;32mreturn\u001b[0m \u001b[0mgraph_function\u001b[0m\u001b[0;34m.\u001b[0m\u001b[0m_filtered_call\u001b[0m\u001b[0;34m(\u001b[0m\u001b[0margs\u001b[0m\u001b[0;34m,\u001b[0m \u001b[0mkwargs\u001b[0m\u001b[0;34m)\u001b[0m  \u001b[0;31m# pylint: disable=protected-access\u001b[0m\u001b[0;34m\u001b[0m\u001b[0;34m\u001b[0m\u001b[0m\n\u001b[0m\u001b[1;32m   2830\u001b[0m \u001b[0;34m\u001b[0m\u001b[0m\n\u001b[1;32m   2831\u001b[0m   \u001b[0;34m@\u001b[0m\u001b[0mproperty\u001b[0m\u001b[0;34m\u001b[0m\u001b[0;34m\u001b[0m\u001b[0m\n",
      "\u001b[0;32m~/.pyenv/versions/3.7.7/envs/lewagon/lib/python3.7/site-packages/tensorflow/python/eager/function.py\u001b[0m in \u001b[0;36m_filtered_call\u001b[0;34m(self, args, kwargs, cancellation_manager)\u001b[0m\n\u001b[1;32m   1846\u001b[0m                            resource_variable_ops.BaseResourceVariable))],\n\u001b[1;32m   1847\u001b[0m         \u001b[0mcaptured_inputs\u001b[0m\u001b[0;34m=\u001b[0m\u001b[0mself\u001b[0m\u001b[0;34m.\u001b[0m\u001b[0mcaptured_inputs\u001b[0m\u001b[0;34m,\u001b[0m\u001b[0;34m\u001b[0m\u001b[0;34m\u001b[0m\u001b[0m\n\u001b[0;32m-> 1848\u001b[0;31m         cancellation_manager=cancellation_manager)\n\u001b[0m\u001b[1;32m   1849\u001b[0m \u001b[0;34m\u001b[0m\u001b[0m\n\u001b[1;32m   1850\u001b[0m   \u001b[0;32mdef\u001b[0m \u001b[0m_call_flat\u001b[0m\u001b[0;34m(\u001b[0m\u001b[0mself\u001b[0m\u001b[0;34m,\u001b[0m \u001b[0margs\u001b[0m\u001b[0;34m,\u001b[0m \u001b[0mcaptured_inputs\u001b[0m\u001b[0;34m,\u001b[0m \u001b[0mcancellation_manager\u001b[0m\u001b[0;34m=\u001b[0m\u001b[0;32mNone\u001b[0m\u001b[0;34m)\u001b[0m\u001b[0;34m:\u001b[0m\u001b[0;34m\u001b[0m\u001b[0;34m\u001b[0m\u001b[0m\n",
      "\u001b[0;32m~/.pyenv/versions/3.7.7/envs/lewagon/lib/python3.7/site-packages/tensorflow/python/eager/function.py\u001b[0m in \u001b[0;36m_call_flat\u001b[0;34m(self, args, captured_inputs, cancellation_manager)\u001b[0m\n\u001b[1;32m   1922\u001b[0m       \u001b[0;31m# No tape is watching; skip to running the function.\u001b[0m\u001b[0;34m\u001b[0m\u001b[0;34m\u001b[0m\u001b[0;34m\u001b[0m\u001b[0m\n\u001b[1;32m   1923\u001b[0m       return self._build_call_outputs(self._inference_function.call(\n\u001b[0;32m-> 1924\u001b[0;31m           ctx, args, cancellation_manager=cancellation_manager))\n\u001b[0m\u001b[1;32m   1925\u001b[0m     forward_backward = self._select_forward_and_backward_functions(\n\u001b[1;32m   1926\u001b[0m         \u001b[0margs\u001b[0m\u001b[0;34m,\u001b[0m\u001b[0;34m\u001b[0m\u001b[0;34m\u001b[0m\u001b[0m\n",
      "\u001b[0;32m~/.pyenv/versions/3.7.7/envs/lewagon/lib/python3.7/site-packages/tensorflow/python/eager/function.py\u001b[0m in \u001b[0;36mcall\u001b[0;34m(self, ctx, args, cancellation_manager)\u001b[0m\n\u001b[1;32m    548\u001b[0m               \u001b[0minputs\u001b[0m\u001b[0;34m=\u001b[0m\u001b[0margs\u001b[0m\u001b[0;34m,\u001b[0m\u001b[0;34m\u001b[0m\u001b[0;34m\u001b[0m\u001b[0m\n\u001b[1;32m    549\u001b[0m               \u001b[0mattrs\u001b[0m\u001b[0;34m=\u001b[0m\u001b[0mattrs\u001b[0m\u001b[0;34m,\u001b[0m\u001b[0;34m\u001b[0m\u001b[0;34m\u001b[0m\u001b[0m\n\u001b[0;32m--> 550\u001b[0;31m               ctx=ctx)\n\u001b[0m\u001b[1;32m    551\u001b[0m         \u001b[0;32melse\u001b[0m\u001b[0;34m:\u001b[0m\u001b[0;34m\u001b[0m\u001b[0;34m\u001b[0m\u001b[0m\n\u001b[1;32m    552\u001b[0m           outputs = execute.execute_with_cancellation(\n",
      "\u001b[0;32m~/.pyenv/versions/3.7.7/envs/lewagon/lib/python3.7/site-packages/tensorflow/python/eager/execute.py\u001b[0m in \u001b[0;36mquick_execute\u001b[0;34m(op_name, num_outputs, inputs, attrs, ctx, name)\u001b[0m\n\u001b[1;32m     58\u001b[0m     \u001b[0mctx\u001b[0m\u001b[0;34m.\u001b[0m\u001b[0mensure_initialized\u001b[0m\u001b[0;34m(\u001b[0m\u001b[0;34m)\u001b[0m\u001b[0;34m\u001b[0m\u001b[0;34m\u001b[0m\u001b[0m\n\u001b[1;32m     59\u001b[0m     tensors = pywrap_tfe.TFE_Py_Execute(ctx._handle, device_name, op_name,\n\u001b[0;32m---> 60\u001b[0;31m                                         inputs, attrs, num_outputs)\n\u001b[0m\u001b[1;32m     61\u001b[0m   \u001b[0;32mexcept\u001b[0m \u001b[0mcore\u001b[0m\u001b[0;34m.\u001b[0m\u001b[0m_NotOkStatusException\u001b[0m \u001b[0;32mas\u001b[0m \u001b[0me\u001b[0m\u001b[0;34m:\u001b[0m\u001b[0;34m\u001b[0m\u001b[0;34m\u001b[0m\u001b[0m\n\u001b[1;32m     62\u001b[0m     \u001b[0;32mif\u001b[0m \u001b[0mname\u001b[0m \u001b[0;32mis\u001b[0m \u001b[0;32mnot\u001b[0m \u001b[0;32mNone\u001b[0m\u001b[0;34m:\u001b[0m\u001b[0;34m\u001b[0m\u001b[0;34m\u001b[0m\u001b[0m\n",
      "\u001b[0;31mKeyboardInterrupt\u001b[0m: "
     ]
    }
   ],
   "source": [
    "from tensorflow.keras import Sequential\n",
    "from tensorflow.keras import layers\n",
    "\n",
    "X_train, X_test, y_train, y_test = train_test_split(X_tot, y, test_size=0.3, random_state = 2)\n",
    "\n",
    "from sklearn.impute import SimpleImputer\n",
    "from sklearn.preprocessing import RobustScaler\n",
    "imput=SimpleImputer(strategy='most_frequent')\n",
    "X_imputed=imput.fit_transform(X_train)\n",
    "\n",
    "scaler=RobustScaler()\n",
    "X_scaled=scaler.fit_transform(X_imputed)\n",
    "\n",
    "model = Sequential()\n",
    "\n",
    "# Première couche connectée aux inputs:\n",
    "model.add(layers.Dense(10, input_dim=49 ,activation='relu')) # The model has to know the size of your \n",
    "#input as it directly impose the number of weights in the linear combinations of the neurons of the first layer\n",
    "\n",
    "model.add(layers.Dense(20, activation='relu')) # First layer : 10 neurons and ReLU as activation function\n",
    "model.add(layers.Dense(20, activation='linear'))\n",
    "#model.add(layers.Dense(30, activation='sigmoid'))\n",
    "#model.add(layers.Dense(10, activation='softmax'))\n",
    "model.add(layers.Dense(10, activation='relu'))\n",
    "#Output\n",
    "model.add(layers.Dense(1, activation='sigmoid'))# Exemple avec une classif\n",
    "\n",
    "model.compile(loss='binary_crossentropy', optimizer='adam')\n",
    "\n",
    "from tensorflow.keras.callbacks import EarlyStopping\n",
    "es=EarlyStopping(monitor='val_loss', min_delta=0, patience=30, verbose=2, mode='auto',\n",
    "    restore_best_weights=True)\n",
    "\n",
    "history = model.fit(X_scaled, y_train, \n",
    "                    epochs=500, \n",
    "                    batch_size=16, \n",
    "                    verbose=2,\n",
    "                    validation_split=0.3, # utiliser un sous-set de validation\n",
    "                    callbacks=[es])"
   ]
  },
  {
   "cell_type": "code",
   "execution_count": 27,
   "metadata": {
    "ExecuteTime": {
     "end_time": "2020-12-16T07:50:04.185299Z",
     "start_time": "2020-12-16T07:49:54.623163Z"
    }
   },
   "outputs": [
    {
     "name": "stdout",
     "output_type": "stream",
     "text": [
      "WARNING:tensorflow:From <ipython-input-27-6393f17cafb1>:3: Sequential.predict_proba (from tensorflow.python.keras.engine.sequential) is deprecated and will be removed after 2021-01-01.\n",
      "Instructions for updating:\n",
      "Please use `model.predict()` instead.\n"
     ]
    }
   ],
   "source": [
    "X_test_imputed=imput.transform(X_test)\n",
    "X_test_scaled=scaler.transform(X_test_imputed)\n",
    "y_pred=model.predict_proba(X_test_scaled)"
   ]
  },
  {
   "cell_type": "code",
   "execution_count": 30,
   "metadata": {
    "ExecuteTime": {
     "end_time": "2020-12-16T07:51:16.785504Z",
     "start_time": "2020-12-16T07:51:16.720318Z"
    }
   },
   "outputs": [
    {
     "data": {
      "text/plain": [
       "array([[0.73454094],\n",
       "       [0.80930424],\n",
       "       [0.89958954],\n",
       "       ...,\n",
       "       [0.66425   ],\n",
       "       [0.3704781 ],\n",
       "       [0.5426458 ]], dtype=float32)"
      ]
     },
     "execution_count": 30,
     "metadata": {},
     "output_type": "execute_result"
    }
   ],
   "source": [
    "y_pred"
   ]
  },
  {
   "cell_type": "code",
   "execution_count": 31,
   "metadata": {
    "ExecuteTime": {
     "end_time": "2020-12-16T07:51:29.515127Z",
     "start_time": "2020-12-16T07:51:28.962214Z"
    }
   },
   "outputs": [
    {
     "name": "stdout",
     "output_type": "stream",
     "text": [
      "roc-auc: 0.7768662652910923\n"
     ]
    }
   ],
   "source": [
    "print('roc-auc:', roc_auc_score(y_test, y_pred[:,0]))"
   ]
  },
  {
   "cell_type": "code",
   "execution_count": 26,
   "metadata": {
    "ExecuteTime": {
     "end_time": "2020-12-16T00:37:14.070620Z",
     "start_time": "2020-12-15T23:39:09.953171Z"
    }
   },
   "outputs": [
    {
     "name": "stdout",
     "output_type": "stream",
     "text": [
      "Epoch 1/1000\n",
      "29640/29640 - 51s - loss: 0.5486 - val_loss: 0.5359\n",
      "Epoch 2/1000\n",
      "29640/29640 - 50s - loss: 0.5401 - val_loss: 0.5364\n",
      "Epoch 3/1000\n",
      "29640/29640 - 50s - loss: 0.5388 - val_loss: 0.5324\n",
      "Epoch 4/1000\n",
      "29640/29640 - 50s - loss: 0.5385 - val_loss: 0.5331\n",
      "Epoch 5/1000\n",
      "29640/29640 - 50s - loss: 0.5378 - val_loss: 0.5350\n",
      "Epoch 6/1000\n",
      "29640/29640 - 50s - loss: 0.5377 - val_loss: 0.5337\n",
      "Epoch 7/1000\n",
      "29640/29640 - 50s - loss: 0.5372 - val_loss: 0.5326\n",
      "Epoch 8/1000\n",
      "29640/29640 - 50s - loss: 0.5373 - val_loss: 0.5329\n",
      "Epoch 9/1000\n",
      "29640/29640 - 50s - loss: 0.5369 - val_loss: 0.5311\n",
      "Epoch 10/1000\n",
      "29640/29640 - 50s - loss: 0.5369 - val_loss: 0.5319\n",
      "Epoch 11/1000\n",
      "29640/29640 - 50s - loss: 0.5368 - val_loss: 0.5324\n",
      "Epoch 12/1000\n",
      "29640/29640 - 50s - loss: 0.5365 - val_loss: 0.5326\n",
      "Epoch 13/1000\n",
      "29640/29640 - 50s - loss: 0.5364 - val_loss: 0.5323\n",
      "Epoch 14/1000\n",
      "29640/29640 - 51s - loss: 0.5365 - val_loss: 0.5339\n",
      "Epoch 15/1000\n",
      "29640/29640 - 50s - loss: 0.5364 - val_loss: 0.5338\n",
      "Epoch 16/1000\n",
      "29640/29640 - 50s - loss: 0.5362 - val_loss: 0.5330\n",
      "Epoch 17/1000\n",
      "29640/29640 - 50s - loss: 0.5365 - val_loss: 0.5310\n",
      "Epoch 18/1000\n",
      "29640/29640 - 50s - loss: 0.5362 - val_loss: 0.5335\n",
      "Epoch 19/1000\n",
      "29640/29640 - 51s - loss: 0.5362 - val_loss: 0.5344\n",
      "Epoch 20/1000\n",
      "29640/29640 - 49s - loss: 0.5361 - val_loss: 0.5330\n",
      "Epoch 21/1000\n",
      "29640/29640 - 49s - loss: 0.5361 - val_loss: 0.5319\n",
      "Epoch 22/1000\n",
      "29640/29640 - 49s - loss: 0.5363 - val_loss: 0.5337\n",
      "Epoch 23/1000\n",
      "29640/29640 - 50s - loss: 0.5363 - val_loss: 0.5310\n",
      "Epoch 24/1000\n",
      "29640/29640 - 50s - loss: 0.5360 - val_loss: 0.5317\n",
      "Epoch 25/1000\n",
      "29640/29640 - 51s - loss: 0.5359 - val_loss: 0.5328\n",
      "Epoch 26/1000\n",
      "29640/29640 - 50s - loss: 0.5361 - val_loss: 0.5319\n",
      "Epoch 27/1000\n",
      "29640/29640 - 49s - loss: 0.5357 - val_loss: 0.5322\n",
      "Epoch 28/1000\n",
      "29640/29640 - 49s - loss: 0.5361 - val_loss: 0.5340\n",
      "Epoch 29/1000\n",
      "29640/29640 - 49s - loss: 0.5361 - val_loss: 0.5336\n",
      "Epoch 30/1000\n",
      "29640/29640 - 49s - loss: 0.5360 - val_loss: 0.5319\n",
      "Epoch 31/1000\n",
      "29640/29640 - 49s - loss: 0.5358 - val_loss: 0.5328\n",
      "Epoch 32/1000\n",
      "29640/29640 - 49s - loss: 0.5359 - val_loss: 0.5323\n",
      "Epoch 33/1000\n",
      "29640/29640 - 49s - loss: 0.5360 - val_loss: 0.5339\n",
      "Epoch 34/1000\n",
      "29640/29640 - 49s - loss: 0.5360 - val_loss: 0.5320\n",
      "Epoch 35/1000\n",
      "29640/29640 - 49s - loss: 0.5360 - val_loss: 0.5324\n",
      "Epoch 36/1000\n",
      "29640/29640 - 48s - loss: 0.5360 - val_loss: 0.5329\n",
      "Epoch 37/1000\n",
      "29640/29640 - 49s - loss: 0.5361 - val_loss: 0.5324\n",
      "Epoch 38/1000\n",
      "29640/29640 - 49s - loss: 0.5361 - val_loss: 0.5313\n",
      "Epoch 39/1000\n",
      "29640/29640 - 49s - loss: 0.5358 - val_loss: 0.5310\n",
      "Epoch 40/1000\n",
      "29640/29640 - 49s - loss: 0.5361 - val_loss: 0.5323\n",
      "Epoch 41/1000\n",
      "29640/29640 - 49s - loss: 0.5359 - val_loss: 0.5302\n",
      "Epoch 42/1000\n",
      "29640/29640 - 49s - loss: 0.5364 - val_loss: 0.5343\n",
      "Epoch 43/1000\n",
      "29640/29640 - 49s - loss: 0.5359 - val_loss: 0.5323\n",
      "Epoch 44/1000\n",
      "29640/29640 - 49s - loss: 0.5360 - val_loss: 0.5323\n",
      "Epoch 45/1000\n",
      "29640/29640 - 48s - loss: 0.5359 - val_loss: 0.5317\n",
      "Epoch 46/1000\n",
      "29640/29640 - 48s - loss: 0.5363 - val_loss: 0.5329\n",
      "Epoch 47/1000\n",
      "29640/29640 - 48s - loss: 0.5359 - val_loss: 0.5334\n",
      "Epoch 48/1000\n",
      "29640/29640 - 48s - loss: 0.5363 - val_loss: 0.5322\n",
      "Epoch 49/1000\n",
      "29640/29640 - 48s - loss: 0.5362 - val_loss: 0.5333\n",
      "Epoch 50/1000\n",
      "29640/29640 - 48s - loss: 0.5362 - val_loss: 0.5326\n",
      "Epoch 51/1000\n",
      "29640/29640 - 48s - loss: 0.5364 - val_loss: 0.5317\n",
      "Epoch 52/1000\n",
      "29640/29640 - 48s - loss: 0.5363 - val_loss: 0.5337\n",
      "Epoch 53/1000\n",
      "29640/29640 - 48s - loss: 0.5360 - val_loss: 0.5331\n",
      "Epoch 54/1000\n",
      "29640/29640 - 48s - loss: 0.5362 - val_loss: 0.5328\n",
      "Epoch 55/1000\n",
      "29640/29640 - 48s - loss: 0.5361 - val_loss: 0.5327\n",
      "Epoch 56/1000\n",
      "29640/29640 - 48s - loss: 0.5364 - val_loss: 0.5327\n",
      "Epoch 57/1000\n",
      "29640/29640 - 48s - loss: 0.5361 - val_loss: 0.5325\n",
      "Epoch 58/1000\n",
      "29640/29640 - 48s - loss: 0.5364 - val_loss: 0.5315\n",
      "Epoch 59/1000\n",
      "29640/29640 - 48s - loss: 0.5360 - val_loss: 0.5331\n",
      "Epoch 60/1000\n",
      "29640/29640 - 48s - loss: 0.5366 - val_loss: 0.5330\n",
      "Epoch 61/1000\n",
      "29640/29640 - 48s - loss: 0.5369 - val_loss: 0.5310\n",
      "Epoch 62/1000\n",
      "29640/29640 - 49s - loss: 0.5366 - val_loss: 0.5335\n",
      "Epoch 63/1000\n",
      "29640/29640 - 48s - loss: 0.5369 - val_loss: 0.5365\n",
      "Epoch 64/1000\n",
      "29640/29640 - 48s - loss: 0.5371 - val_loss: 0.5331\n",
      "Epoch 65/1000\n",
      "29640/29640 - 48s - loss: 0.5368 - val_loss: 0.5313\n",
      "Epoch 66/1000\n",
      "29640/29640 - 48s - loss: 0.5369 - val_loss: 0.5330\n",
      "Epoch 67/1000\n",
      "29640/29640 - 49s - loss: 0.5369 - val_loss: 0.5355\n",
      "Epoch 68/1000\n",
      "29640/29640 - 48s - loss: 0.5370 - val_loss: 0.5327\n",
      "Epoch 69/1000\n",
      "29640/29640 - 48s - loss: 0.5368 - val_loss: 0.5335\n",
      "Epoch 70/1000\n",
      "29640/29640 - 48s - loss: 0.5368 - val_loss: 0.5320\n",
      "Epoch 71/1000\n",
      "Restoring model weights from the end of the best epoch.\n",
      "29640/29640 - 48s - loss: 0.5377 - val_loss: 0.5330\n",
      "Epoch 00071: early stopping\n"
     ]
    }
   ],
   "source": [
    "model2 = Sequential()\n",
    "\n",
    "# Première couche connectée aux inputs:\n",
    "model2.add(layers.Dense(10, input_dim=46 ,activation='relu')) # The model has to know the size of your \n",
    "#input as it directly impose the number of weights in the linear combinations of the neurons of the first layer\n",
    "model2.add(layers.Dropout(rate=0.2))\n",
    "model2.add(layers.Dense(20, activation='relu')) # First layer : 10 neurons and ReLU as activation function\n",
    "model2.add(layers.Dropout(rate=0.2))\n",
    "model2.add(layers.Dense(20, activation='linear'))\n",
    "model2.add(layers.Dropout(rate=0.2))\n",
    "model2.add(layers.Dense(20, activation='softmax'))\n",
    "#model.add(layers.Dense(10, activation='softmax'))\n",
    "model2.add(layers.Dense(10, activation='relu'))\n",
    "#Output\n",
    "model2.add(layers.Dense(1, activation='sigmoid'))# Exemple avec une classif\n",
    "\n",
    "model2.compile(loss='binary_crossentropy', optimizer='adam')\n",
    "\n",
    "from tensorflow.keras.callbacks import EarlyStopping\n",
    "es=EarlyStopping(monitor='val_loss', min_delta=0, patience=30, verbose=2, mode='auto',\n",
    "    restore_best_weights=True)\n",
    "\n",
    "history2 = model2.fit(X_scaled, y_train, \n",
    "                    epochs=1000, \n",
    "                    batch_size=16, \n",
    "                    verbose=2,\n",
    "                    validation_split=0.3, # utiliser un sous-set de validation\n",
    "                    callbacks=[es])"
   ]
  },
  {
   "cell_type": "code",
   "execution_count": null,
   "metadata": {},
   "outputs": [],
   "source": []
  }
 ],
 "metadata": {
  "accelerator": "GPU",
  "colab": {
   "collapsed_sections": [],
   "name": "yohann_baseline.ipynb",
   "provenance": []
  },
  "kernelspec": {
   "display_name": "Python 3",
   "language": "python",
   "name": "python3"
  },
  "language_info": {
   "codemirror_mode": {
    "name": "ipython",
    "version": 3
   },
   "file_extension": ".py",
   "mimetype": "text/x-python",
   "name": "python",
   "nbconvert_exporter": "python",
   "pygments_lexer": "ipython3",
   "version": "3.7.7"
  },
  "toc": {
   "base_numbering": 1,
   "nav_menu": {},
   "number_sections": true,
   "sideBar": true,
   "skip_h1_title": false,
   "title_cell": "Table of Contents",
   "title_sidebar": "Contents",
   "toc_cell": false,
   "toc_position": {
    "height": "calc(100% - 180px)",
    "left": "10px",
    "top": "150px",
    "width": "210.099px"
   },
   "toc_section_display": true,
   "toc_window_display": true
  }
 },
 "nbformat": 4,
 "nbformat_minor": 1
}
